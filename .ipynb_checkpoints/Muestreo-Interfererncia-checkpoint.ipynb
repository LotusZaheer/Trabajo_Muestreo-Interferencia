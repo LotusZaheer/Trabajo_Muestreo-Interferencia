{
 "cells": [
  {
   "cell_type": "markdown",
   "metadata": {},
   "source": [
    "Hey hey!!!"
   ]
  },
  {
   "cell_type": "code",
   "execution_count": 1,
   "metadata": {},
   "outputs": [
    {
     "data": {
      "text/html": [
       "'sp161718'"
      ],
      "text/latex": [
       "'sp161718'"
      ],
      "text/markdown": [
       "'sp161718'"
      ],
      "text/plain": [
       "[1] \"sp161718\""
      ]
     },
     "metadata": {},
     "output_type": "display_data"
    }
   ],
   "source": [
    "load('saberpro.RData')\n",
    "ls() # Con esta función podemos \n",
    "# revisar los objetos que tenemos en el área de trabajo"
   ]
  },
  {
   "cell_type": "code",
   "execution_count": 3,
   "metadata": {},
   "outputs": [
    {
     "data": {
      "text/html": [
       "<style>\n",
       ".list-inline {list-style: none; margin:0; padding: 0}\n",
       ".list-inline>li {display: inline-block}\n",
       ".list-inline>li:not(:last-child)::after {content: \"\\00b7\"; padding: 0 .5ex}\n",
       "</style>\n",
       "<ol class=list-inline><li>725295</li><li>16</li></ol>\n"
      ],
      "text/latex": [
       "\\begin{enumerate*}\n",
       "\\item 725295\n",
       "\\item 16\n",
       "\\end{enumerate*}\n"
      ],
      "text/markdown": [
       "1. 725295\n",
       "2. 16\n",
       "\n",
       "\n"
      ],
      "text/plain": [
       "[1] 725295     16"
      ]
     },
     "metadata": {},
     "output_type": "display_data"
    }
   ],
   "source": [
    "dim(sp161718) # Cuáles son las dimensiones de data.frame"
   ]
  },
  {
   "cell_type": "code",
   "execution_count": 4,
   "metadata": {},
   "outputs": [
    {
     "data": {
      "text/html": [
       "<style>\n",
       ".list-inline {list-style: none; margin:0; padding: 0}\n",
       ".list-inline>li {display: inline-block}\n",
       ".list-inline>li:not(:last-child)::after {content: \"\\00b7\"; padding: 0 .5ex}\n",
       "</style>\n",
       "<ol class=list-inline><li>'periodo'</li><li>'apli_consecutivo'</li><li>'estu_depto_reside'</li><li>'estu_cod_reside_depto'</li><li>'inst_cod_institucion'</li><li>'inst_nombre_institucion'</li><li>'raz_cuant_punt'</li><li>'raz_cuant_des'</li><li>'lect_crit_punt'</li><li>'lect_crit_des'</li><li>'comp_ciud_punt'</li><li>'comp_ciud_des'</li><li>'ingles_punt'</li><li>'ingles_desem'</li><li>'comu_escr_punt'</li><li>'comu_escr_des'</li></ol>\n"
      ],
      "text/latex": [
       "\\begin{enumerate*}\n",
       "\\item 'periodo'\n",
       "\\item 'apli\\_consecutivo'\n",
       "\\item 'estu\\_depto\\_reside'\n",
       "\\item 'estu\\_cod\\_reside\\_depto'\n",
       "\\item 'inst\\_cod\\_institucion'\n",
       "\\item 'inst\\_nombre\\_institucion'\n",
       "\\item 'raz\\_cuant\\_punt'\n",
       "\\item 'raz\\_cuant\\_des'\n",
       "\\item 'lect\\_crit\\_punt'\n",
       "\\item 'lect\\_crit\\_des'\n",
       "\\item 'comp\\_ciud\\_punt'\n",
       "\\item 'comp\\_ciud\\_des'\n",
       "\\item 'ingles\\_punt'\n",
       "\\item 'ingles\\_desem'\n",
       "\\item 'comu\\_escr\\_punt'\n",
       "\\item 'comu\\_escr\\_des'\n",
       "\\end{enumerate*}\n"
      ],
      "text/markdown": [
       "1. 'periodo'\n",
       "2. 'apli_consecutivo'\n",
       "3. 'estu_depto_reside'\n",
       "4. 'estu_cod_reside_depto'\n",
       "5. 'inst_cod_institucion'\n",
       "6. 'inst_nombre_institucion'\n",
       "7. 'raz_cuant_punt'\n",
       "8. 'raz_cuant_des'\n",
       "9. 'lect_crit_punt'\n",
       "10. 'lect_crit_des'\n",
       "11. 'comp_ciud_punt'\n",
       "12. 'comp_ciud_des'\n",
       "13. 'ingles_punt'\n",
       "14. 'ingles_desem'\n",
       "15. 'comu_escr_punt'\n",
       "16. 'comu_escr_des'\n",
       "\n",
       "\n"
      ],
      "text/plain": [
       " [1] \"periodo\"                 \"apli_consecutivo\"       \n",
       " [3] \"estu_depto_reside\"       \"estu_cod_reside_depto\"  \n",
       " [5] \"inst_cod_institucion\"    \"inst_nombre_institucion\"\n",
       " [7] \"raz_cuant_punt\"          \"raz_cuant_des\"          \n",
       " [9] \"lect_crit_punt\"          \"lect_crit_des\"          \n",
       "[11] \"comp_ciud_punt\"          \"comp_ciud_des\"          \n",
       "[13] \"ingles_punt\"             \"ingles_desem\"           \n",
       "[15] \"comu_escr_punt\"          \"comu_escr_des\"          "
      ]
     },
     "metadata": {},
     "output_type": "display_data"
    }
   ],
   "source": [
    "names(sp161718) "
   ]
  },
  {
   "cell_type": "code",
   "execution_count": 11,
   "metadata": {},
   "outputs": [],
   "source": [
    "# Seleccionemos sólo unas variables para efectos del ejercicio\n",
    "periodo<-data.frame(Razonamiento_Cuantitativo=sp161718$raz_cuant_punt, Lectura_Critica=sp161718$lect_crit_punt)"
   ]
  },
  {
   "cell_type": "code",
   "execution_count": 12,
   "metadata": {},
   "outputs": [
    {
     "data": {
      "text/html": [
       "<table>\n",
       "<caption>A data.frame: 6 × 2</caption>\n",
       "<thead>\n",
       "\t<tr><th></th><th scope=col>Puntaje</th><th scope=col>Lectura_Critica</th></tr>\n",
       "\t<tr><th></th><th scope=col>&lt;int&gt;</th><th scope=col>&lt;int&gt;</th></tr>\n",
       "</thead>\n",
       "<tbody>\n",
       "\t<tr><th scope=row>1</th><td>160</td><td>130</td></tr>\n",
       "\t<tr><th scope=row>2</th><td>138</td><td>132</td></tr>\n",
       "\t<tr><th scope=row>3</th><td>146</td><td>157</td></tr>\n",
       "\t<tr><th scope=row>4</th><td>160</td><td>172</td></tr>\n",
       "\t<tr><th scope=row>5</th><td>130</td><td>122</td></tr>\n",
       "\t<tr><th scope=row>6</th><td>159</td><td>129</td></tr>\n",
       "</tbody>\n",
       "</table>\n"
      ],
      "text/latex": [
       "A data.frame: 6 × 2\n",
       "\\begin{tabular}{r|ll}\n",
       "  & Puntaje & Lectura\\_Critica\\\\\n",
       "  & <int> & <int>\\\\\n",
       "\\hline\n",
       "\t1 & 160 & 130\\\\\n",
       "\t2 & 138 & 132\\\\\n",
       "\t3 & 146 & 157\\\\\n",
       "\t4 & 160 & 172\\\\\n",
       "\t5 & 130 & 122\\\\\n",
       "\t6 & 159 & 129\\\\\n",
       "\\end{tabular}\n"
      ],
      "text/markdown": [
       "\n",
       "A data.frame: 6 × 2\n",
       "\n",
       "| <!--/--> | Puntaje &lt;int&gt; | Lectura_Critica &lt;int&gt; |\n",
       "|---|---|---|\n",
       "| 1 | 160 | 130 |\n",
       "| 2 | 138 | 132 |\n",
       "| 3 | 146 | 157 |\n",
       "| 4 | 160 | 172 |\n",
       "| 5 | 130 | 122 |\n",
       "| 6 | 159 | 129 |\n",
       "\n"
      ],
      "text/plain": [
       "  Puntaje Lectura_Critica\n",
       "1 160     130            \n",
       "2 138     132            \n",
       "3 146     157            \n",
       "4 160     172            \n",
       "5 130     122            \n",
       "6 159     129            "
      ]
     },
     "metadata": {},
     "output_type": "display_data"
    },
    {
     "data": {
      "text/html": [
       "<table>\n",
       "<caption>A data.frame: 6 × 2</caption>\n",
       "<thead>\n",
       "\t<tr><th></th><th scope=col>Puntaje</th><th scope=col>Lectura_Critica</th></tr>\n",
       "\t<tr><th></th><th scope=col>&lt;int&gt;</th><th scope=col>&lt;int&gt;</th></tr>\n",
       "</thead>\n",
       "<tbody>\n",
       "\t<tr><th scope=row>725290</th><td>125</td><td>111</td></tr>\n",
       "\t<tr><th scope=row>725291</th><td>182</td><td>145</td></tr>\n",
       "\t<tr><th scope=row>725292</th><td>149</td><td>129</td></tr>\n",
       "\t<tr><th scope=row>725293</th><td>185</td><td>173</td></tr>\n",
       "\t<tr><th scope=row>725294</th><td>179</td><td>165</td></tr>\n",
       "\t<tr><th scope=row>725295</th><td>135</td><td>122</td></tr>\n",
       "</tbody>\n",
       "</table>\n"
      ],
      "text/latex": [
       "A data.frame: 6 × 2\n",
       "\\begin{tabular}{r|ll}\n",
       "  & Puntaje & Lectura\\_Critica\\\\\n",
       "  & <int> & <int>\\\\\n",
       "\\hline\n",
       "\t725290 & 125 & 111\\\\\n",
       "\t725291 & 182 & 145\\\\\n",
       "\t725292 & 149 & 129\\\\\n",
       "\t725293 & 185 & 173\\\\\n",
       "\t725294 & 179 & 165\\\\\n",
       "\t725295 & 135 & 122\\\\\n",
       "\\end{tabular}\n"
      ],
      "text/markdown": [
       "\n",
       "A data.frame: 6 × 2\n",
       "\n",
       "| <!--/--> | Puntaje &lt;int&gt; | Lectura_Critica &lt;int&gt; |\n",
       "|---|---|---|\n",
       "| 725290 | 125 | 111 |\n",
       "| 725291 | 182 | 145 |\n",
       "| 725292 | 149 | 129 |\n",
       "| 725293 | 185 | 173 |\n",
       "| 725294 | 179 | 165 |\n",
       "| 725295 | 135 | 122 |\n",
       "\n"
      ],
      "text/plain": [
       "       Puntaje Lectura_Critica\n",
       "725290 125     111            \n",
       "725291 182     145            \n",
       "725292 149     129            \n",
       "725293 185     173            \n",
       "725294 179     165            \n",
       "725295 135     122            "
      ]
     },
     "metadata": {},
     "output_type": "display_data"
    }
   ],
   "source": [
    "head(periodo); tail(periodo) # Primeras y últimas observaciones de la tabla"
   ]
  },
  {
   "cell_type": "markdown",
   "metadata": {},
   "source": [
    "1-Realice muestreo aleatorio simple y realice las estimaciones (inferencia) correspondientes. Tenga en cuenta que son múltiples variables"
   ]
  },
  {
   "cell_type": "code",
   "execution_count": null,
   "metadata": {},
   "outputs": [],
   "source": [
    "# Algunas gráficas para apreciar la dispersión de los datos:\n",
    "par(mfrow=c(3,1))\n",
    "with(edad, plot(facultad,edad))\n",
    "with(edad, plot(edad, pch = 20))\n",
    "with(edad, hist(edad, nclass = 50))\n",
    "par(mfrow=c(1,1))"
   ]
  }
 ],
 "metadata": {
  "kernelspec": {
   "display_name": "R",
   "language": "R",
   "name": "ir"
  },
  "language_info": {
   "codemirror_mode": "r",
   "file_extension": ".r",
   "mimetype": "text/x-r-source",
   "name": "R",
   "pygments_lexer": "r",
   "version": "4.0.0"
  }
 },
 "nbformat": 4,
 "nbformat_minor": 4
}
