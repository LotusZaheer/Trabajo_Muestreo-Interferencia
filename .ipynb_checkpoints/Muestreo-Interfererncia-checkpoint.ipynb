{
 "cells": [
  {
   "cell_type": "markdown",
   "metadata": {},
   "source": [
    "<h1>Trabajo Muestreo-Interferencia</h1>\n",
    "<!----Hey hey!!!---->"
   ]
  },
  {
   "cell_type": "markdown",
   "metadata": {},
   "source": [
    "<h2>Asignatura: Estadistica 2</h2>\n",
    "\n",
    "<h3>Profesor: Carlos Alfonso Mantilla Duarte\n",
    "<br>\n",
    "Grupo: F1</h3>\n",
    "\n",
    "<h4> Andrés Felipe Uribe García - 2160793\n",
    "<br>Julian - 212121\n",
    "<br>Isabel - 212121</h4>"
   ]
  },
  {
   "cell_type": "markdown",
   "metadata": {},
   "source": [
    "En los siguientes enlaces encontrará los datos relacionados con los resultados de las pruebas de estado para las Instituciones de Educación Superior (IES) colombianas de carácter universitario de los últimos tres (3) años:\n",
    "\n",
    " https://www.dropbox.com/s/xgsf3l5gjw0h0q4/saberpro.RData\n",
    "\n",
    "Considere estos datos como una población finita. Las variables que componen la tabla son:\n",
    "\n",
    "\n",
    "\n",
    " - `periodo:` año de realización de la prueba. La variable se presenta fragmentada debido al origen de los datos. Requiere agruparse adecuadamente. Para ello, consulte la función revalue y describa, brevemente, su funcionamiento.\n",
    " -  `apli_consecutivo:` consecutivo asignado al estudiante en el momento de presentar la prueba. Único por estudiante\n",
    " -  `estu_depto_reside:` departamento de residencia del estudiante\n",
    " -   `estu_cod_reside_depto:` código DANE del departamento de residencia del estudiante\n",
    " -   `inst_cod_institucion:` código de la IES ante el ministerio. Único por Institución\n",
    " -   `inst_nombre_institucion:` Nombre de la Institución. Algunas presentan sedes y subsedes\n",
    " -   `raz_cuant_punt:` Puntaje Razonamiento Cuantitativo\n",
    " -   `raz_cuant_des:` Nivel de Desempeño Razonamiento Cuantitativo (categórica)\n",
    " -   `lect_crit_punt:` Puntaje Lectura Crítica\n",
    " -   `lect_crit_des:` Nivel de Desempeño Lectura Crítica (categórica)\n",
    " -   `comp_ciud_punt:` Puntaje Competencias Ciudadanas\n",
    " -   `comp_ciud_des:` Nivel de Desempeño Competencias Ciudadanas (categórica)\n",
    " -   `ingles_punt:` Puntaje Inglés\n",
    " -   `ingles_desem:` Nivel de Desempeño en Inglés (categórica)\n",
    " -  `comu_escr_punt:` Puntaje Comunicación Escrita\n",
    " -  `comu_escr_des:` Nivel de Desempeño Comunicación Escrita (categórica)\n",
    "\n",
    "Tenga en cuenta que algunas variables categóricas figuran como numéricas, haga la correspondiente transformación.\n",
    "\n",
    "Los puntos a desarrollar son:\n",
    "\n",
    "\n",
    "   1. Realice muestreo aleatorio simple y realice las estimaciones (inferencia) correspondientes. Tenga en cuenta que son múltiples variables\n",
    "   2.  Realice los correspondientes muestreos estratificados y compare los resultados con los anteriores. Explique las diferencias y/o similitudes\n",
    "   3.  Realice los correspondientes muestreos por conglomerados y compare los resultados con los puntos 1 y 2. Explique las diferencias y/o similitudes\n",
    "   4.  ¿Considera que es procedente realizar un muestreo sistemático? Argumente su respuesta\n",
    "    Si la respuesta del punto 4 fue positiva, realice el correspondiente muestreo y compare con los anteriores\n",
    "   5.  Para las estimaciones emplee los siguientes niveles de confianza: 90%, 95% y 99%.\n",
    "\n",
    "El trabajo puede entregarse en formato PDF o como notebook de jupyter\n",
    "\n",
    "Recomendaciones:\n",
    "\n",
    " -   Procure tabular de manera adecuada las estimaciones para optimizar espacio\n",
    " -   Evite extenderse en las explicaciones\n",
    " -   Trate de optimizar el uso de gráficas (visite el siguiente repositorio si desea una guía: https://github.com/karlosmantilla/graficas-basicas-descriptivas-\n",
    " -   Referencie las fórmulas empleadas en los cálculos\n"
   ]
  },
  {
   "cell_type": "code",
   "execution_count": 1,
   "metadata": {},
   "outputs": [
    {
     "name": "stderr",
     "output_type": "stream",
     "text": [
      "Loading required package: pps\n",
      "\n",
      "Loading required package: sampling\n",
      "\n",
      "Loading required package: survey\n",
      "\n",
      "Loading required package: grid\n",
      "\n",
      "Loading required package: Matrix\n",
      "\n",
      "Loading required package: survival\n",
      "\n",
      "\n",
      "Attaching package: 'survival'\n",
      "\n",
      "\n",
      "The following objects are masked from 'package:sampling':\n",
      "\n",
      "    cluster, strata\n",
      "\n",
      "\n",
      "\n",
      "Attaching package: 'survey'\n",
      "\n",
      "\n",
      "The following object is masked from 'package:graphics':\n",
      "\n",
      "    dotchart\n",
      "\n",
      "\n"
     ]
    },
    {
     "data": {
      "text/html": [
       "'sp161718'"
      ],
      "text/latex": [
       "'sp161718'"
      ],
      "text/markdown": [
       "'sp161718'"
      ],
      "text/plain": [
       "[1] \"sp161718\""
      ]
     },
     "metadata": {},
     "output_type": "display_data"
    },
    {
     "data": {
      "text/html": [
       "<style>\n",
       ".list-inline {list-style: none; margin:0; padding: 0}\n",
       ".list-inline>li {display: inline-block}\n",
       ".list-inline>li:not(:last-child)::after {content: \"\\00b7\"; padding: 0 .5ex}\n",
       "</style>\n",
       "<ol class=list-inline><li>725295</li><li>16</li></ol>\n"
      ],
      "text/latex": [
       "\\begin{enumerate*}\n",
       "\\item 725295\n",
       "\\item 16\n",
       "\\end{enumerate*}\n"
      ],
      "text/markdown": [
       "1. 725295\n",
       "2. 16\n",
       "\n",
       "\n"
      ],
      "text/plain": [
       "[1] 725295     16"
      ]
     },
     "metadata": {},
     "output_type": "display_data"
    }
   ],
   "source": [
    "library(samplingbook) # llamamos la librería\n",
    "load('saberpro.RData')\n",
    "ls() \n",
    "dim(sp161718)"
   ]
  },
  {
   "cell_type": "code",
   "execution_count": 2,
   "metadata": {},
   "outputs": [],
   "source": [
    "mystats <- function(x, na.omit=FALSE){\n",
    "  if (na.omit)\n",
    "  x <- x[!is.na(x)]\n",
    "  m <- mean(x)\n",
    "  n <- length(x)\n",
    "  s <- sd(x)\n",
    "  skew <- sum((x-m)^3/s^3)/n\n",
    "  kurt <- sum((x-m)^4/s^4)/n - 3\n",
    "  return(c(\"tamaño\"=n, \"media\"=m, \"desviación estándar\"=s, \"simetría\"=skew, \"kurtosis\"=kurt))\n",
    "}"
   ]
  },
  {
   "cell_type": "code",
   "execution_count": 3,
   "metadata": {},
   "outputs": [],
   "source": [
    "Datos<-get(load(\"saberpro.RData\"))"
   ]
  },
  {
   "cell_type": "code",
   "execution_count": 4,
   "metadata": {
    "scrolled": true
   },
   "outputs": [
    {
     "data": {
      "text/html": [
       "<table>\n",
       "<caption>A data.frame: 6 × 16</caption>\n",
       "<thead>\n",
       "\t<tr><th></th><th scope=col>periodo</th><th scope=col>apli_consecutivo</th><th scope=col>estu_depto_reside</th><th scope=col>estu_cod_reside_depto</th><th scope=col>inst_cod_institucion</th><th scope=col>inst_nombre_institucion</th><th scope=col>raz_cuant_punt</th><th scope=col>raz_cuant_des</th><th scope=col>lect_crit_punt</th><th scope=col>lect_crit_des</th><th scope=col>comp_ciud_punt</th><th scope=col>comp_ciud_des</th><th scope=col>ingles_punt</th><th scope=col>ingles_desem</th><th scope=col>comu_escr_punt</th><th scope=col>comu_escr_des</th></tr>\n",
       "\t<tr><th></th><th scope=col>&lt;int&gt;</th><th scope=col>&lt;fct&gt;</th><th scope=col>&lt;fct&gt;</th><th scope=col>&lt;int&gt;</th><th scope=col>&lt;int&gt;</th><th scope=col>&lt;fct&gt;</th><th scope=col>&lt;int&gt;</th><th scope=col>&lt;int&gt;</th><th scope=col>&lt;int&gt;</th><th scope=col>&lt;int&gt;</th><th scope=col>&lt;int&gt;</th><th scope=col>&lt;int&gt;</th><th scope=col>&lt;int&gt;</th><th scope=col>&lt;fct&gt;</th><th scope=col>&lt;int&gt;</th><th scope=col>&lt;int&gt;</th></tr>\n",
       "</thead>\n",
       "<tbody>\n",
       "\t<tr><th scope=row>1</th><td>20163</td><td>EK201630062726</td><td>ATLANTICO   </td><td> 8</td><td> 1202</td><td>UNIVERSIDAD DEL ATLANTICO-BARRANQUILLA                                     </td><td>160</td><td>3</td><td>130</td><td>2</td><td>167</td><td>3</td><td>160</td><td>A2 </td><td>155</td><td>3</td></tr>\n",
       "\t<tr><th scope=row>2</th><td>20163</td><td>EK201630208121</td><td>CUNDINAMARCA</td><td>25</td><td> 2725</td><td>POLITECNICO GRANCOLOMBIANO-BOGOTÃ D.C.                                    </td><td>138</td><td>2</td><td>132</td><td>2</td><td> 77</td><td>1</td><td>125</td><td>A1 </td><td>164</td><td>3</td></tr>\n",
       "\t<tr><th scope=row>3</th><td>20163</td><td>EK201630220210</td><td>CALDAS      </td><td>17</td><td> 2829</td><td>CORPORACION UNIVERSITARIA MINUTO DE DIOS -UNIMINUTO-BOGOTÃ D.C.           </td><td>146</td><td>2</td><td>157</td><td>2</td><td>150</td><td>2</td><td>104</td><td>A1-</td><td>122</td><td>2</td></tr>\n",
       "\t<tr><th scope=row>4</th><td>20163</td><td>EK201630180243</td><td>MAGDALENA   </td><td>47</td><td>10413</td><td>IED ESCUELA NORMAL SUPERIOR MARÃA AUXILIADORA - SEDE PRINCIPAL-SANTA MARTA</td><td>160</td><td>3</td><td>172</td><td>3</td><td>151</td><td>2</td><td>160</td><td>A2 </td><td>192</td><td>4</td></tr>\n",
       "\t<tr><th scope=row>5</th><td>20163</td><td>EK201630225077</td><td>CORDOBA     </td><td>23</td><td> 1113</td><td>UNIVERSIDAD DE CORDOBA-MONTERIA                                            </td><td>130</td><td>2</td><td>122</td><td>1</td><td>144</td><td>2</td><td>192</td><td>B1 </td><td>131</td><td>2</td></tr>\n",
       "\t<tr><th scope=row>6</th><td>20163</td><td>EK201630189735</td><td>CAUCA       </td><td>19</td><td> 1807</td><td>UNIVERSIDAD LIBRE-CALI                                                     </td><td>159</td><td>3</td><td>129</td><td>2</td><td>147</td><td>2</td><td>108</td><td>A1-</td><td>154</td><td>3</td></tr>\n",
       "</tbody>\n",
       "</table>\n"
      ],
      "text/latex": [
       "A data.frame: 6 × 16\n",
       "\\begin{tabular}{r|llllllllllllllll}\n",
       "  & periodo & apli\\_consecutivo & estu\\_depto\\_reside & estu\\_cod\\_reside\\_depto & inst\\_cod\\_institucion & inst\\_nombre\\_institucion & raz\\_cuant\\_punt & raz\\_cuant\\_des & lect\\_crit\\_punt & lect\\_crit\\_des & comp\\_ciud\\_punt & comp\\_ciud\\_des & ingles\\_punt & ingles\\_desem & comu\\_escr\\_punt & comu\\_escr\\_des\\\\\n",
       "  & <int> & <fct> & <fct> & <int> & <int> & <fct> & <int> & <int> & <int> & <int> & <int> & <int> & <int> & <fct> & <int> & <int>\\\\\n",
       "\\hline\n",
       "\t1 & 20163 & EK201630062726 & ATLANTICO    &  8 &  1202 & UNIVERSIDAD DEL ATLANTICO-BARRANQUILLA                                      & 160 & 3 & 130 & 2 & 167 & 3 & 160 & A2  & 155 & 3\\\\\n",
       "\t2 & 20163 & EK201630208121 & CUNDINAMARCA & 25 &  2725 & POLITECNICO GRANCOLOMBIANO-BOGOTÃ D.C.                                     & 138 & 2 & 132 & 2 &  77 & 1 & 125 & A1  & 164 & 3\\\\\n",
       "\t3 & 20163 & EK201630220210 & CALDAS       & 17 &  2829 & CORPORACION UNIVERSITARIA MINUTO DE DIOS -UNIMINUTO-BOGOTÃ D.C.            & 146 & 2 & 157 & 2 & 150 & 2 & 104 & A1- & 122 & 2\\\\\n",
       "\t4 & 20163 & EK201630180243 & MAGDALENA    & 47 & 10413 & IED ESCUELA NORMAL SUPERIOR MARÃA AUXILIADORA - SEDE PRINCIPAL-SANTA MARTA & 160 & 3 & 172 & 3 & 151 & 2 & 160 & A2  & 192 & 4\\\\\n",
       "\t5 & 20163 & EK201630225077 & CORDOBA      & 23 &  1113 & UNIVERSIDAD DE CORDOBA-MONTERIA                                             & 130 & 2 & 122 & 1 & 144 & 2 & 192 & B1  & 131 & 2\\\\\n",
       "\t6 & 20163 & EK201630189735 & CAUCA        & 19 &  1807 & UNIVERSIDAD LIBRE-CALI                                                      & 159 & 3 & 129 & 2 & 147 & 2 & 108 & A1- & 154 & 3\\\\\n",
       "\\end{tabular}\n"
      ],
      "text/markdown": [
       "\n",
       "A data.frame: 6 × 16\n",
       "\n",
       "| <!--/--> | periodo &lt;int&gt; | apli_consecutivo &lt;fct&gt; | estu_depto_reside &lt;fct&gt; | estu_cod_reside_depto &lt;int&gt; | inst_cod_institucion &lt;int&gt; | inst_nombre_institucion &lt;fct&gt; | raz_cuant_punt &lt;int&gt; | raz_cuant_des &lt;int&gt; | lect_crit_punt &lt;int&gt; | lect_crit_des &lt;int&gt; | comp_ciud_punt &lt;int&gt; | comp_ciud_des &lt;int&gt; | ingles_punt &lt;int&gt; | ingles_desem &lt;fct&gt; | comu_escr_punt &lt;int&gt; | comu_escr_des &lt;int&gt; |\n",
       "|---|---|---|---|---|---|---|---|---|---|---|---|---|---|---|---|---|\n",
       "| 1 | 20163 | EK201630062726 | ATLANTICO    |  8 |  1202 | UNIVERSIDAD DEL ATLANTICO-BARRANQUILLA                                      | 160 | 3 | 130 | 2 | 167 | 3 | 160 | A2  | 155 | 3 |\n",
       "| 2 | 20163 | EK201630208121 | CUNDINAMARCA | 25 |  2725 | POLITECNICO GRANCOLOMBIANO-BOGOTÃ D.C.                                     | 138 | 2 | 132 | 2 |  77 | 1 | 125 | A1  | 164 | 3 |\n",
       "| 3 | 20163 | EK201630220210 | CALDAS       | 17 |  2829 | CORPORACION UNIVERSITARIA MINUTO DE DIOS -UNIMINUTO-BOGOTÃ D.C.            | 146 | 2 | 157 | 2 | 150 | 2 | 104 | A1- | 122 | 2 |\n",
       "| 4 | 20163 | EK201630180243 | MAGDALENA    | 47 | 10413 | IED ESCUELA NORMAL SUPERIOR MARÃA AUXILIADORA - SEDE PRINCIPAL-SANTA MARTA | 160 | 3 | 172 | 3 | 151 | 2 | 160 | A2  | 192 | 4 |\n",
       "| 5 | 20163 | EK201630225077 | CORDOBA      | 23 |  1113 | UNIVERSIDAD DE CORDOBA-MONTERIA                                             | 130 | 2 | 122 | 1 | 144 | 2 | 192 | B1  | 131 | 2 |\n",
       "| 6 | 20163 | EK201630189735 | CAUCA        | 19 |  1807 | UNIVERSIDAD LIBRE-CALI                                                      | 159 | 3 | 129 | 2 | 147 | 2 | 108 | A1- | 154 | 3 |\n",
       "\n"
      ],
      "text/plain": [
       "  periodo apli_consecutivo estu_depto_reside estu_cod_reside_depto\n",
       "1 20163   EK201630062726   ATLANTICO          8                   \n",
       "2 20163   EK201630208121   CUNDINAMARCA      25                   \n",
       "3 20163   EK201630220210   CALDAS            17                   \n",
       "4 20163   EK201630180243   MAGDALENA         47                   \n",
       "5 20163   EK201630225077   CORDOBA           23                   \n",
       "6 20163   EK201630189735   CAUCA             19                   \n",
       "  inst_cod_institucion\n",
       "1  1202               \n",
       "2  2725               \n",
       "3  2829               \n",
       "4 10413               \n",
       "5  1113               \n",
       "6  1807               \n",
       "  inst_nombre_institucion                                                    \n",
       "1 UNIVERSIDAD DEL ATLANTICO-BARRANQUILLA                                     \n",
       "2 POLITECNICO GRANCOLOMBIANO-BOGOTÃ\\201 D.C.                                    \n",
       "3 CORPORACION UNIVERSITARIA MINUTO DE DIOS -UNIMINUTO-BOGOTÃ\\201 D.C.           \n",
       "4 IED ESCUELA NORMAL SUPERIOR MARÃ\\215A AUXILIADORA - SEDE PRINCIPAL-SANTA MARTA\n",
       "5 UNIVERSIDAD DE CORDOBA-MONTERIA                                            \n",
       "6 UNIVERSIDAD LIBRE-CALI                                                     \n",
       "  raz_cuant_punt raz_cuant_des lect_crit_punt lect_crit_des comp_ciud_punt\n",
       "1 160            3             130            2             167           \n",
       "2 138            2             132            2              77           \n",
       "3 146            2             157            2             150           \n",
       "4 160            3             172            3             151           \n",
       "5 130            2             122            1             144           \n",
       "6 159            3             129            2             147           \n",
       "  comp_ciud_des ingles_punt ingles_desem comu_escr_punt comu_escr_des\n",
       "1 3             160         A2           155            3            \n",
       "2 1             125         A1           164            3            \n",
       "3 2             104         A1-          122            2            \n",
       "4 2             160         A2           192            4            \n",
       "5 2             192         B1           131            2            \n",
       "6 2             108         A1-          154            3            "
      ]
     },
     "metadata": {},
     "output_type": "display_data"
    },
    {
     "data": {
      "text/html": [
       "<table>\n",
       "<caption>A data.frame: 6 × 16</caption>\n",
       "<thead>\n",
       "\t<tr><th></th><th scope=col>periodo</th><th scope=col>apli_consecutivo</th><th scope=col>estu_depto_reside</th><th scope=col>estu_cod_reside_depto</th><th scope=col>inst_cod_institucion</th><th scope=col>inst_nombre_institucion</th><th scope=col>raz_cuant_punt</th><th scope=col>raz_cuant_des</th><th scope=col>lect_crit_punt</th><th scope=col>lect_crit_des</th><th scope=col>comp_ciud_punt</th><th scope=col>comp_ciud_des</th><th scope=col>ingles_punt</th><th scope=col>ingles_desem</th><th scope=col>comu_escr_punt</th><th scope=col>comu_escr_des</th></tr>\n",
       "\t<tr><th></th><th scope=col>&lt;int&gt;</th><th scope=col>&lt;fct&gt;</th><th scope=col>&lt;fct&gt;</th><th scope=col>&lt;int&gt;</th><th scope=col>&lt;int&gt;</th><th scope=col>&lt;fct&gt;</th><th scope=col>&lt;int&gt;</th><th scope=col>&lt;int&gt;</th><th scope=col>&lt;int&gt;</th><th scope=col>&lt;int&gt;</th><th scope=col>&lt;int&gt;</th><th scope=col>&lt;int&gt;</th><th scope=col>&lt;int&gt;</th><th scope=col>&lt;fct&gt;</th><th scope=col>&lt;int&gt;</th><th scope=col>&lt;int&gt;</th></tr>\n",
       "</thead>\n",
       "<tbody>\n",
       "\t<tr><th scope=row>725290</th><td>20183</td><td>EK201830220242</td><td>VALLE    </td><td>76</td><td>2114</td><td>ESCUELA NACIONAL DEL DEPORTE-CALI                                         </td><td>125</td><td>1</td><td>111</td><td>1</td><td>100</td><td>1</td><td>134</td><td>A1</td><td>140</td><td>2</td></tr>\n",
       "\t<tr><th scope=row>725291</th><td>20183</td><td>EK201830103468</td><td>SANTANDER</td><td>68</td><td>2847</td><td>CORPORACION UNIVERSITARIA DE INVESTIGACION Y DESARROLLO -\"UDI\"-BUCARAMANGA</td><td>182</td><td>3</td><td>145</td><td>2</td><td>152</td><td>2</td><td>167</td><td>A2</td><td>154</td><td>3</td></tr>\n",
       "\t<tr><th scope=row>725292</th><td>20183</td><td>EK201830186897</td><td>BOGOTA   </td><td>11</td><td>9104</td><td>ESCUELA MILITAR DE CADETES \"GENERAL JOSE MARIA CORDOVA\"-BOGOTÃƒÂ D.C.    </td><td>149</td><td>2</td><td>129</td><td>2</td><td>110</td><td>1</td><td>168</td><td>A2</td><td>122</td><td>2</td></tr>\n",
       "\t<tr><th scope=row>725293</th><td>20183</td><td>EK201830155382</td><td>SANTANDER</td><td>68</td><td>2207</td><td>INSTITUTO UNIVERSITARIO DE LA PAZ-BARRANCABERMEJA                         </td><td>185</td><td>3</td><td>173</td><td>3</td><td>190</td><td>3</td><td>148</td><td>A2</td><td>178</td><td>3</td></tr>\n",
       "\t<tr><th scope=row>725294</th><td>20183</td><td>EK201830225312</td><td>         </td><td>NA</td><td>1201</td><td>UNIVERSIDAD DE ANTIOQUIA-MEDELLIN                                         </td><td>179</td><td>3</td><td>165</td><td>3</td><td>192</td><td>3</td><td>156</td><td>A2</td><td>150</td><td>3</td></tr>\n",
       "\t<tr><th scope=row>725295</th><td>20183</td><td>EK201830039482</td><td>SUCRE    </td><td>70</td><td>2823</td><td>CORPORACION UNIVERSITARIA DEL CARIBE - CECAR-SINCELEJO                    </td><td>135</td><td>2</td><td>122</td><td>1</td><td> 99</td><td>1</td><td>132</td><td>A1</td><td>138</td><td>2</td></tr>\n",
       "</tbody>\n",
       "</table>\n"
      ],
      "text/latex": [
       "A data.frame: 6 × 16\n",
       "\\begin{tabular}{r|llllllllllllllll}\n",
       "  & periodo & apli\\_consecutivo & estu\\_depto\\_reside & estu\\_cod\\_reside\\_depto & inst\\_cod\\_institucion & inst\\_nombre\\_institucion & raz\\_cuant\\_punt & raz\\_cuant\\_des & lect\\_crit\\_punt & lect\\_crit\\_des & comp\\_ciud\\_punt & comp\\_ciud\\_des & ingles\\_punt & ingles\\_desem & comu\\_escr\\_punt & comu\\_escr\\_des\\\\\n",
       "  & <int> & <fct> & <fct> & <int> & <int> & <fct> & <int> & <int> & <int> & <int> & <int> & <int> & <int> & <fct> & <int> & <int>\\\\\n",
       "\\hline\n",
       "\t725290 & 20183 & EK201830220242 & VALLE     & 76 & 2114 & ESCUELA NACIONAL DEL DEPORTE-CALI                                          & 125 & 1 & 111 & 1 & 100 & 1 & 134 & A1 & 140 & 2\\\\\n",
       "\t725291 & 20183 & EK201830103468 & SANTANDER & 68 & 2847 & CORPORACION UNIVERSITARIA DE INVESTIGACION Y DESARROLLO -\"UDI\"-BUCARAMANGA & 182 & 3 & 145 & 2 & 152 & 2 & 167 & A2 & 154 & 3\\\\\n",
       "\t725292 & 20183 & EK201830186897 & BOGOTA    & 11 & 9104 & ESCUELA MILITAR DE CADETES \"GENERAL JOSE MARIA CORDOVA\"-BOGOTÃƒÂ D.C.     & 149 & 2 & 129 & 2 & 110 & 1 & 168 & A2 & 122 & 2\\\\\n",
       "\t725293 & 20183 & EK201830155382 & SANTANDER & 68 & 2207 & INSTITUTO UNIVERSITARIO DE LA PAZ-BARRANCABERMEJA                          & 185 & 3 & 173 & 3 & 190 & 3 & 148 & A2 & 178 & 3\\\\\n",
       "\t725294 & 20183 & EK201830225312 &           & NA & 1201 & UNIVERSIDAD DE ANTIOQUIA-MEDELLIN                                          & 179 & 3 & 165 & 3 & 192 & 3 & 156 & A2 & 150 & 3\\\\\n",
       "\t725295 & 20183 & EK201830039482 & SUCRE     & 70 & 2823 & CORPORACION UNIVERSITARIA DEL CARIBE - CECAR-SINCELEJO                     & 135 & 2 & 122 & 1 &  99 & 1 & 132 & A1 & 138 & 2\\\\\n",
       "\\end{tabular}\n"
      ],
      "text/markdown": [
       "\n",
       "A data.frame: 6 × 16\n",
       "\n",
       "| <!--/--> | periodo &lt;int&gt; | apli_consecutivo &lt;fct&gt; | estu_depto_reside &lt;fct&gt; | estu_cod_reside_depto &lt;int&gt; | inst_cod_institucion &lt;int&gt; | inst_nombre_institucion &lt;fct&gt; | raz_cuant_punt &lt;int&gt; | raz_cuant_des &lt;int&gt; | lect_crit_punt &lt;int&gt; | lect_crit_des &lt;int&gt; | comp_ciud_punt &lt;int&gt; | comp_ciud_des &lt;int&gt; | ingles_punt &lt;int&gt; | ingles_desem &lt;fct&gt; | comu_escr_punt &lt;int&gt; | comu_escr_des &lt;int&gt; |\n",
       "|---|---|---|---|---|---|---|---|---|---|---|---|---|---|---|---|---|\n",
       "| 725290 | 20183 | EK201830220242 | VALLE     | 76 | 2114 | ESCUELA NACIONAL DEL DEPORTE-CALI                                          | 125 | 1 | 111 | 1 | 100 | 1 | 134 | A1 | 140 | 2 |\n",
       "| 725291 | 20183 | EK201830103468 | SANTANDER | 68 | 2847 | CORPORACION UNIVERSITARIA DE INVESTIGACION Y DESARROLLO -\"UDI\"-BUCARAMANGA | 182 | 3 | 145 | 2 | 152 | 2 | 167 | A2 | 154 | 3 |\n",
       "| 725292 | 20183 | EK201830186897 | BOGOTA    | 11 | 9104 | ESCUELA MILITAR DE CADETES \"GENERAL JOSE MARIA CORDOVA\"-BOGOTÃƒÂ D.C.     | 149 | 2 | 129 | 2 | 110 | 1 | 168 | A2 | 122 | 2 |\n",
       "| 725293 | 20183 | EK201830155382 | SANTANDER | 68 | 2207 | INSTITUTO UNIVERSITARIO DE LA PAZ-BARRANCABERMEJA                          | 185 | 3 | 173 | 3 | 190 | 3 | 148 | A2 | 178 | 3 |\n",
       "| 725294 | 20183 | EK201830225312 | <!----> | NA | 1201 | UNIVERSIDAD DE ANTIOQUIA-MEDELLIN                                          | 179 | 3 | 165 | 3 | 192 | 3 | 156 | A2 | 150 | 3 |\n",
       "| 725295 | 20183 | EK201830039482 | SUCRE     | 70 | 2823 | CORPORACION UNIVERSITARIA DEL CARIBE - CECAR-SINCELEJO                     | 135 | 2 | 122 | 1 |  99 | 1 | 132 | A1 | 138 | 2 |\n",
       "\n"
      ],
      "text/plain": [
       "       periodo apli_consecutivo estu_depto_reside estu_cod_reside_depto\n",
       "725290 20183   EK201830220242   VALLE             76                   \n",
       "725291 20183   EK201830103468   SANTANDER         68                   \n",
       "725292 20183   EK201830186897   BOGOTA            11                   \n",
       "725293 20183   EK201830155382   SANTANDER         68                   \n",
       "725294 20183   EK201830225312                     NA                   \n",
       "725295 20183   EK201830039482   SUCRE             70                   \n",
       "       inst_cod_institucion\n",
       "725290 2114                \n",
       "725291 2847                \n",
       "725292 9104                \n",
       "725293 2207                \n",
       "725294 1201                \n",
       "725295 2823                \n",
       "       inst_nombre_institucion                                                   \n",
       "725290 ESCUELA NACIONAL DEL DEPORTE-CALI                                         \n",
       "725291 CORPORACION UNIVERSITARIA DE INVESTIGACION Y DESARROLLO -\"UDI\"-BUCARAMANGA\n",
       "725292 ESCUELA MILITAR DE CADETES \"GENERAL JOSE MARIA CORDOVA\"-BOGOTÃƒÂ\\201 D.C.    \n",
       "725293 INSTITUTO UNIVERSITARIO DE LA PAZ-BARRANCABERMEJA                         \n",
       "725294 UNIVERSIDAD DE ANTIOQUIA-MEDELLIN                                         \n",
       "725295 CORPORACION UNIVERSITARIA DEL CARIBE - CECAR-SINCELEJO                    \n",
       "       raz_cuant_punt raz_cuant_des lect_crit_punt lect_crit_des comp_ciud_punt\n",
       "725290 125            1             111            1             100           \n",
       "725291 182            3             145            2             152           \n",
       "725292 149            2             129            2             110           \n",
       "725293 185            3             173            3             190           \n",
       "725294 179            3             165            3             192           \n",
       "725295 135            2             122            1              99           \n",
       "       comp_ciud_des ingles_punt ingles_desem comu_escr_punt comu_escr_des\n",
       "725290 1             134         A1           140            2            \n",
       "725291 2             167         A2           154            3            \n",
       "725292 1             168         A2           122            2            \n",
       "725293 3             148         A2           178            3            \n",
       "725294 3             156         A2           150            3            \n",
       "725295 1             132         A1           138            2            "
      ]
     },
     "metadata": {},
     "output_type": "display_data"
    }
   ],
   "source": [
    "head(Datos); tail(Datos) # Primeras y últimas observaciones de la tabla"
   ]
  },
  {
   "cell_type": "markdown",
   "metadata": {},
   "source": [
    "<h2>Definición de los datos</h2>"
   ]
  },
  {
   "cell_type": "code",
   "execution_count": 5,
   "metadata": {},
   "outputs": [
    {
     "data": {
      "text/html": [
       "1997"
      ],
      "text/latex": [
       "1997"
      ],
      "text/markdown": [
       "1997"
      ],
      "text/plain": [
       "[1] 1997"
      ]
     },
     "metadata": {},
     "output_type": "display_data"
    },
    {
     "data": {
      "text/html": [
       "22114"
      ],
      "text/latex": [
       "22114"
      ],
      "text/markdown": [
       "22114"
      ],
      "text/plain": [
       "[1] 22114"
      ]
     },
     "metadata": {},
     "output_type": "display_data"
    },
    {
     "data": {
      "text/html": [
       "0"
      ],
      "text/latex": [
       "0"
      ],
      "text/markdown": [
       "0"
      ],
      "text/plain": [
       "[1] 0"
      ]
     },
     "metadata": {},
     "output_type": "display_data"
    },
    {
     "data": {
      "text/html": [
       "0"
      ],
      "text/latex": [
       "0"
      ],
      "text/markdown": [
       "0"
      ],
      "text/plain": [
       "[1] 0"
      ]
     },
     "metadata": {},
     "output_type": "display_data"
    }
   ],
   "source": [
    "#RELLENAMOS ESPACIOS\n",
    "R<-data.frame(C=Datos$estu_cod_reside_depto,\n",
    "                RC=Datos$raz_cuant_punt,\n",
    "                LC=Datos$lect_crit_punt,\n",
    "                CC=Datos$comp_ciud_punt,\n",
    "                I=Datos$ingles_punt,\n",
    "                CE=Datos$comu_escr_punt,\n",
    "                P=Datos$periodo,\n",
    "                D=Datos$estu_depto_reside)\n",
    "\n",
    "sum(is.na(R$C))\n",
    "#sum(is.na(P$RC))\n",
    "#sum(is.na(P$LC))\n",
    "#sum(is.na(P$CC))\n",
    "#sum(is.na(P$I))\n",
    "sum(is.na(R$CE))\n",
    "#sum(is.na(P$P))\n",
    "#sum(is.na(P$D))\n",
    "\n",
    "datoslimpios = na.omit(R)\n",
    "\n",
    "MCE = round(mean(datoslimpios$CE))\n",
    "MC = round(mean(datoslimpios$C))\n",
    "R$CE[is.na(R$CE)] = MCE\n",
    "R$C[is.na(R$C)] = MC\n",
    "\n",
    "sum(is.na(R$CE))\n",
    "sum(is.na(R$C))\n"
   ]
  },
  {
   "cell_type": "code",
   "execution_count": 6,
   "metadata": {},
   "outputs": [],
   "source": [
    "PT<-data.frame(C=R$C,\n",
    "               T=(R$RC + R$LC + R$CC + R$I + R$CE)/5, # Global\n",
    "                RC=R$RC,\n",
    "                LC=R$LC,\n",
    "                CC=R$CC,\n",
    "                I=R$I,\n",
    "                CE=R$CE,\n",
    "                P=R$P,\n",
    "                D=R$D)"
   ]
  },
  {
   "cell_type": "code",
   "execution_count": 7,
   "metadata": {},
   "outputs": [
    {
     "data": {
      "text/html": [
       "<table>\n",
       "<caption>A data.frame: 5 × 1</caption>\n",
       "<thead>\n",
       "\t<tr><th></th><th scope=col>pop</th></tr>\n",
       "\t<tr><th></th><th scope=col>&lt;dbl&gt;</th></tr>\n",
       "</thead>\n",
       "<tbody>\n",
       "\t<tr><th scope=row>tamaño</th><td>725295.0</td></tr>\n",
       "\t<tr><th scope=row>media</th><td>   149.0</td></tr>\n",
       "\t<tr><th scope=row>desviación estándar</th><td>    23.0</td></tr>\n",
       "\t<tr><th scope=row>simetría</th><td>     0.3</td></tr>\n",
       "\t<tr><th scope=row>kurtosis</th><td>    -0.1</td></tr>\n",
       "</tbody>\n",
       "</table>\n"
      ],
      "text/latex": [
       "A data.frame: 5 × 1\n",
       "\\begin{tabular}{r|l}\n",
       "  & pop\\\\\n",
       "  & <dbl>\\\\\n",
       "\\hline\n",
       "\ttamaño & 725295.0\\\\\n",
       "\tmedia &    149.0\\\\\n",
       "\tdesviación estándar &     23.0\\\\\n",
       "\tsimetría &      0.3\\\\\n",
       "\tkurtosis &     -0.1\\\\\n",
       "\\end{tabular}\n"
      ],
      "text/markdown": [
       "\n",
       "A data.frame: 5 × 1\n",
       "\n",
       "| <!--/--> | pop &lt;dbl&gt; |\n",
       "|---|---|\n",
       "| tamaño | 725295.0 |\n",
       "| media |    149.0 |\n",
       "| desviación estándar |     23.0 |\n",
       "| simetría |      0.3 |\n",
       "| kurtosis |     -0.1 |\n",
       "\n"
      ],
      "text/plain": [
       "                    pop     \n",
       "tamaño              725295.0\n",
       "media                  149.0\n",
       "desviación estándar     23.0\n",
       "simetría                 0.3\n",
       "kurtosis                -0.1"
      ]
     },
     "metadata": {},
     "output_type": "display_data"
    }
   ],
   "source": [
    "pop<-round(mystats(PT[,'T']),1)\n",
    "data.frame(pop)"
   ]
  },
  {
   "cell_type": "markdown",
   "metadata": {},
   "source": [
    "<h3>Tamaño adecuado de la muestra</h3>"
   ]
  },
  {
   "cell_type": "code",
   "execution_count": 8,
   "metadata": {},
   "outputs": [
    {
     "data": {
      "text/plain": [
       "\n",
       "sample.size.mean object: Sample size for mean estimate\n",
       "Without finite population correction: N=Inf, precision e=7.45 and standard deviation S=23\n",
       "\n",
       "Sample size needed: 26\n"
      ]
     },
     "metadata": {},
     "output_type": "display_data"
    },
    {
     "data": {
      "text/plain": [
       "\n",
       "sample.size.mean object: Sample size for mean estimate\n",
       "Without finite population correction: N=Inf, precision e=4.47 and standard deviation S=23\n",
       "\n",
       "Sample size needed: 102\n"
      ]
     },
     "metadata": {},
     "output_type": "display_data"
    },
    {
     "data": {
      "text/plain": [
       "\n",
       "sample.size.mean object: Sample size for mean estimate\n",
       "Without finite population correction: N=Inf, precision e=1.49 and standard deviation S=23\n",
       "\n",
       "Sample size needed: 1581\n"
      ]
     },
     "metadata": {},
     "output_type": "display_data"
    }
   ],
   "source": [
    "#c(\"tamaño\"=n, \"media\"=m, \"desviación estándar\"=s, \"simetría\"=skew, \"kurtosis\"=kurt)\n",
    "#error del 5%\n",
    "e=0.05*pop['media'] #Error * Media\n",
    "s=pop['desviación estándar'] #Desviación Estandar\n",
    "sample.size.mean(e,s, level = 0.90)\n",
    "e=0.03*pop['media'] #Error * Media\n",
    "s=pop['desviación estándar'] #Desviación Estandar\n",
    "sample.size.mean(e,s, level = 0.95)\n",
    "e=0.01*pop['media'] #Error * Media\n",
    "sample.size.mean(e,s, level = 0.99)"
   ]
  },
  {
   "cell_type": "code",
   "execution_count": 9,
   "metadata": {},
   "outputs": [],
   "source": [
    "n1<-26\n",
    "Rf1<- sample(1:nrow(PT),size=n1,replace=FALSE)\n",
    "n2<-102\n",
    "Rf2<- sample(1:nrow(PT),size=n2,replace=FALSE)\n",
    "n3<-1581\n",
    "Rf3<- sample(1:nrow(PT),size=n3,replace=FALSE)"
   ]
  },
  {
   "cell_type": "markdown",
   "metadata": {},
   "source": [
    "<h1>1- Muestreo Simple</h1>\n",
    "<H4>Total vs Razonamiento cuantitativo - Inglés - Lectura Crítica</H4>"
   ]
  },
  {
   "cell_type": "markdown",
   "metadata": {},
   "source": [
    "<h3>Primer Muestreo N = 26</h3>\n",
    "Nivel de confianza del $90\\%$\n",
    "Error del $5\\%$"
   ]
  },
  {
   "cell_type": "code",
   "execution_count": 10,
   "metadata": {},
   "outputs": [
    {
     "data": {
      "image/png": "[encoded data removed]",
      "text/plain": [
       "Plot with title \"Lectura Crítica\""
      ]
     },
     "metadata": {
      "image/png": {
       "height": 420,
       "width": 420
      },
      "text/plain": {
       "height": 420,
       "width": 420
      }
     },
     "output_type": "display_data"
    },
    {
     "data": {
      "image/png": "[encoded data removed]",
      "text/plain": [
       "Plot with title \"Lectura Crítica\""
      ]
     },
     "metadata": {
      "image/png": {
       "height": 420,
       "width": 420
      },
      "text/plain": {
       "height": 420,
       "width": 420
      }
     },
     "output_type": "display_data"
    }
   ],
   "source": [
    "par(mfrow=c(2,2))\n",
    "\n",
    "with(PT[Rf1,], boxplot(T, main = 'Puntaje Global / 5'))\n",
    "with(PT[Rf1,], boxplot(RC, main = 'Razonamiento Cuantitativo'))\n",
    "with(PT[Rf1,], boxplot(I, main = 'Inglés'))\n",
    "with(PT[Rf1,], boxplot(LC, main = 'Lectura Crítica'))\n",
    "\n",
    "with(PT[Rf1,], hist(T, nclass = 50, main = 'Puntaje Global / 5'))\n",
    "with(PT[Rf1,], hist(RC, nclass = 50, main = 'Razonamiento Cuantitativo'))\n",
    "with(PT[Rf1,], hist(I, nclass = 50, main = 'Inglés'))\n",
    "with(PT[Rf1,], hist(LC, nclass = 50, main = 'Lectura Crítica'))\n",
    "par(mfrow=c(1,1))"
   ]
  },
  {
   "cell_type": "markdown",
   "metadata": {},
   "source": [
    "<h3>Segundo Muestreo N = 102</h3>\n",
    "Nivel de confianza del $95\\%$\n",
    "Error del $3\\%$"
   ]
  },
  {
   "cell_type": "code",
   "execution_count": 11,
   "metadata": {},
   "outputs": [
    {
     "data": {
      "image/png": "[encoded data removed]",
      "text/plain": [
       "Plot with title \"Lectura Crítica\""
      ]
     },
     "metadata": {
      "image/png": {
       "height": 420,
       "width": 420
      },
      "text/plain": {
       "height": 420,
       "width": 420
      }
     },
     "output_type": "display_data"
    },
    {
     "data": {
      "image/png": "[encoded data removed]",
      "text/plain": [
       "Plot with title \"Lectura Crítica\""
      ]
     },
     "metadata": {
      "image/png": {
       "height": 420,
       "width": 420
      },
      "text/plain": {
       "height": 420,
       "width": 420
      }
     },
     "output_type": "display_data"
    }
   ],
   "source": [
    "par(mfrow=c(2,2))\n",
    "with(PT[Rf2,], boxplot(T, main = 'Puntaje Global / 5'))\n",
    "with(PT[Rf2,], boxplot(RC, main = 'Razonamiento Cuantitativo'))\n",
    "with(PT[Rf2,], boxplot(I, main = 'Inglés'))\n",
    "with(PT[Rf2,], boxplot(LC, main = 'Lectura Crítica'))\n",
    "with(PT[Rf2,], hist(T, nclass = 50, main = 'Puntaje Global / 5'))\n",
    "with(PT[Rf2,], hist(RC, nclass = 50, main = 'Razonamiento Cuantitativo'))\n",
    "with(PT[Rf2,], hist(I, nclass = 50, main = 'Inglés'))\n",
    "with(PT[Rf2,], hist(LC, nclass = 50, main = 'Lectura Crítica'))\n",
    "par(mfrow=c(1,1))"
   ]
  },
  {
   "cell_type": "markdown",
   "metadata": {},
   "source": [
    "<h3>Tercer Muestreo N = 1581</h3>\n",
    "Nivel de confianza del $99\\%$\n",
    "Error del $1\\%$"
   ]
  },
  {
   "cell_type": "code",
   "execution_count": 12,
   "metadata": {},
   "outputs": [
    {
     "data": {
      "image/png": "[encoded data removed]",
      "text/plain": [
       "Plot with title \"Lectura Crítica\""
      ]
     },
     "metadata": {
      "image/png": {
       "height": 420,
       "width": 420
      },
      "text/plain": {
       "height": 420,
       "width": 420
      }
     },
     "output_type": "display_data"
    },
    {
     "data": {
      "image/png": "[encoded data removed]",
      "text/plain": [
       "Plot with title \"Lectura Crítica\""
      ]
     },
     "metadata": {
      "image/png": {
       "height": 420,
       "width": 420
      },
      "text/plain": {
       "height": 420,
       "width": 420
      }
     },
     "output_type": "display_data"
    }
   ],
   "source": [
    "par(mfrow=c(2,2))\n",
    "with(PT[Rf3,], boxplot(T, main = 'Puntaje Global / 5'))\n",
    "with(PT[Rf3,], boxplot(RC, main = 'Razonamiento Cuantitativo'))\n",
    "with(PT[Rf3,], boxplot(I, main = 'Inglés'))\n",
    "with(PT[Rf3,], boxplot(LC, main = 'Lectura Crítica'))\n",
    "with(PT[Rf3,], hist(T, nclass = 50, main = 'Puntaje Global / 5'))\n",
    "with(PT[Rf3,], hist(RC, nclass = 50, main = 'Razonamiento Cuantitativo'))\n",
    "with(PT[Rf3,], hist(I, nclass = 50, main = 'Inglés'))\n",
    "with(PT[Rf3,], hist(LC, nclass = 50, main = 'Lectura Crítica'))\n",
    "par(mfrow=c(1,1))"
   ]
  },
  {
   "cell_type": "markdown",
   "metadata": {},
   "source": [
    "### Inferencia"
   ]
  },
  {
   "cell_type": "markdown",
   "metadata": {},
   "source": [
    "Para este caso comparamos 3 variables; Razonamiento cuantitativo, inglés, Lectura Crítica contra a una cuarta creada para entrar en contexto la cual es \"Puntaje Global\" definida como la suma de todas las variables cuantitativas divididas por 5\n",
    "\n",
    "Las gráficas las creamos tomando 3 tamaños de muestra distintos el primero N1 = 26, N2=102 y N3 = 1581, variando los niveles de confianza en 90%, 95% y 99% y el error en 5%, 3% y 1%.\n",
    "\n",
    "Podemos apreciar que el primer y segundo muestreo, resultaban deficientes al no permitir apreciar con un nivel de detalle adecuado el comportamiento de los datos, mientras que el valor N3 no dista de los resultados obtenidos de la población total a un menor costo computacional.\n",
    "\n",
    "De los resultados obtenidos podemos apreciar que la asignatura inglesa representa un mayor reto para la mayoría de los estudiantes teniendo un pico mucho pronunciado hacia los 120 pts. decayendo con una pendiente mayor hacia los puntajes más altos a diferencia de Razonamiento Cuantitativo y Lectura crítica que pueden ser fácilmente modeladas por una distribución normal\n"
   ]
  },
  {
   "cell_type": "markdown",
   "metadata": {},
   "source": [
    "<h1>2- Muestreo Estratificado</h1>"
   ]
  },
  {
   "cell_type": "code",
   "execution_count": 13,
   "metadata": {},
   "outputs": [
    {
     "name": "stderr",
     "output_type": "stream",
     "text": [
      "\n",
      "Attaching package: 'dplyr'\n",
      "\n",
      "\n",
      "The following objects are masked from 'package:stats':\n",
      "\n",
      "    filter, lag\n",
      "\n",
      "\n",
      "The following objects are masked from 'package:base':\n",
      "\n",
      "    intersect, setdiff, setequal, union\n",
      "\n",
      "\n"
     ]
    }
   ],
   "source": [
    "library(dplyr)\n",
    "library(magrittr) # las librerias "
   ]
  },
  {
   "cell_type": "markdown",
   "metadata": {},
   "source": [
    "<H4>Las variables a usar para la estratificacion periodo,ingles_punt</H4>"
   ]
  },
  {
   "cell_type": "code",
   "execution_count": 14,
   "metadata": {},
   "outputs": [
    {
     "data": {
      "text/html": [
       "<table>\n",
       "<caption>A data.frame: 6 × 9</caption>\n",
       "<thead>\n",
       "\t<tr><th></th><th scope=col>C</th><th scope=col>T</th><th scope=col>RC</th><th scope=col>LC</th><th scope=col>CC</th><th scope=col>I</th><th scope=col>CE</th><th scope=col>P</th><th scope=col>D</th></tr>\n",
       "\t<tr><th></th><th scope=col>&lt;dbl&gt;</th><th scope=col>&lt;dbl&gt;</th><th scope=col>&lt;int&gt;</th><th scope=col>&lt;int&gt;</th><th scope=col>&lt;int&gt;</th><th scope=col>&lt;int&gt;</th><th scope=col>&lt;dbl&gt;</th><th scope=col>&lt;int&gt;</th><th scope=col>&lt;fct&gt;</th></tr>\n",
       "</thead>\n",
       "<tbody>\n",
       "\t<tr><th scope=row>1</th><td> 8</td><td>154.4</td><td>160</td><td>130</td><td>167</td><td>160</td><td>155</td><td>20163</td><td>ATLANTICO   </td></tr>\n",
       "\t<tr><th scope=row>2</th><td>25</td><td>127.2</td><td>138</td><td>132</td><td> 77</td><td>125</td><td>164</td><td>20163</td><td>CUNDINAMARCA</td></tr>\n",
       "\t<tr><th scope=row>3</th><td>17</td><td>135.8</td><td>146</td><td>157</td><td>150</td><td>104</td><td>122</td><td>20163</td><td>CALDAS      </td></tr>\n",
       "\t<tr><th scope=row>4</th><td>47</td><td>167.0</td><td>160</td><td>172</td><td>151</td><td>160</td><td>192</td><td>20163</td><td>MAGDALENA   </td></tr>\n",
       "\t<tr><th scope=row>5</th><td>23</td><td>143.8</td><td>130</td><td>122</td><td>144</td><td>192</td><td>131</td><td>20163</td><td>CORDOBA     </td></tr>\n",
       "\t<tr><th scope=row>6</th><td>19</td><td>139.4</td><td>159</td><td>129</td><td>147</td><td>108</td><td>154</td><td>20163</td><td>CAUCA       </td></tr>\n",
       "</tbody>\n",
       "</table>\n"
      ],
      "text/latex": [
       "A data.frame: 6 × 9\n",
       "\\begin{tabular}{r|lllllllll}\n",
       "  & C & T & RC & LC & CC & I & CE & P & D\\\\\n",
       "  & <dbl> & <dbl> & <int> & <int> & <int> & <int> & <dbl> & <int> & <fct>\\\\\n",
       "\\hline\n",
       "\t1 &  8 & 154.4 & 160 & 130 & 167 & 160 & 155 & 20163 & ATLANTICO   \\\\\n",
       "\t2 & 25 & 127.2 & 138 & 132 &  77 & 125 & 164 & 20163 & CUNDINAMARCA\\\\\n",
       "\t3 & 17 & 135.8 & 146 & 157 & 150 & 104 & 122 & 20163 & CALDAS      \\\\\n",
       "\t4 & 47 & 167.0 & 160 & 172 & 151 & 160 & 192 & 20163 & MAGDALENA   \\\\\n",
       "\t5 & 23 & 143.8 & 130 & 122 & 144 & 192 & 131 & 20163 & CORDOBA     \\\\\n",
       "\t6 & 19 & 139.4 & 159 & 129 & 147 & 108 & 154 & 20163 & CAUCA       \\\\\n",
       "\\end{tabular}\n"
      ],
      "text/markdown": [
       "\n",
       "A data.frame: 6 × 9\n",
       "\n",
       "| <!--/--> | C &lt;dbl&gt; | T &lt;dbl&gt; | RC &lt;int&gt; | LC &lt;int&gt; | CC &lt;int&gt; | I &lt;int&gt; | CE &lt;dbl&gt; | P &lt;int&gt; | D &lt;fct&gt; |\n",
       "|---|---|---|---|---|---|---|---|---|---|\n",
       "| 1 |  8 | 154.4 | 160 | 130 | 167 | 160 | 155 | 20163 | ATLANTICO    |\n",
       "| 2 | 25 | 127.2 | 138 | 132 |  77 | 125 | 164 | 20163 | CUNDINAMARCA |\n",
       "| 3 | 17 | 135.8 | 146 | 157 | 150 | 104 | 122 | 20163 | CALDAS       |\n",
       "| 4 | 47 | 167.0 | 160 | 172 | 151 | 160 | 192 | 20163 | MAGDALENA    |\n",
       "| 5 | 23 | 143.8 | 130 | 122 | 144 | 192 | 131 | 20163 | CORDOBA      |\n",
       "| 6 | 19 | 139.4 | 159 | 129 | 147 | 108 | 154 | 20163 | CAUCA        |\n",
       "\n"
      ],
      "text/plain": [
       "  C  T     RC  LC  CC  I   CE  P     D           \n",
       "1  8 154.4 160 130 167 160 155 20163 ATLANTICO   \n",
       "2 25 127.2 138 132  77 125 164 20163 CUNDINAMARCA\n",
       "3 17 135.8 146 157 150 104 122 20163 CALDAS      \n",
       "4 47 167.0 160 172 151 160 192 20163 MAGDALENA   \n",
       "5 23 143.8 130 122 144 192 131 20163 CORDOBA     \n",
       "6 19 139.4 159 129 147 108 154 20163 CAUCA       "
      ]
     },
     "metadata": {},
     "output_type": "display_data"
    }
   ],
   "source": [
    "head(PT)"
   ]
  },
  {
   "cell_type": "code",
   "execution_count": 15,
   "metadata": {},
   "outputs": [
    {
     "name": "stderr",
     "output_type": "stream",
     "text": [
      "`summarise()` ungrouping output (override with `.groups` argument)\n",
      "\n"
     ]
    },
    {
     "data": {
      "text/html": [
       "<table>\n",
       "<caption>A tibble: 7 × 4</caption>\n",
       "<thead>\n",
       "\t<tr><th scope=col>P</th><th scope=col>n</th><th scope=col>s</th><th scope=col>p</th></tr>\n",
       "\t<tr><th scope=col>&lt;int&gt;</th><th scope=col>&lt;int&gt;</th><th scope=col>&lt;dbl&gt;</th><th scope=col>&lt;dbl&gt;</th></tr>\n",
       "</thead>\n",
       "<tbody>\n",
       "\t<tr><td>20162</td><td>  1308</td><td>18.34751</td><td>0.0018034041</td></tr>\n",
       "\t<tr><td>20163</td><td>241320</td><td>22.54866</td><td>0.3327197899</td></tr>\n",
       "\t<tr><td>20172</td><td>  1408</td><td>21.45691</td><td>0.0019412791</td></tr>\n",
       "\t<tr><td>20173</td><td>244158</td><td>23.28049</td><td>0.3366326805</td></tr>\n",
       "\t<tr><td>20182</td><td>  1527</td><td>22.86895</td><td>0.0021053502</td></tr>\n",
       "\t<tr><td>20183</td><td>235201</td><td>22.95642</td><td>0.3242832227</td></tr>\n",
       "\t<tr><td>20184</td><td>   373</td><td>21.43232</td><td>0.0005142735</td></tr>\n",
       "</tbody>\n",
       "</table>\n"
      ],
      "text/latex": [
       "A tibble: 7 × 4\n",
       "\\begin{tabular}{llll}\n",
       " P & n & s & p\\\\\n",
       " <int> & <int> & <dbl> & <dbl>\\\\\n",
       "\\hline\n",
       "\t 20162 &   1308 & 18.34751 & 0.0018034041\\\\\n",
       "\t 20163 & 241320 & 22.54866 & 0.3327197899\\\\\n",
       "\t 20172 &   1408 & 21.45691 & 0.0019412791\\\\\n",
       "\t 20173 & 244158 & 23.28049 & 0.3366326805\\\\\n",
       "\t 20182 &   1527 & 22.86895 & 0.0021053502\\\\\n",
       "\t 20183 & 235201 & 22.95642 & 0.3242832227\\\\\n",
       "\t 20184 &    373 & 21.43232 & 0.0005142735\\\\\n",
       "\\end{tabular}\n"
      ],
      "text/markdown": [
       "\n",
       "A tibble: 7 × 4\n",
       "\n",
       "| P &lt;int&gt; | n &lt;int&gt; | s &lt;dbl&gt; | p &lt;dbl&gt; |\n",
       "|---|---|---|---|\n",
       "| 20162 |   1308 | 18.34751 | 0.0018034041 |\n",
       "| 20163 | 241320 | 22.54866 | 0.3327197899 |\n",
       "| 20172 |   1408 | 21.45691 | 0.0019412791 |\n",
       "| 20173 | 244158 | 23.28049 | 0.3366326805 |\n",
       "| 20182 |   1527 | 22.86895 | 0.0021053502 |\n",
       "| 20183 | 235201 | 22.95642 | 0.3242832227 |\n",
       "| 20184 |    373 | 21.43232 | 0.0005142735 |\n",
       "\n"
      ],
      "text/plain": [
       "  P     n      s        p           \n",
       "1 20162   1308 18.34751 0.0018034041\n",
       "2 20163 241320 22.54866 0.3327197899\n",
       "3 20172   1408 21.45691 0.0019412791\n",
       "4 20173 244158 23.28049 0.3366326805\n",
       "5 20182   1527 22.86895 0.0021053502\n",
       "6 20183 235201 22.95642 0.3242832227\n",
       "7 20184    373 21.43232 0.0005142735"
      ]
     },
     "metadata": {},
     "output_type": "display_data"
    }
   ],
   "source": [
    "Estratificacion<- PT %>%\n",
    "                  select(P,T)%>%\n",
    "                  group_by(P) %>%\n",
    "                  summarise(n=n(),\n",
    "                            s=sd(T)) %>%\n",
    "                  mutate(p=n/sum(n))\n",
    "\n",
    "Estratificacion"
   ]
  },
  {
   "cell_type": "code",
   "execution_count": 16,
   "metadata": {},
   "outputs": [],
   "source": [
    "library('SamplingUtil') #esta libreria permite calcular los estratos"
   ]
  },
  {
   "cell_type": "markdown",
   "metadata": {},
   "source": [
    "ahora hallaremos las proporciones que se usaran en la muestra más optima entrada en el punto anterior"
   ]
  },
  {
   "cell_type": "code",
   "execution_count": 17,
   "metadata": {},
   "outputs": [],
   "source": [
    "nsizeProp1581<-nstrata(n=1581,wh=Estratificacion[,4],method=\"proportional\")"
   ]
  },
  {
   "cell_type": "code",
   "execution_count": 18,
   "metadata": {},
   "outputs": [
    {
     "data": {
      "text/html": [
       "<table>\n",
       "<caption>A data.frame: 7 × 2</caption>\n",
       "<thead>\n",
       "\t<tr><th scope=col>periodo</th><th scope=col>p</th></tr>\n",
       "\t<tr><th scope=col>&lt;int&gt;</th><th scope=col>&lt;dbl&gt;</th></tr>\n",
       "</thead>\n",
       "<tbody>\n",
       "\t<tr><td>20162</td><td>  3</td></tr>\n",
       "\t<tr><td>20163</td><td>527</td></tr>\n",
       "\t<tr><td>20172</td><td>  4</td></tr>\n",
       "\t<tr><td>20173</td><td>533</td></tr>\n",
       "\t<tr><td>20182</td><td>  4</td></tr>\n",
       "\t<tr><td>20183</td><td>513</td></tr>\n",
       "\t<tr><td>20184</td><td>  1</td></tr>\n",
       "</tbody>\n",
       "</table>\n"
      ],
      "text/latex": [
       "A data.frame: 7 × 2\n",
       "\\begin{tabular}{ll}\n",
       " periodo & p\\\\\n",
       " <int> & <dbl>\\\\\n",
       "\\hline\n",
       "\t 20162 &   3\\\\\n",
       "\t 20163 & 527\\\\\n",
       "\t 20172 &   4\\\\\n",
       "\t 20173 & 533\\\\\n",
       "\t 20182 &   4\\\\\n",
       "\t 20183 & 513\\\\\n",
       "\t 20184 &   1\\\\\n",
       "\\end{tabular}\n"
      ],
      "text/markdown": [
       "\n",
       "A data.frame: 7 × 2\n",
       "\n",
       "| periodo &lt;int&gt; | p &lt;dbl&gt; |\n",
       "|---|---|\n",
       "| 20162 |   3 |\n",
       "| 20163 | 527 |\n",
       "| 20172 |   4 |\n",
       "| 20173 | 533 |\n",
       "| 20182 |   4 |\n",
       "| 20183 | 513 |\n",
       "| 20184 |   1 |\n",
       "\n"
      ],
      "text/plain": [
       "  periodo p  \n",
       "1 20162     3\n",
       "2 20163   527\n",
       "3 20172     4\n",
       "4 20173   533\n",
       "5 20182     4\n",
       "6 20183   513\n",
       "7 20184     1"
      ]
     },
     "metadata": {},
     "output_type": "display_data"
    }
   ],
   "source": [
    "data.frame(periodo=Estratificacion$P,nsizeProp1581)"
   ]
  },
  {
   "cell_type": "markdown",
   "metadata": {},
   "source": [
    "tenemos las proporciones y con ellas vamos a relizar las respectivas muestras simples "
   ]
  },
  {
   "cell_type": "code",
   "execution_count": 19,
   "metadata": {},
   "outputs": [],
   "source": [
    "#Muestras 1581\n",
    "m621581<-sample(1:nrow(PT[Estratificacion$P=='20162']),3,replace=FALSE)\n",
    "m631581<- sample(1:nrow(PT[Estratificacion$P=='20163']),527,replace=FALSE)\n",
    "m721581<- sample(1:nrow(PT[Estratificacion$P=='20172',]),4,replace=FALSE)\n",
    "m731581<- sample(1:nrow(PT[Estratificacion$P=='20173',]),533,replace=FALSE)\n",
    "m821581<- sample(1:nrow(PT[Estratificacion$P=='20182',]),4,replace=FALSE)\n",
    "m831581<- sample(1:nrow(PT[Estratificacion$P=='20182',]),513,replace=FALSE)\n",
    "m841581<- sample(1:nrow(PT[Estratificacion$P=='20182',]),4,replace=FALSE)"
   ]
  },
  {
   "cell_type": "markdown",
   "metadata": {},
   "source": [
    "ya tenemos todas nuestras muestras, ahora haremos un vector que las contenga\n"
   ]
  },
  {
   "cell_type": "code",
   "execution_count": 20,
   "metadata": {},
   "outputs": [],
   "source": [
    "ME1581<-c(m621581,m631581,m721581,m731581,m821581,m831581,m841581)"
   ]
  },
  {
   "cell_type": "code",
   "execution_count": 21,
   "metadata": {},
   "outputs": [
    {
     "data": {
      "text/html": [
       "<style>\n",
       ".list-inline {list-style: none; margin:0; padding: 0}\n",
       ".list-inline>li {display: inline-block}\n",
       ".list-inline>li:not(:last-child)::after {content: \"\\00b7\"; padding: 0 .5ex}\n",
       "</style>\n",
       "<ol class=list-inline><li>65772</li><li>14412</li><li>33995</li><li>50047</li><li>3164</li><li>78734</li></ol>\n"
      ],
      "text/latex": [
       "\\begin{enumerate*}\n",
       "\\item 65772\n",
       "\\item 14412\n",
       "\\item 33995\n",
       "\\item 50047\n",
       "\\item 3164\n",
       "\\item 78734\n",
       "\\end{enumerate*}\n"
      ],
      "text/markdown": [
       "1. 65772\n",
       "2. 14412\n",
       "3. 33995\n",
       "4. 50047\n",
       "5. 3164\n",
       "6. 78734\n",
       "\n",
       "\n"
      ],
      "text/plain": [
       "[1] 65772 14412 33995 50047  3164 78734"
      ]
     },
     "metadata": {},
     "output_type": "display_data"
    },
    {
     "data": {
      "text/html": [
       "<table>\n",
       "<caption>A data.frame: 6 × 9</caption>\n",
       "<thead>\n",
       "\t<tr><th></th><th scope=col>C</th><th scope=col>T</th><th scope=col>RC</th><th scope=col>LC</th><th scope=col>CC</th><th scope=col>I</th><th scope=col>CE</th><th scope=col>P</th><th scope=col>D</th></tr>\n",
       "\t<tr><th></th><th scope=col>&lt;dbl&gt;</th><th scope=col>&lt;dbl&gt;</th><th scope=col>&lt;int&gt;</th><th scope=col>&lt;int&gt;</th><th scope=col>&lt;int&gt;</th><th scope=col>&lt;int&gt;</th><th scope=col>&lt;dbl&gt;</th><th scope=col>&lt;int&gt;</th><th scope=col>&lt;fct&gt;</th></tr>\n",
       "</thead>\n",
       "<tbody>\n",
       "\t<tr><th scope=row>575045</th><td> 5</td><td>139.2</td><td>142</td><td>148</td><td>130</td><td>139</td><td>137</td><td>20183</td><td>ANTIOQUIA      </td></tr>\n",
       "\t<tr><th scope=row>508094</th><td>52</td><td>184.4</td><td>180</td><td>195</td><td>173</td><td>172</td><td>202</td><td>20183</td><td>NARIÃƒâ€˜O     </td></tr>\n",
       "\t<tr><th scope=row>50965</th><td>11</td><td>134.0</td><td>123</td><td>118</td><td>153</td><td>115</td><td>161</td><td>20163</td><td>BOGOTA         </td></tr>\n",
       "\t<tr><th scope=row>637778</th><td>63</td><td>145.8</td><td>157</td><td>159</td><td>137</td><td>115</td><td>161</td><td>20183</td><td>QUINDIO        </td></tr>\n",
       "\t<tr><th scope=row>350584</th><td>63</td><td>133.0</td><td>130</td><td>132</td><td>129</td><td>119</td><td>155</td><td>20173</td><td>QUINDIO        </td></tr>\n",
       "\t<tr><th scope=row>690335</th><td>54</td><td>127.4</td><td>119</td><td>140</td><td>142</td><td>126</td><td>110</td><td>20183</td><td>NORTE SANTANDER</td></tr>\n",
       "</tbody>\n",
       "</table>\n"
      ],
      "text/latex": [
       "A data.frame: 6 × 9\n",
       "\\begin{tabular}{r|lllllllll}\n",
       "  & C & T & RC & LC & CC & I & CE & P & D\\\\\n",
       "  & <dbl> & <dbl> & <int> & <int> & <int> & <int> & <dbl> & <int> & <fct>\\\\\n",
       "\\hline\n",
       "\t575045 &  5 & 139.2 & 142 & 148 & 130 & 139 & 137 & 20183 & ANTIOQUIA      \\\\\n",
       "\t508094 & 52 & 184.4 & 180 & 195 & 173 & 172 & 202 & 20183 & NARIÃƒâ€˜O     \\\\\n",
       "\t50965 & 11 & 134.0 & 123 & 118 & 153 & 115 & 161 & 20163 & BOGOTA         \\\\\n",
       "\t637778 & 63 & 145.8 & 157 & 159 & 137 & 115 & 161 & 20183 & QUINDIO        \\\\\n",
       "\t350584 & 63 & 133.0 & 130 & 132 & 129 & 119 & 155 & 20173 & QUINDIO        \\\\\n",
       "\t690335 & 54 & 127.4 & 119 & 140 & 142 & 126 & 110 & 20183 & NORTE SANTANDER\\\\\n",
       "\\end{tabular}\n"
      ],
      "text/markdown": [
       "\n",
       "A data.frame: 6 × 9\n",
       "\n",
       "| <!--/--> | C &lt;dbl&gt; | T &lt;dbl&gt; | RC &lt;int&gt; | LC &lt;int&gt; | CC &lt;int&gt; | I &lt;int&gt; | CE &lt;dbl&gt; | P &lt;int&gt; | D &lt;fct&gt; |\n",
       "|---|---|---|---|---|---|---|---|---|---|\n",
       "| 575045 |  5 | 139.2 | 142 | 148 | 130 | 139 | 137 | 20183 | ANTIOQUIA       |\n",
       "| 508094 | 52 | 184.4 | 180 | 195 | 173 | 172 | 202 | 20183 | NARIÃƒâ€˜O      |\n",
       "| 50965 | 11 | 134.0 | 123 | 118 | 153 | 115 | 161 | 20163 | BOGOTA          |\n",
       "| 637778 | 63 | 145.8 | 157 | 159 | 137 | 115 | 161 | 20183 | QUINDIO         |\n",
       "| 350584 | 63 | 133.0 | 130 | 132 | 129 | 119 | 155 | 20173 | QUINDIO         |\n",
       "| 690335 | 54 | 127.4 | 119 | 140 | 142 | 126 | 110 | 20183 | NORTE SANTANDER |\n",
       "\n"
      ],
      "text/plain": [
       "       C  T     RC  LC  CC  I   CE  P     D              \n",
       "575045  5 139.2 142 148 130 139 137 20183 ANTIOQUIA      \n",
       "508094 52 184.4 180 195 173 172 202 20183 NARIÃƒâ\\200\\230O     \n",
       "50965  11 134.0 123 118 153 115 161 20163 BOGOTA         \n",
       "637778 63 145.8 157 159 137 115 161 20183 QUINDIO        \n",
       "350584 63 133.0 130 132 129 119 155 20173 QUINDIO        \n",
       "690335 54 127.4 119 140 142 126 110 20183 NORTE SANTANDER"
      ]
     },
     "metadata": {},
     "output_type": "display_data"
    }
   ],
   "source": [
    "tail(ME1581)\n",
    "head(PT[ME1581,])"
   ]
  },
  {
   "cell_type": "code",
   "execution_count": 22,
   "metadata": {},
   "outputs": [
    {
     "name": "stdout",
     "output_type": "stream",
     "text": [
      "[1] \"Muestreo Estratificado N=1581\"\n"
     ]
    },
    {
     "data": {
      "image/png": "[encoded data removed]",
      "text/plain": [
       "Plot with title \"Lectura Crítica\""
      ]
     },
     "metadata": {
      "image/png": {
       "height": 420,
       "width": 420
      },
      "text/plain": {
       "height": 420,
       "width": 420
      }
     },
     "output_type": "display_data"
    },
    {
     "data": {
      "image/png": "[encoded data removed]",
      "text/plain": [
       "Plot with title \"Lectura Crítica\""
      ]
     },
     "metadata": {
      "image/png": {
       "height": 420,
       "width": 420
      },
      "text/plain": {
       "height": 420,
       "width": 420
      }
     },
     "output_type": "display_data"
    },
    {
     "data": {
      "image/png": "[encoded data removed]",
      "text/plain": [
       "Plot with title \"Lectura Crítica\""
      ]
     },
     "metadata": {
      "image/png": {
       "height": 420,
       "width": 420
      },
      "text/plain": {
       "height": 420,
       "width": 420
      }
     },
     "output_type": "display_data"
    }
   ],
   "source": [
    "par(mfrow=c(2,2))\n",
    "print('Muestreo Estratificado N=1581')\n",
    "with(PT[ME1581,], boxplot(PT[m621581,]$T,\n",
    "                          PT[m631581,]$T,\n",
    "                          PT[m721581,]$T,\n",
    "                          PT[m731581,]$T,\n",
    "                          PT[m821581,]$T,\n",
    "                          PT[m831581,]$T,\n",
    "                          PT[m841581,]$T,\n",
    "                          main = 'Total'))\n",
    "with(PT[ME1581,], boxplot(PT[m621581,]$RC,\n",
    "                          PT[m631581,]$RC,\n",
    "                          PT[m721581,]$RC,\n",
    "                          PT[m731581,]$RC,\n",
    "                          PT[m821581,]$RC,\n",
    "                          PT[m831581,]$RC,\n",
    "                          PT[m841581,]$RC,\n",
    "                          main = 'Razonamiento Cuantitativo'))\n",
    "with(PT[ME1581,], boxplot(PT[m621581,]$I,\n",
    "                          PT[m631581,]$I,\n",
    "                          PT[m721581,]$I,\n",
    "                          PT[m731581,]$I,\n",
    "                          PT[m821581,]$I,\n",
    "                          PT[m831581,]$I,\n",
    "                          PT[m841581,]$I,\n",
    "                          main = 'Inglés'))\n",
    "with(PT[ME1581,], boxplot(PT[m621581,]$LC,\n",
    "                          PT[m631581,]$LC,\n",
    "                          PT[m721581,]$LC,\n",
    "                          PT[m731581,]$LC,\n",
    "                          PT[m821581,]$LC,\n",
    "                          PT[m831581,]$LC,\n",
    "                          PT[m841581,]$LC,\n",
    "                          main = 'Lectura Crítica'))\n",
    "\n",
    "with(PT[ME1581,], plot(T, pch = 20, main = 'Total'))\n",
    "with(PT[ME1581,], plot(RC, pch = 20, main = 'Razonamiento Cuantitativo'))\n",
    "with(PT[ME1581,], plot(I, pch = 20, main = 'Inglés'))\n",
    "with(PT[ME1581,], plot(LC, pch = 20, main = 'Lectura Crítica'))\n",
    "\n",
    "with(PT[ME1581,], hist(T, nclass = 50, main = 'Total'))\n",
    "with(PT[ME1581,], hist(RC, nclass = 50, main = 'Razonamiento Cuantitativo'))\n",
    "with(PT[ME1581,], hist(I, nclass = 50, main = 'Inglés'))\n",
    "with(PT[ME1581,], hist(LC, nclass = 50, main = 'Lectura Crítica'))\n",
    "\n",
    "par(mfrow=c(1,1))\n"
   ]
  },
  {
   "cell_type": "markdown",
   "metadata": {},
   "source": [
    "### Inferencia"
   ]
  },
  {
   "cell_type": "markdown",
   "metadata": {},
   "source": [
    "algo"
   ]
  },
  {
   "cell_type": "markdown",
   "metadata": {},
   "source": [
    "<h1>3- Muestreo Conglomerado</h1>"
   ]
  },
  {
   "cell_type": "code",
   "execution_count": 23,
   "metadata": {},
   "outputs": [
    {
     "data": {
      "text/html": [
       "<style>\n",
       ".list-inline {list-style: none; margin:0; padding: 0}\n",
       ".list-inline>li {display: inline-block}\n",
       ".list-inline>li:not(:last-child)::after {content: \"\\00b7\"; padding: 0 .5ex}\n",
       "</style>\n",
       "<ol class=list-inline><li>ATLANTICO</li><li>CUNDINAMARCA</li><li>CALDAS</li><li>MAGDALENA</li><li>CORDOBA</li><li>CAUCA</li><li>BOGOTA</li><li>ANTIOQUIA</li><li>META</li><li>CESAR</li><li>VALLE</li><li>TOLIMA</li><li>BOYACA</li><li>SANTANDER</li><li>BOLIVAR</li><li></li><li>HUILA</li><li>NORTE SANTANDER</li><li>SUCRE</li><li>QUINDIO</li><li>VAUPES</li><li>RISARALDA</li><li>NARIÑO</li><li>CAQUETA</li><li>CASANARE</li><li>CHOCO</li><li>PUTUMAYO</li><li>LA GUAJIRA</li><li>GUAVIARE</li><li>ARAUCA</li><li>SAN ANDRES</li><li>VICHADA</li><li>AMAZONAS</li><li>EXTRANJERO</li><li>GUAINIA</li></ol>\n",
       "\n",
       "<details>\n",
       "\t<summary style=display:list-item;cursor:pointer>\n",
       "\t\t<strong>Levels</strong>:\n",
       "\t</summary>\n",
       "\t<style>\n",
       "\t.list-inline {list-style: none; margin:0; padding: 0}\n",
       "\t.list-inline>li {display: inline-block}\n",
       "\t.list-inline>li:not(:last-child)::after {content: \"\\00b7\"; padding: 0 .5ex}\n",
       "\t</style>\n",
       "\t<ol class=list-inline><li>''</li><li>'AMAZONAS'</li><li>'ANTIOQUIA'</li><li>'ARAUCA'</li><li>'ATLANTICO'</li><li>'BOGOTA'</li><li>'BOLIVAR'</li><li>'BOYACA'</li><li>'CALDAS'</li><li>'CAQUETA'</li><li>'CASANARE'</li><li>'CAUCA'</li><li>'CESAR'</li><li>'CHOCO'</li><li>'CORDOBA'</li><li>'CUNDINAMARCA'</li><li>'EXTRANJERO'</li><li>'GUAINIA'</li><li>'GUAVIARE'</li><li>'HUILA'</li><li>'LA GUAJIRA'</li><li>'MAGDALENA'</li><li>'META'</li><li>'NARIÑO'</li><li>'NORTE SANTANDER'</li><li>'PUTUMAYO'</li><li>'QUINDIO'</li><li>'RISARALDA'</li><li>'SAN ANDRES'</li><li>'SANTANDER'</li><li>'SUCRE'</li><li>'TOLIMA'</li><li>'VALLE'</li><li>'VAUPES'</li><li>'VICHADA'</li></ol>\n",
       "</details>"
      ],
      "text/latex": [
       "\\begin{enumerate*}\n",
       "\\item ATLANTICO\n",
       "\\item CUNDINAMARCA\n",
       "\\item CALDAS\n",
       "\\item MAGDALENA\n",
       "\\item CORDOBA\n",
       "\\item CAUCA\n",
       "\\item BOGOTA\n",
       "\\item ANTIOQUIA\n",
       "\\item META\n",
       "\\item CESAR\n",
       "\\item VALLE\n",
       "\\item TOLIMA\n",
       "\\item BOYACA\n",
       "\\item SANTANDER\n",
       "\\item BOLIVAR\n",
       "\\item \n",
       "\\item HUILA\n",
       "\\item NORTE SANTANDER\n",
       "\\item SUCRE\n",
       "\\item QUINDIO\n",
       "\\item VAUPES\n",
       "\\item RISARALDA\n",
       "\\item NARIÑO\n",
       "\\item CAQUETA\n",
       "\\item CASANARE\n",
       "\\item CHOCO\n",
       "\\item PUTUMAYO\n",
       "\\item LA GUAJIRA\n",
       "\\item GUAVIARE\n",
       "\\item ARAUCA\n",
       "\\item SAN ANDRES\n",
       "\\item VICHADA\n",
       "\\item AMAZONAS\n",
       "\\item EXTRANJERO\n",
       "\\item GUAINIA\n",
       "\\end{enumerate*}\n",
       "\n",
       "\\emph{Levels}: \\begin{enumerate*}\n",
       "\\item ''\n",
       "\\item 'AMAZONAS'\n",
       "\\item 'ANTIOQUIA'\n",
       "\\item 'ARAUCA'\n",
       "\\item 'ATLANTICO'\n",
       "\\item 'BOGOTA'\n",
       "\\item 'BOLIVAR'\n",
       "\\item 'BOYACA'\n",
       "\\item 'CALDAS'\n",
       "\\item 'CAQUETA'\n",
       "\\item 'CASANARE'\n",
       "\\item 'CAUCA'\n",
       "\\item 'CESAR'\n",
       "\\item 'CHOCO'\n",
       "\\item 'CORDOBA'\n",
       "\\item 'CUNDINAMARCA'\n",
       "\\item 'EXTRANJERO'\n",
       "\\item 'GUAINIA'\n",
       "\\item 'GUAVIARE'\n",
       "\\item 'HUILA'\n",
       "\\item 'LA GUAJIRA'\n",
       "\\item 'MAGDALENA'\n",
       "\\item 'META'\n",
       "\\item 'NARIÑO'\n",
       "\\item 'NORTE SANTANDER'\n",
       "\\item 'PUTUMAYO'\n",
       "\\item 'QUINDIO'\n",
       "\\item 'RISARALDA'\n",
       "\\item 'SAN ANDRES'\n",
       "\\item 'SANTANDER'\n",
       "\\item 'SUCRE'\n",
       "\\item 'TOLIMA'\n",
       "\\item 'VALLE'\n",
       "\\item 'VAUPES'\n",
       "\\item 'VICHADA'\n",
       "\\end{enumerate*}\n"
      ],
      "text/markdown": [
       "1. ATLANTICO\n",
       "2. CUNDINAMARCA\n",
       "3. CALDAS\n",
       "4. MAGDALENA\n",
       "5. CORDOBA\n",
       "6. CAUCA\n",
       "7. BOGOTA\n",
       "8. ANTIOQUIA\n",
       "9. META\n",
       "10. CESAR\n",
       "11. VALLE\n",
       "12. TOLIMA\n",
       "13. BOYACA\n",
       "14. SANTANDER\n",
       "15. BOLIVAR\n",
       "16. \n",
       "17. HUILA\n",
       "18. NORTE SANTANDER\n",
       "19. SUCRE\n",
       "20. QUINDIO\n",
       "21. VAUPES\n",
       "22. RISARALDA\n",
       "23. NARIÑO\n",
       "24. CAQUETA\n",
       "25. CASANARE\n",
       "26. CHOCO\n",
       "27. PUTUMAYO\n",
       "28. LA GUAJIRA\n",
       "29. GUAVIARE\n",
       "30. ARAUCA\n",
       "31. SAN ANDRES\n",
       "32. VICHADA\n",
       "33. AMAZONAS\n",
       "34. EXTRANJERO\n",
       "35. GUAINIA\n",
       "\n",
       "\n",
       "\n",
       "**Levels**: 1. ''\n",
       "2. 'AMAZONAS'\n",
       "3. 'ANTIOQUIA'\n",
       "4. 'ARAUCA'\n",
       "5. 'ATLANTICO'\n",
       "6. 'BOGOTA'\n",
       "7. 'BOLIVAR'\n",
       "8. 'BOYACA'\n",
       "9. 'CALDAS'\n",
       "10. 'CAQUETA'\n",
       "11. 'CASANARE'\n",
       "12. 'CAUCA'\n",
       "13. 'CESAR'\n",
       "14. 'CHOCO'\n",
       "15. 'CORDOBA'\n",
       "16. 'CUNDINAMARCA'\n",
       "17. 'EXTRANJERO'\n",
       "18. 'GUAINIA'\n",
       "19. 'GUAVIARE'\n",
       "20. 'HUILA'\n",
       "21. 'LA GUAJIRA'\n",
       "22. 'MAGDALENA'\n",
       "23. 'META'\n",
       "24. 'NARIÑO'\n",
       "25. 'NORTE SANTANDER'\n",
       "26. 'PUTUMAYO'\n",
       "27. 'QUINDIO'\n",
       "28. 'RISARALDA'\n",
       "29. 'SAN ANDRES'\n",
       "30. 'SANTANDER'\n",
       "31. 'SUCRE'\n",
       "32. 'TOLIMA'\n",
       "33. 'VALLE'\n",
       "34. 'VAUPES'\n",
       "35. 'VICHADA'\n",
       "\n",
       "\n"
      ],
      "text/plain": [
       " [1] ATLANTICO       CUNDINAMARCA    CALDAS          MAGDALENA      \n",
       " [5] CORDOBA         CAUCA           BOGOTA          ANTIOQUIA      \n",
       " [9] META            CESAR           VALLE           TOLIMA         \n",
       "[13] BOYACA          SANTANDER       BOLIVAR                        \n",
       "[17] HUILA           NORTE SANTANDER SUCRE           QUINDIO        \n",
       "[21] VAUPES          RISARALDA       NARIÑO          CAQUETA        \n",
       "[25] CASANARE        CHOCO           PUTUMAYO        LA GUAJIRA     \n",
       "[29] GUAVIARE        ARAUCA          SAN ANDRES      VICHADA        \n",
       "[33] AMAZONAS        EXTRANJERO      GUAINIA        \n",
       "35 Levels:  AMAZONAS ANTIOQUIA ARAUCA ATLANTICO BOGOTA BOLIVAR ... VICHADA"
      ]
     },
     "metadata": {},
     "output_type": "display_data"
    }
   ],
   "source": [
    "PT$D=recode(PT$D,'NARIÃ‘O'= \"NARIÑO\")\n",
    "PT$D=recode(PT$D,'NARIÃƒâ\\200\\230O'= \"NARIÑO\")\n",
    "unique(PT[,9])"
   ]
  },
  {
   "cell_type": "code",
   "execution_count": 24,
   "metadata": {},
   "outputs": [
    {
     "name": "stderr",
     "output_type": "stream",
     "text": [
      "`summarise()` ungrouping output (override with `.groups` argument)\n",
      "\n"
     ]
    },
    {
     "data": {
      "text/html": [
       "<table>\n",
       "<caption>A tibble: 6 × 4</caption>\n",
       "<thead>\n",
       "\t<tr><th scope=col>D</th><th scope=col>n</th><th scope=col>std1</th><th scope=col>p</th></tr>\n",
       "\t<tr><th scope=col>&lt;fct&gt;</th><th scope=col>&lt;int&gt;</th><th scope=col>&lt;dbl&gt;</th><th scope=col>&lt;dbl&gt;</th></tr>\n",
       "</thead>\n",
       "<tbody>\n",
       "\t<tr><td>BOGOTA      </td><td>210798</td><td>23.11200</td><td>0.29063760</td></tr>\n",
       "\t<tr><td>ANTIOQUIA   </td><td> 86465</td><td>23.24833</td><td>0.11921356</td></tr>\n",
       "\t<tr><td>VALLE       </td><td> 55996</td><td>22.86685</td><td>0.07720445</td></tr>\n",
       "\t<tr><td>ATLANTICO   </td><td> 41127</td><td>23.03347</td><td>0.05670382</td></tr>\n",
       "\t<tr><td>CUNDINAMARCA</td><td> 39227</td><td>21.27240</td><td>0.05408420</td></tr>\n",
       "\t<tr><td>SANTANDER   </td><td> 36348</td><td>22.17065</td><td>0.05011478</td></tr>\n",
       "</tbody>\n",
       "</table>\n"
      ],
      "text/latex": [
       "A tibble: 6 × 4\n",
       "\\begin{tabular}{llll}\n",
       " D & n & std1 & p\\\\\n",
       " <fct> & <int> & <dbl> & <dbl>\\\\\n",
       "\\hline\n",
       "\t BOGOTA       & 210798 & 23.11200 & 0.29063760\\\\\n",
       "\t ANTIOQUIA    &  86465 & 23.24833 & 0.11921356\\\\\n",
       "\t VALLE        &  55996 & 22.86685 & 0.07720445\\\\\n",
       "\t ATLANTICO    &  41127 & 23.03347 & 0.05670382\\\\\n",
       "\t CUNDINAMARCA &  39227 & 21.27240 & 0.05408420\\\\\n",
       "\t SANTANDER    &  36348 & 22.17065 & 0.05011478\\\\\n",
       "\\end{tabular}\n"
      ],
      "text/markdown": [
       "\n",
       "A tibble: 6 × 4\n",
       "\n",
       "| D &lt;fct&gt; | n &lt;int&gt; | std1 &lt;dbl&gt; | p &lt;dbl&gt; |\n",
       "|---|---|---|---|\n",
       "| BOGOTA       | 210798 | 23.11200 | 0.29063760 |\n",
       "| ANTIOQUIA    |  86465 | 23.24833 | 0.11921356 |\n",
       "| VALLE        |  55996 | 22.86685 | 0.07720445 |\n",
       "| ATLANTICO    |  41127 | 23.03347 | 0.05670382 |\n",
       "| CUNDINAMARCA |  39227 | 21.27240 | 0.05408420 |\n",
       "| SANTANDER    |  36348 | 22.17065 | 0.05011478 |\n",
       "\n"
      ],
      "text/plain": [
       "  D            n      std1     p         \n",
       "1 BOGOTA       210798 23.11200 0.29063760\n",
       "2 ANTIOQUIA     86465 23.24833 0.11921356\n",
       "3 VALLE         55996 22.86685 0.07720445\n",
       "4 ATLANTICO     41127 23.03347 0.05670382\n",
       "5 CUNDINAMARCA  39227 21.27240 0.05408420\n",
       "6 SANTANDER     36348 22.17065 0.05011478"
      ]
     },
     "metadata": {},
     "output_type": "display_data"
    }
   ],
   "source": [
    "Conglomerados<- PT %>%\n",
    "  select(D,T) %>%\n",
    "  group_by(D) %>%\n",
    "  summarise(n=n(),\n",
    "            std1=sd(T)) %>%\n",
    "  mutate(p=n/sum(n))\n",
    "  \n",
    "\n",
    "head(Conglomerados[order(Conglomerados$p, decreasing = TRUE), ],6)"
   ]
  },
  {
   "cell_type": "code",
   "execution_count": 25,
   "metadata": {},
   "outputs": [
    {
     "data": {
      "text/html": [
       "<table>\n",
       "<caption>A data.frame: 6 × 2</caption>\n",
       "<thead>\n",
       "\t<tr><th></th><th scope=col>Departamento</th><th scope=col>p</th></tr>\n",
       "\t<tr><th></th><th scope=col>&lt;fct&gt;</th><th scope=col>&lt;dbl&gt;</th></tr>\n",
       "</thead>\n",
       "<tbody>\n",
       "\t<tr><th scope=row>6</th><td>BOGOTA      </td><td>708</td></tr>\n",
       "\t<tr><th scope=row>3</th><td>ANTIOQUIA   </td><td>291</td></tr>\n",
       "\t<tr><th scope=row>33</th><td>VALLE       </td><td>188</td></tr>\n",
       "\t<tr><th scope=row>5</th><td>ATLANTICO   </td><td>138</td></tr>\n",
       "\t<tr><th scope=row>16</th><td>CUNDINAMARCA</td><td>132</td></tr>\n",
       "\t<tr><th scope=row>30</th><td>SANTANDER   </td><td>122</td></tr>\n",
       "</tbody>\n",
       "</table>\n"
      ],
      "text/latex": [
       "A data.frame: 6 × 2\n",
       "\\begin{tabular}{r|ll}\n",
       "  & Departamento & p\\\\\n",
       "  & <fct> & <dbl>\\\\\n",
       "\\hline\n",
       "\t6 & BOGOTA       & 708\\\\\n",
       "\t3 & ANTIOQUIA    & 291\\\\\n",
       "\t33 & VALLE        & 188\\\\\n",
       "\t5 & ATLANTICO    & 138\\\\\n",
       "\t16 & CUNDINAMARCA & 132\\\\\n",
       "\t30 & SANTANDER    & 122\\\\\n",
       "\\end{tabular}\n"
      ],
      "text/markdown": [
       "\n",
       "A data.frame: 6 × 2\n",
       "\n",
       "| <!--/--> | Departamento &lt;fct&gt; | p &lt;dbl&gt; |\n",
       "|---|---|---|\n",
       "| 6 | BOGOTA       | 708 |\n",
       "| 3 | ANTIOQUIA    | 291 |\n",
       "| 33 | VALLE        | 188 |\n",
       "| 5 | ATLANTICO    | 138 |\n",
       "| 16 | CUNDINAMARCA | 132 |\n",
       "| 30 | SANTANDER    | 122 |\n",
       "\n"
      ],
      "text/plain": [
       "   Departamento p  \n",
       "6  BOGOTA       708\n",
       "3  ANTIOQUIA    291\n",
       "33 VALLE        188\n",
       "5  ATLANTICO    138\n",
       "16 CUNDINAMARCA 132\n",
       "30 SANTANDER    122"
      ]
     },
     "metadata": {},
     "output_type": "display_data"
    }
   ],
   "source": [
    "nsCProp100<-nstrata(n=2433,wh=Conglomerados[,4],method=\"proportional\")\n",
    "PC = data.frame(Departamento=Conglomerados$D,nsCProp100)\n",
    "head(PC[order(PC$p, decreasing = TRUE),],6)"
   ]
  },
  {
   "cell_type": "code",
   "execution_count": 26,
   "metadata": {},
   "outputs": [
    {
     "data": {
      "text/html": [
       "<table>\n",
       "<caption>A data.frame: 6 × 9</caption>\n",
       "<thead>\n",
       "\t<tr><th></th><th scope=col>C</th><th scope=col>T</th><th scope=col>RC</th><th scope=col>LC</th><th scope=col>CC</th><th scope=col>I</th><th scope=col>CE</th><th scope=col>P</th><th scope=col>D</th></tr>\n",
       "\t<tr><th></th><th scope=col>&lt;dbl&gt;</th><th scope=col>&lt;dbl&gt;</th><th scope=col>&lt;int&gt;</th><th scope=col>&lt;int&gt;</th><th scope=col>&lt;int&gt;</th><th scope=col>&lt;int&gt;</th><th scope=col>&lt;dbl&gt;</th><th scope=col>&lt;int&gt;</th><th scope=col>&lt;fct&gt;</th></tr>\n",
       "</thead>\n",
       "<tbody>\n",
       "\t<tr><th scope=row>294</th><td>15</td><td>187.4</td><td>192</td><td>195</td><td>193</td><td>190</td><td>167</td><td>20163</td><td>BOYACA  </td></tr>\n",
       "\t<tr><th scope=row>3060</th><td>95</td><td> 93.2</td><td>102</td><td> 92</td><td>104</td><td>112</td><td> 56</td><td>20163</td><td>GUAVIARE</td></tr>\n",
       "\t<tr><th scope=row>9967</th><td>11</td><td>158.0</td><td>144</td><td>170</td><td>188</td><td>130</td><td>158</td><td>20163</td><td>BOGOTA  </td></tr>\n",
       "\t<tr><th scope=row>16139</th><td>19</td><td>112.4</td><td> 79</td><td>127</td><td> 94</td><td>104</td><td>158</td><td>20163</td><td>CAUCA   </td></tr>\n",
       "\t<tr><th scope=row>14825</th><td>23</td><td>190.0</td><td>214</td><td>171</td><td>171</td><td>196</td><td>198</td><td>20163</td><td>CORDOBA </td></tr>\n",
       "\t<tr><th scope=row>16375</th><td>52</td><td>159.4</td><td>170</td><td>161</td><td>168</td><td>172</td><td>126</td><td>20163</td><td>NARIÑO  </td></tr>\n",
       "</tbody>\n",
       "</table>\n"
      ],
      "text/latex": [
       "A data.frame: 6 × 9\n",
       "\\begin{tabular}{r|lllllllll}\n",
       "  & C & T & RC & LC & CC & I & CE & P & D\\\\\n",
       "  & <dbl> & <dbl> & <int> & <int> & <int> & <int> & <dbl> & <int> & <fct>\\\\\n",
       "\\hline\n",
       "\t294 & 15 & 187.4 & 192 & 195 & 193 & 190 & 167 & 20163 & BOYACA  \\\\\n",
       "\t3060 & 95 &  93.2 & 102 &  92 & 104 & 112 &  56 & 20163 & GUAVIARE\\\\\n",
       "\t9967 & 11 & 158.0 & 144 & 170 & 188 & 130 & 158 & 20163 & BOGOTA  \\\\\n",
       "\t16139 & 19 & 112.4 &  79 & 127 &  94 & 104 & 158 & 20163 & CAUCA   \\\\\n",
       "\t14825 & 23 & 190.0 & 214 & 171 & 171 & 196 & 198 & 20163 & CORDOBA \\\\\n",
       "\t16375 & 52 & 159.4 & 170 & 161 & 168 & 172 & 126 & 20163 & NARIÑO  \\\\\n",
       "\\end{tabular}\n"
      ],
      "text/markdown": [
       "\n",
       "A data.frame: 6 × 9\n",
       "\n",
       "| <!--/--> | C &lt;dbl&gt; | T &lt;dbl&gt; | RC &lt;int&gt; | LC &lt;int&gt; | CC &lt;int&gt; | I &lt;int&gt; | CE &lt;dbl&gt; | P &lt;int&gt; | D &lt;fct&gt; |\n",
       "|---|---|---|---|---|---|---|---|---|---|\n",
       "| 294 | 15 | 187.4 | 192 | 195 | 193 | 190 | 167 | 20163 | BOYACA   |\n",
       "| 3060 | 95 |  93.2 | 102 |  92 | 104 | 112 |  56 | 20163 | GUAVIARE |\n",
       "| 9967 | 11 | 158.0 | 144 | 170 | 188 | 130 | 158 | 20163 | BOGOTA   |\n",
       "| 16139 | 19 | 112.4 |  79 | 127 |  94 | 104 | 158 | 20163 | CAUCA    |\n",
       "| 14825 | 23 | 190.0 | 214 | 171 | 171 | 196 | 198 | 20163 | CORDOBA  |\n",
       "| 16375 | 52 | 159.4 | 170 | 161 | 168 | 172 | 126 | 20163 | NARIÑO   |\n",
       "\n"
      ],
      "text/plain": [
       "      C  T     RC  LC  CC  I   CE  P     D       \n",
       "294   15 187.4 192 195 193 190 167 20163 BOYACA  \n",
       "3060  95  93.2 102  92 104 112  56 20163 GUAVIARE\n",
       "9967  11 158.0 144 170 188 130 158 20163 BOGOTA  \n",
       "16139 19 112.4  79 127  94 104 158 20163 CAUCA   \n",
       "14825 23 190.0 214 171 171 196 198 20163 CORDOBA \n",
       "16375 52 159.4 170 161 168 172 126 20163 NARIÑO  "
      ]
     },
     "metadata": {},
     "output_type": "display_data"
    }
   ],
   "source": [
    "#la muestra real es de 1028 al reducice la cantidad de departamentos a los más relevantes\n",
    "mBOGOTA<- sample(1:nrow(PT[Conglomerados$D==\"BOGOTA\",]),708)\n",
    "mANTIOQUIA<- sample(1:nrow(PT[Conglomerados$D==\"ANTIOQUIA\",]),291)\n",
    "mVALLE<- sample(1:nrow(PT[Conglomerados$D==\"VALLE\",]),188)\n",
    "mATLANTICO<- sample(1:nrow(PT[Conglomerados$D==\"ATLANTICO\",]),138)\n",
    "mCUNDINAMARCA<- sample(1:nrow(PT[Conglomerados$D==\"CUNDINAMARCA\",]),132)\n",
    "mSANTANDER<- sample(1:nrow(PT[Conglomerados$D==\"SANTANDER\",]),124)\n",
    "\n",
    "mCong100<-c(mBOGOTA,mANTIOQUIA,mVALLE,mATLANTICO,mCUNDINAMARCA,\n",
    "            mSANTANDER)\n",
    "head(PT[mCong100,],)\n"
   ]
  },
  {
   "cell_type": "code",
   "execution_count": 27,
   "metadata": {},
   "outputs": [
    {
     "data": {
      "image/png": "[encoded data removed]",
      "text/plain": [
       "Plot with title \"Total por Departamentos\""
      ]
     },
     "metadata": {
      "image/png": {
       "height": 420,
       "width": 420
      },
      "text/plain": {
       "height": 420,
       "width": 420
      }
     },
     "output_type": "display_data"
    },
    {
     "data": {
      "image/png": "[encoded data removed]",
      "text/plain": [
       "Plot with title \"Puntaje Total\""
      ]
     },
     "metadata": {
      "image/png": {
       "height": 420,
       "width": 420
      },
      "text/plain": {
       "height": 420,
       "width": 420
      }
     },
     "output_type": "display_data"
    },
    {
     "data": {
      "image/png": "[encoded data removed]",
      "text/plain": [
       "Plot with title \"Puntaje Total\""
      ]
     },
     "metadata": {
      "image/png": {
       "height": 420,
       "width": 420
      },
      "text/plain": {
       "height": 420,
       "width": 420
      }
     },
     "output_type": "display_data"
    },
    {
     "data": {
      "image/png": "[encoded data removed]",
      "text/plain": [
       "Plot with title \"Puntaje Total\""
      ]
     },
     "metadata": {
      "image/png": {
       "height": 420,
       "width": 420
      },
      "text/plain": {
       "height": 420,
       "width": 420
      }
     },
     "output_type": "display_data"
    }
   ],
   "source": [
    "par(mfrow=c(1,1))\n",
    "with(PT[mCong100,], boxplot(PT[mBOGOTA,]$T,\n",
    "                          PT[mANTIOQUIA,]$T,\n",
    "                          PT[mVALLE,]$T,\n",
    "                          PT[mATLANTICO,]$T,\n",
    "                          PT[mCUNDINAMARCA,]$T,\n",
    "                          PT[mSANTANDER,]$T,\n",
    "                          main = 'Total por Departamentos',\n",
    "                          xlab='Bogotá Antioquia Valle Atlantico Cundinamarca Santander'))\n",
    "\n",
    "with(PT[mCong100,], plot(T, pch = 20, main = 'Puntaje Total'))\n",
    "\n",
    "par(mfrow=c(2,2))\n",
    "with(PT[mCong100,], hist(PT[mBOGOTA,]$T, main = 'Puntaje Total',xlab=\"BOGOTA\"))\n",
    "with(PT[mCong100,], hist(PT[mANTIOQUIA,]$T, main = 'Puntaje Total',xlab=\"ANTIOQUIA\"))\n",
    "with(PT[mCong100,], hist(PT[mVALLE,]$T, main = 'Puntaje Total',xlab=\"VALLE\"))\n",
    "with(PT[mCong100,], hist(PT[mATLANTICO,]$T, main = 'Puntaje Total',xlab=\"ATLANTICO\"))\n",
    "with(PT[mCong100,], hist(PT[mCUNDINAMARCA,]$T, main = 'Puntaje Total',xlab=\"CUNDINAMARCA\"))\n",
    "with(PT[mCong100,], hist(PT[mSANTANDER,]$T, main = 'Puntaje Total',xlab=\"SANTANDER\"))"
   ]
  },
  {
   "cell_type": "markdown",
   "metadata": {},
   "source": [
    "### Inferencia"
   ]
  },
  {
   "cell_type": "markdown",
   "metadata": {},
   "source": [
    "algo"
   ]
  },
  {
   "cell_type": "markdown",
   "metadata": {},
   "source": [
    "<h1>4- Muestreo Sistematico</h1>"
   ]
  },
  {
   "cell_type": "markdown",
   "metadata": {},
   "source": [
    "Algo\n",
    "Justifiquelo con algo esto:\n",
    "los datos están ordenados por periodo entones los primeros datos del data set son del 2016 los de en medio 2017 y 2018 al final\n",
    "la aletoriedad no nos asegura una distribución homogenea una sistematica recorre el data set de a pasos enteros asegurando numeros homogeneos \n",
    "PERO DE FORMA QUE PAREZCA MÁS INTELIGENTE QUE ESO"
   ]
  },
  {
   "cell_type": "code",
   "execution_count": 28,
   "metadata": {},
   "outputs": [
    {
     "data": {
      "text/html": [
       "<style>\n",
       ".list-inline {list-style: none; margin:0; padding: 0}\n",
       ".list-inline>li {display: inline-block}\n",
       ".list-inline>li:not(:last-child)::after {content: \"\\00b7\"; padding: 0 .5ex}\n",
       "</style>\n",
       "<ol class=list-inline><li>237</li><li>695</li><li>1153</li><li>1611</li><li>2069</li><li>2527</li></ol>\n"
      ],
      "text/latex": [
       "\\begin{enumerate*}\n",
       "\\item 237\n",
       "\\item 695\n",
       "\\item 1153\n",
       "\\item 1611\n",
       "\\item 2069\n",
       "\\item 2527\n",
       "\\end{enumerate*}\n"
      ],
      "text/markdown": [
       "1. 237\n",
       "2. 695\n",
       "3. 1153\n",
       "4. 1611\n",
       "5. 2069\n",
       "6. 2527\n",
       "\n",
       "\n"
      ],
      "text/plain": [
       "[1]  237  695 1153 1611 2069 2527"
      ]
     },
     "metadata": {},
     "output_type": "display_data"
    }
   ],
   "source": [
    "msys1581<- sys.sample(N=nrow(PT),n=1581)\n",
    "head(msys1581)"
   ]
  },
  {
   "cell_type": "code",
   "execution_count": 29,
   "metadata": {},
   "outputs": [
    {
     "data": {
      "text/html": [
       "<table>\n",
       "<caption>A data.frame: 6 × 9</caption>\n",
       "<thead>\n",
       "\t<tr><th></th><th scope=col>C</th><th scope=col>T</th><th scope=col>RC</th><th scope=col>LC</th><th scope=col>CC</th><th scope=col>I</th><th scope=col>CE</th><th scope=col>P</th><th scope=col>D</th></tr>\n",
       "\t<tr><th></th><th scope=col>&lt;dbl&gt;</th><th scope=col>&lt;dbl&gt;</th><th scope=col>&lt;int&gt;</th><th scope=col>&lt;int&gt;</th><th scope=col>&lt;int&gt;</th><th scope=col>&lt;int&gt;</th><th scope=col>&lt;dbl&gt;</th><th scope=col>&lt;int&gt;</th><th scope=col>&lt;fct&gt;</th></tr>\n",
       "</thead>\n",
       "<tbody>\n",
       "\t<tr><th scope=row>237</th><td>44</td><td>111.6</td><td> 87</td><td> 85</td><td>107</td><td>118</td><td>161</td><td>20163</td><td>LA GUAJIRA     </td></tr>\n",
       "\t<tr><th scope=row>695</th><td>76</td><td>149.2</td><td>139</td><td>157</td><td>167</td><td>142</td><td>141</td><td>20163</td><td>VALLE          </td></tr>\n",
       "\t<tr><th scope=row>1153</th><td>66</td><td>144.4</td><td>159</td><td>154</td><td>162</td><td>119</td><td>128</td><td>20163</td><td>RISARALDA      </td></tr>\n",
       "\t<tr><th scope=row>1611</th><td>54</td><td>144.4</td><td>154</td><td>127</td><td>135</td><td>149</td><td>157</td><td>20163</td><td>NORTE SANTANDER</td></tr>\n",
       "\t<tr><th scope=row>2069</th><td>11</td><td>221.6</td><td>211</td><td>228</td><td>300</td><td>222</td><td>147</td><td>20163</td><td>BOGOTA         </td></tr>\n",
       "\t<tr><th scope=row>2527</th><td>15</td><td>139.8</td><td>143</td><td>136</td><td>138</td><td>120</td><td>162</td><td>20163</td><td>BOYACA         </td></tr>\n",
       "</tbody>\n",
       "</table>\n"
      ],
      "text/latex": [
       "A data.frame: 6 × 9\n",
       "\\begin{tabular}{r|lllllllll}\n",
       "  & C & T & RC & LC & CC & I & CE & P & D\\\\\n",
       "  & <dbl> & <dbl> & <int> & <int> & <int> & <int> & <dbl> & <int> & <fct>\\\\\n",
       "\\hline\n",
       "\t237 & 44 & 111.6 &  87 &  85 & 107 & 118 & 161 & 20163 & LA GUAJIRA     \\\\\n",
       "\t695 & 76 & 149.2 & 139 & 157 & 167 & 142 & 141 & 20163 & VALLE          \\\\\n",
       "\t1153 & 66 & 144.4 & 159 & 154 & 162 & 119 & 128 & 20163 & RISARALDA      \\\\\n",
       "\t1611 & 54 & 144.4 & 154 & 127 & 135 & 149 & 157 & 20163 & NORTE SANTANDER\\\\\n",
       "\t2069 & 11 & 221.6 & 211 & 228 & 300 & 222 & 147 & 20163 & BOGOTA         \\\\\n",
       "\t2527 & 15 & 139.8 & 143 & 136 & 138 & 120 & 162 & 20163 & BOYACA         \\\\\n",
       "\\end{tabular}\n"
      ],
      "text/markdown": [
       "\n",
       "A data.frame: 6 × 9\n",
       "\n",
       "| <!--/--> | C &lt;dbl&gt; | T &lt;dbl&gt; | RC &lt;int&gt; | LC &lt;int&gt; | CC &lt;int&gt; | I &lt;int&gt; | CE &lt;dbl&gt; | P &lt;int&gt; | D &lt;fct&gt; |\n",
       "|---|---|---|---|---|---|---|---|---|---|\n",
       "| 237 | 44 | 111.6 |  87 |  85 | 107 | 118 | 161 | 20163 | LA GUAJIRA      |\n",
       "| 695 | 76 | 149.2 | 139 | 157 | 167 | 142 | 141 | 20163 | VALLE           |\n",
       "| 1153 | 66 | 144.4 | 159 | 154 | 162 | 119 | 128 | 20163 | RISARALDA       |\n",
       "| 1611 | 54 | 144.4 | 154 | 127 | 135 | 149 | 157 | 20163 | NORTE SANTANDER |\n",
       "| 2069 | 11 | 221.6 | 211 | 228 | 300 | 222 | 147 | 20163 | BOGOTA          |\n",
       "| 2527 | 15 | 139.8 | 143 | 136 | 138 | 120 | 162 | 20163 | BOYACA          |\n",
       "\n"
      ],
      "text/plain": [
       "     C  T     RC  LC  CC  I   CE  P     D              \n",
       "237  44 111.6  87  85 107 118 161 20163 LA GUAJIRA     \n",
       "695  76 149.2 139 157 167 142 141 20163 VALLE          \n",
       "1153 66 144.4 159 154 162 119 128 20163 RISARALDA      \n",
       "1611 54 144.4 154 127 135 149 157 20163 NORTE SANTANDER\n",
       "2069 11 221.6 211 228 300 222 147 20163 BOGOTA         \n",
       "2527 15 139.8 143 136 138 120 162 20163 BOYACA         "
      ]
     },
     "metadata": {},
     "output_type": "display_data"
    },
    {
     "data": {
      "text/html": [
       "<style>\n",
       ".list-inline {list-style: none; margin:0; padding: 0}\n",
       ".list-inline>li {display: inline-block}\n",
       ".list-inline>li:not(:last-child)::after {content: \"\\00b7\"; padding: 0 .5ex}\n",
       "</style>\n",
       "<ol class=list-inline><li>1581</li><li>9</li></ol>\n"
      ],
      "text/latex": [
       "\\begin{enumerate*}\n",
       "\\item 1581\n",
       "\\item 9\n",
       "\\end{enumerate*}\n"
      ],
      "text/markdown": [
       "1. 1581\n",
       "2. 9\n",
       "\n",
       "\n"
      ],
      "text/plain": [
       "[1] 1581    9"
      ]
     },
     "metadata": {},
     "output_type": "display_data"
    }
   ],
   "source": [
    "msys1581<- PT[msys1581, ]\n",
    "head(msys1581)\n",
    "dim(msys1581)"
   ]
  },
  {
   "cell_type": "code",
   "execution_count": 30,
   "metadata": {},
   "outputs": [
    {
     "data": {
      "image/png": "[encoded data removed]",
      "text/plain": [
       "Plot with title \"Lectura Crítica\""
      ]
     },
     "metadata": {
      "image/png": {
       "height": 420,
       "width": 420
      },
      "text/plain": {
       "height": 420,
       "width": 420
      }
     },
     "output_type": "display_data"
    },
    {
     "data": {
      "image/png": "[encoded data removed]",
      "text/plain": [
       "Plot with title \"Lectura Crítica\""
      ]
     },
     "metadata": {
      "image/png": {
       "height": 420,
       "width": 420
      },
      "text/plain": {
       "height": 420,
       "width": 420
      }
     },
     "output_type": "display_data"
    },
    {
     "data": {
      "image/png": "[encoded data removed]",
      "text/plain": [
       "Plot with title \"Lectura Crítica\""
      ]
     },
     "metadata": {
      "image/png": {
       "height": 420,
       "width": 420
      },
      "text/plain": {
       "height": 420,
       "width": 420
      }
     },
     "output_type": "display_data"
    }
   ],
   "source": [
    "par(mfrow=c(2,2))\n",
    "\n",
    "with(msys1581, plot(T, pch = 20, main = 'Puntaje Global / 5'))\n",
    "with(msys1581, plot(RC, pch = 20, main = 'Razonamiento Cuantitativo'))\n",
    "with(msys1581, plot(I, pch = 20, main = 'Inglés'))\n",
    "with(msys1581, plot(LC, pch = 20, main = 'Lectura Crítica'))\n",
    "\n",
    "with(msys1581, boxplot(T, main = 'Puntaje Global / 5'))\n",
    "with(msys1581, boxplot(RC, main = 'Razonamiento Cuantitativo'))\n",
    "with(msys1581, boxplot(I, main = 'Inglés'))\n",
    "with(msys1581, boxplot(LC, main = 'Lectura Crítica'))\n",
    "\n",
    "with(msys1581, hist(T, nclass = 50, main = 'Puntaje Global / 5'))\n",
    "with(msys1581, hist(RC, nclass = 50, main = 'Razonamiento Cuantitativo'))\n",
    "with(msys1581, hist(I, nclass = 50, main = 'Inglés'))\n",
    "with(msys1581, hist(LC, nclass = 50, main = 'Lectura Crítica'))\n",
    "par(mfrow=c(1,1))"
   ]
  },
  {
   "cell_type": "markdown",
   "metadata": {},
   "source": [
    "### Inferencia"
   ]
  },
  {
   "cell_type": "markdown",
   "metadata": {},
   "source": [
    "Algo pero aquí las conclusiones"
   ]
  },
  {
   "cell_type": "markdown",
   "metadata": {},
   "source": [
    "<h1>5- Estimaciones</h1>"
   ]
  },
  {
   "cell_type": "markdown",
   "metadata": {},
   "source": [
    "estimaciones emplee los siguientes niveles de confianza: 90%, 95% y 99%.\n",
    "\n",
    "Pero eso será en otro episodio \n"
   ]
  },
  {
   "cell_type": "code",
   "execution_count": null,
   "metadata": {},
   "outputs": [],
   "source": []
  }
 ],
 "metadata": {
  "kernelspec": {
   "display_name": "R",
   "language": "R",
   "name": "ir"
  },
  "language_info": {
   "codemirror_mode": "r",
   "file_extension": ".r",
   "mimetype": "text/x-r-source",
   "name": "R",
   "pygments_lexer": "r",
   "version": "4.0.1"
  }
 },
 "nbformat": 4,
 "nbformat_minor": 4
}
