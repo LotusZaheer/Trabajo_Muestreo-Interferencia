{
 "cells": [
  {
   "cell_type": "markdown",
   "metadata": {
    "colab_type": "text",
    "id": "2vmMivf1yeOV"
   },
   "source": [
    "<h1>Taller en casa</h1>\n",
    "<!----Hey hey!!!---->"
   ]
  },
  {
   "cell_type": "markdown",
   "metadata": {
    "colab_type": "text",
    "id": "PmdpwQQXyeOW"
   },
   "source": [
    "<h2>Asignatura: Estadistica 2</h2>\n",
    "\n",
    "<h3>Profesor: Carlos Alfonso Mantilla Duarte\n",
    "<br>\n",
    "Grupo: F1</h3>\n",
    "\n",
    "<h4>Andrés Felipe Uribe García - 2160793\n",
    "<br>Julián Orlando Rodríguez Villamizar - 2170137\n",
    "<br>Isabel Cristina Gómez Balvin - 2171895 </h4>"
   ]
  },
  {
   "cell_type": "markdown",
   "metadata": {
    "colab_type": "text",
    "id": "GWyNQ0vMyeOX"
   },
   "source": [
    "<br>El estudiante debe descargar el archivo del siguiente enlace y realizar el respectivo análisis haciendo uso de los modelos lineales: https://www.dropbox.com/s/vv0f1k2y5nalpgx/bank-additional-full.csv?dl=0\n",
    "<br>\n",
    "<br>Los datos están relacionados con las campañas de marketing directo de una institución bancaria portuguesa. Las campañas de marketing se basaron en llamadas telefónicas. A menudo, se requería más de un contacto con el mismo cliente, para poder acceder si el producto (depósito bancario) estaba (\"sí\") o no (\"no\") suscrito.\n",
    "<br>\n",
    "<br>Las variables registradas son las siguientes:\n",
    "<br>\n",
    "<br>age - edad\n",
    "<br>job- tipo de trabajo\n",
    "<br>marital - estado civil\n",
    "<br>education - nivel educativo\n",
    "<br>default - crédito en incumplimiento\n",
    "<br>housing - crédito de vivienda\n",
    "<br>loan - préstamos personal\n",
    "<br>contact - tipo de contacto realizado\n",
    "<br>month - mes en que se hizo el último contacto\n",
    "<br>day_of_week - último día de contacto de la semana\n",
    "<br>duration - duración del último contacto, en segundos\n",
    "<br>campaign - número de contactos realizados durante esta campaña y para este cliente\n",
    "<br>pdays - número de días que pasaron después de que el cliente fue contactado por última vez desde una campaña anterior (999 significa que el cliente no fue contactado previamente)\n",
    "<br>previous- número de contactos realizados antes de esta campaña y para este cliente\n",
    "<br>poutcome - resultado de la campaña de marketing anterior\n",
    "<br>emp.var.rate- tasa de variación del empleo - indicador trimestral\n",
    "<br>cons.price.idx - índice de precios al consumidor - indicador mensual\n",
    "<br>cons.conf.idx - índice de confianza del consumidor - indicador mensual\n",
    "<br>euribor3m - euribor tasa de 3 meses - indicador diario\n",
    "<br>nr.employed - número de empleados\n",
    "<br>y - ¿el cliente ha suscrito un depósito a plazo?\n",
    "<br>\n",
    "<br>Los datos fueron tomados de: S. Moro, R. Laureano and P. Cortez. Using Data Mining for Bank Direct Marketing: An Application of the CRISP-DM Methodology. In P. Novais et al. (Eds.), Proceedings of the European Simulation and Modelling Conference - ESM'2011, pp. 117-121, Guimarães, Portugal, October, 2011. EUROSIS\n",
    "</pr>"
   ]
  },
  {
   "cell_type": "markdown",
   "metadata": {},
   "source": [
    "## Las librerias necesarias"
   ]
  },
  {
   "cell_type": "code",
   "execution_count": 1,
   "metadata": {
    "colab": {
     "base_uri": "https://localhost:8080/",
     "height": 742
    },
    "colab_type": "code",
    "executionInfo": {
     "elapsed": 63929,
     "status": "error",
     "timestamp": 1595973735482,
     "user": {
      "displayName": "Andrés Uribe",
      "photoUrl": "https://lh3.googleusercontent.com/a-/AOh14GjVyH4dZ30kz6_2ASDAUbVSCiJYjr8UR6BvauDVCw=s64",
      "userId": "02831616223172414948"
     },
     "user_tz": 300
    },
    "id": "8Zen2y9MyeOX",
    "outputId": "a37758cb-295a-4835-ae21-bc8b349d509c"
   },
   "outputs": [
    {
     "name": "stderr",
     "output_type": "stream",
     "text": [
      "Warning message:\n",
      "\"package 'samplingbook' was built under R version 4.0.2\"\n",
      "Loading required package: pps\n",
      "\n",
      "Loading required package: sampling\n",
      "\n",
      "Loading required package: survey\n",
      "\n",
      "Loading required package: grid\n",
      "\n",
      "Loading required package: Matrix\n",
      "\n",
      "Loading required package: survival\n",
      "\n",
      "\n",
      "Attaching package: 'survival'\n",
      "\n",
      "\n",
      "The following objects are masked from 'package:sampling':\n",
      "\n",
      "    cluster, strata\n",
      "\n",
      "\n",
      "\n",
      "Attaching package: 'survey'\n",
      "\n",
      "\n",
      "The following object is masked from 'package:graphics':\n",
      "\n",
      "    dotchart\n",
      "\n",
      "\n",
      "\n",
      "Attaching package: 'dplyr'\n",
      "\n",
      "\n",
      "The following objects are masked from 'package:stats':\n",
      "\n",
      "    filter, lag\n",
      "\n",
      "\n",
      "The following objects are masked from 'package:base':\n",
      "\n",
      "    intersect, setdiff, setequal, union\n",
      "\n",
      "\n",
      "Warning message:\n",
      "\"package 'bbmle' was built under R version 4.0.2\"\n",
      "Loading required package: stats4\n",
      "\n",
      "\n",
      "Attaching package: 'bbmle'\n",
      "\n",
      "\n",
      "The following object is masked from 'package:dplyr':\n",
      "\n",
      "    slice\n",
      "\n",
      "\n",
      "Warning message:\n",
      "\"package 'corrplot' was built under R version 4.0.2\"\n",
      "corrplot 0.84 loaded\n",
      "\n"
     ]
    }
   ],
   "source": [
    "library(samplingbook)\n",
    "library('SamplingUtil')\n",
    "library(dplyr)\n",
    "library(magrittr)\n",
    "library(bbmle)\n",
    "library(stats4)\n",
    "library(rafalib)\n",
    "library(\"readr\")\n",
    "library(corrplot)\n",
    "library(\"ggplot2\")#para graficar \n",
    "library(\"dplyr\")#usar select"
   ]
  },
  {
   "cell_type": "code",
   "execution_count": 2,
   "metadata": {
    "colab": {},
    "colab_type": "code",
    "executionInfo": {
     "elapsed": 63946,
     "status": "aborted",
     "timestamp": 1595973735508,
     "user": {
      "displayName": "Andrés Uribe",
      "photoUrl": "https://lh3.googleusercontent.com/a-/AOh14GjVyH4dZ30kz6_2ASDAUbVSCiJYjr8UR6BvauDVCw=s64",
      "userId": "02831616223172414948"
     },
     "user_tz": 300
    },
    "id": "D_mlG_e5yeOb"
   },
   "outputs": [],
   "source": [
    "dataset <- read.csv(\"bank-additional-full.csv\", header=TRUE,sep=\";\" )"
   ]
  },
  {
   "cell_type": "markdown",
   "metadata": {},
   "source": [
    "## Importación del dataset"
   ]
  },
  {
   "cell_type": "code",
   "execution_count": 3,
   "metadata": {},
   "outputs": [],
   "source": [
    "#Rellenamos los espacios faltantes con su media correspondiente\n",
    "#pues de omitirlos podriamos perder informacion importante\n",
    "R<-data.frame(#Variables continuas\n",
    "                Edad=dataset$age,\n",
    "                Dur=dataset$duration,\n",
    "                NDias=dataset$pdays,\n",
    "                Camp=dataset$campaign,\n",
    "                TVE=dataset$emp.var.rate,\n",
    "                IPC=dataset$cons.price.idx,\n",
    "                ICC=dataset$cons.conf.idx,\n",
    "                Eu=dataset$euribor3m,\n",
    "                NE=dataset$nr.employed,\n",
    "                \n",
    "    \n",
    "              #Variables No Continuas\n",
    "                Trab=dataset$job,\n",
    "                EstCv=dataset$marital,\n",
    "                NvEduc=dataset$education,\n",
    "                CredInc=dataset$default,\n",
    "                CredViv=dataset$housing,\n",
    "                CredPer=dataset$loan,\n",
    "                Cont=dataset$contact,\n",
    "                Mes=dataset$month,\n",
    "                Dia=dataset$day_of_week,\n",
    "                NPrev=dataset$previous,\n",
    "                RPrev=dataset$poutcome,\n",
    "                Sus=dataset$y)\n"
   ]
  },
  {
   "cell_type": "code",
   "execution_count": 4,
   "metadata": {},
   "outputs": [
    {
     "data": {
      "text/html": [
       "<table>\n",
       "<caption>A data.frame: 6 × 21</caption>\n",
       "<thead>\n",
       "\t<tr><th></th><th scope=col>Edad</th><th scope=col>Dur</th><th scope=col>NDias</th><th scope=col>Camp</th><th scope=col>TVE</th><th scope=col>IPC</th><th scope=col>ICC</th><th scope=col>Eu</th><th scope=col>NE</th><th scope=col>Trab</th><th scope=col>...</th><th scope=col>NvEduc</th><th scope=col>CredInc</th><th scope=col>CredViv</th><th scope=col>CredPer</th><th scope=col>Cont</th><th scope=col>Mes</th><th scope=col>Dia</th><th scope=col>NPrev</th><th scope=col>RPrev</th><th scope=col>Sus</th></tr>\n",
       "\t<tr><th></th><th scope=col>&lt;int&gt;</th><th scope=col>&lt;int&gt;</th><th scope=col>&lt;int&gt;</th><th scope=col>&lt;int&gt;</th><th scope=col>&lt;dbl&gt;</th><th scope=col>&lt;dbl&gt;</th><th scope=col>&lt;dbl&gt;</th><th scope=col>&lt;dbl&gt;</th><th scope=col>&lt;dbl&gt;</th><th scope=col>&lt;chr&gt;</th><th scope=col>...</th><th scope=col>&lt;chr&gt;</th><th scope=col>&lt;chr&gt;</th><th scope=col>&lt;chr&gt;</th><th scope=col>&lt;chr&gt;</th><th scope=col>&lt;chr&gt;</th><th scope=col>&lt;chr&gt;</th><th scope=col>&lt;chr&gt;</th><th scope=col>&lt;int&gt;</th><th scope=col>&lt;chr&gt;</th><th scope=col>&lt;chr&gt;</th></tr>\n",
       "</thead>\n",
       "<tbody>\n",
       "\t<tr><th scope=row>1</th><td>56</td><td>261</td><td>999</td><td>1</td><td>1.1</td><td>93.994</td><td>-36.4</td><td>4.857</td><td>5191</td><td>housemaid</td><td>...</td><td>basic.4y   </td><td>no     </td><td>no </td><td>no </td><td>telephone</td><td>may</td><td>mon</td><td>0</td><td>nonexistent</td><td>no</td></tr>\n",
       "\t<tr><th scope=row>2</th><td>57</td><td>149</td><td>999</td><td>1</td><td>1.1</td><td>93.994</td><td>-36.4</td><td>4.857</td><td>5191</td><td>services </td><td>...</td><td>high.school</td><td>unknown</td><td>no </td><td>no </td><td>telephone</td><td>may</td><td>mon</td><td>0</td><td>nonexistent</td><td>no</td></tr>\n",
       "\t<tr><th scope=row>3</th><td>37</td><td>226</td><td>999</td><td>1</td><td>1.1</td><td>93.994</td><td>-36.4</td><td>4.857</td><td>5191</td><td>services </td><td>...</td><td>high.school</td><td>no     </td><td>yes</td><td>no </td><td>telephone</td><td>may</td><td>mon</td><td>0</td><td>nonexistent</td><td>no</td></tr>\n",
       "\t<tr><th scope=row>4</th><td>40</td><td>151</td><td>999</td><td>1</td><td>1.1</td><td>93.994</td><td>-36.4</td><td>4.857</td><td>5191</td><td>admin.   </td><td>...</td><td>basic.6y   </td><td>no     </td><td>no </td><td>no </td><td>telephone</td><td>may</td><td>mon</td><td>0</td><td>nonexistent</td><td>no</td></tr>\n",
       "\t<tr><th scope=row>5</th><td>56</td><td>307</td><td>999</td><td>1</td><td>1.1</td><td>93.994</td><td>-36.4</td><td>4.857</td><td>5191</td><td>services </td><td>...</td><td>high.school</td><td>no     </td><td>no </td><td>yes</td><td>telephone</td><td>may</td><td>mon</td><td>0</td><td>nonexistent</td><td>no</td></tr>\n",
       "\t<tr><th scope=row>6</th><td>45</td><td>198</td><td>999</td><td>1</td><td>1.1</td><td>93.994</td><td>-36.4</td><td>4.857</td><td>5191</td><td>services </td><td>...</td><td>basic.9y   </td><td>unknown</td><td>no </td><td>no </td><td>telephone</td><td>may</td><td>mon</td><td>0</td><td>nonexistent</td><td>no</td></tr>\n",
       "</tbody>\n",
       "</table>\n"
      ],
      "text/latex": [
       "A data.frame: 6 × 21\n",
       "\\begin{tabular}{r|lllllllllllllllllllll}\n",
       "  & Edad & Dur & NDias & Camp & TVE & IPC & ICC & Eu & NE & Trab & ... & NvEduc & CredInc & CredViv & CredPer & Cont & Mes & Dia & NPrev & RPrev & Sus\\\\\n",
       "  & <int> & <int> & <int> & <int> & <dbl> & <dbl> & <dbl> & <dbl> & <dbl> & <chr> & ... & <chr> & <chr> & <chr> & <chr> & <chr> & <chr> & <chr> & <int> & <chr> & <chr>\\\\\n",
       "\\hline\n",
       "\t1 & 56 & 261 & 999 & 1 & 1.1 & 93.994 & -36.4 & 4.857 & 5191 & housemaid & ... & basic.4y    & no      & no  & no  & telephone & may & mon & 0 & nonexistent & no\\\\\n",
       "\t2 & 57 & 149 & 999 & 1 & 1.1 & 93.994 & -36.4 & 4.857 & 5191 & services  & ... & high.school & unknown & no  & no  & telephone & may & mon & 0 & nonexistent & no\\\\\n",
       "\t3 & 37 & 226 & 999 & 1 & 1.1 & 93.994 & -36.4 & 4.857 & 5191 & services  & ... & high.school & no      & yes & no  & telephone & may & mon & 0 & nonexistent & no\\\\\n",
       "\t4 & 40 & 151 & 999 & 1 & 1.1 & 93.994 & -36.4 & 4.857 & 5191 & admin.    & ... & basic.6y    & no      & no  & no  & telephone & may & mon & 0 & nonexistent & no\\\\\n",
       "\t5 & 56 & 307 & 999 & 1 & 1.1 & 93.994 & -36.4 & 4.857 & 5191 & services  & ... & high.school & no      & no  & yes & telephone & may & mon & 0 & nonexistent & no\\\\\n",
       "\t6 & 45 & 198 & 999 & 1 & 1.1 & 93.994 & -36.4 & 4.857 & 5191 & services  & ... & basic.9y    & unknown & no  & no  & telephone & may & mon & 0 & nonexistent & no\\\\\n",
       "\\end{tabular}\n"
      ],
      "text/markdown": [
       "\n",
       "A data.frame: 6 × 21\n",
       "\n",
       "| <!--/--> | Edad &lt;int&gt; | Dur &lt;int&gt; | NDias &lt;int&gt; | Camp &lt;int&gt; | TVE &lt;dbl&gt; | IPC &lt;dbl&gt; | ICC &lt;dbl&gt; | Eu &lt;dbl&gt; | NE &lt;dbl&gt; | Trab &lt;chr&gt; | ... ... | NvEduc &lt;chr&gt; | CredInc &lt;chr&gt; | CredViv &lt;chr&gt; | CredPer &lt;chr&gt; | Cont &lt;chr&gt; | Mes &lt;chr&gt; | Dia &lt;chr&gt; | NPrev &lt;int&gt; | RPrev &lt;chr&gt; | Sus &lt;chr&gt; |\n",
       "|---|---|---|---|---|---|---|---|---|---|---|---|---|---|---|---|---|---|---|---|---|---|\n",
       "| 1 | 56 | 261 | 999 | 1 | 1.1 | 93.994 | -36.4 | 4.857 | 5191 | housemaid | ... | basic.4y    | no      | no  | no  | telephone | may | mon | 0 | nonexistent | no |\n",
       "| 2 | 57 | 149 | 999 | 1 | 1.1 | 93.994 | -36.4 | 4.857 | 5191 | services  | ... | high.school | unknown | no  | no  | telephone | may | mon | 0 | nonexistent | no |\n",
       "| 3 | 37 | 226 | 999 | 1 | 1.1 | 93.994 | -36.4 | 4.857 | 5191 | services  | ... | high.school | no      | yes | no  | telephone | may | mon | 0 | nonexistent | no |\n",
       "| 4 | 40 | 151 | 999 | 1 | 1.1 | 93.994 | -36.4 | 4.857 | 5191 | admin.    | ... | basic.6y    | no      | no  | no  | telephone | may | mon | 0 | nonexistent | no |\n",
       "| 5 | 56 | 307 | 999 | 1 | 1.1 | 93.994 | -36.4 | 4.857 | 5191 | services  | ... | high.school | no      | no  | yes | telephone | may | mon | 0 | nonexistent | no |\n",
       "| 6 | 45 | 198 | 999 | 1 | 1.1 | 93.994 | -36.4 | 4.857 | 5191 | services  | ... | basic.9y    | unknown | no  | no  | telephone | may | mon | 0 | nonexistent | no |\n",
       "\n"
      ],
      "text/plain": [
       "  Edad Dur NDias Camp TVE IPC    ICC   Eu    NE   Trab      ... NvEduc     \n",
       "1 56   261 999   1    1.1 93.994 -36.4 4.857 5191 housemaid ... basic.4y   \n",
       "2 57   149 999   1    1.1 93.994 -36.4 4.857 5191 services  ... high.school\n",
       "3 37   226 999   1    1.1 93.994 -36.4 4.857 5191 services  ... high.school\n",
       "4 40   151 999   1    1.1 93.994 -36.4 4.857 5191 admin.    ... basic.6y   \n",
       "5 56   307 999   1    1.1 93.994 -36.4 4.857 5191 services  ... high.school\n",
       "6 45   198 999   1    1.1 93.994 -36.4 4.857 5191 services  ... basic.9y   \n",
       "  CredInc CredViv CredPer Cont      Mes Dia NPrev RPrev       Sus\n",
       "1 no      no      no      telephone may mon 0     nonexistent no \n",
       "2 unknown no      no      telephone may mon 0     nonexistent no \n",
       "3 no      yes     no      telephone may mon 0     nonexistent no \n",
       "4 no      no      no      telephone may mon 0     nonexistent no \n",
       "5 no      no      yes     telephone may mon 0     nonexistent no \n",
       "6 unknown no      no      telephone may mon 0     nonexistent no "
      ]
     },
     "metadata": {},
     "output_type": "display_data"
    },
    {
     "data": {
      "text/html": [
       "<table>\n",
       "<caption>A data.frame: 6 × 21</caption>\n",
       "<thead>\n",
       "\t<tr><th></th><th scope=col>Edad</th><th scope=col>Dur</th><th scope=col>NDias</th><th scope=col>Camp</th><th scope=col>TVE</th><th scope=col>IPC</th><th scope=col>ICC</th><th scope=col>Eu</th><th scope=col>NE</th><th scope=col>Trab</th><th scope=col>...</th><th scope=col>NvEduc</th><th scope=col>CredInc</th><th scope=col>CredViv</th><th scope=col>CredPer</th><th scope=col>Cont</th><th scope=col>Mes</th><th scope=col>Dia</th><th scope=col>NPrev</th><th scope=col>RPrev</th><th scope=col>Sus</th></tr>\n",
       "\t<tr><th></th><th scope=col>&lt;int&gt;</th><th scope=col>&lt;int&gt;</th><th scope=col>&lt;int&gt;</th><th scope=col>&lt;int&gt;</th><th scope=col>&lt;dbl&gt;</th><th scope=col>&lt;dbl&gt;</th><th scope=col>&lt;dbl&gt;</th><th scope=col>&lt;dbl&gt;</th><th scope=col>&lt;dbl&gt;</th><th scope=col>&lt;chr&gt;</th><th scope=col>...</th><th scope=col>&lt;chr&gt;</th><th scope=col>&lt;chr&gt;</th><th scope=col>&lt;chr&gt;</th><th scope=col>&lt;chr&gt;</th><th scope=col>&lt;chr&gt;</th><th scope=col>&lt;chr&gt;</th><th scope=col>&lt;chr&gt;</th><th scope=col>&lt;int&gt;</th><th scope=col>&lt;chr&gt;</th><th scope=col>&lt;chr&gt;</th></tr>\n",
       "</thead>\n",
       "<tbody>\n",
       "\t<tr><th scope=row>41183</th><td>29</td><td>112</td><td>  9</td><td>1</td><td>-1.1</td><td>94.767</td><td>-50.8</td><td>1.028</td><td>4963.6</td><td>unemployed </td><td>...</td><td>basic.4y           </td><td>no</td><td>yes</td><td>no</td><td>cellular</td><td>nov</td><td>fri</td><td>1</td><td>success    </td><td>no </td></tr>\n",
       "\t<tr><th scope=row>41184</th><td>73</td><td>334</td><td>999</td><td>1</td><td>-1.1</td><td>94.767</td><td>-50.8</td><td>1.028</td><td>4963.6</td><td>retired    </td><td>...</td><td>professional.course</td><td>no</td><td>yes</td><td>no</td><td>cellular</td><td>nov</td><td>fri</td><td>0</td><td>nonexistent</td><td>yes</td></tr>\n",
       "\t<tr><th scope=row>41185</th><td>46</td><td>383</td><td>999</td><td>1</td><td>-1.1</td><td>94.767</td><td>-50.8</td><td>1.028</td><td>4963.6</td><td>blue-collar</td><td>...</td><td>professional.course</td><td>no</td><td>no </td><td>no</td><td>cellular</td><td>nov</td><td>fri</td><td>0</td><td>nonexistent</td><td>no </td></tr>\n",
       "\t<tr><th scope=row>41186</th><td>56</td><td>189</td><td>999</td><td>2</td><td>-1.1</td><td>94.767</td><td>-50.8</td><td>1.028</td><td>4963.6</td><td>retired    </td><td>...</td><td>university.degree  </td><td>no</td><td>yes</td><td>no</td><td>cellular</td><td>nov</td><td>fri</td><td>0</td><td>nonexistent</td><td>no </td></tr>\n",
       "\t<tr><th scope=row>41187</th><td>44</td><td>442</td><td>999</td><td>1</td><td>-1.1</td><td>94.767</td><td>-50.8</td><td>1.028</td><td>4963.6</td><td>technician </td><td>...</td><td>professional.course</td><td>no</td><td>no </td><td>no</td><td>cellular</td><td>nov</td><td>fri</td><td>0</td><td>nonexistent</td><td>yes</td></tr>\n",
       "\t<tr><th scope=row>41188</th><td>74</td><td>239</td><td>999</td><td>3</td><td>-1.1</td><td>94.767</td><td>-50.8</td><td>1.028</td><td>4963.6</td><td>retired    </td><td>...</td><td>professional.course</td><td>no</td><td>yes</td><td>no</td><td>cellular</td><td>nov</td><td>fri</td><td>1</td><td>failure    </td><td>no </td></tr>\n",
       "</tbody>\n",
       "</table>\n"
      ],
      "text/latex": [
       "A data.frame: 6 × 21\n",
       "\\begin{tabular}{r|lllllllllllllllllllll}\n",
       "  & Edad & Dur & NDias & Camp & TVE & IPC & ICC & Eu & NE & Trab & ... & NvEduc & CredInc & CredViv & CredPer & Cont & Mes & Dia & NPrev & RPrev & Sus\\\\\n",
       "  & <int> & <int> & <int> & <int> & <dbl> & <dbl> & <dbl> & <dbl> & <dbl> & <chr> & ... & <chr> & <chr> & <chr> & <chr> & <chr> & <chr> & <chr> & <int> & <chr> & <chr>\\\\\n",
       "\\hline\n",
       "\t41183 & 29 & 112 &   9 & 1 & -1.1 & 94.767 & -50.8 & 1.028 & 4963.6 & unemployed  & ... & basic.4y            & no & yes & no & cellular & nov & fri & 1 & success     & no \\\\\n",
       "\t41184 & 73 & 334 & 999 & 1 & -1.1 & 94.767 & -50.8 & 1.028 & 4963.6 & retired     & ... & professional.course & no & yes & no & cellular & nov & fri & 0 & nonexistent & yes\\\\\n",
       "\t41185 & 46 & 383 & 999 & 1 & -1.1 & 94.767 & -50.8 & 1.028 & 4963.6 & blue-collar & ... & professional.course & no & no  & no & cellular & nov & fri & 0 & nonexistent & no \\\\\n",
       "\t41186 & 56 & 189 & 999 & 2 & -1.1 & 94.767 & -50.8 & 1.028 & 4963.6 & retired     & ... & university.degree   & no & yes & no & cellular & nov & fri & 0 & nonexistent & no \\\\\n",
       "\t41187 & 44 & 442 & 999 & 1 & -1.1 & 94.767 & -50.8 & 1.028 & 4963.6 & technician  & ... & professional.course & no & no  & no & cellular & nov & fri & 0 & nonexistent & yes\\\\\n",
       "\t41188 & 74 & 239 & 999 & 3 & -1.1 & 94.767 & -50.8 & 1.028 & 4963.6 & retired     & ... & professional.course & no & yes & no & cellular & nov & fri & 1 & failure     & no \\\\\n",
       "\\end{tabular}\n"
      ],
      "text/markdown": [
       "\n",
       "A data.frame: 6 × 21\n",
       "\n",
       "| <!--/--> | Edad &lt;int&gt; | Dur &lt;int&gt; | NDias &lt;int&gt; | Camp &lt;int&gt; | TVE &lt;dbl&gt; | IPC &lt;dbl&gt; | ICC &lt;dbl&gt; | Eu &lt;dbl&gt; | NE &lt;dbl&gt; | Trab &lt;chr&gt; | ... ... | NvEduc &lt;chr&gt; | CredInc &lt;chr&gt; | CredViv &lt;chr&gt; | CredPer &lt;chr&gt; | Cont &lt;chr&gt; | Mes &lt;chr&gt; | Dia &lt;chr&gt; | NPrev &lt;int&gt; | RPrev &lt;chr&gt; | Sus &lt;chr&gt; |\n",
       "|---|---|---|---|---|---|---|---|---|---|---|---|---|---|---|---|---|---|---|---|---|---|\n",
       "| 41183 | 29 | 112 |   9 | 1 | -1.1 | 94.767 | -50.8 | 1.028 | 4963.6 | unemployed  | ... | basic.4y            | no | yes | no | cellular | nov | fri | 1 | success     | no  |\n",
       "| 41184 | 73 | 334 | 999 | 1 | -1.1 | 94.767 | -50.8 | 1.028 | 4963.6 | retired     | ... | professional.course | no | yes | no | cellular | nov | fri | 0 | nonexistent | yes |\n",
       "| 41185 | 46 | 383 | 999 | 1 | -1.1 | 94.767 | -50.8 | 1.028 | 4963.6 | blue-collar | ... | professional.course | no | no  | no | cellular | nov | fri | 0 | nonexistent | no  |\n",
       "| 41186 | 56 | 189 | 999 | 2 | -1.1 | 94.767 | -50.8 | 1.028 | 4963.6 | retired     | ... | university.degree   | no | yes | no | cellular | nov | fri | 0 | nonexistent | no  |\n",
       "| 41187 | 44 | 442 | 999 | 1 | -1.1 | 94.767 | -50.8 | 1.028 | 4963.6 | technician  | ... | professional.course | no | no  | no | cellular | nov | fri | 0 | nonexistent | yes |\n",
       "| 41188 | 74 | 239 | 999 | 3 | -1.1 | 94.767 | -50.8 | 1.028 | 4963.6 | retired     | ... | professional.course | no | yes | no | cellular | nov | fri | 1 | failure     | no  |\n",
       "\n"
      ],
      "text/plain": [
       "      Edad Dur NDias Camp TVE  IPC    ICC   Eu    NE     Trab        ...\n",
       "41183 29   112   9   1    -1.1 94.767 -50.8 1.028 4963.6 unemployed  ...\n",
       "41184 73   334 999   1    -1.1 94.767 -50.8 1.028 4963.6 retired     ...\n",
       "41185 46   383 999   1    -1.1 94.767 -50.8 1.028 4963.6 blue-collar ...\n",
       "41186 56   189 999   2    -1.1 94.767 -50.8 1.028 4963.6 retired     ...\n",
       "41187 44   442 999   1    -1.1 94.767 -50.8 1.028 4963.6 technician  ...\n",
       "41188 74   239 999   3    -1.1 94.767 -50.8 1.028 4963.6 retired     ...\n",
       "      NvEduc              CredInc CredViv CredPer Cont     Mes Dia NPrev\n",
       "41183 basic.4y            no      yes     no      cellular nov fri 1    \n",
       "41184 professional.course no      yes     no      cellular nov fri 0    \n",
       "41185 professional.course no      no      no      cellular nov fri 0    \n",
       "41186 university.degree   no      yes     no      cellular nov fri 0    \n",
       "41187 professional.course no      no      no      cellular nov fri 0    \n",
       "41188 professional.course no      yes     no      cellular nov fri 1    \n",
       "      RPrev       Sus\n",
       "41183 success     no \n",
       "41184 nonexistent yes\n",
       "41185 nonexistent no \n",
       "41186 nonexistent no \n",
       "41187 nonexistent yes\n",
       "41188 failure     no "
      ]
     },
     "metadata": {},
     "output_type": "display_data"
    }
   ],
   "source": [
    "head(R)\n",
    "tail(R)"
   ]
  },
  {
   "cell_type": "markdown",
   "metadata": {},
   "source": [
    "## Coeficientes de correlación Simple"
   ]
  },
  {
   "cell_type": "code",
   "execution_count": 5,
   "metadata": {},
   "outputs": [
    {
     "data": {
      "text/html": [
       "<table>\n",
       "<caption>A matrix: 9 × 9 of type dbl</caption>\n",
       "<thead>\n",
       "\t<tr><th></th><th scope=col>Edad</th><th scope=col>Dur</th><th scope=col>NDias</th><th scope=col>Camp</th><th scope=col>TVE</th><th scope=col>IPC</th><th scope=col>ICC</th><th scope=col>Eu</th><th scope=col>NE</th></tr>\n",
       "</thead>\n",
       "<tbody>\n",
       "\t<tr><th scope=row>Edad</th><td> 1.0000000000</td><td>-0.000865705</td><td>-0.03436895</td><td> 0.00459358</td><td>-0.0003706855</td><td>0.000856715</td><td> 0.129371614</td><td> 0.01076743</td><td>-0.01772513</td></tr>\n",
       "\t<tr><th scope=row>Dur</th><td>-0.0008657050</td><td> 1.000000000</td><td>-0.04757702</td><td>-0.07169923</td><td>-0.0279678845</td><td>0.005312268</td><td>-0.008172873</td><td>-0.03289666</td><td>-0.04470322</td></tr>\n",
       "\t<tr><th scope=row>NDias</th><td>-0.0343689512</td><td>-0.047577015</td><td> 1.00000000</td><td> 0.05258357</td><td> 0.2710041743</td><td>0.078889109</td><td>-0.091342354</td><td> 0.29689911</td><td> 0.37260474</td></tr>\n",
       "\t<tr><th scope=row>Camp</th><td> 0.0045935805</td><td>-0.071699226</td><td> 0.05258357</td><td> 1.00000000</td><td> 0.1507538056</td><td>0.127835912</td><td>-0.013733099</td><td> 0.13513251</td><td> 0.14409489</td></tr>\n",
       "\t<tr><th scope=row>TVE</th><td>-0.0003706855</td><td>-0.027967884</td><td> 0.27100417</td><td> 0.15075381</td><td> 1.0000000000</td><td>0.775334171</td><td> 0.196041268</td><td> 0.97224467</td><td> 0.90697010</td></tr>\n",
       "\t<tr><th scope=row>IPC</th><td> 0.0008567150</td><td> 0.005312268</td><td> 0.07888911</td><td> 0.12783591</td><td> 0.7753341708</td><td>1.000000000</td><td> 0.058986182</td><td> 0.68823011</td><td> 0.52203398</td></tr>\n",
       "\t<tr><th scope=row>ICC</th><td> 0.1293716142</td><td>-0.008172873</td><td>-0.09134235</td><td>-0.01373310</td><td> 0.1960412681</td><td>0.058986182</td><td> 1.000000000</td><td> 0.27768622</td><td> 0.10051343</td></tr>\n",
       "\t<tr><th scope=row>Eu</th><td> 0.0107674295</td><td>-0.032896656</td><td> 0.29689911</td><td> 0.13513251</td><td> 0.9722446712</td><td>0.688230107</td><td> 0.277686220</td><td> 1.00000000</td><td> 0.94515443</td></tr>\n",
       "\t<tr><th scope=row>NE</th><td>-0.0177251319</td><td>-0.044703223</td><td> 0.37260474</td><td> 0.14409489</td><td> 0.9069701013</td><td>0.522033977</td><td> 0.100513432</td><td> 0.94515443</td><td> 1.00000000</td></tr>\n",
       "</tbody>\n",
       "</table>\n"
      ],
      "text/latex": [
       "A matrix: 9 × 9 of type dbl\n",
       "\\begin{tabular}{r|lllllllll}\n",
       "  & Edad & Dur & NDias & Camp & TVE & IPC & ICC & Eu & NE\\\\\n",
       "\\hline\n",
       "\tEdad &  1.0000000000 & -0.000865705 & -0.03436895 &  0.00459358 & -0.0003706855 & 0.000856715 &  0.129371614 &  0.01076743 & -0.01772513\\\\\n",
       "\tDur & -0.0008657050 &  1.000000000 & -0.04757702 & -0.07169923 & -0.0279678845 & 0.005312268 & -0.008172873 & -0.03289666 & -0.04470322\\\\\n",
       "\tNDias & -0.0343689512 & -0.047577015 &  1.00000000 &  0.05258357 &  0.2710041743 & 0.078889109 & -0.091342354 &  0.29689911 &  0.37260474\\\\\n",
       "\tCamp &  0.0045935805 & -0.071699226 &  0.05258357 &  1.00000000 &  0.1507538056 & 0.127835912 & -0.013733099 &  0.13513251 &  0.14409489\\\\\n",
       "\tTVE & -0.0003706855 & -0.027967884 &  0.27100417 &  0.15075381 &  1.0000000000 & 0.775334171 &  0.196041268 &  0.97224467 &  0.90697010\\\\\n",
       "\tIPC &  0.0008567150 &  0.005312268 &  0.07888911 &  0.12783591 &  0.7753341708 & 1.000000000 &  0.058986182 &  0.68823011 &  0.52203398\\\\\n",
       "\tICC &  0.1293716142 & -0.008172873 & -0.09134235 & -0.01373310 &  0.1960412681 & 0.058986182 &  1.000000000 &  0.27768622 &  0.10051343\\\\\n",
       "\tEu &  0.0107674295 & -0.032896656 &  0.29689911 &  0.13513251 &  0.9722446712 & 0.688230107 &  0.277686220 &  1.00000000 &  0.94515443\\\\\n",
       "\tNE & -0.0177251319 & -0.044703223 &  0.37260474 &  0.14409489 &  0.9069701013 & 0.522033977 &  0.100513432 &  0.94515443 &  1.00000000\\\\\n",
       "\\end{tabular}\n"
      ],
      "text/markdown": [
       "\n",
       "A matrix: 9 × 9 of type dbl\n",
       "\n",
       "| <!--/--> | Edad | Dur | NDias | Camp | TVE | IPC | ICC | Eu | NE |\n",
       "|---|---|---|---|---|---|---|---|---|---|\n",
       "| Edad |  1.0000000000 | -0.000865705 | -0.03436895 |  0.00459358 | -0.0003706855 | 0.000856715 |  0.129371614 |  0.01076743 | -0.01772513 |\n",
       "| Dur | -0.0008657050 |  1.000000000 | -0.04757702 | -0.07169923 | -0.0279678845 | 0.005312268 | -0.008172873 | -0.03289666 | -0.04470322 |\n",
       "| NDias | -0.0343689512 | -0.047577015 |  1.00000000 |  0.05258357 |  0.2710041743 | 0.078889109 | -0.091342354 |  0.29689911 |  0.37260474 |\n",
       "| Camp |  0.0045935805 | -0.071699226 |  0.05258357 |  1.00000000 |  0.1507538056 | 0.127835912 | -0.013733099 |  0.13513251 |  0.14409489 |\n",
       "| TVE | -0.0003706855 | -0.027967884 |  0.27100417 |  0.15075381 |  1.0000000000 | 0.775334171 |  0.196041268 |  0.97224467 |  0.90697010 |\n",
       "| IPC |  0.0008567150 |  0.005312268 |  0.07888911 |  0.12783591 |  0.7753341708 | 1.000000000 |  0.058986182 |  0.68823011 |  0.52203398 |\n",
       "| ICC |  0.1293716142 | -0.008172873 | -0.09134235 | -0.01373310 |  0.1960412681 | 0.058986182 |  1.000000000 |  0.27768622 |  0.10051343 |\n",
       "| Eu |  0.0107674295 | -0.032896656 |  0.29689911 |  0.13513251 |  0.9722446712 | 0.688230107 |  0.277686220 |  1.00000000 |  0.94515443 |\n",
       "| NE | -0.0177251319 | -0.044703223 |  0.37260474 |  0.14409489 |  0.9069701013 | 0.522033977 |  0.100513432 |  0.94515443 |  1.00000000 |\n",
       "\n"
      ],
      "text/plain": [
       "      Edad          Dur          NDias       Camp        TVE          \n",
       "Edad   1.0000000000 -0.000865705 -0.03436895  0.00459358 -0.0003706855\n",
       "Dur   -0.0008657050  1.000000000 -0.04757702 -0.07169923 -0.0279678845\n",
       "NDias -0.0343689512 -0.047577015  1.00000000  0.05258357  0.2710041743\n",
       "Camp   0.0045935805 -0.071699226  0.05258357  1.00000000  0.1507538056\n",
       "TVE   -0.0003706855 -0.027967884  0.27100417  0.15075381  1.0000000000\n",
       "IPC    0.0008567150  0.005312268  0.07888911  0.12783591  0.7753341708\n",
       "ICC    0.1293716142 -0.008172873 -0.09134235 -0.01373310  0.1960412681\n",
       "Eu     0.0107674295 -0.032896656  0.29689911  0.13513251  0.9722446712\n",
       "NE    -0.0177251319 -0.044703223  0.37260474  0.14409489  0.9069701013\n",
       "      IPC         ICC          Eu          NE         \n",
       "Edad  0.000856715  0.129371614  0.01076743 -0.01772513\n",
       "Dur   0.005312268 -0.008172873 -0.03289666 -0.04470322\n",
       "NDias 0.078889109 -0.091342354  0.29689911  0.37260474\n",
       "Camp  0.127835912 -0.013733099  0.13513251  0.14409489\n",
       "TVE   0.775334171  0.196041268  0.97224467  0.90697010\n",
       "IPC   1.000000000  0.058986182  0.68823011  0.52203398\n",
       "ICC   0.058986182  1.000000000  0.27768622  0.10051343\n",
       "Eu    0.688230107  0.277686220  1.00000000  0.94515443\n",
       "NE    0.522033977  0.100513432  0.94515443  1.00000000"
      ]
     },
     "metadata": {},
     "output_type": "display_data"
    },
    {
     "data": {
      "image/png": "[encoded data removed]",
      "text/plain": [
       "plot without title"
      ]
     },
     "metadata": {
      "image/png": {
       "height": 420,
       "width": 420
      },
      "text/plain": {
       "height": 420,
       "width": 420
      }
     },
     "output_type": "display_data"
    }
   ],
   "source": [
    "plot(R[,1:9])\n",
    "cor(R[,1:9])"
   ]
  },
  {
   "cell_type": "code",
   "execution_count": 6,
   "metadata": {},
   "outputs": [
    {
     "data": {
      "text/plain": [
       "      Edad            Dur             NDias            Camp       \n",
       " Min.   :17.00   Min.   :   0.0   Min.   :  0.0   Min.   : 1.000  \n",
       " 1st Qu.:32.00   1st Qu.: 102.0   1st Qu.:999.0   1st Qu.: 1.000  \n",
       " Median :38.00   Median : 180.0   Median :999.0   Median : 2.000  \n",
       " Mean   :40.02   Mean   : 258.3   Mean   :962.5   Mean   : 2.568  \n",
       " 3rd Qu.:47.00   3rd Qu.: 319.0   3rd Qu.:999.0   3rd Qu.: 3.000  \n",
       " Max.   :98.00   Max.   :4918.0   Max.   :999.0   Max.   :56.000  \n",
       "      TVE                IPC             ICC              Eu       \n",
       " Min.   :-3.40000   Min.   :92.20   Min.   :-50.8   Min.   :0.634  \n",
       " 1st Qu.:-1.80000   1st Qu.:93.08   1st Qu.:-42.7   1st Qu.:1.344  \n",
       " Median : 1.10000   Median :93.75   Median :-41.8   Median :4.857  \n",
       " Mean   : 0.08189   Mean   :93.58   Mean   :-40.5   Mean   :3.621  \n",
       " 3rd Qu.: 1.40000   3rd Qu.:93.99   3rd Qu.:-36.4   3rd Qu.:4.961  \n",
       " Max.   : 1.40000   Max.   :94.77   Max.   :-26.9   Max.   :5.045  \n",
       "       NE           Trab              EstCv              NvEduc         \n",
       " Min.   :4964   Length:41188       Length:41188       Length:41188      \n",
       " 1st Qu.:5099   Class :character   Class :character   Class :character  \n",
       " Median :5191   Mode  :character   Mode  :character   Mode  :character  \n",
       " Mean   :5167                                                           \n",
       " 3rd Qu.:5228                                                           \n",
       " Max.   :5228                                                           \n",
       "   CredInc            CredViv            CredPer              Cont          \n",
       " Length:41188       Length:41188       Length:41188       Length:41188      \n",
       " Class :character   Class :character   Class :character   Class :character  \n",
       " Mode  :character   Mode  :character   Mode  :character   Mode  :character  \n",
       "                                                                            \n",
       "                                                                            \n",
       "                                                                            \n",
       "     Mes                Dia                NPrev          RPrev          \n",
       " Length:41188       Length:41188       Min.   :0.000   Length:41188      \n",
       " Class :character   Class :character   1st Qu.:0.000   Class :character  \n",
       " Mode  :character   Mode  :character   Median :0.000   Mode  :character  \n",
       "                                       Mean   :0.173                     \n",
       "                                       3rd Qu.:0.000                     \n",
       "                                       Max.   :7.000                     \n",
       "     Sus           \n",
       " Length:41188      \n",
       " Class :character  \n",
       " Mode  :character  \n",
       "                   \n",
       "                   \n",
       "                   "
      ]
     },
     "metadata": {},
     "output_type": "display_data"
    }
   ],
   "source": [
    "summary(R)"
   ]
  },
  {
   "cell_type": "markdown",
   "metadata": {},
   "source": [
    "## Coeficientes de correlación Multiple"
   ]
  },
  {
   "cell_type": "code",
   "execution_count": 7,
   "metadata": {},
   "outputs": [],
   "source": [
    "#Funcion para calcular el Coeficiente de correlacion multiple.\n",
    "rho.mult<-function(datos)\n",
    "# datos: matriz con las variables del problema.\n",
    "# La primera columna debe ser la variable respuesta.\n",
    "# Las restantes p-1 columnas son las variables explicativas.\n",
    "{\n",
    "matriz<-var(datos)\n",
    "# calculo\n",
    "n<-nrow(datos)\n",
    "p<-ncol(matriz)\n",
    "sxx<-matriz[2:p,2:p]\n",
    "syx<-matrix(matriz[1,2:p],nrow=1)\n",
    "sxy<-t(syx)\n",
    "#coeficiente\n",
    "rho.mult<-sqrt(syx%*%solve(sxx)%*%sxy)/sqrt(matriz[1,1])\n",
    "cat(\"\\n Coeficiente de correlacion multiple: \",rho.mult,\"\\n\")\n",
    "#estadistico\n",
    "if(abs(rho.mult)==1)\n",
    "stop(\"Imposible resolver contraste.\n",
    "Coeficiente de correlacion multiple igual a 1\", call. = FALSE)\n",
    "else{\n",
    "est<-((n-(p-1)-1)*rho.mult)/((p-1)*(1-rho.mult^2))\n",
    "#grafico\n",
    "par(mfrow=c(1,1))\n",
    "x<-seq(0,qf(0.999,p-1,n-(p-1)-1),length=500)\n",
    "plot(x,df(x,p-1,n-(p-1)-1),type=\"l\",ylab=\"densidad\",\n",
    "main=\"Contraste Correlacion Multiple\")\n",
    "abline(v=qf(0.975,p-1,n-(p-1)-1),col=\"red\")\n",
    "abline(v=qf(0.025,p-1,n-(p-1)-1),col=\"red\")\n",
    "abline(v=est,col=\"blue\")\n",
    "abline(h=0)\n",
    "legend(qf(0.98,p-1,n-(p-1)-1),pf((p+3)/(n-p),p-1,n-(p-1)-1),\n",
    "c(\"Estadistico\",\"Region Critica\"),lty=rep(1,2),\n",
    "col=c(\"blue\",\"red\"),bty=\"n\")\n",
    "cat(\"\\n Estadistico de contraste: \",round(est,3),\"\\n\")\n",
    "cat(\"\\n p-valor: \",round(2*(1-pf(est,p-1,n-(p-1)-1)),3),\"\\n\\n\")}\n",
    "return(invisible())\n",
    "}"
   ]
  },
  {
   "cell_type": "code",
   "execution_count": 8,
   "metadata": {},
   "outputs": [
    {
     "name": "stdout",
     "output_type": "stream",
     "text": [
      "\n",
      " Coeficiente de correlacion multiple:  0.1353495 \n",
      "\n",
      " Estadistico de contraste:  709.696 \n",
      "\n",
      " p-valor:  0 \n",
      "\n"
     ]
    },
    {
     "data": {
      "image/png": "[encoded data removed]",
      "text/plain": [
       "Plot with title \"Contraste Correlacion Multiple\""
      ]
     },
     "metadata": {
      "image/png": {
       "height": 420,
       "width": 420
      },
      "text/plain": {
       "height": 420,
       "width": 420
      }
     },
     "output_type": "display_data"
    }
   ],
   "source": [
    "rho.mult(R[,1:9])"
   ]
  },
  {
   "cell_type": "code",
   "execution_count": 9,
   "metadata": {},
   "outputs": [
    {
     "data": {
      "image/png": "[encoded data removed]",
      "text/plain": [
       "Plot with title \"\""
      ]
     },
     "metadata": {
      "image/png": {
       "height": 420,
       "width": 420
      },
      "text/plain": {
       "height": 420,
       "width": 420
      }
     },
     "output_type": "display_data"
    },
    {
     "data": {
      "image/png": "[encoded data removed]",
      "text/plain": [
       "Plot with title \"\""
      ]
     },
     "metadata": {
      "image/png": {
       "height": 420,
       "width": 420
      },
      "text/plain": {
       "height": 420,
       "width": 420
      }
     },
     "output_type": "display_data"
    }
   ],
   "source": [
    "C<-cor(R[,1:9]) #Continuos\n",
    "corrplot(C, method=\"circle\")\n",
    "corrplot(C, method=\"number\")"
   ]
  },
  {
   "cell_type": "markdown",
   "metadata": {},
   "source": [
    "## Generacion del modelo lineal\n",
    "<br>\n",
    "<H2>1. Modelo lineal multiple </H2>\n",
    "<br>\n",
    "Vamos a generar el modelo con todos los predictores de \"Conti\", tomando como variable dependiente de nuestro modelo a tasa de variacion de empleo (\"tasa\")."
   ]
  },
  {
   "cell_type": "code",
   "execution_count": 10,
   "metadata": {},
   "outputs": [
    {
     "data": {
      "text/plain": [
       "\n",
       "Call:\n",
       "lm(formula = TVE ~ ., data = Conti)\n",
       "\n",
       "Residuals:\n",
       "     Min       1Q   Median       3Q      Max \n",
       "-1.31528 -0.13576 -0.02173  0.15430  0.79916 \n",
       "\n",
       "Coefficients:\n",
       "              Estimate Std. Error t value Pr(>|t|)    \n",
       "(Intercept) -7.057e+01  9.119e-01 -77.387  < 2e-16 ***\n",
       "Edad        -4.276e-04  1.305e-04  -3.278  0.00105 ** \n",
       "Dur         -1.454e-06  5.219e-06  -0.279  0.78049    \n",
       "NDias       -5.233e-05  7.933e-06  -6.596 4.28e-11 ***\n",
       "Camp         4.906e-03  4.950e-04   9.911  < 2e-16 ***\n",
       "IPC          5.942e-01  5.070e-03 117.191  < 2e-16 ***\n",
       "ICC         -1.013e-02  4.699e-04 -21.562  < 2e-16 ***\n",
       "Eu           6.585e-01  5.319e-03 123.804  < 2e-16 ***\n",
       "NE           2.382e-03  1.036e-04  22.981  < 2e-16 ***\n",
       "---\n",
       "Signif. codes:  0 '***' 0.001 '**' 0.01 '*' 0.05 '.' 0.1 ' ' 1\n",
       "\n",
       "Residual standard error: 0.2734 on 41179 degrees of freedom\n",
       "Multiple R-squared:  0.9697,\tAdjusted R-squared:  0.9697 \n",
       "F-statistic: 1.648e+05 on 8 and 41179 DF,  p-value: < 2.2e-16\n"
      ]
     },
     "metadata": {},
     "output_type": "display_data"
    }
   ],
   "source": [
    "Conti <- R[,1:9]\n",
    "modeloMultiple <- lm(TVE ~ . , data = Conti)\n",
    "summary(modeloMultiple)"
   ]
  },
  {
   "cell_type": "markdown",
   "metadata": {},
   "source": [
    "# -\n",
    "Podemos decir que el modelo es capaz de explicar un 96,97 % de la varianza y que el p-value es significativo (2.2*10^-16), por lo que podemos decir que el modelo es útil y que existe una relación entre los predictores y la variable respuesta (al menos uno de los coeficientes es distinto a 0)\n",
    "<br>\n",
    "<br>\n",
    "ahora seleccionaremos el predictor del modelo con la funcionstep():"
   ]
  },
  {
   "cell_type": "code",
   "execution_count": 11,
   "metadata": {},
   "outputs": [
    {
     "name": "stdout",
     "output_type": "stream",
     "text": [
      "Start:  AIC=-106817.7\n",
      "TVE ~ Edad + Dur + NDias + Camp + IPC + ICC + Eu + NE\n",
      "\n",
      "        Df Sum of Sq    RSS     AIC\n",
      "- Dur    1      0.01 3078.0 -106820\n",
      "<none>               3078.0 -106818\n",
      "- Edad   1      0.80 3078.8 -106809\n",
      "- NDias  1      3.25 3081.3 -106776\n",
      "- Camp   1      7.34 3085.4 -106722\n",
      "- ICC    1     34.75 3112.8 -106357\n",
      "- NE     1     39.48 3117.5 -106295\n",
      "- IPC    1   1026.56 4104.6  -94965\n",
      "- Eu     1   1145.70 4223.7  -93787\n",
      "\n",
      "Step:  AIC=-106819.6\n",
      "TVE ~ Edad + NDias + Camp + IPC + ICC + Eu + NE\n",
      "\n",
      "        Df Sum of Sq    RSS     AIC\n",
      "<none>               3078.0 -106820\n",
      "+ Dur    1      0.01 3078.0 -106818\n",
      "- Edad   1      0.80 3078.8 -106811\n",
      "- NDias  1      3.25 3081.3 -106778\n",
      "- Camp   1      7.40 3085.4 -106723\n",
      "- ICC    1     34.75 3112.8 -106359\n",
      "- NE     1     39.51 3117.6 -106296\n",
      "- IPC    1   1026.59 4104.6  -94967\n",
      "- Eu     1   1145.79 4223.8  -93788\n"
     ]
    },
    {
     "data": {
      "text/plain": [
       "\n",
       "Call:\n",
       "lm(formula = TVE ~ Edad + NDias + Camp + IPC + ICC + Eu + NE, \n",
       "    data = Conti)\n",
       "\n",
       "Coefficients:\n",
       "(Intercept)         Edad        NDias         Camp          IPC          ICC  \n",
       " -7.057e+01   -4.276e-04   -5.226e-05    4.915e-03    5.942e-01   -1.013e-02  \n",
       "         Eu           NE  \n",
       "  6.585e-01    2.382e-03  \n"
      ]
     },
     "metadata": {},
     "output_type": "display_data"
    }
   ],
   "source": [
    "step(modeloMultiple, direction = \"both\", trace = 1)"
   ]
  },
  {
   "cell_type": "markdown",
   "metadata": {},
   "source": [
    "## -\n",
    "Podemos notar que la variable con mayor p-value ha sido excluida del modelo, porque no ayudaba en gran medida en la variabilidad de \"y\""
   ]
  },
  {
   "cell_type": "code",
   "execution_count": 12,
   "metadata": {},
   "outputs": [
    {
     "data": {
      "text/plain": [
       "\n",
       "Call:\n",
       "lm(formula = TVE ~ Edad + NDias + Camp + IPC + ICC + Eu + NE, \n",
       "    data = Conti)\n",
       "\n",
       "Residuals:\n",
       "    Min      1Q  Median      3Q     Max \n",
       "-1.3149 -0.1358 -0.0217  0.1544  0.7991 \n",
       "\n",
       "Coefficients:\n",
       "              Estimate Std. Error t value Pr(>|t|)    \n",
       "(Intercept) -7.057e+01  9.118e-01 -77.393  < 2e-16 ***\n",
       "Edad        -4.276e-04  1.305e-04  -3.278  0.00105 ** \n",
       "NDias       -5.226e-05  7.930e-06  -6.591 4.43e-11 ***\n",
       "Camp         4.915e-03  4.938e-04   9.953  < 2e-16 ***\n",
       "IPC          5.942e-01  5.070e-03 117.194  < 2e-16 ***\n",
       "ICC         -1.013e-02  4.699e-04 -21.560  < 2e-16 ***\n",
       "Eu           6.585e-01  5.318e-03 123.811  < 2e-16 ***\n",
       "NE           2.382e-03  1.036e-04  22.991  < 2e-16 ***\n",
       "---\n",
       "Signif. codes:  0 '***' 0.001 '**' 0.01 '*' 0.05 '.' 0.1 ' ' 1\n",
       "\n",
       "Residual standard error: 0.2734 on 41180 degrees of freedom\n",
       "Multiple R-squared:  0.9697,\tAdjusted R-squared:  0.9697 \n",
       "F-statistic: 1.884e+05 on 7 and 41180 DF,  p-value: < 2.2e-16\n"
      ]
     },
     "metadata": {},
     "output_type": "display_data"
    }
   ],
   "source": [
    "modeloMultiplestep <- update(modeloMultiple, formula = ~ . -Dur)\n",
    "summary(modeloMultiplestep)"
   ]
  },
  {
   "cell_type": "code",
   "execution_count": 13,
   "metadata": {},
   "outputs": [
    {
     "data": {
      "text/html": [
       "<table>\n",
       "<caption>A matrix: 8 × 2 of type dbl</caption>\n",
       "<thead>\n",
       "\t<tr><th></th><th scope=col>2.5 %</th><th scope=col>97.5 %</th></tr>\n",
       "</thead>\n",
       "<tbody>\n",
       "\t<tr><th scope=row>(Intercept)</th><td>-7.235721e+01</td><td>-6.878276e+01</td></tr>\n",
       "\t<tr><th scope=row>Edad</th><td>-6.832619e-04</td><td>-1.718828e-04</td></tr>\n",
       "\t<tr><th scope=row>NDias</th><td>-6.780317e-05</td><td>-3.671908e-05</td></tr>\n",
       "\t<tr><th scope=row>Camp</th><td> 3.947015e-03</td><td> 5.882817e-03</td></tr>\n",
       "\t<tr><th scope=row>IPC</th><td> 5.842581e-01</td><td> 6.041335e-01</td></tr>\n",
       "\t<tr><th scope=row>ICC</th><td>-1.105158e-02</td><td>-9.209658e-03</td></tr>\n",
       "\t<tr><th scope=row>Eu</th><td> 6.480486e-01</td><td> 6.688968e-01</td></tr>\n",
       "\t<tr><th scope=row>NE</th><td> 2.179226e-03</td><td> 2.585425e-03</td></tr>\n",
       "</tbody>\n",
       "</table>\n"
      ],
      "text/latex": [
       "A matrix: 8 × 2 of type dbl\n",
       "\\begin{tabular}{r|ll}\n",
       "  & 2.5 \\% & 97.5 \\%\\\\\n",
       "\\hline\n",
       "\t(Intercept) & -7.235721e+01 & -6.878276e+01\\\\\n",
       "\tEdad & -6.832619e-04 & -1.718828e-04\\\\\n",
       "\tNDias & -6.780317e-05 & -3.671908e-05\\\\\n",
       "\tCamp &  3.947015e-03 &  5.882817e-03\\\\\n",
       "\tIPC &  5.842581e-01 &  6.041335e-01\\\\\n",
       "\tICC & -1.105158e-02 & -9.209658e-03\\\\\n",
       "\tEu &  6.480486e-01 &  6.688968e-01\\\\\n",
       "\tNE &  2.179226e-03 &  2.585425e-03\\\\\n",
       "\\end{tabular}\n"
      ],
      "text/markdown": [
       "\n",
       "A matrix: 8 × 2 of type dbl\n",
       "\n",
       "| <!--/--> | 2.5 % | 97.5 % |\n",
       "|---|---|---|\n",
       "| (Intercept) | -7.235721e+01 | -6.878276e+01 |\n",
       "| Edad | -6.832619e-04 | -1.718828e-04 |\n",
       "| NDias | -6.780317e-05 | -3.671908e-05 |\n",
       "| Camp |  3.947015e-03 |  5.882817e-03 |\n",
       "| IPC |  5.842581e-01 |  6.041335e-01 |\n",
       "| ICC | -1.105158e-02 | -9.209658e-03 |\n",
       "| Eu |  6.480486e-01 |  6.688968e-01 |\n",
       "| NE |  2.179226e-03 |  2.585425e-03 |\n",
       "\n"
      ],
      "text/plain": [
       "            2.5 %         97.5 %       \n",
       "(Intercept) -7.235721e+01 -6.878276e+01\n",
       "Edad        -6.832619e-04 -1.718828e-04\n",
       "NDias       -6.780317e-05 -3.671908e-05\n",
       "Camp         3.947015e-03  5.882817e-03\n",
       "IPC          5.842581e-01  6.041335e-01\n",
       "ICC         -1.105158e-02 -9.209658e-03\n",
       "Eu           6.480486e-01  6.688968e-01\n",
       "NE           2.179226e-03  2.585425e-03"
      ]
     },
     "metadata": {},
     "output_type": "display_data"
    }
   ],
   "source": [
    "confint(modeloMultiplestep)"
   ]
  },
  {
   "cell_type": "markdown",
   "metadata": {},
   "source": [
    "veamos como se comporta el modelo"
   ]
  },
  {
   "cell_type": "code",
   "execution_count": 14,
   "metadata": {},
   "outputs": [
    {
     "data": {
      "image/png": "[encoded data removed]",
      "text/plain": [
       "Plot with title \"\""
      ]
     },
     "metadata": {
      "image/png": {
       "height": 420,
       "width": 420
      },
      "text/plain": {
       "height": 420,
       "width": 420
      }
     },
     "output_type": "display_data"
    }
   ],
   "source": [
    "par(mfrow=c(2,2))\n",
    "plot(modeloMultiplestep)"
   ]
  },
  {
   "cell_type": "markdown",
   "metadata": {},
   "source": [
    "<H2>2. Modelo lineal simple </H2>\n",
    "<br>\n",
    "<H4> Tasa de variación de empleo & Índice de Precios al Consumidor </H4>"
   ]
  },
  {
   "cell_type": "code",
   "execution_count": 15,
   "metadata": {},
   "outputs": [
    {
     "data": {
      "text/plain": [
       "      TVE                IPC       \n",
       " Min.   :-3.40000   Min.   :92.20  \n",
       " 1st Qu.:-1.80000   1st Qu.:93.08  \n",
       " Median : 1.10000   Median :93.75  \n",
       " Mean   : 0.08189   Mean   :93.58  \n",
       " 3rd Qu.: 1.40000   3rd Qu.:93.99  \n",
       " Max.   : 1.40000   Max.   :94.77  "
      ]
     },
     "metadata": {},
     "output_type": "display_data"
    }
   ],
   "source": [
    "varsel<-Conti[,c(5,6)]\n",
    "summary(varsel)"
   ]
  },
  {
   "cell_type": "code",
   "execution_count": 16,
   "metadata": {},
   "outputs": [
    {
     "data": {
      "image/png": "[encoded data removed]",
      "text/plain": [
       "Plot with title \"Diagrama de dispersión\""
      ]
     },
     "metadata": {
      "image/png": {
       "height": 420,
       "width": 420
      },
      "text/plain": {
       "height": 420,
       "width": 420
      }
     },
     "output_type": "display_data"
    }
   ],
   "source": [
    "# Algunos gráficos exploratorios\n",
    "par(mfrow=c(2,3))\n",
    "x <- varsel$IPC\n",
    "boxplot(varsel, main=\"Tasa de variación de empleo & Índice de Precios al Consumidor\")\n",
    "h<-hist(x, breaks=25, col=\"red\", xlab=\"Índice de Precios al Consumidor\", main=\"Histograma con \\n curva de densidad\")\n",
    "xfit<-seq(min(x), max(x), length=40)\n",
    "yfit<-dnorm(xfit, mean=mean(x), sd=sd(x))\n",
    "yfit <- yfit*diff(h$mids[1:2])*length(x)\n",
    "lines(xfit, yfit, col=\"blue\", lwd=2)\n",
    "h<-hist(x, freq = F, breaks=25, col=\"red\", xlab=\"Índice de Precios al Consumidor\", main=\"Histograma con \\n curva de densidad\")\n",
    "lines(density(x), col=\"blue\", lwd=2)\n",
    "plot(sort(x),ylab=\"IPC\", main = \"Sorted Plot\")\n",
    "with(Conti, plot(TVE,IPC, main = \"Diagrama de dispersión\"))\n",
    "par(mfrow=c(1,1))"
   ]
  },
  {
   "cell_type": "markdown",
   "metadata": {},
   "source": [
    "generamos el modelo lineal por regresion simple:"
   ]
  },
  {
   "cell_type": "code",
   "execution_count": 17,
   "metadata": {},
   "outputs": [
    {
     "data": {
      "text/plain": [
       "\n",
       "Call:\n",
       "lm(formula = IPC ~ TVE, data = Conti)\n",
       "\n",
       "Residuals:\n",
       "     Min       1Q   Median       3Q      Max \n",
       "-0.73913 -0.19504 -0.03423  0.12748  1.52898 \n",
       "\n",
       "Coefficients:\n",
       "             Estimate Std. Error t value Pr(>|t|)    \n",
       "(Intercept) 93.552271   0.001804 51865.4   <2e-16 ***\n",
       "TVE          0.285682   0.001147   249.1   <2e-16 ***\n",
       "---\n",
       "Signif. codes:  0 '***' 0.001 '**' 0.01 '*' 0.05 '.' 0.1 ' ' 1\n",
       "\n",
       "Residual standard error: 0.3656 on 41186 degrees of freedom\n",
       "Multiple R-squared:  0.6011,\tAdjusted R-squared:  0.6011 \n",
       "F-statistic: 6.207e+04 on 1 and 41186 DF,  p-value: < 2.2e-16\n"
      ]
     },
     "metadata": {},
     "output_type": "display_data"
    }
   ],
   "source": [
    "regresion <- lm(IPC ~ TVE, data = Conti)\n",
    "summary(regresion)"
   ]
  },
  {
   "cell_type": "markdown",
   "metadata": {},
   "source": [
    "Los parámetros de la ecuación de la recta de mínimos cuadrados que relaciona el indice de precios al consumidor en función de la tasa de variacion de empleo vienen dados por la columna ´Estimate´ de la tabla ´Coefficients´ de la salida anterior. Por lo tanto, en este ejemplo la ecuación de la recta de mínimos cuadrados es:\n",
    "\n",
    "<p style='text-align: center;'>$y = 93.552271 + 0.285682x + 0.3656$</p>"
   ]
  },
  {
   "cell_type": "code",
   "execution_count": 18,
   "metadata": {},
   "outputs": [
    {
     "data": {
      "text/plain": [
       "\n",
       "\tPearson's product-moment correlation\n",
       "\n",
       "data:  IPC and TVE\n",
       "t = 249.15, df = 41186, p-value < 2.2e-16\n",
       "alternative hypothesis: true correlation is not equal to 0\n",
       "95 percent confidence interval:\n",
       " 0.7714531 0.7791575\n",
       "sample estimates:\n",
       "      cor \n",
       "0.7753342 \n"
      ]
     },
     "metadata": {},
     "output_type": "display_data"
    }
   ],
   "source": [
    "with(R, cor.test(IPC,TVE))"
   ]
  },
  {
   "cell_type": "code",
   "execution_count": 19,
   "metadata": {},
   "outputs": [
    {
     "data": {
      "image/png": "[encoded data removed]",
      "text/plain": [
       "plot without title"
      ]
     },
     "metadata": {
      "image/png": {
       "height": 420,
       "width": 420
      },
      "text/plain": {
       "height": 420,
       "width": 420
      }
     },
     "output_type": "display_data"
    }
   ],
   "source": [
    "plot(Conti$TVE, Conti$IPC, xlab='Tasa de variación de empleo', ylab='Índice de Precios al Consumidor')\n",
    "abline(regresion)"
   ]
  },
  {
   "cell_type": "code",
   "execution_count": 20,
   "metadata": {},
   "outputs": [
    {
     "data": {
      "text/html": [
       "<style>\n",
       ".dl-inline {width: auto; margin:0; padding: 0}\n",
       ".dl-inline>dt, .dl-inline>dd {float: none; width: auto; display: inline-block}\n",
       ".dl-inline>dt::after {content: \":\\0020\"; padding-right: .5ex}\n",
       ".dl-inline>dt:not(:first-of-type) {padding-left: .5ex}\n",
       "</style><dl class=dl-inline><dt>1</dt><dd>92.6952260398457</dd><dt>2</dt><dd>92.9809077526402</dd><dt>3</dt><dd>93.2665894654346</dd><dt>4</dt><dd>93.5522711782291</dd><dt>5</dt><dd>93.8379528910236</dd></dl>\n"
      ],
      "text/latex": [
       "\\begin{description*}\n",
       "\\item[1] 92.6952260398457\n",
       "\\item[2] 92.9809077526402\n",
       "\\item[3] 93.2665894654346\n",
       "\\item[4] 93.5522711782291\n",
       "\\item[5] 93.8379528910236\n",
       "\\end{description*}\n"
      ],
      "text/markdown": [
       "1\n",
       ":   92.69522603984572\n",
       ":   92.98090775264023\n",
       ":   93.26658946543464\n",
       ":   93.55227117822915\n",
       ":   93.8379528910236\n",
       "\n"
      ],
      "text/plain": [
       "       1        2        3        4        5 \n",
       "92.69523 92.98091 93.26659 93.55227 93.83795 "
      ]
     },
     "metadata": {},
     "output_type": "display_data"
    }
   ],
   "source": [
    "indiceTasa <- data.frame(TVE= seq(-3, 1))\n",
    "predict(regresion, indiceTasa)"
   ]
  },
  {
   "cell_type": "markdown",
   "metadata": {},
   "source": [
    "Los intervalos de confianza para los parámetros los obtendremos con el comando confint. El parámetro level permite elegir el nivel de confianza (por defecto es 0.95)"
   ]
  },
  {
   "cell_type": "code",
   "execution_count": 21,
   "metadata": {},
   "outputs": [
    {
     "data": {
      "text/html": [
       "<table>\n",
       "<caption>A matrix: 2 × 2 of type dbl</caption>\n",
       "<thead>\n",
       "\t<tr><th></th><th scope=col>2.5 %</th><th scope=col>97.5 %</th></tr>\n",
       "</thead>\n",
       "<tbody>\n",
       "\t<tr><th scope=row>(Intercept)</th><td>93.5487358</td><td>93.5558066</td></tr>\n",
       "\t<tr><th scope=row>TVE</th><td> 0.2834343</td><td> 0.2879292</td></tr>\n",
       "</tbody>\n",
       "</table>\n"
      ],
      "text/latex": [
       "A matrix: 2 × 2 of type dbl\n",
       "\\begin{tabular}{r|ll}\n",
       "  & 2.5 \\% & 97.5 \\%\\\\\n",
       "\\hline\n",
       "\t(Intercept) & 93.5487358 & 93.5558066\\\\\n",
       "\tTVE &  0.2834343 &  0.2879292\\\\\n",
       "\\end{tabular}\n"
      ],
      "text/markdown": [
       "\n",
       "A matrix: 2 × 2 of type dbl\n",
       "\n",
       "| <!--/--> | 2.5 % | 97.5 % |\n",
       "|---|---|---|\n",
       "| (Intercept) | 93.5487358 | 93.5558066 |\n",
       "| TVE |  0.2834343 |  0.2879292 |\n",
       "\n"
      ],
      "text/plain": [
       "            2.5 %      97.5 %    \n",
       "(Intercept) 93.5487358 93.5558066\n",
       "TVE          0.2834343  0.2879292"
      ]
     },
     "metadata": {},
     "output_type": "display_data"
    },
    {
     "data": {
      "text/html": [
       "<table>\n",
       "<caption>A matrix: 2 × 2 of type dbl</caption>\n",
       "<thead>\n",
       "\t<tr><th></th><th scope=col>5 %</th><th scope=col>95 %</th></tr>\n",
       "</thead>\n",
       "<tbody>\n",
       "\t<tr><th scope=row>(Intercept)</th><td>93.5493042</td><td>93.5552381</td></tr>\n",
       "\t<tr><th scope=row>TVE</th><td> 0.2837956</td><td> 0.2875678</td></tr>\n",
       "</tbody>\n",
       "</table>\n"
      ],
      "text/latex": [
       "A matrix: 2 × 2 of type dbl\n",
       "\\begin{tabular}{r|ll}\n",
       "  & 5 \\% & 95 \\%\\\\\n",
       "\\hline\n",
       "\t(Intercept) & 93.5493042 & 93.5552381\\\\\n",
       "\tTVE &  0.2837956 &  0.2875678\\\\\n",
       "\\end{tabular}\n"
      ],
      "text/markdown": [
       "\n",
       "A matrix: 2 × 2 of type dbl\n",
       "\n",
       "| <!--/--> | 5 % | 95 % |\n",
       "|---|---|---|\n",
       "| (Intercept) | 93.5493042 | 93.5552381 |\n",
       "| TVE |  0.2837956 |  0.2875678 |\n",
       "\n"
      ],
      "text/plain": [
       "            5 %        95 %      \n",
       "(Intercept) 93.5493042 93.5552381\n",
       "TVE          0.2837956  0.2875678"
      ]
     },
     "metadata": {},
     "output_type": "display_data"
    }
   ],
   "source": [
    "confint(regresion)\n",
    "confint(regresion, level = 0.90)"
   ]
  },
  {
   "cell_type": "code",
   "execution_count": 22,
   "metadata": {},
   "outputs": [
    {
     "data": {
      "image/png": "[encoded data removed]",
      "text/plain": [
       "plot without title"
      ]
     },
     "metadata": {
      "image/png": {
       "height": 420,
       "width": 420
      },
      "text/plain": {
       "height": 420,
       "width": 420
      }
     },
     "output_type": "display_data"
    }
   ],
   "source": [
    "indiceTasa <- data.frame(TVE = seq(-4, 2))\n",
    "# Grafico de dispersion y recta\n",
    "plot(Conti$TVE, Conti$IPC, xlab='Tasa de variación de empleo', ylab='Índice de Precios al Consumidor')\n",
    "abline(regresion)\n",
    "\n",
    "# Intervalos de confianza de la respuesta media:\n",
    "# ic es una matriz con tres columnas: la primera es la prediccion, las otras dos son los extremos del intervalo\n",
    "ic <- predict(regresion, indiceTasa, interval = 'confidence',se.regresion=T)\n",
    "lines(indiceTasa$TVE, ic[, 2], lty = 2, col='blue')\n",
    "lines(indiceTasa$TVE, ic[, 3], lty = 2,col='blue')\n",
    "\n",
    "# Intervalos de prediccion\n",
    "ic <- predict(regresion, indiceTasa, interval = 'prediction')\n",
    "lines(indiceTasa$TVE, ic[, 2], lty = 2, col = 'red')\n",
    "lines(indiceTasa$TVE, ic[, 3], lty = 2, col = 'red')"
   ]
  },
  {
   "cell_type": "code",
   "execution_count": 23,
   "metadata": {},
   "outputs": [
    {
     "data": {
      "text/html": [
       "<table>\n",
       "<caption>A anova: 2 × 5</caption>\n",
       "<thead>\n",
       "\t<tr><th></th><th scope=col>Df</th><th scope=col>Sum Sq</th><th scope=col>Mean Sq</th><th scope=col>F value</th><th scope=col>Pr(&gt;F)</th></tr>\n",
       "\t<tr><th></th><th scope=col>&lt;int&gt;</th><th scope=col>&lt;dbl&gt;</th><th scope=col>&lt;dbl&gt;</th><th scope=col>&lt;dbl&gt;</th><th scope=col>&lt;dbl&gt;</th></tr>\n",
       "</thead>\n",
       "<tbody>\n",
       "\t<tr><th scope=row>TVE</th><td>    1</td><td>8295.740</td><td>8295.7403874</td><td>62074.09</td><td> 0</td></tr>\n",
       "\t<tr><th scope=row>Residuals</th><td>41186</td><td>5504.203</td><td>   0.1336426</td><td>      NA</td><td>NA</td></tr>\n",
       "</tbody>\n",
       "</table>\n"
      ],
      "text/latex": [
       "A anova: 2 × 5\n",
       "\\begin{tabular}{r|lllll}\n",
       "  & Df & Sum Sq & Mean Sq & F value & Pr(>F)\\\\\n",
       "  & <int> & <dbl> & <dbl> & <dbl> & <dbl>\\\\\n",
       "\\hline\n",
       "\tTVE &     1 & 8295.740 & 8295.7403874 & 62074.09 &  0\\\\\n",
       "\tResiduals & 41186 & 5504.203 &    0.1336426 &       NA & NA\\\\\n",
       "\\end{tabular}\n"
      ],
      "text/markdown": [
       "\n",
       "A anova: 2 × 5\n",
       "\n",
       "| <!--/--> | Df &lt;int&gt; | Sum Sq &lt;dbl&gt; | Mean Sq &lt;dbl&gt; | F value &lt;dbl&gt; | Pr(&gt;F) &lt;dbl&gt; |\n",
       "|---|---|---|---|---|---|\n",
       "| TVE |     1 | 8295.740 | 8295.7403874 | 62074.09 |  0 |\n",
       "| Residuals | 41186 | 5504.203 |    0.1336426 |       NA | NA |\n",
       "\n"
      ],
      "text/plain": [
       "          Df    Sum Sq   Mean Sq      F value  Pr(>F)\n",
       "TVE           1 8295.740 8295.7403874 62074.09  0    \n",
       "Residuals 41186 5504.203    0.1336426       NA NA    "
      ]
     },
     "metadata": {},
     "output_type": "display_data"
    }
   ],
   "source": [
    "anova(regresion)"
   ]
  },
  {
   "cell_type": "code",
   "execution_count": 24,
   "metadata": {},
   "outputs": [
    {
     "data": {
      "image/png": "[encoded data removed]",
      "text/plain": [
       "plot without title"
      ]
     },
     "metadata": {
      "image/png": {
       "height": 420,
       "width": 420
      },
      "text/plain": {
       "height": 420,
       "width": 420
      }
     },
     "output_type": "display_data"
    }
   ],
   "source": [
    "residuos <- rstandard(regresion)\n",
    "valores.ajustados <- fitted(regresion)\n",
    "plot(valores.ajustados, residuos)"
   ]
  },
  {
   "cell_type": "code",
   "execution_count": 25,
   "metadata": {},
   "outputs": [
    {
     "data": {
      "image/png": "[encoded data removed]",
      "text/plain": [
       "Plot with title \"Normal Q-Q Plot\""
      ]
     },
     "metadata": {
      "image/png": {
       "height": 420,
       "width": 420
      },
      "text/plain": {
       "height": 420,
       "width": 420
      }
     },
     "output_type": "display_data"
    }
   ],
   "source": [
    "qqnorm(residuos)\n",
    "qqline(residuos)"
   ]
  },
  {
   "cell_type": "markdown",
   "metadata": {},
   "source": [
    "Se graficó por segunda vez variando el metodo para verificar, esto co la libreria (\"ggplot2\")"
   ]
  },
  {
   "cell_type": "code",
   "execution_count": 26,
   "metadata": {},
   "outputs": [
    {
     "name": "stderr",
     "output_type": "stream",
     "text": [
      "Warning message in predict.lm(regresion, interval = \"prediction\"):\n",
      "\"predictions on current data refer to _future_ responses\n",
      "\"\n",
      "`geom_smooth()` using formula 'y ~ x'\n",
      "\n"
     ]
    },
    {
     "data": {
      "image/png": "[encoded data removed]",
      "text/plain": [
       "plot without title"
      ]
     },
     "metadata": {
      "image/png": {
       "height": 420,
       "width": 420
      },
      "text/plain": {
       "height": 420,
       "width": 420
      }
     },
     "output_type": "display_data"
    }
   ],
   "source": [
    "\n",
    "# 1. Add predictions \n",
    "pred.int <- predict(regresion, interval = \"prediction\")\n",
    "mydata <- cbind(Conti, pred.int)\n",
    "# 2. Regression line + confidence intervals\n",
    "\n",
    "p <- ggplot(mydata, aes(TVE, IPC)) +\n",
    "  geom_point() +\n",
    "  stat_smooth(method = lm)\n",
    "# 3. Add prediction intervals\n",
    "p + geom_line(aes(y = lwr), color = \"red\", linetype = \"dashed\")+\n",
    "    geom_line(aes(y = upr), color = \"red\", linetype = \"dashed\")"
   ]
  },
  {
   "cell_type": "markdown",
   "metadata": {},
   "source": [
    "<H4> Tasa de Variacion de Empleo y Euribor </H4>"
   ]
  },
  {
   "cell_type": "code",
   "execution_count": 27,
   "metadata": {},
   "outputs": [
    {
     "data": {
      "image/png": "[encoded data removed]",
      "text/plain": [
       "plot without title"
      ]
     },
     "metadata": {
      "image/png": {
       "height": 420,
       "width": 420
      },
      "text/plain": {
       "height": 420,
       "width": 420
      }
     },
     "output_type": "display_data"
    }
   ],
   "source": [
    "plot(Conti$TVE,Conti$Eu)"
   ]
  },
  {
   "cell_type": "code",
   "execution_count": 28,
   "metadata": {},
   "outputs": [
    {
     "data": {
      "text/plain": [
       "\n",
       "Call:\n",
       "lm(formula = Eu ~ TVE, data = Conti)\n",
       "\n",
       "Residuals:\n",
       "     Min       1Q   Median       3Q      Max \n",
       "-1.47663 -0.17219 -0.07319  0.14284  1.61895 \n",
       "\n",
       "Coefficients:\n",
       "            Estimate Std. Error t value Pr(>|t|)    \n",
       "(Intercept) 3.533393   0.002002  1764.7   <2e-16 ***\n",
       "TVE         1.073425   0.001273   843.3   <2e-16 ***\n",
       "---\n",
       "Signif. codes:  0 '***' 0.001 '**' 0.01 '*' 0.05 '.' 0.1 ' ' 1\n",
       "\n",
       "Residual standard error: 0.4058 on 41186 degrees of freedom\n",
       "Multiple R-squared:  0.9453,\tAdjusted R-squared:  0.9453 \n",
       "F-statistic: 7.112e+05 on 1 and 41186 DF,  p-value: < 2.2e-16\n"
      ]
     },
     "metadata": {},
     "output_type": "display_data"
    }
   ],
   "source": [
    "modelo <- lm(Eu ~ TVE, data=Conti)\n",
    "summary(modelo)"
   ]
  },
  {
   "cell_type": "code",
   "execution_count": 29,
   "metadata": {},
   "outputs": [
    {
     "data": {
      "text/plain": [
       "\n",
       "\tPearson's product-moment correlation\n",
       "\n",
       "data:  Eu and TVE\n",
       "t = 843.33, df = 41186, p-value < 2.2e-16\n",
       "alternative hypothesis: true correlation is not equal to 0\n",
       "95 percent confidence interval:\n",
       " 0.9717110 0.9727684\n",
       "sample estimates:\n",
       "      cor \n",
       "0.9722447 \n"
      ]
     },
     "metadata": {},
     "output_type": "display_data"
    }
   ],
   "source": [
    "with(R, cor.test(Eu,TVE))"
   ]
  },
  {
   "cell_type": "code",
   "execution_count": 30,
   "metadata": {},
   "outputs": [
    {
     "data": {
      "image/png": "[encoded data removed]",
      "text/plain": [
       "plot without title"
      ]
     },
     "metadata": {
      "image/png": {
       "height": 420,
       "width": 420
      },
      "text/plain": {
       "height": 420,
       "width": 420
      }
     },
     "output_type": "display_data"
    }
   ],
   "source": [
    "plot(Conti$TVE, Conti$Eu, xlab='Tasa de Variación de Empleo', ylab='Euribor')\n",
    "abline(modelo)"
   ]
  },
  {
   "cell_type": "code",
   "execution_count": 31,
   "metadata": {},
   "outputs": [
    {
     "data": {
      "text/html": [
       "<table>\n",
       "<caption>A matrix: 2 × 2 of type dbl</caption>\n",
       "<thead>\n",
       "\t<tr><th></th><th scope=col>2.5 %</th><th scope=col>97.5 %</th></tr>\n",
       "</thead>\n",
       "<tbody>\n",
       "\t<tr><th scope=row>(Intercept)</th><td>3.529468</td><td>3.537317</td></tr>\n",
       "\t<tr><th scope=row>TVE</th><td>1.070930</td><td>1.075920</td></tr>\n",
       "</tbody>\n",
       "</table>\n"
      ],
      "text/latex": [
       "A matrix: 2 × 2 of type dbl\n",
       "\\begin{tabular}{r|ll}\n",
       "  & 2.5 \\% & 97.5 \\%\\\\\n",
       "\\hline\n",
       "\t(Intercept) & 3.529468 & 3.537317\\\\\n",
       "\tTVE & 1.070930 & 1.075920\\\\\n",
       "\\end{tabular}\n"
      ],
      "text/markdown": [
       "\n",
       "A matrix: 2 × 2 of type dbl\n",
       "\n",
       "| <!--/--> | 2.5 % | 97.5 % |\n",
       "|---|---|---|\n",
       "| (Intercept) | 3.529468 | 3.537317 |\n",
       "| TVE | 1.070930 | 1.075920 |\n",
       "\n"
      ],
      "text/plain": [
       "            2.5 %    97.5 %  \n",
       "(Intercept) 3.529468 3.537317\n",
       "TVE         1.070930 1.075920"
      ]
     },
     "metadata": {},
     "output_type": "display_data"
    }
   ],
   "source": [
    "confint(modelo)"
   ]
  },
  {
   "cell_type": "code",
   "execution_count": 32,
   "metadata": {},
   "outputs": [
    {
     "data": {
      "text/html": [
       "<table>\n",
       "<caption>A matrix: 2 × 2 of type dbl</caption>\n",
       "<thead>\n",
       "\t<tr><th></th><th scope=col>5 %</th><th scope=col>95 %</th></tr>\n",
       "</thead>\n",
       "<tbody>\n",
       "\t<tr><th scope=row>(Intercept)</th><td>3.530099</td><td>3.536686</td></tr>\n",
       "\t<tr><th scope=row>TVE</th><td>1.071331</td><td>1.075519</td></tr>\n",
       "</tbody>\n",
       "</table>\n"
      ],
      "text/latex": [
       "A matrix: 2 × 2 of type dbl\n",
       "\\begin{tabular}{r|ll}\n",
       "  & 5 \\% & 95 \\%\\\\\n",
       "\\hline\n",
       "\t(Intercept) & 3.530099 & 3.536686\\\\\n",
       "\tTVE & 1.071331 & 1.075519\\\\\n",
       "\\end{tabular}\n"
      ],
      "text/markdown": [
       "\n",
       "A matrix: 2 × 2 of type dbl\n",
       "\n",
       "| <!--/--> | 5 % | 95 % |\n",
       "|---|---|---|\n",
       "| (Intercept) | 3.530099 | 3.536686 |\n",
       "| TVE | 1.071331 | 1.075519 |\n",
       "\n"
      ],
      "text/plain": [
       "            5 %      95 %    \n",
       "(Intercept) 3.530099 3.536686\n",
       "TVE         1.071331 1.075519"
      ]
     },
     "metadata": {},
     "output_type": "display_data"
    }
   ],
   "source": [
    "confint(modelo, level = 0.90)"
   ]
  },
  {
   "cell_type": "code",
   "execution_count": 33,
   "metadata": {},
   "outputs": [
    {
     "data": {
      "image/png": "[encoded data removed]",
      "text/plain": [
       "plot without title"
      ]
     },
     "metadata": {
      "image/png": {
       "height": 420,
       "width": 420
      },
      "text/plain": {
       "height": 420,
       "width": 420
      }
     },
     "output_type": "display_data"
    }
   ],
   "source": [
    "nuevasTasa <- data.frame(TVE = seq(-5, 3))\n",
    "# Grafico de dispersion y recta\n",
    "plot(Conti$TVE, Conti$Eu ,xlab = \"Tasa de Variación de Empleo\", ylab = \"Euribor\" )\n",
    "abline(modelo)\n",
    "\n",
    "# Intervalos de confianza de la respuesta media:\n",
    "# ic es una matriz con tres columnas: la primera es la prediccion, las otras dos son los extremos del intervalo\n",
    "ic <- predict(modelo, nuevasTasa, interval = 'confidence')\n",
    "lines(nuevasTasa$TVE, ic[, 2], lty = 2)\n",
    "lines(nuevasTasa$TVE, ic[, 3], lty = 2)\n",
    "\n",
    "# Intervalos de prediccion\n",
    "ic <- predict(modelo, nuevasTasa, interval = 'prediction')\n",
    "lines(nuevasTasa$TVE, ic[, 2], lty = 2, col = 'red')\n",
    "lines(nuevasTasa$TVE, ic[, 3], lty = 2, col = 'red')"
   ]
  },
  {
   "cell_type": "code",
   "execution_count": 34,
   "metadata": {},
   "outputs": [
    {
     "data": {
      "image/png": "[encoded data removed]",
      "text/plain": [
       "plot without title"
      ]
     },
     "metadata": {
      "image/png": {
       "height": 420,
       "width": 420
      },
      "text/plain": {
       "height": 420,
       "width": 420
      }
     },
     "output_type": "display_data"
    }
   ],
   "source": [
    "residuos1 <- rstandard(modelo)\n",
    "valores.ajustados1 <- fitted(modelo)\n",
    "plot(valores.ajustados1, residuos1)"
   ]
  },
  {
   "cell_type": "code",
   "execution_count": 35,
   "metadata": {},
   "outputs": [
    {
     "data": {
      "image/png": "[encoded data removed]",
      "text/plain": [
       "Plot with title \"Normal Q-Q Plot\""
      ]
     },
     "metadata": {
      "image/png": {
       "height": 420,
       "width": 420
      },
      "text/plain": {
       "height": 420,
       "width": 420
      }
     },
     "output_type": "display_data"
    }
   ],
   "source": [
    "qqnorm(residuos1)\n",
    "qqline(residuos1)"
   ]
  }
 ],
 "metadata": {
  "colab": {
   "collapsed_sections": [],
   "name": "Muestreo-Interfererncia.ipynb",
   "provenance": []
  },
  "kernelspec": {
   "display_name": "R",
   "language": "R",
   "name": "ir"
  },
  "language_info": {
   "codemirror_mode": "r",
   "file_extension": ".r",
   "mimetype": "text/x-r-source",
   "name": "R",
   "pygments_lexer": "r",
   "version": "4.0.1"
  }
 },
 "nbformat": 4,
 "nbformat_minor": 1
}
