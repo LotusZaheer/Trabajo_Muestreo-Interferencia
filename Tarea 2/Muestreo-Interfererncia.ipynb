{
 "cells": [
  {
   "cell_type": "markdown",
   "metadata": {
    "colab_type": "text",
    "id": "2vmMivf1yeOV"
   },
   "source": [
    "<h1>Trabajo</h1>\n",
    "<!----Hey hey!!!---->"
   ]
  },
  {
   "cell_type": "markdown",
   "metadata": {
    "colab_type": "text",
    "id": "PmdpwQQXyeOW"
   },
   "source": [
    "<h2>Asignatura: Estadistica 2</h2>\n",
    "\n",
    "<h3>Profesor: Carlos Alfonso Mantilla Duarte\n",
    "<br>\n",
    "Grupo: F1</h3>\n",
    "\n",
    "<h4>Andrés Felipe Uribe García - 2160793\n",
    "<br>Julián Orlando Rodríguez Villamizar - 2170137\n",
    "<br>Isabel Cristina Gómez Balvin - 2171895 </h4>"
   ]
  },
  {
   "cell_type": "markdown",
   "metadata": {
    "colab_type": "text",
    "id": "GWyNQ0vMyeOX"
   },
   "source": [
    "<br>El estudiante debe descargar el archivo del siguiente enlace y realizar el respectivo análisis haciendo uso de los modelos lineales: https://www.dropbox.com/s/vv0f1k2y5nalpgx/bank-additional-full.csv?dl=0\n",
    "<br>\n",
    "<br>Los datos están relacionados con las campañas de marketing directo de una institución bancaria portuguesa. Las campañas de marketing se basaron en llamadas telefónicas. A menudo, se requería más de un contacto con el mismo cliente, para poder acceder si el producto (depósito bancario) estaba (\"sí\") o no (\"no\") suscrito.\n",
    "<br>\n",
    "<br>Las variables registradas son las siguientes:\n",
    "<br>\n",
    "<br>age - edad\n",
    "<br>job- tipo de trabajo\n",
    "<br>marital - estado civil\n",
    "<br>education - nivel educativo\n",
    "<br>default - crédito en incumplimiento\n",
    "<br>housing - crédito de vivienda\n",
    "<br>loan - préstamos personal\n",
    "<br>contact - tipo de contacto realizado\n",
    "<br>month - mes en que se hizo el último contacto\n",
    "<br>day_of_week - último día de contacto de la semana\n",
    "<br>duration - duración del último contacto, en segundos\n",
    "<br>campaign - número de contactos realizados durante esta campaña y para este cliente\n",
    "<br>pdays - número de días que pasaron después de que el cliente fue contactado por última vez desde una campaña anterior (999 significa que el cliente no fue contactado previamente)\n",
    "<br>previous- número de contactos realizados antes de esta campaña y para este cliente\n",
    "<br>poutcome - resultado de la campaña de marketing anterior\n",
    "<br>emp.var.rate- tasa de variación del empleo - indicador trimestral\n",
    "<br>cons.price.idx - índice de precios al consumidor - indicador mensual\n",
    "<br>cons.conf.idx - índice de confianza del consumidor - indicador mensual\n",
    "<br>euribor3m - euribor tasa de 3 meses - indicador diario\n",
    "<br>nr.employed - número de empleados\n",
    "<br>y - ¿el cliente ha suscrito un depósito a plazo?\n",
    "<br>\n",
    "<br>Los datos fueron tomados de: S. Moro, R. Laureano and P. Cortez. Using Data Mining for Bank Direct Marketing: An Application of the CRISP-DM Methodology. In P. Novais et al. (Eds.), Proceedings of the European Simulation and Modelling Conference - ESM'2011, pp. 117-121, Guimarães, Portugal, October, 2011. EUROSIS\n",
    "</pr>"
   ]
  },
  {
   "cell_type": "code",
   "execution_count": 1,
   "metadata": {
    "colab": {
     "base_uri": "https://localhost:8080/",
     "height": 742
    },
    "colab_type": "code",
    "executionInfo": {
     "elapsed": 63929,
     "status": "error",
     "timestamp": 1595973735482,
     "user": {
      "displayName": "Andrés Uribe",
      "photoUrl": "https://lh3.googleusercontent.com/a-/AOh14GjVyH4dZ30kz6_2ASDAUbVSCiJYjr8UR6BvauDVCw=s64",
      "userId": "02831616223172414948"
     },
     "user_tz": 300
    },
    "id": "8Zen2y9MyeOX",
    "outputId": "a37758cb-295a-4835-ae21-bc8b349d509c"
   },
   "outputs": [
    {
     "name": "stderr",
     "output_type": "stream",
     "text": [
      "Installing package into 'C:/Users/ANDRESURIBE/Documents/R/win-library/4.0'\n",
      "(as 'lib' is unspecified)\n",
      "\n"
     ]
    },
    {
     "name": "stdout",
     "output_type": "stream",
     "text": [
      "package 'samplingbook' successfully unpacked and MD5 sums checked\n",
      "\n",
      "The downloaded binary packages are in\n",
      "\tC:\\Users\\ANDRESURIBE\\AppData\\Local\\Temp\\RtmpoRUphz\\downloaded_packages\n"
     ]
    },
    {
     "name": "stderr",
     "output_type": "stream",
     "text": [
      "Warning message:\n",
      "\"package 'samplingbook' was built under R version 4.0.2\"\n",
      "Loading required package: pps\n",
      "\n",
      "Loading required package: sampling\n",
      "\n",
      "Loading required package: survey\n",
      "\n",
      "Loading required package: grid\n",
      "\n",
      "Loading required package: Matrix\n",
      "\n",
      "Loading required package: survival\n",
      "\n",
      "\n",
      "Attaching package: 'survival'\n",
      "\n",
      "\n",
      "The following objects are masked from 'package:sampling':\n",
      "\n",
      "    cluster, strata\n",
      "\n",
      "\n",
      "\n",
      "Attaching package: 'survey'\n",
      "\n",
      "\n",
      "The following object is masked from 'package:graphics':\n",
      "\n",
      "    dotchart\n",
      "\n",
      "\n",
      "\n",
      "Attaching package: 'dplyr'\n",
      "\n",
      "\n",
      "The following objects are masked from 'package:stats':\n",
      "\n",
      "    filter, lag\n",
      "\n",
      "\n",
      "The following objects are masked from 'package:base':\n",
      "\n",
      "    intersect, setdiff, setequal, union\n",
      "\n",
      "\n",
      "Installing package into 'C:/Users/ANDRESURIBE/Documents/R/win-library/4.0'\n",
      "(as 'lib' is unspecified)\n",
      "\n"
     ]
    },
    {
     "name": "stdout",
     "output_type": "stream",
     "text": [
      "package 'bbmle' successfully unpacked and MD5 sums checked\n",
      "\n",
      "The downloaded binary packages are in\n",
      "\tC:\\Users\\ANDRESURIBE\\AppData\\Local\\Temp\\RtmpoRUphz\\downloaded_packages\n"
     ]
    },
    {
     "name": "stderr",
     "output_type": "stream",
     "text": [
      "Warning message:\n",
      "\"package 'bbmle' was built under R version 4.0.2\"\n",
      "Loading required package: stats4\n",
      "\n",
      "\n",
      "Attaching package: 'bbmle'\n",
      "\n",
      "\n",
      "The following object is masked from 'package:dplyr':\n",
      "\n",
      "    slice\n",
      "\n",
      "\n",
      "Warning message:\n",
      "\"package 'stats4' is in use and will not be installed\"\n",
      "Installing package into 'C:/Users/ANDRESURIBE/Documents/R/win-library/4.0'\n",
      "(as 'lib' is unspecified)\n",
      "\n"
     ]
    },
    {
     "name": "stdout",
     "output_type": "stream",
     "text": [
      "package 'rafalib' successfully unpacked and MD5 sums checked\n",
      "\n",
      "The downloaded binary packages are in\n",
      "\tC:\\Users\\ANDRESURIBE\\AppData\\Local\\Temp\\RtmpoRUphz\\downloaded_packages\n"
     ]
    },
    {
     "data": {
      "text/html": [],
      "text/latex": [],
      "text/markdown": [],
      "text/plain": [
       "character(0)"
      ]
     },
     "metadata": {},
     "output_type": "display_data"
    }
   ],
   "source": [
    "install.packages('samplingbook')\n",
    "library(samplingbook)\n",
    "library('SamplingUtil')\n",
    "library(dplyr)\n",
    "library(magrittr)\n",
    "install.packages(\"bbmle\")\n",
    "library(bbmle)\n",
    "install.packages(\"stats4\")\n",
    "library(stats4)\n",
    "install.packages('rafalib')\n",
    "library(rafalib)\n",
    "library(\"readr\")\n",
    "ls() "
   ]
  },
  {
   "cell_type": "code",
   "execution_count": 2,
   "metadata": {
    "colab": {},
    "colab_type": "code",
    "executionInfo": {
     "elapsed": 63946,
     "status": "aborted",
     "timestamp": 1595973735508,
     "user": {
      "displayName": "Andrés Uribe",
      "photoUrl": "https://lh3.googleusercontent.com/a-/AOh14GjVyH4dZ30kz6_2ASDAUbVSCiJYjr8UR6BvauDVCw=s64",
      "userId": "02831616223172414948"
     },
     "user_tz": 300
    },
    "id": "D_mlG_e5yeOb"
   },
   "outputs": [],
   "source": [
    "dataset <- read.csv(\"bank-additional-full.csv\", header=TRUE,sep=\";\" )"
   ]
  },
  {
   "cell_type": "code",
   "execution_count": 3,
   "metadata": {},
   "outputs": [],
   "source": [
    "#Rellenamos los espacios faltantes con su media correspondiente\n",
    "#pues de omitirlos podriamos perder informacion importante\n",
    "R<-data.frame(#Variables continuas\n",
    "                Edad=dataset$age,\n",
    "                Camp=dataset$campaign,\n",
    "                NDias=dataset$pdays,\n",
    "                TVE=dataset$emp.var.rate,\n",
    "                IPC=dataset$cons.price.idx,\n",
    "                ICC=dataset$cons.conf.idx,\n",
    "                Eu=dataset$euribor3m,\n",
    "                NE=dataset$nr.employed,\n",
    "                Dur=dataset$duration,\n",
    "    \n",
    "              #Variables No Continuas\n",
    "                Trab=dataset$job,\n",
    "                EstCv=dataset$marital,\n",
    "                NvEduc=dataset$education,\n",
    "                CredInc=dataset$default,\n",
    "                CredViv=dataset$housing,\n",
    "                CredPer=dataset$loan,\n",
    "                Cont=dataset$contact,\n",
    "                Mes=dataset$month,\n",
    "                Dia=dataset$day_of_week,\n",
    "                NPrev=dataset$previous,\n",
    "                RPrev=dataset$poutcome,\n",
    "                Sus=dataset$y)\n",
    "\n",
    "#sum(is.na(R$Edad))\n",
    "#sum(is.na(R$Trab))\n",
    "#sum(is.na(R$EstCv))\n",
    "#sum(is.na(R$NvEduc))\n",
    "#sum(is.na(R$CredInc))\n",
    "#sum(is.na(R$CredViv))\n",
    "#sum(is.na(R$CredPer))\n",
    "#sum(is.na(R$Cont))\n",
    "#sum(is.na(R$Mes))\n",
    "#sum(is.na(R$Dia))\n",
    "#sum(is.na(R$Dur))\n",
    "#sum(is.na(R$Camp))\n",
    "#sum(is.na(R$NDias))\n",
    "#sum(is.na(R$NPrev))\n",
    "#sum(is.na(R$RPrev))\n",
    "#sum(is.na(R$TVE))\n",
    "#sum(is.na(R$IPC))\n",
    "#sum(is.na(R$ICC))\n",
    "#sum(is.na(R$Eu))\n",
    "#sum(is.na(R$NE))\n",
    "#sum(is.na(R$Sus))\n",
    "#No hay que limpiar"
   ]
  },
  {
   "cell_type": "code",
   "execution_count": 4,
   "metadata": {},
   "outputs": [
    {
     "data": {
      "image/png": "[encoded data removed]",
      "text/plain": [
       "plot without title"
      ]
     },
     "metadata": {
      "image/png": {
       "height": 420,
       "width": 420
      },
      "text/plain": {
       "height": 420,
       "width": 420
      }
     },
     "output_type": "display_data"
    }
   ],
   "source": [
    "# Hagamos una rápida inspección gráfica. Primero, sólo con las variables continuas\n",
    "plot(R[,1:9])"
   ]
  },
  {
   "cell_type": "code",
   "execution_count": 5,
   "metadata": {},
   "outputs": [
    {
     "data": {
      "text/html": [
       "<table>\n",
       "<caption>A data.frame: 6 × 21</caption>\n",
       "<thead>\n",
       "\t<tr><th></th><th scope=col>Edad</th><th scope=col>Camp</th><th scope=col>NDias</th><th scope=col>TVE</th><th scope=col>IPC</th><th scope=col>ICC</th><th scope=col>Eu</th><th scope=col>NE</th><th scope=col>Dur</th><th scope=col>Trab</th><th scope=col>...</th><th scope=col>NvEduc</th><th scope=col>CredInc</th><th scope=col>CredViv</th><th scope=col>CredPer</th><th scope=col>Cont</th><th scope=col>Mes</th><th scope=col>Dia</th><th scope=col>NPrev</th><th scope=col>RPrev</th><th scope=col>Sus</th></tr>\n",
       "\t<tr><th></th><th scope=col>&lt;int&gt;</th><th scope=col>&lt;int&gt;</th><th scope=col>&lt;int&gt;</th><th scope=col>&lt;dbl&gt;</th><th scope=col>&lt;dbl&gt;</th><th scope=col>&lt;dbl&gt;</th><th scope=col>&lt;dbl&gt;</th><th scope=col>&lt;dbl&gt;</th><th scope=col>&lt;int&gt;</th><th scope=col>&lt;chr&gt;</th><th scope=col>...</th><th scope=col>&lt;chr&gt;</th><th scope=col>&lt;chr&gt;</th><th scope=col>&lt;chr&gt;</th><th scope=col>&lt;chr&gt;</th><th scope=col>&lt;chr&gt;</th><th scope=col>&lt;chr&gt;</th><th scope=col>&lt;chr&gt;</th><th scope=col>&lt;int&gt;</th><th scope=col>&lt;chr&gt;</th><th scope=col>&lt;chr&gt;</th></tr>\n",
       "</thead>\n",
       "<tbody>\n",
       "\t<tr><th scope=row>1</th><td>56</td><td>1</td><td>999</td><td>1.1</td><td>93.994</td><td>-36.4</td><td>4.857</td><td>5191</td><td>261</td><td>housemaid</td><td>...</td><td>basic.4y   </td><td>no     </td><td>no </td><td>no </td><td>telephone</td><td>may</td><td>mon</td><td>0</td><td>nonexistent</td><td>no</td></tr>\n",
       "\t<tr><th scope=row>2</th><td>57</td><td>1</td><td>999</td><td>1.1</td><td>93.994</td><td>-36.4</td><td>4.857</td><td>5191</td><td>149</td><td>services </td><td>...</td><td>high.school</td><td>unknown</td><td>no </td><td>no </td><td>telephone</td><td>may</td><td>mon</td><td>0</td><td>nonexistent</td><td>no</td></tr>\n",
       "\t<tr><th scope=row>3</th><td>37</td><td>1</td><td>999</td><td>1.1</td><td>93.994</td><td>-36.4</td><td>4.857</td><td>5191</td><td>226</td><td>services </td><td>...</td><td>high.school</td><td>no     </td><td>yes</td><td>no </td><td>telephone</td><td>may</td><td>mon</td><td>0</td><td>nonexistent</td><td>no</td></tr>\n",
       "\t<tr><th scope=row>4</th><td>40</td><td>1</td><td>999</td><td>1.1</td><td>93.994</td><td>-36.4</td><td>4.857</td><td>5191</td><td>151</td><td>admin.   </td><td>...</td><td>basic.6y   </td><td>no     </td><td>no </td><td>no </td><td>telephone</td><td>may</td><td>mon</td><td>0</td><td>nonexistent</td><td>no</td></tr>\n",
       "\t<tr><th scope=row>5</th><td>56</td><td>1</td><td>999</td><td>1.1</td><td>93.994</td><td>-36.4</td><td>4.857</td><td>5191</td><td>307</td><td>services </td><td>...</td><td>high.school</td><td>no     </td><td>no </td><td>yes</td><td>telephone</td><td>may</td><td>mon</td><td>0</td><td>nonexistent</td><td>no</td></tr>\n",
       "\t<tr><th scope=row>6</th><td>45</td><td>1</td><td>999</td><td>1.1</td><td>93.994</td><td>-36.4</td><td>4.857</td><td>5191</td><td>198</td><td>services </td><td>...</td><td>basic.9y   </td><td>unknown</td><td>no </td><td>no </td><td>telephone</td><td>may</td><td>mon</td><td>0</td><td>nonexistent</td><td>no</td></tr>\n",
       "</tbody>\n",
       "</table>\n"
      ],
      "text/latex": [
       "A data.frame: 6 × 21\n",
       "\\begin{tabular}{r|lllllllllllllllllllll}\n",
       "  & Edad & Camp & NDias & TVE & IPC & ICC & Eu & NE & Dur & Trab & ... & NvEduc & CredInc & CredViv & CredPer & Cont & Mes & Dia & NPrev & RPrev & Sus\\\\\n",
       "  & <int> & <int> & <int> & <dbl> & <dbl> & <dbl> & <dbl> & <dbl> & <int> & <chr> & ... & <chr> & <chr> & <chr> & <chr> & <chr> & <chr> & <chr> & <int> & <chr> & <chr>\\\\\n",
       "\\hline\n",
       "\t1 & 56 & 1 & 999 & 1.1 & 93.994 & -36.4 & 4.857 & 5191 & 261 & housemaid & ... & basic.4y    & no      & no  & no  & telephone & may & mon & 0 & nonexistent & no\\\\\n",
       "\t2 & 57 & 1 & 999 & 1.1 & 93.994 & -36.4 & 4.857 & 5191 & 149 & services  & ... & high.school & unknown & no  & no  & telephone & may & mon & 0 & nonexistent & no\\\\\n",
       "\t3 & 37 & 1 & 999 & 1.1 & 93.994 & -36.4 & 4.857 & 5191 & 226 & services  & ... & high.school & no      & yes & no  & telephone & may & mon & 0 & nonexistent & no\\\\\n",
       "\t4 & 40 & 1 & 999 & 1.1 & 93.994 & -36.4 & 4.857 & 5191 & 151 & admin.    & ... & basic.6y    & no      & no  & no  & telephone & may & mon & 0 & nonexistent & no\\\\\n",
       "\t5 & 56 & 1 & 999 & 1.1 & 93.994 & -36.4 & 4.857 & 5191 & 307 & services  & ... & high.school & no      & no  & yes & telephone & may & mon & 0 & nonexistent & no\\\\\n",
       "\t6 & 45 & 1 & 999 & 1.1 & 93.994 & -36.4 & 4.857 & 5191 & 198 & services  & ... & basic.9y    & unknown & no  & no  & telephone & may & mon & 0 & nonexistent & no\\\\\n",
       "\\end{tabular}\n"
      ],
      "text/markdown": [
       "\n",
       "A data.frame: 6 × 21\n",
       "\n",
       "| <!--/--> | Edad &lt;int&gt; | Camp &lt;int&gt; | NDias &lt;int&gt; | TVE &lt;dbl&gt; | IPC &lt;dbl&gt; | ICC &lt;dbl&gt; | Eu &lt;dbl&gt; | NE &lt;dbl&gt; | Dur &lt;int&gt; | Trab &lt;chr&gt; | ... ... | NvEduc &lt;chr&gt; | CredInc &lt;chr&gt; | CredViv &lt;chr&gt; | CredPer &lt;chr&gt; | Cont &lt;chr&gt; | Mes &lt;chr&gt; | Dia &lt;chr&gt; | NPrev &lt;int&gt; | RPrev &lt;chr&gt; | Sus &lt;chr&gt; |\n",
       "|---|---|---|---|---|---|---|---|---|---|---|---|---|---|---|---|---|---|---|---|---|---|\n",
       "| 1 | 56 | 1 | 999 | 1.1 | 93.994 | -36.4 | 4.857 | 5191 | 261 | housemaid | ... | basic.4y    | no      | no  | no  | telephone | may | mon | 0 | nonexistent | no |\n",
       "| 2 | 57 | 1 | 999 | 1.1 | 93.994 | -36.4 | 4.857 | 5191 | 149 | services  | ... | high.school | unknown | no  | no  | telephone | may | mon | 0 | nonexistent | no |\n",
       "| 3 | 37 | 1 | 999 | 1.1 | 93.994 | -36.4 | 4.857 | 5191 | 226 | services  | ... | high.school | no      | yes | no  | telephone | may | mon | 0 | nonexistent | no |\n",
       "| 4 | 40 | 1 | 999 | 1.1 | 93.994 | -36.4 | 4.857 | 5191 | 151 | admin.    | ... | basic.6y    | no      | no  | no  | telephone | may | mon | 0 | nonexistent | no |\n",
       "| 5 | 56 | 1 | 999 | 1.1 | 93.994 | -36.4 | 4.857 | 5191 | 307 | services  | ... | high.school | no      | no  | yes | telephone | may | mon | 0 | nonexistent | no |\n",
       "| 6 | 45 | 1 | 999 | 1.1 | 93.994 | -36.4 | 4.857 | 5191 | 198 | services  | ... | basic.9y    | unknown | no  | no  | telephone | may | mon | 0 | nonexistent | no |\n",
       "\n"
      ],
      "text/plain": [
       "  Edad Camp NDias TVE IPC    ICC   Eu    NE   Dur Trab      ... NvEduc     \n",
       "1 56   1    999   1.1 93.994 -36.4 4.857 5191 261 housemaid ... basic.4y   \n",
       "2 57   1    999   1.1 93.994 -36.4 4.857 5191 149 services  ... high.school\n",
       "3 37   1    999   1.1 93.994 -36.4 4.857 5191 226 services  ... high.school\n",
       "4 40   1    999   1.1 93.994 -36.4 4.857 5191 151 admin.    ... basic.6y   \n",
       "5 56   1    999   1.1 93.994 -36.4 4.857 5191 307 services  ... high.school\n",
       "6 45   1    999   1.1 93.994 -36.4 4.857 5191 198 services  ... basic.9y   \n",
       "  CredInc CredViv CredPer Cont      Mes Dia NPrev RPrev       Sus\n",
       "1 no      no      no      telephone may mon 0     nonexistent no \n",
       "2 unknown no      no      telephone may mon 0     nonexistent no \n",
       "3 no      yes     no      telephone may mon 0     nonexistent no \n",
       "4 no      no      no      telephone may mon 0     nonexistent no \n",
       "5 no      no      yes     telephone may mon 0     nonexistent no \n",
       "6 unknown no      no      telephone may mon 0     nonexistent no "
      ]
     },
     "metadata": {},
     "output_type": "display_data"
    },
    {
     "data": {
      "text/html": [
       "<table>\n",
       "<caption>A data.frame: 6 × 21</caption>\n",
       "<thead>\n",
       "\t<tr><th></th><th scope=col>Edad</th><th scope=col>Camp</th><th scope=col>NDias</th><th scope=col>TVE</th><th scope=col>IPC</th><th scope=col>ICC</th><th scope=col>Eu</th><th scope=col>NE</th><th scope=col>Dur</th><th scope=col>Trab</th><th scope=col>...</th><th scope=col>NvEduc</th><th scope=col>CredInc</th><th scope=col>CredViv</th><th scope=col>CredPer</th><th scope=col>Cont</th><th scope=col>Mes</th><th scope=col>Dia</th><th scope=col>NPrev</th><th scope=col>RPrev</th><th scope=col>Sus</th></tr>\n",
       "\t<tr><th></th><th scope=col>&lt;int&gt;</th><th scope=col>&lt;int&gt;</th><th scope=col>&lt;int&gt;</th><th scope=col>&lt;dbl&gt;</th><th scope=col>&lt;dbl&gt;</th><th scope=col>&lt;dbl&gt;</th><th scope=col>&lt;dbl&gt;</th><th scope=col>&lt;dbl&gt;</th><th scope=col>&lt;int&gt;</th><th scope=col>&lt;chr&gt;</th><th scope=col>...</th><th scope=col>&lt;chr&gt;</th><th scope=col>&lt;chr&gt;</th><th scope=col>&lt;chr&gt;</th><th scope=col>&lt;chr&gt;</th><th scope=col>&lt;chr&gt;</th><th scope=col>&lt;chr&gt;</th><th scope=col>&lt;chr&gt;</th><th scope=col>&lt;int&gt;</th><th scope=col>&lt;chr&gt;</th><th scope=col>&lt;chr&gt;</th></tr>\n",
       "</thead>\n",
       "<tbody>\n",
       "\t<tr><th scope=row>41183</th><td>29</td><td>1</td><td>  9</td><td>-1.1</td><td>94.767</td><td>-50.8</td><td>1.028</td><td>4963.6</td><td>112</td><td>unemployed </td><td>...</td><td>basic.4y           </td><td>no</td><td>yes</td><td>no</td><td>cellular</td><td>nov</td><td>fri</td><td>1</td><td>success    </td><td>no </td></tr>\n",
       "\t<tr><th scope=row>41184</th><td>73</td><td>1</td><td>999</td><td>-1.1</td><td>94.767</td><td>-50.8</td><td>1.028</td><td>4963.6</td><td>334</td><td>retired    </td><td>...</td><td>professional.course</td><td>no</td><td>yes</td><td>no</td><td>cellular</td><td>nov</td><td>fri</td><td>0</td><td>nonexistent</td><td>yes</td></tr>\n",
       "\t<tr><th scope=row>41185</th><td>46</td><td>1</td><td>999</td><td>-1.1</td><td>94.767</td><td>-50.8</td><td>1.028</td><td>4963.6</td><td>383</td><td>blue-collar</td><td>...</td><td>professional.course</td><td>no</td><td>no </td><td>no</td><td>cellular</td><td>nov</td><td>fri</td><td>0</td><td>nonexistent</td><td>no </td></tr>\n",
       "\t<tr><th scope=row>41186</th><td>56</td><td>2</td><td>999</td><td>-1.1</td><td>94.767</td><td>-50.8</td><td>1.028</td><td>4963.6</td><td>189</td><td>retired    </td><td>...</td><td>university.degree  </td><td>no</td><td>yes</td><td>no</td><td>cellular</td><td>nov</td><td>fri</td><td>0</td><td>nonexistent</td><td>no </td></tr>\n",
       "\t<tr><th scope=row>41187</th><td>44</td><td>1</td><td>999</td><td>-1.1</td><td>94.767</td><td>-50.8</td><td>1.028</td><td>4963.6</td><td>442</td><td>technician </td><td>...</td><td>professional.course</td><td>no</td><td>no </td><td>no</td><td>cellular</td><td>nov</td><td>fri</td><td>0</td><td>nonexistent</td><td>yes</td></tr>\n",
       "\t<tr><th scope=row>41188</th><td>74</td><td>3</td><td>999</td><td>-1.1</td><td>94.767</td><td>-50.8</td><td>1.028</td><td>4963.6</td><td>239</td><td>retired    </td><td>...</td><td>professional.course</td><td>no</td><td>yes</td><td>no</td><td>cellular</td><td>nov</td><td>fri</td><td>1</td><td>failure    </td><td>no </td></tr>\n",
       "</tbody>\n",
       "</table>\n"
      ],
      "text/latex": [
       "A data.frame: 6 × 21\n",
       "\\begin{tabular}{r|lllllllllllllllllllll}\n",
       "  & Edad & Camp & NDias & TVE & IPC & ICC & Eu & NE & Dur & Trab & ... & NvEduc & CredInc & CredViv & CredPer & Cont & Mes & Dia & NPrev & RPrev & Sus\\\\\n",
       "  & <int> & <int> & <int> & <dbl> & <dbl> & <dbl> & <dbl> & <dbl> & <int> & <chr> & ... & <chr> & <chr> & <chr> & <chr> & <chr> & <chr> & <chr> & <int> & <chr> & <chr>\\\\\n",
       "\\hline\n",
       "\t41183 & 29 & 1 &   9 & -1.1 & 94.767 & -50.8 & 1.028 & 4963.6 & 112 & unemployed  & ... & basic.4y            & no & yes & no & cellular & nov & fri & 1 & success     & no \\\\\n",
       "\t41184 & 73 & 1 & 999 & -1.1 & 94.767 & -50.8 & 1.028 & 4963.6 & 334 & retired     & ... & professional.course & no & yes & no & cellular & nov & fri & 0 & nonexistent & yes\\\\\n",
       "\t41185 & 46 & 1 & 999 & -1.1 & 94.767 & -50.8 & 1.028 & 4963.6 & 383 & blue-collar & ... & professional.course & no & no  & no & cellular & nov & fri & 0 & nonexistent & no \\\\\n",
       "\t41186 & 56 & 2 & 999 & -1.1 & 94.767 & -50.8 & 1.028 & 4963.6 & 189 & retired     & ... & university.degree   & no & yes & no & cellular & nov & fri & 0 & nonexistent & no \\\\\n",
       "\t41187 & 44 & 1 & 999 & -1.1 & 94.767 & -50.8 & 1.028 & 4963.6 & 442 & technician  & ... & professional.course & no & no  & no & cellular & nov & fri & 0 & nonexistent & yes\\\\\n",
       "\t41188 & 74 & 3 & 999 & -1.1 & 94.767 & -50.8 & 1.028 & 4963.6 & 239 & retired     & ... & professional.course & no & yes & no & cellular & nov & fri & 1 & failure     & no \\\\\n",
       "\\end{tabular}\n"
      ],
      "text/markdown": [
       "\n",
       "A data.frame: 6 × 21\n",
       "\n",
       "| <!--/--> | Edad &lt;int&gt; | Camp &lt;int&gt; | NDias &lt;int&gt; | TVE &lt;dbl&gt; | IPC &lt;dbl&gt; | ICC &lt;dbl&gt; | Eu &lt;dbl&gt; | NE &lt;dbl&gt; | Dur &lt;int&gt; | Trab &lt;chr&gt; | ... ... | NvEduc &lt;chr&gt; | CredInc &lt;chr&gt; | CredViv &lt;chr&gt; | CredPer &lt;chr&gt; | Cont &lt;chr&gt; | Mes &lt;chr&gt; | Dia &lt;chr&gt; | NPrev &lt;int&gt; | RPrev &lt;chr&gt; | Sus &lt;chr&gt; |\n",
       "|---|---|---|---|---|---|---|---|---|---|---|---|---|---|---|---|---|---|---|---|---|---|\n",
       "| 41183 | 29 | 1 |   9 | -1.1 | 94.767 | -50.8 | 1.028 | 4963.6 | 112 | unemployed  | ... | basic.4y            | no | yes | no | cellular | nov | fri | 1 | success     | no  |\n",
       "| 41184 | 73 | 1 | 999 | -1.1 | 94.767 | -50.8 | 1.028 | 4963.6 | 334 | retired     | ... | professional.course | no | yes | no | cellular | nov | fri | 0 | nonexistent | yes |\n",
       "| 41185 | 46 | 1 | 999 | -1.1 | 94.767 | -50.8 | 1.028 | 4963.6 | 383 | blue-collar | ... | professional.course | no | no  | no | cellular | nov | fri | 0 | nonexistent | no  |\n",
       "| 41186 | 56 | 2 | 999 | -1.1 | 94.767 | -50.8 | 1.028 | 4963.6 | 189 | retired     | ... | university.degree   | no | yes | no | cellular | nov | fri | 0 | nonexistent | no  |\n",
       "| 41187 | 44 | 1 | 999 | -1.1 | 94.767 | -50.8 | 1.028 | 4963.6 | 442 | technician  | ... | professional.course | no | no  | no | cellular | nov | fri | 0 | nonexistent | yes |\n",
       "| 41188 | 74 | 3 | 999 | -1.1 | 94.767 | -50.8 | 1.028 | 4963.6 | 239 | retired     | ... | professional.course | no | yes | no | cellular | nov | fri | 1 | failure     | no  |\n",
       "\n"
      ],
      "text/plain": [
       "      Edad Camp NDias TVE  IPC    ICC   Eu    NE     Dur Trab        ...\n",
       "41183 29   1      9   -1.1 94.767 -50.8 1.028 4963.6 112 unemployed  ...\n",
       "41184 73   1    999   -1.1 94.767 -50.8 1.028 4963.6 334 retired     ...\n",
       "41185 46   1    999   -1.1 94.767 -50.8 1.028 4963.6 383 blue-collar ...\n",
       "41186 56   2    999   -1.1 94.767 -50.8 1.028 4963.6 189 retired     ...\n",
       "41187 44   1    999   -1.1 94.767 -50.8 1.028 4963.6 442 technician  ...\n",
       "41188 74   3    999   -1.1 94.767 -50.8 1.028 4963.6 239 retired     ...\n",
       "      NvEduc              CredInc CredViv CredPer Cont     Mes Dia NPrev\n",
       "41183 basic.4y            no      yes     no      cellular nov fri 1    \n",
       "41184 professional.course no      yes     no      cellular nov fri 0    \n",
       "41185 professional.course no      no      no      cellular nov fri 0    \n",
       "41186 university.degree   no      yes     no      cellular nov fri 0    \n",
       "41187 professional.course no      no      no      cellular nov fri 0    \n",
       "41188 professional.course no      yes     no      cellular nov fri 1    \n",
       "      RPrev       Sus\n",
       "41183 success     no \n",
       "41184 nonexistent yes\n",
       "41185 nonexistent no \n",
       "41186 nonexistent no \n",
       "41187 nonexistent yes\n",
       "41188 failure     no "
      ]
     },
     "metadata": {},
     "output_type": "display_data"
    }
   ],
   "source": [
    "head(R)\n",
    "tail(R)"
   ]
  },
  {
   "cell_type": "code",
   "execution_count": null,
   "metadata": {},
   "outputs": [],
   "source": []
  }
 ],
 "metadata": {
  "colab": {
   "collapsed_sections": [],
   "name": "Muestreo-Interfererncia.ipynb",
   "provenance": []
  },
  "kernelspec": {
   "display_name": "R",
   "language": "R",
   "name": "ir"
  },
  "language_info": {
   "codemirror_mode": "r",
   "file_extension": ".r",
   "mimetype": "text/x-r-source",
   "name": "R",
   "pygments_lexer": "r",
   "version": "4.0.1"
  }
 },
 "nbformat": 4,
 "nbformat_minor": 1
}
