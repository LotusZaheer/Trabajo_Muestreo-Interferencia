{
 "cells": [
  {
   "cell_type": "markdown",
   "metadata": {
    "colab_type": "text",
    "id": "2vmMivf1yeOV"
   },
   "source": [
    "<h1>Trabajo</h1>\n",
    "<!----Hey hey!!!---->"
   ]
  },
  {
   "cell_type": "markdown",
   "metadata": {
    "colab_type": "text",
    "id": "PmdpwQQXyeOW"
   },
   "source": [
    "<h2>Asignatura: Estadistica 2</h2>\n",
    "\n",
    "<h3>Profesor: Carlos Alfonso Mantilla Duarte\n",
    "<br>\n",
    "Grupo: F1</h3>\n",
    "\n",
    "<h4>Andrés Felipe Uribe García - 2160793\n",
    "<br>Julián Orlando Rodríguez Villamizar - 2170137\n",
    "<br>Isabel Cristina Gómez Balvin - 2171895 </h4>"
   ]
  },
  {
   "cell_type": "markdown",
   "metadata": {
    "colab_type": "text",
    "id": "GWyNQ0vMyeOX"
   },
   "source": [
    "<br>El estudiante debe descargar el archivo del siguiente enlace y realizar el respectivo análisis haciendo uso de los modelos lineales: https://www.dropbox.com/s/vv0f1k2y5nalpgx/bank-additional-full.csv?dl=0\n",
    "<br>\n",
    "<br>Los datos están relacionados con las campañas de marketing directo de una institución bancaria portuguesa. Las campañas de marketing se basaron en llamadas telefónicas. A menudo, se requería más de un contacto con el mismo cliente, para poder acceder si el producto (depósito bancario) estaba (\"sí\") o no (\"no\") suscrito.\n",
    "<br>\n",
    "<br>Las variables registradas son las siguientes:\n",
    "<br>\n",
    "<br>age - edad\n",
    "<br>job- tipo de trabajo\n",
    "<br>marital - estado civil\n",
    "<br>education - nivel educativo\n",
    "<br>default - crédito en incumplimiento\n",
    "<br>housing - crédito de vivienda\n",
    "<br>loan - préstamos personal\n",
    "<br>contact - tipo de contacto realizado\n",
    "<br>month - mes en que se hizo el último contacto\n",
    "<br>day_of_week - último día de contacto de la semana\n",
    "<br>duration - duración del último contacto, en segundos\n",
    "<br>campaign - número de contactos realizados durante esta campaña y para este cliente\n",
    "<br>pdays - número de días que pasaron después de que el cliente fue contactado por última vez desde una campaña anterior (999 significa que el cliente no fue contactado previamente)\n",
    "<br>previous- número de contactos realizados antes de esta campaña y para este cliente\n",
    "<br>poutcome - resultado de la campaña de marketing anterior\n",
    "<br>emp.var.rate- tasa de variación del empleo - indicador trimestral\n",
    "<br>cons.price.idx - índice de precios al consumidor - indicador mensual\n",
    "<br>cons.conf.idx - índice de confianza del consumidor - indicador mensual\n",
    "<br>euribor3m - euribor tasa de 3 meses - indicador diario\n",
    "<br>nr.employed - número de empleados\n",
    "<br>y - ¿el cliente ha suscrito un depósito a plazo?\n",
    "<br>\n",
    "<br>Los datos fueron tomados de: S. Moro, R. Laureano and P. Cortez. Using Data Mining for Bank Direct Marketing: An Application of the CRISP-DM Methodology. In P. Novais et al. (Eds.), Proceedings of the European Simulation and Modelling Conference - ESM'2011, pp. 117-121, Guimarães, Portugal, October, 2011. EUROSIS\n",
    "</pr>"
   ]
  },
  {
   "cell_type": "code",
   "execution_count": 2,
   "metadata": {
    "colab": {
     "base_uri": "https://localhost:8080/",
     "height": 742
    },
    "colab_type": "code",
    "executionInfo": {
     "elapsed": 63929,
     "status": "error",
     "timestamp": 1595973735482,
     "user": {
      "displayName": "Andrés Uribe",
      "photoUrl": "https://lh3.googleusercontent.com/a-/AOh14GjVyH4dZ30kz6_2ASDAUbVSCiJYjr8UR6BvauDVCw=s64",
      "userId": "02831616223172414948"
     },
     "user_tz": 300
    },
    "id": "8Zen2y9MyeOX",
    "outputId": "a37758cb-295a-4835-ae21-bc8b349d509c"
   },
   "outputs": [
    {
     "name": "stderr",
     "output_type": "stream",
     "text": [
      "Warning message:\n",
      "\"package 'samplingbook' is in use and will not be installed\"\n",
      "Warning message:\n",
      "\"package 'bbmle' is in use and will not be installed\"\n",
      "Warning message:\n",
      "\"package 'stats4' is in use and will not be installed\"\n",
      "Warning message:\n",
      "\"package 'rafalib' is in use and will not be installed\"\n"
     ]
    },
    {
     "data": {
      "text/html": [],
      "text/latex": [],
      "text/markdown": [],
      "text/plain": [
       "character(0)"
      ]
     },
     "metadata": {},
     "output_type": "display_data"
    }
   ],
   "source": [
    "install.packages('samplingbook')\n",
    "library(samplingbook)\n",
    "library('SamplingUtil')\n",
    "library(dplyr)\n",
    "library(magrittr)\n",
    "install.packages(\"bbmle\")\n",
    "library(bbmle)\n",
    "install.packages(\"stats4\")\n",
    "library(stats4)\n",
    "install.packages('rafalib')\n",
    "library(rafalib)\n",
    "library(\"readr\")\n",
    "ls() "
   ]
  },
  {
   "cell_type": "code",
   "execution_count": 13,
   "metadata": {
    "colab": {},
    "colab_type": "code",
    "executionInfo": {
     "elapsed": 63946,
     "status": "aborted",
     "timestamp": 1595973735508,
     "user": {
      "displayName": "Andrés Uribe",
      "photoUrl": "https://lh3.googleusercontent.com/a-/AOh14GjVyH4dZ30kz6_2ASDAUbVSCiJYjr8UR6BvauDVCw=s64",
      "userId": "02831616223172414948"
     },
     "user_tz": 300
    },
    "id": "D_mlG_e5yeOb"
   },
   "outputs": [
    {
     "data": {
      "text/html": [
       "<table>\n",
       "<caption>A data.frame: 6 × 21</caption>\n",
       "<thead>\n",
       "\t<tr><th></th><th scope=col>age</th><th scope=col>job</th><th scope=col>marital</th><th scope=col>education</th><th scope=col>default</th><th scope=col>housing</th><th scope=col>loan</th><th scope=col>contact</th><th scope=col>month</th><th scope=col>day_of_week</th><th scope=col>...</th><th scope=col>campaign</th><th scope=col>pdays</th><th scope=col>previous</th><th scope=col>poutcome</th><th scope=col>emp.var.rate</th><th scope=col>cons.price.idx</th><th scope=col>cons.conf.idx</th><th scope=col>euribor3m</th><th scope=col>nr.employed</th><th scope=col>y</th></tr>\n",
       "\t<tr><th></th><th scope=col>&lt;int&gt;</th><th scope=col>&lt;chr&gt;</th><th scope=col>&lt;chr&gt;</th><th scope=col>&lt;chr&gt;</th><th scope=col>&lt;chr&gt;</th><th scope=col>&lt;chr&gt;</th><th scope=col>&lt;chr&gt;</th><th scope=col>&lt;chr&gt;</th><th scope=col>&lt;chr&gt;</th><th scope=col>&lt;chr&gt;</th><th scope=col>...</th><th scope=col>&lt;int&gt;</th><th scope=col>&lt;int&gt;</th><th scope=col>&lt;int&gt;</th><th scope=col>&lt;chr&gt;</th><th scope=col>&lt;dbl&gt;</th><th scope=col>&lt;dbl&gt;</th><th scope=col>&lt;dbl&gt;</th><th scope=col>&lt;dbl&gt;</th><th scope=col>&lt;dbl&gt;</th><th scope=col>&lt;chr&gt;</th></tr>\n",
       "</thead>\n",
       "<tbody>\n",
       "\t<tr><th scope=row>1</th><td>56</td><td>housemaid</td><td>married</td><td>basic.4y   </td><td>no     </td><td>no </td><td>no </td><td>telephone</td><td>may</td><td>mon</td><td>...</td><td>1</td><td>999</td><td>0</td><td>nonexistent</td><td>1.1</td><td>93.994</td><td>-36.4</td><td>4.857</td><td>5191</td><td>no</td></tr>\n",
       "\t<tr><th scope=row>2</th><td>57</td><td>services </td><td>married</td><td>high.school</td><td>unknown</td><td>no </td><td>no </td><td>telephone</td><td>may</td><td>mon</td><td>...</td><td>1</td><td>999</td><td>0</td><td>nonexistent</td><td>1.1</td><td>93.994</td><td>-36.4</td><td>4.857</td><td>5191</td><td>no</td></tr>\n",
       "\t<tr><th scope=row>3</th><td>37</td><td>services </td><td>married</td><td>high.school</td><td>no     </td><td>yes</td><td>no </td><td>telephone</td><td>may</td><td>mon</td><td>...</td><td>1</td><td>999</td><td>0</td><td>nonexistent</td><td>1.1</td><td>93.994</td><td>-36.4</td><td>4.857</td><td>5191</td><td>no</td></tr>\n",
       "\t<tr><th scope=row>4</th><td>40</td><td>admin.   </td><td>married</td><td>basic.6y   </td><td>no     </td><td>no </td><td>no </td><td>telephone</td><td>may</td><td>mon</td><td>...</td><td>1</td><td>999</td><td>0</td><td>nonexistent</td><td>1.1</td><td>93.994</td><td>-36.4</td><td>4.857</td><td>5191</td><td>no</td></tr>\n",
       "\t<tr><th scope=row>5</th><td>56</td><td>services </td><td>married</td><td>high.school</td><td>no     </td><td>no </td><td>yes</td><td>telephone</td><td>may</td><td>mon</td><td>...</td><td>1</td><td>999</td><td>0</td><td>nonexistent</td><td>1.1</td><td>93.994</td><td>-36.4</td><td>4.857</td><td>5191</td><td>no</td></tr>\n",
       "\t<tr><th scope=row>6</th><td>45</td><td>services </td><td>married</td><td>basic.9y   </td><td>unknown</td><td>no </td><td>no </td><td>telephone</td><td>may</td><td>mon</td><td>...</td><td>1</td><td>999</td><td>0</td><td>nonexistent</td><td>1.1</td><td>93.994</td><td>-36.4</td><td>4.857</td><td>5191</td><td>no</td></tr>\n",
       "</tbody>\n",
       "</table>\n"
      ],
      "text/latex": [
       "A data.frame: 6 × 21\n",
       "\\begin{tabular}{r|lllllllllllllllllllll}\n",
       "  & age & job & marital & education & default & housing & loan & contact & month & day\\_of\\_week & ... & campaign & pdays & previous & poutcome & emp.var.rate & cons.price.idx & cons.conf.idx & euribor3m & nr.employed & y\\\\\n",
       "  & <int> & <chr> & <chr> & <chr> & <chr> & <chr> & <chr> & <chr> & <chr> & <chr> & ... & <int> & <int> & <int> & <chr> & <dbl> & <dbl> & <dbl> & <dbl> & <dbl> & <chr>\\\\\n",
       "\\hline\n",
       "\t1 & 56 & housemaid & married & basic.4y    & no      & no  & no  & telephone & may & mon & ... & 1 & 999 & 0 & nonexistent & 1.1 & 93.994 & -36.4 & 4.857 & 5191 & no\\\\\n",
       "\t2 & 57 & services  & married & high.school & unknown & no  & no  & telephone & may & mon & ... & 1 & 999 & 0 & nonexistent & 1.1 & 93.994 & -36.4 & 4.857 & 5191 & no\\\\\n",
       "\t3 & 37 & services  & married & high.school & no      & yes & no  & telephone & may & mon & ... & 1 & 999 & 0 & nonexistent & 1.1 & 93.994 & -36.4 & 4.857 & 5191 & no\\\\\n",
       "\t4 & 40 & admin.    & married & basic.6y    & no      & no  & no  & telephone & may & mon & ... & 1 & 999 & 0 & nonexistent & 1.1 & 93.994 & -36.4 & 4.857 & 5191 & no\\\\\n",
       "\t5 & 56 & services  & married & high.school & no      & no  & yes & telephone & may & mon & ... & 1 & 999 & 0 & nonexistent & 1.1 & 93.994 & -36.4 & 4.857 & 5191 & no\\\\\n",
       "\t6 & 45 & services  & married & basic.9y    & unknown & no  & no  & telephone & may & mon & ... & 1 & 999 & 0 & nonexistent & 1.1 & 93.994 & -36.4 & 4.857 & 5191 & no\\\\\n",
       "\\end{tabular}\n"
      ],
      "text/markdown": [
       "\n",
       "A data.frame: 6 × 21\n",
       "\n",
       "| <!--/--> | age &lt;int&gt; | job &lt;chr&gt; | marital &lt;chr&gt; | education &lt;chr&gt; | default &lt;chr&gt; | housing &lt;chr&gt; | loan &lt;chr&gt; | contact &lt;chr&gt; | month &lt;chr&gt; | day_of_week &lt;chr&gt; | ... ... | campaign &lt;int&gt; | pdays &lt;int&gt; | previous &lt;int&gt; | poutcome &lt;chr&gt; | emp.var.rate &lt;dbl&gt; | cons.price.idx &lt;dbl&gt; | cons.conf.idx &lt;dbl&gt; | euribor3m &lt;dbl&gt; | nr.employed &lt;dbl&gt; | y &lt;chr&gt; |\n",
       "|---|---|---|---|---|---|---|---|---|---|---|---|---|---|---|---|---|---|---|---|---|---|\n",
       "| 1 | 56 | housemaid | married | basic.4y    | no      | no  | no  | telephone | may | mon | ... | 1 | 999 | 0 | nonexistent | 1.1 | 93.994 | -36.4 | 4.857 | 5191 | no |\n",
       "| 2 | 57 | services  | married | high.school | unknown | no  | no  | telephone | may | mon | ... | 1 | 999 | 0 | nonexistent | 1.1 | 93.994 | -36.4 | 4.857 | 5191 | no |\n",
       "| 3 | 37 | services  | married | high.school | no      | yes | no  | telephone | may | mon | ... | 1 | 999 | 0 | nonexistent | 1.1 | 93.994 | -36.4 | 4.857 | 5191 | no |\n",
       "| 4 | 40 | admin.    | married | basic.6y    | no      | no  | no  | telephone | may | mon | ... | 1 | 999 | 0 | nonexistent | 1.1 | 93.994 | -36.4 | 4.857 | 5191 | no |\n",
       "| 5 | 56 | services  | married | high.school | no      | no  | yes | telephone | may | mon | ... | 1 | 999 | 0 | nonexistent | 1.1 | 93.994 | -36.4 | 4.857 | 5191 | no |\n",
       "| 6 | 45 | services  | married | basic.9y    | unknown | no  | no  | telephone | may | mon | ... | 1 | 999 | 0 | nonexistent | 1.1 | 93.994 | -36.4 | 4.857 | 5191 | no |\n",
       "\n"
      ],
      "text/plain": [
       "  age job       marital education   default housing loan contact   month\n",
       "1 56  housemaid married basic.4y    no      no      no   telephone may  \n",
       "2 57  services  married high.school unknown no      no   telephone may  \n",
       "3 37  services  married high.school no      yes     no   telephone may  \n",
       "4 40  admin.    married basic.6y    no      no      no   telephone may  \n",
       "5 56  services  married high.school no      no      yes  telephone may  \n",
       "6 45  services  married basic.9y    unknown no      no   telephone may  \n",
       "  day_of_week ... campaign pdays previous poutcome    emp.var.rate\n",
       "1 mon         ... 1        999   0        nonexistent 1.1         \n",
       "2 mon         ... 1        999   0        nonexistent 1.1         \n",
       "3 mon         ... 1        999   0        nonexistent 1.1         \n",
       "4 mon         ... 1        999   0        nonexistent 1.1         \n",
       "5 mon         ... 1        999   0        nonexistent 1.1         \n",
       "6 mon         ... 1        999   0        nonexistent 1.1         \n",
       "  cons.price.idx cons.conf.idx euribor3m nr.employed y \n",
       "1 93.994         -36.4         4.857     5191        no\n",
       "2 93.994         -36.4         4.857     5191        no\n",
       "3 93.994         -36.4         4.857     5191        no\n",
       "4 93.994         -36.4         4.857     5191        no\n",
       "5 93.994         -36.4         4.857     5191        no\n",
       "6 93.994         -36.4         4.857     5191        no"
      ]
     },
     "metadata": {},
     "output_type": "display_data"
    },
    {
     "data": {
      "text/html": [
       "<table>\n",
       "<caption>A data.frame: 6 × 21</caption>\n",
       "<thead>\n",
       "\t<tr><th></th><th scope=col>age</th><th scope=col>job</th><th scope=col>marital</th><th scope=col>education</th><th scope=col>default</th><th scope=col>housing</th><th scope=col>loan</th><th scope=col>contact</th><th scope=col>month</th><th scope=col>day_of_week</th><th scope=col>...</th><th scope=col>campaign</th><th scope=col>pdays</th><th scope=col>previous</th><th scope=col>poutcome</th><th scope=col>emp.var.rate</th><th scope=col>cons.price.idx</th><th scope=col>cons.conf.idx</th><th scope=col>euribor3m</th><th scope=col>nr.employed</th><th scope=col>y</th></tr>\n",
       "\t<tr><th></th><th scope=col>&lt;int&gt;</th><th scope=col>&lt;chr&gt;</th><th scope=col>&lt;chr&gt;</th><th scope=col>&lt;chr&gt;</th><th scope=col>&lt;chr&gt;</th><th scope=col>&lt;chr&gt;</th><th scope=col>&lt;chr&gt;</th><th scope=col>&lt;chr&gt;</th><th scope=col>&lt;chr&gt;</th><th scope=col>&lt;chr&gt;</th><th scope=col>...</th><th scope=col>&lt;int&gt;</th><th scope=col>&lt;int&gt;</th><th scope=col>&lt;int&gt;</th><th scope=col>&lt;chr&gt;</th><th scope=col>&lt;dbl&gt;</th><th scope=col>&lt;dbl&gt;</th><th scope=col>&lt;dbl&gt;</th><th scope=col>&lt;dbl&gt;</th><th scope=col>&lt;dbl&gt;</th><th scope=col>&lt;chr&gt;</th></tr>\n",
       "</thead>\n",
       "<tbody>\n",
       "\t<tr><th scope=row>41183</th><td>29</td><td>unemployed </td><td>single </td><td>basic.4y           </td><td>no</td><td>yes</td><td>no</td><td>cellular</td><td>nov</td><td>fri</td><td>...</td><td>1</td><td>  9</td><td>1</td><td>success    </td><td>-1.1</td><td>94.767</td><td>-50.8</td><td>1.028</td><td>4963.6</td><td>no </td></tr>\n",
       "\t<tr><th scope=row>41184</th><td>73</td><td>retired    </td><td>married</td><td>professional.course</td><td>no</td><td>yes</td><td>no</td><td>cellular</td><td>nov</td><td>fri</td><td>...</td><td>1</td><td>999</td><td>0</td><td>nonexistent</td><td>-1.1</td><td>94.767</td><td>-50.8</td><td>1.028</td><td>4963.6</td><td>yes</td></tr>\n",
       "\t<tr><th scope=row>41185</th><td>46</td><td>blue-collar</td><td>married</td><td>professional.course</td><td>no</td><td>no </td><td>no</td><td>cellular</td><td>nov</td><td>fri</td><td>...</td><td>1</td><td>999</td><td>0</td><td>nonexistent</td><td>-1.1</td><td>94.767</td><td>-50.8</td><td>1.028</td><td>4963.6</td><td>no </td></tr>\n",
       "\t<tr><th scope=row>41186</th><td>56</td><td>retired    </td><td>married</td><td>university.degree  </td><td>no</td><td>yes</td><td>no</td><td>cellular</td><td>nov</td><td>fri</td><td>...</td><td>2</td><td>999</td><td>0</td><td>nonexistent</td><td>-1.1</td><td>94.767</td><td>-50.8</td><td>1.028</td><td>4963.6</td><td>no </td></tr>\n",
       "\t<tr><th scope=row>41187</th><td>44</td><td>technician </td><td>married</td><td>professional.course</td><td>no</td><td>no </td><td>no</td><td>cellular</td><td>nov</td><td>fri</td><td>...</td><td>1</td><td>999</td><td>0</td><td>nonexistent</td><td>-1.1</td><td>94.767</td><td>-50.8</td><td>1.028</td><td>4963.6</td><td>yes</td></tr>\n",
       "\t<tr><th scope=row>41188</th><td>74</td><td>retired    </td><td>married</td><td>professional.course</td><td>no</td><td>yes</td><td>no</td><td>cellular</td><td>nov</td><td>fri</td><td>...</td><td>3</td><td>999</td><td>1</td><td>failure    </td><td>-1.1</td><td>94.767</td><td>-50.8</td><td>1.028</td><td>4963.6</td><td>no </td></tr>\n",
       "</tbody>\n",
       "</table>\n"
      ],
      "text/latex": [
       "A data.frame: 6 × 21\n",
       "\\begin{tabular}{r|lllllllllllllllllllll}\n",
       "  & age & job & marital & education & default & housing & loan & contact & month & day\\_of\\_week & ... & campaign & pdays & previous & poutcome & emp.var.rate & cons.price.idx & cons.conf.idx & euribor3m & nr.employed & y\\\\\n",
       "  & <int> & <chr> & <chr> & <chr> & <chr> & <chr> & <chr> & <chr> & <chr> & <chr> & ... & <int> & <int> & <int> & <chr> & <dbl> & <dbl> & <dbl> & <dbl> & <dbl> & <chr>\\\\\n",
       "\\hline\n",
       "\t41183 & 29 & unemployed  & single  & basic.4y            & no & yes & no & cellular & nov & fri & ... & 1 &   9 & 1 & success     & -1.1 & 94.767 & -50.8 & 1.028 & 4963.6 & no \\\\\n",
       "\t41184 & 73 & retired     & married & professional.course & no & yes & no & cellular & nov & fri & ... & 1 & 999 & 0 & nonexistent & -1.1 & 94.767 & -50.8 & 1.028 & 4963.6 & yes\\\\\n",
       "\t41185 & 46 & blue-collar & married & professional.course & no & no  & no & cellular & nov & fri & ... & 1 & 999 & 0 & nonexistent & -1.1 & 94.767 & -50.8 & 1.028 & 4963.6 & no \\\\\n",
       "\t41186 & 56 & retired     & married & university.degree   & no & yes & no & cellular & nov & fri & ... & 2 & 999 & 0 & nonexistent & -1.1 & 94.767 & -50.8 & 1.028 & 4963.6 & no \\\\\n",
       "\t41187 & 44 & technician  & married & professional.course & no & no  & no & cellular & nov & fri & ... & 1 & 999 & 0 & nonexistent & -1.1 & 94.767 & -50.8 & 1.028 & 4963.6 & yes\\\\\n",
       "\t41188 & 74 & retired     & married & professional.course & no & yes & no & cellular & nov & fri & ... & 3 & 999 & 1 & failure     & -1.1 & 94.767 & -50.8 & 1.028 & 4963.6 & no \\\\\n",
       "\\end{tabular}\n"
      ],
      "text/markdown": [
       "\n",
       "A data.frame: 6 × 21\n",
       "\n",
       "| <!--/--> | age &lt;int&gt; | job &lt;chr&gt; | marital &lt;chr&gt; | education &lt;chr&gt; | default &lt;chr&gt; | housing &lt;chr&gt; | loan &lt;chr&gt; | contact &lt;chr&gt; | month &lt;chr&gt; | day_of_week &lt;chr&gt; | ... ... | campaign &lt;int&gt; | pdays &lt;int&gt; | previous &lt;int&gt; | poutcome &lt;chr&gt; | emp.var.rate &lt;dbl&gt; | cons.price.idx &lt;dbl&gt; | cons.conf.idx &lt;dbl&gt; | euribor3m &lt;dbl&gt; | nr.employed &lt;dbl&gt; | y &lt;chr&gt; |\n",
       "|---|---|---|---|---|---|---|---|---|---|---|---|---|---|---|---|---|---|---|---|---|---|\n",
       "| 41183 | 29 | unemployed  | single  | basic.4y            | no | yes | no | cellular | nov | fri | ... | 1 |   9 | 1 | success     | -1.1 | 94.767 | -50.8 | 1.028 | 4963.6 | no  |\n",
       "| 41184 | 73 | retired     | married | professional.course | no | yes | no | cellular | nov | fri | ... | 1 | 999 | 0 | nonexistent | -1.1 | 94.767 | -50.8 | 1.028 | 4963.6 | yes |\n",
       "| 41185 | 46 | blue-collar | married | professional.course | no | no  | no | cellular | nov | fri | ... | 1 | 999 | 0 | nonexistent | -1.1 | 94.767 | -50.8 | 1.028 | 4963.6 | no  |\n",
       "| 41186 | 56 | retired     | married | university.degree   | no | yes | no | cellular | nov | fri | ... | 2 | 999 | 0 | nonexistent | -1.1 | 94.767 | -50.8 | 1.028 | 4963.6 | no  |\n",
       "| 41187 | 44 | technician  | married | professional.course | no | no  | no | cellular | nov | fri | ... | 1 | 999 | 0 | nonexistent | -1.1 | 94.767 | -50.8 | 1.028 | 4963.6 | yes |\n",
       "| 41188 | 74 | retired     | married | professional.course | no | yes | no | cellular | nov | fri | ... | 3 | 999 | 1 | failure     | -1.1 | 94.767 | -50.8 | 1.028 | 4963.6 | no  |\n",
       "\n"
      ],
      "text/plain": [
       "      age job         marital education           default housing loan contact \n",
       "41183 29  unemployed  single  basic.4y            no      yes     no   cellular\n",
       "41184 73  retired     married professional.course no      yes     no   cellular\n",
       "41185 46  blue-collar married professional.course no      no      no   cellular\n",
       "41186 56  retired     married university.degree   no      yes     no   cellular\n",
       "41187 44  technician  married professional.course no      no      no   cellular\n",
       "41188 74  retired     married professional.course no      yes     no   cellular\n",
       "      month day_of_week ... campaign pdays previous poutcome    emp.var.rate\n",
       "41183 nov   fri         ... 1          9   1        success     -1.1        \n",
       "41184 nov   fri         ... 1        999   0        nonexistent -1.1        \n",
       "41185 nov   fri         ... 1        999   0        nonexistent -1.1        \n",
       "41186 nov   fri         ... 2        999   0        nonexistent -1.1        \n",
       "41187 nov   fri         ... 1        999   0        nonexistent -1.1        \n",
       "41188 nov   fri         ... 3        999   1        failure     -1.1        \n",
       "      cons.price.idx cons.conf.idx euribor3m nr.employed y  \n",
       "41183 94.767         -50.8         1.028     4963.6      no \n",
       "41184 94.767         -50.8         1.028     4963.6      yes\n",
       "41185 94.767         -50.8         1.028     4963.6      no \n",
       "41186 94.767         -50.8         1.028     4963.6      no \n",
       "41187 94.767         -50.8         1.028     4963.6      yes\n",
       "41188 94.767         -50.8         1.028     4963.6      no "
      ]
     },
     "metadata": {},
     "output_type": "display_data"
    }
   ],
   "source": [
    "dataset <- read.csv(\"bank-additional-full.csv\", header=TRUE,sep=\";\" )\n",
    "head(dataset)\n",
    "tail(dataset)"
   ]
  },
  {
   "cell_type": "code",
   "execution_count": 20,
   "metadata": {},
   "outputs": [
    {
     "data": {
      "text/html": [
       "0"
      ],
      "text/latex": [
       "0"
      ],
      "text/markdown": [
       "0"
      ],
      "text/plain": [
       "[1] 0"
      ]
     },
     "metadata": {},
     "output_type": "display_data"
    },
    {
     "data": {
      "text/html": [
       "0"
      ],
      "text/latex": [
       "0"
      ],
      "text/markdown": [
       "0"
      ],
      "text/plain": [
       "[1] 0"
      ]
     },
     "metadata": {},
     "output_type": "display_data"
    },
    {
     "data": {
      "text/html": [
       "0"
      ],
      "text/latex": [
       "0"
      ],
      "text/markdown": [
       "0"
      ],
      "text/plain": [
       "[1] 0"
      ]
     },
     "metadata": {},
     "output_type": "display_data"
    },
    {
     "data": {
      "text/html": [
       "0"
      ],
      "text/latex": [
       "0"
      ],
      "text/markdown": [
       "0"
      ],
      "text/plain": [
       "[1] 0"
      ]
     },
     "metadata": {},
     "output_type": "display_data"
    },
    {
     "data": {
      "text/html": [
       "0"
      ],
      "text/latex": [
       "0"
      ],
      "text/markdown": [
       "0"
      ],
      "text/plain": [
       "[1] 0"
      ]
     },
     "metadata": {},
     "output_type": "display_data"
    },
    {
     "data": {
      "text/html": [
       "0"
      ],
      "text/latex": [
       "0"
      ],
      "text/markdown": [
       "0"
      ],
      "text/plain": [
       "[1] 0"
      ]
     },
     "metadata": {},
     "output_type": "display_data"
    },
    {
     "data": {
      "text/html": [
       "0"
      ],
      "text/latex": [
       "0"
      ],
      "text/markdown": [
       "0"
      ],
      "text/plain": [
       "[1] 0"
      ]
     },
     "metadata": {},
     "output_type": "display_data"
    },
    {
     "data": {
      "text/html": [
       "0"
      ],
      "text/latex": [
       "0"
      ],
      "text/markdown": [
       "0"
      ],
      "text/plain": [
       "[1] 0"
      ]
     },
     "metadata": {},
     "output_type": "display_data"
    },
    {
     "data": {
      "text/html": [
       "0"
      ],
      "text/latex": [
       "0"
      ],
      "text/markdown": [
       "0"
      ],
      "text/plain": [
       "[1] 0"
      ]
     },
     "metadata": {},
     "output_type": "display_data"
    }
   ],
   "source": [
    "#Rellenamos los espacios faltantes con su media correspondiente\n",
    "#pues de omitirlos podriamos perder informacion importante\n",
    "R<-data.frame(Edad=dataset$age,\n",
    "                Trab=dataset$job,\n",
    "                EstCv=dataset$marital,\n",
    "                NvEduc=dataset$education,\n",
    "                CredInc=dataset$default,\n",
    "                CredViv=dataset$housing,\n",
    "                CredPer=dataset$loan,\n",
    "                Cont=dataset$contact,\n",
    "                Sus=dataset$y)\n",
    "\n",
    "sum(is.na(R$Edad))\n",
    "sum(is.na(R$Trab))\n",
    "sum(is.na(R$EstCv))\n",
    "sum(is.na(R$NvEduc))\n",
    "sum(is.na(R$CredInc))\n",
    "sum(is.na(R$CredViv))\n",
    "sum(is.na(R$CredPer))\n",
    "sum(is.na(R$Cont))\n",
    "sum(is.na(R$Sus))\n",
    "#No hay que limpiar"
   ]
  },
  {
   "cell_type": "code",
   "execution_count": null,
   "metadata": {},
   "outputs": [],
   "source": []
  },
  {
   "cell_type": "code",
   "execution_count": null,
   "metadata": {},
   "outputs": [],
   "source": []
  },
  {
   "cell_type": "code",
   "execution_count": null,
   "metadata": {},
   "outputs": [],
   "source": []
  }
 ],
 "metadata": {
  "colab": {
   "collapsed_sections": [],
   "name": "Muestreo-Interfererncia.ipynb",
   "provenance": []
  },
  "kernelspec": {
   "display_name": "R",
   "language": "R",
   "name": "ir"
  },
  "language_info": {
   "codemirror_mode": "r",
   "file_extension": ".r",
   "mimetype": "text/x-r-source",
   "name": "R",
   "pygments_lexer": "r",
   "version": "4.0.1"
  }
 },
 "nbformat": 4,
 "nbformat_minor": 1
}
