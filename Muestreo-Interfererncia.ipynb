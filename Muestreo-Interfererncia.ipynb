{
 "cells": [
  {
   "cell_type": "markdown",
   "metadata": {},
   "source": [
    "Hey hey!!!"
   ]
  },
  {
   "cell_type": "code",
   "execution_count": 23,
   "metadata": {},
   "outputs": [
    {
     "data": {
      "text/html": [
       "<style>\n",
       ".list-inline {list-style: none; margin:0; padding: 0}\n",
       ".list-inline>li {display: inline-block}\n",
       ".list-inline>li:not(:last-child)::after {content: \"\\00b7\"; padding: 0 .5ex}\n",
       "</style>\n",
       "<ol class=list-inline><li>'puntaje'</li><li>'sp161718'</li></ol>\n"
      ],
      "text/latex": [
       "\\begin{enumerate*}\n",
       "\\item 'puntaje'\n",
       "\\item 'sp161718'\n",
       "\\end{enumerate*}\n"
      ],
      "text/markdown": [
       "1. 'puntaje'\n",
       "2. 'sp161718'\n",
       "\n",
       "\n"
      ],
      "text/plain": [
       "[1] \"puntaje\"  \"sp161718\""
      ]
     },
     "metadata": {},
     "output_type": "display_data"
    }
   ],
   "source": [
    "load('saberpro.RData')\n",
    "ls() # Con esta función podemos \n",
    "# revisar los objetos que tenemos en el área de trabajo"
   ]
  },
  {
   "cell_type": "code",
   "execution_count": 24,
   "metadata": {},
   "outputs": [
    {
     "data": {
      "text/html": [
       "<style>\n",
       ".list-inline {list-style: none; margin:0; padding: 0}\n",
       ".list-inline>li {display: inline-block}\n",
       ".list-inline>li:not(:last-child)::after {content: \"\\00b7\"; padding: 0 .5ex}\n",
       "</style>\n",
       "<ol class=list-inline><li>725295</li><li>16</li></ol>\n"
      ],
      "text/latex": [
       "\\begin{enumerate*}\n",
       "\\item 725295\n",
       "\\item 16\n",
       "\\end{enumerate*}\n"
      ],
      "text/markdown": [
       "1. 725295\n",
       "2. 16\n",
       "\n",
       "\n"
      ],
      "text/plain": [
       "[1] 725295     16"
      ]
     },
     "metadata": {},
     "output_type": "display_data"
    }
   ],
   "source": [
    "dim(sp161718) # Cuáles son las dimensiones de data.frame"
   ]
  },
  {
   "cell_type": "code",
   "execution_count": 25,
   "metadata": {},
   "outputs": [
    {
     "data": {
      "text/html": [
       "<style>\n",
       ".list-inline {list-style: none; margin:0; padding: 0}\n",
       ".list-inline>li {display: inline-block}\n",
       ".list-inline>li:not(:last-child)::after {content: \"\\00b7\"; padding: 0 .5ex}\n",
       "</style>\n",
       "<ol class=list-inline><li>'periodo'</li><li>'apli_consecutivo'</li><li>'estu_depto_reside'</li><li>'estu_cod_reside_depto'</li><li>'inst_cod_institucion'</li><li>'inst_nombre_institucion'</li><li>'raz_cuant_punt'</li><li>'raz_cuant_des'</li><li>'lect_crit_punt'</li><li>'lect_crit_des'</li><li>'comp_ciud_punt'</li><li>'comp_ciud_des'</li><li>'ingles_punt'</li><li>'ingles_desem'</li><li>'comu_escr_punt'</li><li>'comu_escr_des'</li></ol>\n"
      ],
      "text/latex": [
       "\\begin{enumerate*}\n",
       "\\item 'periodo'\n",
       "\\item 'apli\\_consecutivo'\n",
       "\\item 'estu\\_depto\\_reside'\n",
       "\\item 'estu\\_cod\\_reside\\_depto'\n",
       "\\item 'inst\\_cod\\_institucion'\n",
       "\\item 'inst\\_nombre\\_institucion'\n",
       "\\item 'raz\\_cuant\\_punt'\n",
       "\\item 'raz\\_cuant\\_des'\n",
       "\\item 'lect\\_crit\\_punt'\n",
       "\\item 'lect\\_crit\\_des'\n",
       "\\item 'comp\\_ciud\\_punt'\n",
       "\\item 'comp\\_ciud\\_des'\n",
       "\\item 'ingles\\_punt'\n",
       "\\item 'ingles\\_desem'\n",
       "\\item 'comu\\_escr\\_punt'\n",
       "\\item 'comu\\_escr\\_des'\n",
       "\\end{enumerate*}\n"
      ],
      "text/markdown": [
       "1. 'periodo'\n",
       "2. 'apli_consecutivo'\n",
       "3. 'estu_depto_reside'\n",
       "4. 'estu_cod_reside_depto'\n",
       "5. 'inst_cod_institucion'\n",
       "6. 'inst_nombre_institucion'\n",
       "7. 'raz_cuant_punt'\n",
       "8. 'raz_cuant_des'\n",
       "9. 'lect_crit_punt'\n",
       "10. 'lect_crit_des'\n",
       "11. 'comp_ciud_punt'\n",
       "12. 'comp_ciud_des'\n",
       "13. 'ingles_punt'\n",
       "14. 'ingles_desem'\n",
       "15. 'comu_escr_punt'\n",
       "16. 'comu_escr_des'\n",
       "\n",
       "\n"
      ],
      "text/plain": [
       " [1] \"periodo\"                 \"apli_consecutivo\"       \n",
       " [3] \"estu_depto_reside\"       \"estu_cod_reside_depto\"  \n",
       " [5] \"inst_cod_institucion\"    \"inst_nombre_institucion\"\n",
       " [7] \"raz_cuant_punt\"          \"raz_cuant_des\"          \n",
       " [9] \"lect_crit_punt\"          \"lect_crit_des\"          \n",
       "[11] \"comp_ciud_punt\"          \"comp_ciud_des\"          \n",
       "[13] \"ingles_punt\"             \"ingles_desem\"           \n",
       "[15] \"comu_escr_punt\"          \"comu_escr_des\"          "
      ]
     },
     "metadata": {},
     "output_type": "display_data"
    }
   ],
   "source": [
    "names(sp161718) "
   ]
  },
  {
   "cell_type": "code",
   "execution_count": 26,
   "metadata": {},
   "outputs": [],
   "source": [
    "# Todas las variables definidas\n",
    "Total<-data.frame(\n",
    "P=sp161718$periodo, #Periodo\n",
    "R=sp161718$apli_consecutivo, #Registro\n",
    "CD=sp161718$estu_cod_reside_depto,#Codigo Departamento\n",
    "D=sp161718$estu_depto_reside, #Departamento                    \n",
    "CI=sp161718$inst_cod_institucion, #Codigo Institucion\n",
    "NI=sp161718$inst_nombre_institucion, #Nombre Institucion\n",
    "RC=sp161718$raz_cuant_punt, #Razonamiento Cuantitativo\n",
    "RCD=sp161718$raz_cuant_des, #Descripcion Razonamiento Cuantitativo\n",
    "LC=sp161718$lect_crit_punt, #Lectura Critica\n",
    "LCD=sp161718$lect_crit_des, #Descripcion Lectura Critica\n",
    "CC=sp161718$comp_ciud_punt,#Comportamiento Ciudadano\n",
    "CCD=sp161718$comp_ciud_des, #Descripcion Comportamiento Ciudadano\n",
    "I=sp161718$ingles_punt, #Ingles\n",
    "ID=sp161718$ingles_desem, #Descripcion Ingles\n",
    "CE=sp161718$comu_escr_punt, #Comunicación Escrita\n",
    "CED=sp161718$comu_escr_des) #Descripcion Comunicación Escrita "
   ]
  },
  {
   "cell_type": "code",
   "execution_count": 28,
   "metadata": {},
   "outputs": [],
   "source": [
    "# Valores numericos para trabajar\n",
    "Datos<-data.frame(\n",
    "P=sp161718$periodo, \n",
    "R=sp161718$apli_consecutivo, #Registro\n",
    "CD=sp161718$estu_cod_reside_depto,#Codigo Departamento                 \n",
    "CI=sp161718$inst_cod_institucion, #Codigo Institucion\n",
    "RC=sp161718$raz_cuant_punt, #Razonamiento Cuantitativo\n",
    "LC=sp161718$lect_crit_punt, #Lectura Critica\n",
    "CC=sp161718$comp_ciud_punt,#Comportamiento Ciudadano\n",
    "I=sp161718$ingles_punt, #Ingles\n",
    "CE=sp161718$comu_escr_punt) #Comunicación Escrita"
   ]
  },
  {
   "cell_type": "code",
   "execution_count": 29,
   "metadata": {
    "scrolled": true
   },
   "outputs": [
    {
     "data": {
      "text/html": [
       "<table>\n",
       "<caption>A data.frame: 6 × 9</caption>\n",
       "<thead>\n",
       "\t<tr><th></th><th scope=col>periodo</th><th scope=col>R</th><th scope=col>CD</th><th scope=col>CI</th><th scope=col>RC</th><th scope=col>LC</th><th scope=col>CC</th><th scope=col>I</th><th scope=col>CE</th></tr>\n",
       "\t<tr><th></th><th scope=col>&lt;int&gt;</th><th scope=col>&lt;fct&gt;</th><th scope=col>&lt;int&gt;</th><th scope=col>&lt;int&gt;</th><th scope=col>&lt;int&gt;</th><th scope=col>&lt;int&gt;</th><th scope=col>&lt;int&gt;</th><th scope=col>&lt;int&gt;</th><th scope=col>&lt;int&gt;</th></tr>\n",
       "</thead>\n",
       "<tbody>\n",
       "\t<tr><th scope=row>1</th><td>20163</td><td>EK201630062726</td><td> 8</td><td> 1202</td><td>160</td><td>130</td><td>167</td><td>160</td><td>155</td></tr>\n",
       "\t<tr><th scope=row>2</th><td>20163</td><td>EK201630208121</td><td>25</td><td> 2725</td><td>138</td><td>132</td><td> 77</td><td>125</td><td>164</td></tr>\n",
       "\t<tr><th scope=row>3</th><td>20163</td><td>EK201630220210</td><td>17</td><td> 2829</td><td>146</td><td>157</td><td>150</td><td>104</td><td>122</td></tr>\n",
       "\t<tr><th scope=row>4</th><td>20163</td><td>EK201630180243</td><td>47</td><td>10413</td><td>160</td><td>172</td><td>151</td><td>160</td><td>192</td></tr>\n",
       "\t<tr><th scope=row>5</th><td>20163</td><td>EK201630225077</td><td>23</td><td> 1113</td><td>130</td><td>122</td><td>144</td><td>192</td><td>131</td></tr>\n",
       "\t<tr><th scope=row>6</th><td>20163</td><td>EK201630189735</td><td>19</td><td> 1807</td><td>159</td><td>129</td><td>147</td><td>108</td><td>154</td></tr>\n",
       "</tbody>\n",
       "</table>\n"
      ],
      "text/latex": [
       "A data.frame: 6 × 9\n",
       "\\begin{tabular}{r|lllllllll}\n",
       "  & periodo & R & CD & CI & RC & LC & CC & I & CE\\\\\n",
       "  & <int> & <fct> & <int> & <int> & <int> & <int> & <int> & <int> & <int>\\\\\n",
       "\\hline\n",
       "\t1 & 20163 & EK201630062726 &  8 &  1202 & 160 & 130 & 167 & 160 & 155\\\\\n",
       "\t2 & 20163 & EK201630208121 & 25 &  2725 & 138 & 132 &  77 & 125 & 164\\\\\n",
       "\t3 & 20163 & EK201630220210 & 17 &  2829 & 146 & 157 & 150 & 104 & 122\\\\\n",
       "\t4 & 20163 & EK201630180243 & 47 & 10413 & 160 & 172 & 151 & 160 & 192\\\\\n",
       "\t5 & 20163 & EK201630225077 & 23 &  1113 & 130 & 122 & 144 & 192 & 131\\\\\n",
       "\t6 & 20163 & EK201630189735 & 19 &  1807 & 159 & 129 & 147 & 108 & 154\\\\\n",
       "\\end{tabular}\n"
      ],
      "text/markdown": [
       "\n",
       "A data.frame: 6 × 9\n",
       "\n",
       "| <!--/--> | periodo &lt;int&gt; | R &lt;fct&gt; | CD &lt;int&gt; | CI &lt;int&gt; | RC &lt;int&gt; | LC &lt;int&gt; | CC &lt;int&gt; | I &lt;int&gt; | CE &lt;int&gt; |\n",
       "|---|---|---|---|---|---|---|---|---|---|\n",
       "| 1 | 20163 | EK201630062726 |  8 |  1202 | 160 | 130 | 167 | 160 | 155 |\n",
       "| 2 | 20163 | EK201630208121 | 25 |  2725 | 138 | 132 |  77 | 125 | 164 |\n",
       "| 3 | 20163 | EK201630220210 | 17 |  2829 | 146 | 157 | 150 | 104 | 122 |\n",
       "| 4 | 20163 | EK201630180243 | 47 | 10413 | 160 | 172 | 151 | 160 | 192 |\n",
       "| 5 | 20163 | EK201630225077 | 23 |  1113 | 130 | 122 | 144 | 192 | 131 |\n",
       "| 6 | 20163 | EK201630189735 | 19 |  1807 | 159 | 129 | 147 | 108 | 154 |\n",
       "\n"
      ],
      "text/plain": [
       "  periodo R              CD CI    RC  LC  CC  I   CE \n",
       "1 20163   EK201630062726  8  1202 160 130 167 160 155\n",
       "2 20163   EK201630208121 25  2725 138 132  77 125 164\n",
       "3 20163   EK201630220210 17  2829 146 157 150 104 122\n",
       "4 20163   EK201630180243 47 10413 160 172 151 160 192\n",
       "5 20163   EK201630225077 23  1113 130 122 144 192 131\n",
       "6 20163   EK201630189735 19  1807 159 129 147 108 154"
      ]
     },
     "metadata": {},
     "output_type": "display_data"
    },
    {
     "data": {
      "text/html": [
       "<table>\n",
       "<caption>A data.frame: 6 × 9</caption>\n",
       "<thead>\n",
       "\t<tr><th></th><th scope=col>periodo</th><th scope=col>R</th><th scope=col>CD</th><th scope=col>CI</th><th scope=col>RC</th><th scope=col>LC</th><th scope=col>CC</th><th scope=col>I</th><th scope=col>CE</th></tr>\n",
       "\t<tr><th></th><th scope=col>&lt;int&gt;</th><th scope=col>&lt;fct&gt;</th><th scope=col>&lt;int&gt;</th><th scope=col>&lt;int&gt;</th><th scope=col>&lt;int&gt;</th><th scope=col>&lt;int&gt;</th><th scope=col>&lt;int&gt;</th><th scope=col>&lt;int&gt;</th><th scope=col>&lt;int&gt;</th></tr>\n",
       "</thead>\n",
       "<tbody>\n",
       "\t<tr><th scope=row>725290</th><td>20183</td><td>EK201830220242</td><td>76</td><td>2114</td><td>125</td><td>111</td><td>100</td><td>134</td><td>140</td></tr>\n",
       "\t<tr><th scope=row>725291</th><td>20183</td><td>EK201830103468</td><td>68</td><td>2847</td><td>182</td><td>145</td><td>152</td><td>167</td><td>154</td></tr>\n",
       "\t<tr><th scope=row>725292</th><td>20183</td><td>EK201830186897</td><td>11</td><td>9104</td><td>149</td><td>129</td><td>110</td><td>168</td><td>122</td></tr>\n",
       "\t<tr><th scope=row>725293</th><td>20183</td><td>EK201830155382</td><td>68</td><td>2207</td><td>185</td><td>173</td><td>190</td><td>148</td><td>178</td></tr>\n",
       "\t<tr><th scope=row>725294</th><td>20183</td><td>EK201830225312</td><td>NA</td><td>1201</td><td>179</td><td>165</td><td>192</td><td>156</td><td>150</td></tr>\n",
       "\t<tr><th scope=row>725295</th><td>20183</td><td>EK201830039482</td><td>70</td><td>2823</td><td>135</td><td>122</td><td> 99</td><td>132</td><td>138</td></tr>\n",
       "</tbody>\n",
       "</table>\n"
      ],
      "text/latex": [
       "A data.frame: 6 × 9\n",
       "\\begin{tabular}{r|lllllllll}\n",
       "  & periodo & R & CD & CI & RC & LC & CC & I & CE\\\\\n",
       "  & <int> & <fct> & <int> & <int> & <int> & <int> & <int> & <int> & <int>\\\\\n",
       "\\hline\n",
       "\t725290 & 20183 & EK201830220242 & 76 & 2114 & 125 & 111 & 100 & 134 & 140\\\\\n",
       "\t725291 & 20183 & EK201830103468 & 68 & 2847 & 182 & 145 & 152 & 167 & 154\\\\\n",
       "\t725292 & 20183 & EK201830186897 & 11 & 9104 & 149 & 129 & 110 & 168 & 122\\\\\n",
       "\t725293 & 20183 & EK201830155382 & 68 & 2207 & 185 & 173 & 190 & 148 & 178\\\\\n",
       "\t725294 & 20183 & EK201830225312 & NA & 1201 & 179 & 165 & 192 & 156 & 150\\\\\n",
       "\t725295 & 20183 & EK201830039482 & 70 & 2823 & 135 & 122 &  99 & 132 & 138\\\\\n",
       "\\end{tabular}\n"
      ],
      "text/markdown": [
       "\n",
       "A data.frame: 6 × 9\n",
       "\n",
       "| <!--/--> | periodo &lt;int&gt; | R &lt;fct&gt; | CD &lt;int&gt; | CI &lt;int&gt; | RC &lt;int&gt; | LC &lt;int&gt; | CC &lt;int&gt; | I &lt;int&gt; | CE &lt;int&gt; |\n",
       "|---|---|---|---|---|---|---|---|---|---|\n",
       "| 725290 | 20183 | EK201830220242 | 76 | 2114 | 125 | 111 | 100 | 134 | 140 |\n",
       "| 725291 | 20183 | EK201830103468 | 68 | 2847 | 182 | 145 | 152 | 167 | 154 |\n",
       "| 725292 | 20183 | EK201830186897 | 11 | 9104 | 149 | 129 | 110 | 168 | 122 |\n",
       "| 725293 | 20183 | EK201830155382 | 68 | 2207 | 185 | 173 | 190 | 148 | 178 |\n",
       "| 725294 | 20183 | EK201830225312 | NA | 1201 | 179 | 165 | 192 | 156 | 150 |\n",
       "| 725295 | 20183 | EK201830039482 | 70 | 2823 | 135 | 122 |  99 | 132 | 138 |\n",
       "\n"
      ],
      "text/plain": [
       "       periodo R              CD CI   RC  LC  CC  I   CE \n",
       "725290 20183   EK201830220242 76 2114 125 111 100 134 140\n",
       "725291 20183   EK201830103468 68 2847 182 145 152 167 154\n",
       "725292 20183   EK201830186897 11 9104 149 129 110 168 122\n",
       "725293 20183   EK201830155382 68 2207 185 173 190 148 178\n",
       "725294 20183   EK201830225312 NA 1201 179 165 192 156 150\n",
       "725295 20183   EK201830039482 70 2823 135 122  99 132 138"
      ]
     },
     "metadata": {},
     "output_type": "display_data"
    }
   ],
   "source": [
    "head(Datos); tail(Datos) # Primeras y últimas observaciones de la tabla"
   ]
  },
  {
   "cell_type": "markdown",
   "metadata": {},
   "source": [
    "1-Realice muestreo aleatorio simple y realice las estimaciones (inferencia) correspondientes. Tenga en cuenta que son múltiples variables"
   ]
  },
  {
   "cell_type": "code",
   "execution_count": null,
   "metadata": {},
   "outputs": [],
   "source": [
    "# Algunas gráficas para apreciar la dispersión de los datos:\n",
    "par(mfrow=c(3,1))\n",
    "with(Total, hist(RC, nclass = 50))\n",
    "with(Total, plot(CD,RC))\n",
    "with(Total, hist(LC, nclass = 50))\n",
    "with(Total, hist(CC, nclass = 50))\n",
    "with(Total, hist(I, nclass = 50))\n",
    "with(Total, hist(CE, nclass = 50))\n",
    "par(mfrow=c(1,1))"
   ]
  },
  {
   "cell_type": "code",
   "execution_count": null,
   "metadata": {},
   "outputs": [],
   "source": []
  },
  {
   "cell_type": "code",
   "execution_count": null,
   "metadata": {},
   "outputs": [],
   "source": []
  }
 ],
 "metadata": {
  "kernelspec": {
   "display_name": "R",
   "language": "R",
   "name": "ir"
  },
  "language_info": {
   "codemirror_mode": "r",
   "file_extension": ".r",
   "mimetype": "text/x-r-source",
   "name": "R",
   "pygments_lexer": "r",
   "version": "4.0.0"
  }
 },
 "nbformat": 4,
 "nbformat_minor": 4
}
