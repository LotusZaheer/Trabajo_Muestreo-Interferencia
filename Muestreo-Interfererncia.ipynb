{
 "cells": [
  {
   "cell_type": "markdown",
   "metadata": {},
   "source": [
    "<h1>Trabajo Muestreo-Interferencia</h1>\n",
    "<!----Hey hey!!!---->"
   ]
  },
  {
   "cell_type": "markdown",
   "metadata": {},
   "source": [
    "<h2>Asignatura: Estadistica 2</h2>\n",
    "\n",
    "<h3>Profesor: Carlos Alfonso Mantilla Duarte\n",
    "<br>\n",
    "Grupo: F1</h3>\n",
    "\n",
    "<h4> Andrés Felipe Uribe García - 2160793\n",
    "<br>Julian - 212121\n",
    "<br>Isabel - 212121</h4>"
   ]
  },
  {
   "cell_type": "markdown",
   "metadata": {},
   "source": [
    "En los siguientes enlaces encontrará los datos relacionados con los resultados de las pruebas de estado para las Instituciones de Educación Superior (IES) colombianas de carácter universitario de los últimos tres (3) años:\n",
    "\n",
    " https://www.dropbox.com/s/xgsf3l5gjw0h0q4/saberpro.RData\n",
    "\n",
    "Considere estos datos como una población finita. Las variables que componen la tabla son:\n",
    "\n",
    "\n",
    "\n",
    " - `periodo:` año de realización de la prueba. La variable se presenta fragmentada debido al origen de los datos. Requiere agruparse adecuadamente. Para ello, consulte la función revalue y describa, brevemente, su funcionamiento.\n",
    " -  `apli_consecutivo:` consecutivo asignado al estudiante en el momento de presentar la prueba. Único por estudiante\n",
    " -  `estu_depto_reside:` departamento de residencia del estudiante\n",
    " -   `estu_cod_reside_depto:` código DANE del departamento de residencia del estudiante\n",
    " -   `inst_cod_institucion:` código de la IES ante el ministerio. Único por Institución\n",
    " -   `inst_nombre_institucion:` Nombre de la Institución. Algunas presentan sedes y subsedes\n",
    " -   `raz_cuant_punt:` Puntaje Razonamiento Cuantitativo\n",
    " -   `raz_cuant_des:` Nivel de Desempeño Razonamiento Cuantitativo (categórica)\n",
    " -   `lect_crit_punt:` Puntaje Lectura Crítica\n",
    " -   `lect_crit_des:` Nivel de Desempeño Lectura Crítica (categórica)\n",
    " -   `comp_ciud_punt:` Puntaje Competencias Ciudadanas\n",
    " -   `comp_ciud_des:` Nivel de Desempeño Competencias Ciudadanas (categórica)\n",
    " -   `ingles_punt:` Puntaje Inglés\n",
    " -   `ingles_desem:` Nivel de Desempeño en Inglés (categórica)\n",
    " -  `comu_escr_punt:` Puntaje Comunicación Escrita\n",
    " -  `comu_escr_des:` Nivel de Desempeño Comunicación Escrita (categórica)\n",
    "\n",
    "Tenga en cuenta que algunas variables categóricas figuran como numéricas, haga la correspondiente transformación.\n",
    "\n",
    "Los puntos a desarrollar son:\n",
    "\n",
    "\n",
    "   1. Realice muestreo aleatorio simple y realice las estimaciones (inferencia) correspondientes. Tenga en cuenta que son múltiples variables\n",
    "   2.  Realice los correspondientes muestreos estratificados y compare los resultados con los anteriores. Explique las diferencias y/o similitudes\n",
    "   3.  Realice los correspondientes muestreos por conglomerados y compare los resultados con los puntos 1 y 2. Explique las diferencias y/o similitudes\n",
    "   4.  ¿Considera que es procedente realizar un muestreo sistemático? Argumente su respuesta\n",
    "    Si la respuesta del punto 4 fue positiva, realice el correspondiente muestreo y compare con los anteriores\n",
    "   5.  Para las estimaciones emplee los siguientes niveles de confianza: 90%, 95% y 99%.\n",
    "\n",
    "El trabajo puede entregarse en formato PDF o como notebook de jupyter\n",
    "\n",
    "Recomendaciones:\n",
    "\n",
    " -   Procure tabular de manera adecuada las estimaciones para optimizar espacio\n",
    " -   Evite extenderse en las explicaciones\n",
    " -   Trate de optimizar el uso de gráficas (visite el siguiente repositorio si desea una guía: https://github.com/karlosmantilla/graficas-basicas-descriptivas-\n",
    " -   Referencie las fórmulas empleadas en los cálculos\n"
   ]
  },
  {
   "cell_type": "code",
   "execution_count": 43,
   "metadata": {},
   "outputs": [
    {
     "ename": "ERROR",
     "evalue": "Error in library(samplingbook): there is no package called 'samplingbook'\n",
     "output_type": "error",
     "traceback": [
      "Error in library(samplingbook): there is no package called 'samplingbook'\nTraceback:\n",
      "1. library(samplingbook)"
     ]
    }
   ],
   "source": [
    "library(samplingbook) # llamamos la librería\n",
    "load('saberpro.RData')\n",
    "ls() \n",
    "dim(sp161718)"
   ]
  },
  {
   "cell_type": "code",
   "execution_count": 5,
   "metadata": {},
   "outputs": [],
   "source": [
    "mystats <- function(x, na.omit=FALSE){\n",
    "  if (na.omit)\n",
    "  x <- x[!is.na(x)]\n",
    "  m <- mean(x)\n",
    "  n <- length(x)\n",
    "  s <- sd(x)\n",
    "  skew <- sum((x-m)^3/s^3)/n\n",
    "  kurt <- sum((x-m)^4/s^4)/n - 3\n",
    "  return(c(\"tamaño\"=n, \"media\"=m, \"desviación estándar\"=s, \"simetría\"=skew, \"kurtosis\"=kurt))\n",
    "}"
   ]
  },
  {
   "cell_type": "code",
   "execution_count": 6,
   "metadata": {},
   "outputs": [],
   "source": [
    "Datos<-get(load(\"saberpro.RData\"))"
   ]
  },
  {
   "cell_type": "code",
   "execution_count": 7,
   "metadata": {
    "scrolled": true
   },
   "outputs": [
    {
     "data": {
      "text/html": [
       "<table>\n",
       "<caption>A data.frame: 6 × 16</caption>\n",
       "<thead>\n",
       "\t<tr><th></th><th scope=col>periodo</th><th scope=col>apli_consecutivo</th><th scope=col>estu_depto_reside</th><th scope=col>estu_cod_reside_depto</th><th scope=col>inst_cod_institucion</th><th scope=col>inst_nombre_institucion</th><th scope=col>raz_cuant_punt</th><th scope=col>raz_cuant_des</th><th scope=col>lect_crit_punt</th><th scope=col>lect_crit_des</th><th scope=col>comp_ciud_punt</th><th scope=col>comp_ciud_des</th><th scope=col>ingles_punt</th><th scope=col>ingles_desem</th><th scope=col>comu_escr_punt</th><th scope=col>comu_escr_des</th></tr>\n",
       "\t<tr><th></th><th scope=col>&lt;int&gt;</th><th scope=col>&lt;fct&gt;</th><th scope=col>&lt;fct&gt;</th><th scope=col>&lt;int&gt;</th><th scope=col>&lt;int&gt;</th><th scope=col>&lt;fct&gt;</th><th scope=col>&lt;int&gt;</th><th scope=col>&lt;int&gt;</th><th scope=col>&lt;int&gt;</th><th scope=col>&lt;int&gt;</th><th scope=col>&lt;int&gt;</th><th scope=col>&lt;int&gt;</th><th scope=col>&lt;int&gt;</th><th scope=col>&lt;fct&gt;</th><th scope=col>&lt;int&gt;</th><th scope=col>&lt;int&gt;</th></tr>\n",
       "</thead>\n",
       "<tbody>\n",
       "\t<tr><th scope=row>1</th><td>20163</td><td>EK201630062726</td><td>ATLANTICO   </td><td> 8</td><td> 1202</td><td>UNIVERSIDAD DEL ATLANTICO-BARRANQUILLA                                     </td><td>160</td><td>3</td><td>130</td><td>2</td><td>167</td><td>3</td><td>160</td><td>A2 </td><td>155</td><td>3</td></tr>\n",
       "\t<tr><th scope=row>2</th><td>20163</td><td>EK201630208121</td><td>CUNDINAMARCA</td><td>25</td><td> 2725</td><td>POLITECNICO GRANCOLOMBIANO-BOGOTÃ D.C.                                    </td><td>138</td><td>2</td><td>132</td><td>2</td><td> 77</td><td>1</td><td>125</td><td>A1 </td><td>164</td><td>3</td></tr>\n",
       "\t<tr><th scope=row>3</th><td>20163</td><td>EK201630220210</td><td>CALDAS      </td><td>17</td><td> 2829</td><td>CORPORACION UNIVERSITARIA MINUTO DE DIOS -UNIMINUTO-BOGOTÃ D.C.           </td><td>146</td><td>2</td><td>157</td><td>2</td><td>150</td><td>2</td><td>104</td><td>A1-</td><td>122</td><td>2</td></tr>\n",
       "\t<tr><th scope=row>4</th><td>20163</td><td>EK201630180243</td><td>MAGDALENA   </td><td>47</td><td>10413</td><td>IED ESCUELA NORMAL SUPERIOR MARÃA AUXILIADORA - SEDE PRINCIPAL-SANTA MARTA</td><td>160</td><td>3</td><td>172</td><td>3</td><td>151</td><td>2</td><td>160</td><td>A2 </td><td>192</td><td>4</td></tr>\n",
       "\t<tr><th scope=row>5</th><td>20163</td><td>EK201630225077</td><td>CORDOBA     </td><td>23</td><td> 1113</td><td>UNIVERSIDAD DE CORDOBA-MONTERIA                                            </td><td>130</td><td>2</td><td>122</td><td>1</td><td>144</td><td>2</td><td>192</td><td>B1 </td><td>131</td><td>2</td></tr>\n",
       "\t<tr><th scope=row>6</th><td>20163</td><td>EK201630189735</td><td>CAUCA       </td><td>19</td><td> 1807</td><td>UNIVERSIDAD LIBRE-CALI                                                     </td><td>159</td><td>3</td><td>129</td><td>2</td><td>147</td><td>2</td><td>108</td><td>A1-</td><td>154</td><td>3</td></tr>\n",
       "</tbody>\n",
       "</table>\n"
      ],
      "text/latex": [
       "A data.frame: 6 × 16\n",
       "\\begin{tabular}{r|llllllllllllllll}\n",
       "  & periodo & apli\\_consecutivo & estu\\_depto\\_reside & estu\\_cod\\_reside\\_depto & inst\\_cod\\_institucion & inst\\_nombre\\_institucion & raz\\_cuant\\_punt & raz\\_cuant\\_des & lect\\_crit\\_punt & lect\\_crit\\_des & comp\\_ciud\\_punt & comp\\_ciud\\_des & ingles\\_punt & ingles\\_desem & comu\\_escr\\_punt & comu\\_escr\\_des\\\\\n",
       "  & <int> & <fct> & <fct> & <int> & <int> & <fct> & <int> & <int> & <int> & <int> & <int> & <int> & <int> & <fct> & <int> & <int>\\\\\n",
       "\\hline\n",
       "\t1 & 20163 & EK201630062726 & ATLANTICO    &  8 &  1202 & UNIVERSIDAD DEL ATLANTICO-BARRANQUILLA                                      & 160 & 3 & 130 & 2 & 167 & 3 & 160 & A2  & 155 & 3\\\\\n",
       "\t2 & 20163 & EK201630208121 & CUNDINAMARCA & 25 &  2725 & POLITECNICO GRANCOLOMBIANO-BOGOTÃ D.C.                                     & 138 & 2 & 132 & 2 &  77 & 1 & 125 & A1  & 164 & 3\\\\\n",
       "\t3 & 20163 & EK201630220210 & CALDAS       & 17 &  2829 & CORPORACION UNIVERSITARIA MINUTO DE DIOS -UNIMINUTO-BOGOTÃ D.C.            & 146 & 2 & 157 & 2 & 150 & 2 & 104 & A1- & 122 & 2\\\\\n",
       "\t4 & 20163 & EK201630180243 & MAGDALENA    & 47 & 10413 & IED ESCUELA NORMAL SUPERIOR MARÃA AUXILIADORA - SEDE PRINCIPAL-SANTA MARTA & 160 & 3 & 172 & 3 & 151 & 2 & 160 & A2  & 192 & 4\\\\\n",
       "\t5 & 20163 & EK201630225077 & CORDOBA      & 23 &  1113 & UNIVERSIDAD DE CORDOBA-MONTERIA                                             & 130 & 2 & 122 & 1 & 144 & 2 & 192 & B1  & 131 & 2\\\\\n",
       "\t6 & 20163 & EK201630189735 & CAUCA        & 19 &  1807 & UNIVERSIDAD LIBRE-CALI                                                      & 159 & 3 & 129 & 2 & 147 & 2 & 108 & A1- & 154 & 3\\\\\n",
       "\\end{tabular}\n"
      ],
      "text/markdown": [
       "\n",
       "A data.frame: 6 × 16\n",
       "\n",
       "| <!--/--> | periodo &lt;int&gt; | apli_consecutivo &lt;fct&gt; | estu_depto_reside &lt;fct&gt; | estu_cod_reside_depto &lt;int&gt; | inst_cod_institucion &lt;int&gt; | inst_nombre_institucion &lt;fct&gt; | raz_cuant_punt &lt;int&gt; | raz_cuant_des &lt;int&gt; | lect_crit_punt &lt;int&gt; | lect_crit_des &lt;int&gt; | comp_ciud_punt &lt;int&gt; | comp_ciud_des &lt;int&gt; | ingles_punt &lt;int&gt; | ingles_desem &lt;fct&gt; | comu_escr_punt &lt;int&gt; | comu_escr_des &lt;int&gt; |\n",
       "|---|---|---|---|---|---|---|---|---|---|---|---|---|---|---|---|---|\n",
       "| 1 | 20163 | EK201630062726 | ATLANTICO    |  8 |  1202 | UNIVERSIDAD DEL ATLANTICO-BARRANQUILLA                                      | 160 | 3 | 130 | 2 | 167 | 3 | 160 | A2  | 155 | 3 |\n",
       "| 2 | 20163 | EK201630208121 | CUNDINAMARCA | 25 |  2725 | POLITECNICO GRANCOLOMBIANO-BOGOTÃ D.C.                                     | 138 | 2 | 132 | 2 |  77 | 1 | 125 | A1  | 164 | 3 |\n",
       "| 3 | 20163 | EK201630220210 | CALDAS       | 17 |  2829 | CORPORACION UNIVERSITARIA MINUTO DE DIOS -UNIMINUTO-BOGOTÃ D.C.            | 146 | 2 | 157 | 2 | 150 | 2 | 104 | A1- | 122 | 2 |\n",
       "| 4 | 20163 | EK201630180243 | MAGDALENA    | 47 | 10413 | IED ESCUELA NORMAL SUPERIOR MARÃA AUXILIADORA - SEDE PRINCIPAL-SANTA MARTA | 160 | 3 | 172 | 3 | 151 | 2 | 160 | A2  | 192 | 4 |\n",
       "| 5 | 20163 | EK201630225077 | CORDOBA      | 23 |  1113 | UNIVERSIDAD DE CORDOBA-MONTERIA                                             | 130 | 2 | 122 | 1 | 144 | 2 | 192 | B1  | 131 | 2 |\n",
       "| 6 | 20163 | EK201630189735 | CAUCA        | 19 |  1807 | UNIVERSIDAD LIBRE-CALI                                                      | 159 | 3 | 129 | 2 | 147 | 2 | 108 | A1- | 154 | 3 |\n",
       "\n"
      ],
      "text/plain": [
       "  periodo apli_consecutivo estu_depto_reside estu_cod_reside_depto\n",
       "1 20163   EK201630062726   ATLANTICO          8                   \n",
       "2 20163   EK201630208121   CUNDINAMARCA      25                   \n",
       "3 20163   EK201630220210   CALDAS            17                   \n",
       "4 20163   EK201630180243   MAGDALENA         47                   \n",
       "5 20163   EK201630225077   CORDOBA           23                   \n",
       "6 20163   EK201630189735   CAUCA             19                   \n",
       "  inst_cod_institucion\n",
       "1  1202               \n",
       "2  2725               \n",
       "3  2829               \n",
       "4 10413               \n",
       "5  1113               \n",
       "6  1807               \n",
       "  inst_nombre_institucion                                                    \n",
       "1 UNIVERSIDAD DEL ATLANTICO-BARRANQUILLA                                     \n",
       "2 POLITECNICO GRANCOLOMBIANO-BOGOTÃ\\201 D.C.                                    \n",
       "3 CORPORACION UNIVERSITARIA MINUTO DE DIOS -UNIMINUTO-BOGOTÃ\\201 D.C.           \n",
       "4 IED ESCUELA NORMAL SUPERIOR MARÃ\\215A AUXILIADORA - SEDE PRINCIPAL-SANTA MARTA\n",
       "5 UNIVERSIDAD DE CORDOBA-MONTERIA                                            \n",
       "6 UNIVERSIDAD LIBRE-CALI                                                     \n",
       "  raz_cuant_punt raz_cuant_des lect_crit_punt lect_crit_des comp_ciud_punt\n",
       "1 160            3             130            2             167           \n",
       "2 138            2             132            2              77           \n",
       "3 146            2             157            2             150           \n",
       "4 160            3             172            3             151           \n",
       "5 130            2             122            1             144           \n",
       "6 159            3             129            2             147           \n",
       "  comp_ciud_des ingles_punt ingles_desem comu_escr_punt comu_escr_des\n",
       "1 3             160         A2           155            3            \n",
       "2 1             125         A1           164            3            \n",
       "3 2             104         A1-          122            2            \n",
       "4 2             160         A2           192            4            \n",
       "5 2             192         B1           131            2            \n",
       "6 2             108         A1-          154            3            "
      ]
     },
     "metadata": {},
     "output_type": "display_data"
    },
    {
     "data": {
      "text/html": [
       "<table>\n",
       "<caption>A data.frame: 6 × 16</caption>\n",
       "<thead>\n",
       "\t<tr><th></th><th scope=col>periodo</th><th scope=col>apli_consecutivo</th><th scope=col>estu_depto_reside</th><th scope=col>estu_cod_reside_depto</th><th scope=col>inst_cod_institucion</th><th scope=col>inst_nombre_institucion</th><th scope=col>raz_cuant_punt</th><th scope=col>raz_cuant_des</th><th scope=col>lect_crit_punt</th><th scope=col>lect_crit_des</th><th scope=col>comp_ciud_punt</th><th scope=col>comp_ciud_des</th><th scope=col>ingles_punt</th><th scope=col>ingles_desem</th><th scope=col>comu_escr_punt</th><th scope=col>comu_escr_des</th></tr>\n",
       "\t<tr><th></th><th scope=col>&lt;int&gt;</th><th scope=col>&lt;fct&gt;</th><th scope=col>&lt;fct&gt;</th><th scope=col>&lt;int&gt;</th><th scope=col>&lt;int&gt;</th><th scope=col>&lt;fct&gt;</th><th scope=col>&lt;int&gt;</th><th scope=col>&lt;int&gt;</th><th scope=col>&lt;int&gt;</th><th scope=col>&lt;int&gt;</th><th scope=col>&lt;int&gt;</th><th scope=col>&lt;int&gt;</th><th scope=col>&lt;int&gt;</th><th scope=col>&lt;fct&gt;</th><th scope=col>&lt;int&gt;</th><th scope=col>&lt;int&gt;</th></tr>\n",
       "</thead>\n",
       "<tbody>\n",
       "\t<tr><th scope=row>725290</th><td>20183</td><td>EK201830220242</td><td>VALLE    </td><td>76</td><td>2114</td><td>ESCUELA NACIONAL DEL DEPORTE-CALI                                         </td><td>125</td><td>1</td><td>111</td><td>1</td><td>100</td><td>1</td><td>134</td><td>A1</td><td>140</td><td>2</td></tr>\n",
       "\t<tr><th scope=row>725291</th><td>20183</td><td>EK201830103468</td><td>SANTANDER</td><td>68</td><td>2847</td><td>CORPORACION UNIVERSITARIA DE INVESTIGACION Y DESARROLLO -\"UDI\"-BUCARAMANGA</td><td>182</td><td>3</td><td>145</td><td>2</td><td>152</td><td>2</td><td>167</td><td>A2</td><td>154</td><td>3</td></tr>\n",
       "\t<tr><th scope=row>725292</th><td>20183</td><td>EK201830186897</td><td>BOGOTA   </td><td>11</td><td>9104</td><td>ESCUELA MILITAR DE CADETES \"GENERAL JOSE MARIA CORDOVA\"-BOGOTÃƒÂ D.C.    </td><td>149</td><td>2</td><td>129</td><td>2</td><td>110</td><td>1</td><td>168</td><td>A2</td><td>122</td><td>2</td></tr>\n",
       "\t<tr><th scope=row>725293</th><td>20183</td><td>EK201830155382</td><td>SANTANDER</td><td>68</td><td>2207</td><td>INSTITUTO UNIVERSITARIO DE LA PAZ-BARRANCABERMEJA                         </td><td>185</td><td>3</td><td>173</td><td>3</td><td>190</td><td>3</td><td>148</td><td>A2</td><td>178</td><td>3</td></tr>\n",
       "\t<tr><th scope=row>725294</th><td>20183</td><td>EK201830225312</td><td>         </td><td>NA</td><td>1201</td><td>UNIVERSIDAD DE ANTIOQUIA-MEDELLIN                                         </td><td>179</td><td>3</td><td>165</td><td>3</td><td>192</td><td>3</td><td>156</td><td>A2</td><td>150</td><td>3</td></tr>\n",
       "\t<tr><th scope=row>725295</th><td>20183</td><td>EK201830039482</td><td>SUCRE    </td><td>70</td><td>2823</td><td>CORPORACION UNIVERSITARIA DEL CARIBE - CECAR-SINCELEJO                    </td><td>135</td><td>2</td><td>122</td><td>1</td><td> 99</td><td>1</td><td>132</td><td>A1</td><td>138</td><td>2</td></tr>\n",
       "</tbody>\n",
       "</table>\n"
      ],
      "text/latex": [
       "A data.frame: 6 × 16\n",
       "\\begin{tabular}{r|llllllllllllllll}\n",
       "  & periodo & apli\\_consecutivo & estu\\_depto\\_reside & estu\\_cod\\_reside\\_depto & inst\\_cod\\_institucion & inst\\_nombre\\_institucion & raz\\_cuant\\_punt & raz\\_cuant\\_des & lect\\_crit\\_punt & lect\\_crit\\_des & comp\\_ciud\\_punt & comp\\_ciud\\_des & ingles\\_punt & ingles\\_desem & comu\\_escr\\_punt & comu\\_escr\\_des\\\\\n",
       "  & <int> & <fct> & <fct> & <int> & <int> & <fct> & <int> & <int> & <int> & <int> & <int> & <int> & <int> & <fct> & <int> & <int>\\\\\n",
       "\\hline\n",
       "\t725290 & 20183 & EK201830220242 & VALLE     & 76 & 2114 & ESCUELA NACIONAL DEL DEPORTE-CALI                                          & 125 & 1 & 111 & 1 & 100 & 1 & 134 & A1 & 140 & 2\\\\\n",
       "\t725291 & 20183 & EK201830103468 & SANTANDER & 68 & 2847 & CORPORACION UNIVERSITARIA DE INVESTIGACION Y DESARROLLO -\"UDI\"-BUCARAMANGA & 182 & 3 & 145 & 2 & 152 & 2 & 167 & A2 & 154 & 3\\\\\n",
       "\t725292 & 20183 & EK201830186897 & BOGOTA    & 11 & 9104 & ESCUELA MILITAR DE CADETES \"GENERAL JOSE MARIA CORDOVA\"-BOGOTÃƒÂ D.C.     & 149 & 2 & 129 & 2 & 110 & 1 & 168 & A2 & 122 & 2\\\\\n",
       "\t725293 & 20183 & EK201830155382 & SANTANDER & 68 & 2207 & INSTITUTO UNIVERSITARIO DE LA PAZ-BARRANCABERMEJA                          & 185 & 3 & 173 & 3 & 190 & 3 & 148 & A2 & 178 & 3\\\\\n",
       "\t725294 & 20183 & EK201830225312 &           & NA & 1201 & UNIVERSIDAD DE ANTIOQUIA-MEDELLIN                                          & 179 & 3 & 165 & 3 & 192 & 3 & 156 & A2 & 150 & 3\\\\\n",
       "\t725295 & 20183 & EK201830039482 & SUCRE     & 70 & 2823 & CORPORACION UNIVERSITARIA DEL CARIBE - CECAR-SINCELEJO                     & 135 & 2 & 122 & 1 &  99 & 1 & 132 & A1 & 138 & 2\\\\\n",
       "\\end{tabular}\n"
      ],
      "text/markdown": [
       "\n",
       "A data.frame: 6 × 16\n",
       "\n",
       "| <!--/--> | periodo &lt;int&gt; | apli_consecutivo &lt;fct&gt; | estu_depto_reside &lt;fct&gt; | estu_cod_reside_depto &lt;int&gt; | inst_cod_institucion &lt;int&gt; | inst_nombre_institucion &lt;fct&gt; | raz_cuant_punt &lt;int&gt; | raz_cuant_des &lt;int&gt; | lect_crit_punt &lt;int&gt; | lect_crit_des &lt;int&gt; | comp_ciud_punt &lt;int&gt; | comp_ciud_des &lt;int&gt; | ingles_punt &lt;int&gt; | ingles_desem &lt;fct&gt; | comu_escr_punt &lt;int&gt; | comu_escr_des &lt;int&gt; |\n",
       "|---|---|---|---|---|---|---|---|---|---|---|---|---|---|---|---|---|\n",
       "| 725290 | 20183 | EK201830220242 | VALLE     | 76 | 2114 | ESCUELA NACIONAL DEL DEPORTE-CALI                                          | 125 | 1 | 111 | 1 | 100 | 1 | 134 | A1 | 140 | 2 |\n",
       "| 725291 | 20183 | EK201830103468 | SANTANDER | 68 | 2847 | CORPORACION UNIVERSITARIA DE INVESTIGACION Y DESARROLLO -\"UDI\"-BUCARAMANGA | 182 | 3 | 145 | 2 | 152 | 2 | 167 | A2 | 154 | 3 |\n",
       "| 725292 | 20183 | EK201830186897 | BOGOTA    | 11 | 9104 | ESCUELA MILITAR DE CADETES \"GENERAL JOSE MARIA CORDOVA\"-BOGOTÃƒÂ D.C.     | 149 | 2 | 129 | 2 | 110 | 1 | 168 | A2 | 122 | 2 |\n",
       "| 725293 | 20183 | EK201830155382 | SANTANDER | 68 | 2207 | INSTITUTO UNIVERSITARIO DE LA PAZ-BARRANCABERMEJA                          | 185 | 3 | 173 | 3 | 190 | 3 | 148 | A2 | 178 | 3 |\n",
       "| 725294 | 20183 | EK201830225312 | <!----> | NA | 1201 | UNIVERSIDAD DE ANTIOQUIA-MEDELLIN                                          | 179 | 3 | 165 | 3 | 192 | 3 | 156 | A2 | 150 | 3 |\n",
       "| 725295 | 20183 | EK201830039482 | SUCRE     | 70 | 2823 | CORPORACION UNIVERSITARIA DEL CARIBE - CECAR-SINCELEJO                     | 135 | 2 | 122 | 1 |  99 | 1 | 132 | A1 | 138 | 2 |\n",
       "\n"
      ],
      "text/plain": [
       "       periodo apli_consecutivo estu_depto_reside estu_cod_reside_depto\n",
       "725290 20183   EK201830220242   VALLE             76                   \n",
       "725291 20183   EK201830103468   SANTANDER         68                   \n",
       "725292 20183   EK201830186897   BOGOTA            11                   \n",
       "725293 20183   EK201830155382   SANTANDER         68                   \n",
       "725294 20183   EK201830225312                     NA                   \n",
       "725295 20183   EK201830039482   SUCRE             70                   \n",
       "       inst_cod_institucion\n",
       "725290 2114                \n",
       "725291 2847                \n",
       "725292 9104                \n",
       "725293 2207                \n",
       "725294 1201                \n",
       "725295 2823                \n",
       "       inst_nombre_institucion                                                   \n",
       "725290 ESCUELA NACIONAL DEL DEPORTE-CALI                                         \n",
       "725291 CORPORACION UNIVERSITARIA DE INVESTIGACION Y DESARROLLO -\"UDI\"-BUCARAMANGA\n",
       "725292 ESCUELA MILITAR DE CADETES \"GENERAL JOSE MARIA CORDOVA\"-BOGOTÃƒÂ\\201 D.C.    \n",
       "725293 INSTITUTO UNIVERSITARIO DE LA PAZ-BARRANCABERMEJA                         \n",
       "725294 UNIVERSIDAD DE ANTIOQUIA-MEDELLIN                                         \n",
       "725295 CORPORACION UNIVERSITARIA DEL CARIBE - CECAR-SINCELEJO                    \n",
       "       raz_cuant_punt raz_cuant_des lect_crit_punt lect_crit_des comp_ciud_punt\n",
       "725290 125            1             111            1             100           \n",
       "725291 182            3             145            2             152           \n",
       "725292 149            2             129            2             110           \n",
       "725293 185            3             173            3             190           \n",
       "725294 179            3             165            3             192           \n",
       "725295 135            2             122            1              99           \n",
       "       comp_ciud_des ingles_punt ingles_desem comu_escr_punt comu_escr_des\n",
       "725290 1             134         A1           140            2            \n",
       "725291 2             167         A2           154            3            \n",
       "725292 1             168         A2           122            2            \n",
       "725293 3             148         A2           178            3            \n",
       "725294 3             156         A2           150            3            \n",
       "725295 1             132         A1           138            2            "
      ]
     },
     "metadata": {},
     "output_type": "display_data"
    }
   ],
   "source": [
    "head(Datos); tail(Datos) # Primeras y últimas observaciones de la tabla"
   ]
  },
  {
   "cell_type": "markdown",
   "metadata": {},
   "source": [
    "<h2>Definición de los datos</h2>"
   ]
  },
  {
   "cell_type": "code",
   "execution_count": 25,
   "metadata": {},
   "outputs": [],
   "source": [
    "PT<-data.frame(C=Datos$estu_cod_reside_depto,\n",
    "               T=(Datos$raz_cuant_punt +\n",
    "                Datos$lect_crit_punt +\n",
    "                Datos$comp_ciud_punt +\n",
    "                Datos$ingles_punt +\n",
    "                Datos$comu_escr_punt)/5, # Global\n",
    "                RC=Datos$raz_cuant_punt,\n",
    "                LC=Datos$lect_crit_punt,\n",
    "                CC=Datos$comp_ciud_punt,\n",
    "                I=Datos$ingles_punt,\n",
    "                CE=Datos$comu_escr_punt,\n",
    "                D=Datos$estu_depto_reside)\n"
   ]
  },
  {
   "cell_type": "code",
   "execution_count": 26,
   "metadata": {},
   "outputs": [
    {
     "data": {
      "text/html": [
       "<table>\n",
       "<caption>A data.frame: 5 × 1</caption>\n",
       "<thead>\n",
       "\t<tr><th></th><th scope=col>pop</th></tr>\n",
       "\t<tr><th></th><th scope=col>&lt;dbl&gt;</th></tr>\n",
       "</thead>\n",
       "<tbody>\n",
       "\t<tr><th scope=row>tamaño</th><td>725295.0</td></tr>\n",
       "\t<tr><th scope=row>media</th><td>   150.4</td></tr>\n",
       "\t<tr><th scope=row>desviación estándar</th><td>    31.9</td></tr>\n",
       "\t<tr><th scope=row>simetría</th><td>     0.3</td></tr>\n",
       "\t<tr><th scope=row>kurtosis</th><td>     1.5</td></tr>\n",
       "</tbody>\n",
       "</table>\n"
      ],
      "text/latex": [
       "A data.frame: 5 × 1\n",
       "\\begin{tabular}{r|l}\n",
       "  & pop\\\\\n",
       "  & <dbl>\\\\\n",
       "\\hline\n",
       "\ttamaño & 725295.0\\\\\n",
       "\tmedia &    150.4\\\\\n",
       "\tdesviación estándar &     31.9\\\\\n",
       "\tsimetría &      0.3\\\\\n",
       "\tkurtosis &      1.5\\\\\n",
       "\\end{tabular}\n"
      ],
      "text/markdown": [
       "\n",
       "A data.frame: 5 × 1\n",
       "\n",
       "| <!--/--> | pop &lt;dbl&gt; |\n",
       "|---|---|\n",
       "| tamaño | 725295.0 |\n",
       "| media |    150.4 |\n",
       "| desviación estándar |     31.9 |\n",
       "| simetría |      0.3 |\n",
       "| kurtosis |      1.5 |\n",
       "\n"
      ],
      "text/plain": [
       "                    pop     \n",
       "tamaño              725295.0\n",
       "media                  150.4\n",
       "desviación estándar     31.9\n",
       "simetría                 0.3\n",
       "kurtosis                 1.5"
      ]
     },
     "metadata": {},
     "output_type": "display_data"
    }
   ],
   "source": [
    "pop<-round(mystats(PT[,'I']),1)\n",
    "data.frame(pop)"
   ]
  },
  {
   "cell_type": "markdown",
   "metadata": {},
   "source": [
    "<h3>Tamaño adecuado de la muestra</h3>"
   ]
  },
  {
   "cell_type": "code",
   "execution_count": 27,
   "metadata": {},
   "outputs": [
    {
     "ename": "ERROR",
     "evalue": "Error in sample.size.mean(e, s, level = 0.95): no se pudo encontrar la función \"sample.size.mean\"\n",
     "output_type": "error",
     "traceback": [
      "Error in sample.size.mean(e, s, level = 0.95): no se pudo encontrar la función \"sample.size.mean\"\nTraceback:\n"
     ]
    }
   ],
   "source": [
    "#c(\"tamaño\"=n, \"media\"=m, \"desviación estándar\"=s, \"simetría\"=skew, \"kurtosis\"=kurt)\n",
    "#error del 5%\n",
    "e=0.05*pop['media'] #Error * Media\n",
    "s=pop['desviación estándar'] #Desviación Estandar\n",
    "sample.size.mean(e,s, level = 0.95)\n",
    "e=0.01*pop['media'] #Error * Media\n",
    "sample.size.mean(e,s, level = 0.99)"
   ]
  },
  {
   "cell_type": "code",
   "execution_count": 28,
   "metadata": {},
   "outputs": [],
   "source": [
    "n1<-70\n",
    "Rf1<- sample(1:nrow(PT),size=n1,replace=FALSE)\n",
    "n2<-2985\n",
    "Rf2<- sample(1:nrow(PT),size=n2,replace=FALSE)"
   ]
  },
  {
   "cell_type": "markdown",
   "metadata": {},
   "source": [
    "<h1>1- Muestreo Simple</h1>\n",
    "<H4>Total vs Razonamiento cuantitativo - Inglés - Lectura Crítica</H4>"
   ]
  },
  {
   "cell_type": "markdown",
   "metadata": {},
   "source": [
    "<h3>Primer Muestreo N = 134</h3>\n",
    "Nivel de confianza del $95\\%$\n",
    "Error del $5\\%$"
   ]
  },
  {
   "cell_type": "code",
   "execution_count": 29,
   "metadata": {},
   "outputs": [
    {
     "data": {
      "image/png": "[encoded data removed]",
      "text/plain": [
       "Plot with title \"Lectura Crítica\""
      ]
     },
     "metadata": {
      "image/png": {
       "height": 420,
       "width": 420
      },
      "text/plain": {
       "height": 420,
       "width": 420
      }
     },
     "output_type": "display_data"
    },
    {
     "data": {
      "image/png": "[encoded data removed]",
      "text/plain": [
       "Plot with title \"Lectura Crítica\""
      ]
     },
     "metadata": {
      "image/png": {
       "height": 420,
       "width": 420
      },
      "text/plain": {
       "height": 420,
       "width": 420
      }
     },
     "output_type": "display_data"
    }
   ],
   "source": [
    "par(mfrow=c(2,2))\n",
    "\n",
    "with(PT[Rf1,], boxplot(T, main = 'Puntaje Global / 5'))\n",
    "with(PT[Rf1,], boxplot(RC, main = 'Razonamiento Cuantitativo'))\n",
    "with(PT[Rf1,], boxplot(I, main = 'Inglés'))\n",
    "with(PT[Rf1,], boxplot(LC, main = 'Lectura Crítica'))\n",
    "\n",
    "with(PT[Rf1,], hist(T, nclass = 50, main = 'Puntaje Global / 5'))\n",
    "with(PT[Rf1,], hist(RC, nclass = 50, main = 'Razonamiento Cuantitativo'))\n",
    "with(PT[Rf1,], hist(I, nclass = 50, main = 'Inglés'))\n",
    "with(PT[Rf1,], hist(LC, nclass = 50, main = 'Lectura Crítica'))\n",
    "par(mfrow=c(1,1))"
   ]
  },
  {
   "cell_type": "markdown",
   "metadata": {},
   "source": [
    "<h3>Segundo Muestreo N = 2985</h3>\n",
    "Nivel de confianza del $99\\%$\n",
    "Error del $1\\%$"
   ]
  },
  {
   "cell_type": "code",
   "execution_count": null,
   "metadata": {},
   "outputs": [],
   "source": [
    "par(mfrow=c(2,2))\n",
    "with(PT[Rf2,], boxplot(T, main = 'Puntaje Global / 5'))\n",
    "with(PT[Rf2,], boxplot(RC, main = 'Razonamiento Cuantitativo'))\n",
    "with(PT[Rf2,], boxplot(I, main = 'Inglés'))\n",
    "with(PT[Rf2,], boxplot(LC, main = 'Lectura Crítica'))\n",
    "with(PT[Rf2,], hist(T, nclass = 50, main = 'Puntaje Global / 5'))\n",
    "with(PT[Rf2,], hist(RC, nclass = 50, main = 'Razonamiento Cuantitativo'))\n",
    "with(PT[Rf2,], hist(I, nclass = 50, main = 'Inglés'))\n",
    "with(PT[Rf2,], hist(LC, nclass = 50, main = 'Lectura Crítica'))\n",
    "par(mfrow=c(1,1))"
   ]
  },
  {
   "cell_type": "markdown",
   "metadata": {},
   "source": [
    "<h3>Población Total</h3>"
   ]
  },
  {
   "cell_type": "code",
   "execution_count": 30,
   "metadata": {},
   "outputs": [
    {
     "data": {
      "image/png": "[encoded data removed]",
      "text/plain": [
       "Plot with title \"Lectura Crítica\""
      ]
     },
     "metadata": {
      "image/png": {
       "height": 420,
       "width": 420
      },
      "text/plain": {
       "height": 420,
       "width": 420
      }
     },
     "output_type": "display_data"
    },
    {
     "data": {
      "image/png": "[encoded data removed]",
      "text/plain": [
       "Plot with title \"Lectura Crítica\""
      ]
     },
     "metadata": {
      "image/png": {
       "height": 420,
       "width": 420
      },
      "text/plain": {
       "height": 420,
       "width": 420
      }
     },
     "output_type": "display_data"
    }
   ],
   "source": [
    "par(mfrow=c(2,2))\n",
    "with(PT, boxplot(T, main = 'Puntaje Global / 5'))\n",
    "with(PT, boxplot(RC, main = 'Razonamiento Cuantitativo'))\n",
    "with(PT, boxplot(I, main = 'Inglés'))\n",
    "with(PT, boxplot(LC, main = 'Lectura Crítica'))\n",
    "with(PT, hist(T, nclass = 50, main = 'Puntaje Global/5'))\n",
    "with(PT, hist(RC, nclass = 50, main = 'Razonamiento Cuantitativo'))\n",
    "with(PT, hist(I, nclass = 50, main = 'Inglés'))\n",
    "with(PT, hist(LC, nclass = 50, main = 'Lectura Crítica'))\n",
    "par(mfrow=c(1,1))"
   ]
  },
  {
   "cell_type": "markdown",
   "metadata": {},
   "source": [
    "### Inferencia"
   ]
  },
  {
   "cell_type": "markdown",
   "metadata": {},
   "source": [
    "Para este caso comparamos 3 variables; Razonamiento cuantitativo, inglés, Lectura Crítica con respecto a una 4 creada para entrar en contexto la cual es \"Puntaje Global\"/\"Total\" el cual definimos como la suma de todas las variables divididas por 5\n",
    "\n",
    "Las gráficas las creamos tomando 2 tamaños de muestra distintos el primero N = 134 con Nivel de confianza del $95\\%$ y Error del $5\\%$, el segundo como N = 2985 con Nivel de confianza del $99\\%$ y Error del $1\\%$ ambos con respecto a la población total\n",
    "\n",
    "Podemos apreciar un comportamiento para el cual el primer muestreo, si bien dio resultados decentes, no nos permitía apreciar un nivel de detalle adecuado, mientras que el 2 no dista de los resultados obtenidos de la población total a un menor costo computacional\n",
    "\n",
    "De los resultados obtenidos podemos apreciar que la asignatura inglesa representa un mayor reto para la mayoría de los estudiantes teniendo un pico mucho pronunciado hacia los 120 pts. decayendo con una pendiente mayor hacia los puntajes más altos a diferencia de Razonamiento Cuantitativo y Lectura crítica que pueden ser fácilmente modeladas por una distribución normal\n"
   ]
  },
  {
   "cell_type": "markdown",
   "metadata": {},
   "source": [
    "<h1>2- Muestreo Estratificado</h1>"
   ]
  },
  {
   "cell_type": "code",
   "execution_count": 2,
   "metadata": {},
   "outputs": [
    {
     "name": "stderr",
     "output_type": "stream",
     "text": [
      "\n",
      "Attaching package: 'dplyr'\n",
      "\n",
      "\n",
      "The following objects are masked from 'package:stats':\n",
      "\n",
      "    filter, lag\n",
      "\n",
      "\n",
      "The following objects are masked from 'package:base':\n",
      "\n",
      "    intersect, setdiff, setequal, union\n",
      "\n",
      "\n"
     ]
    }
   ],
   "source": [
    "library(dplyr)\n",
    "library(magrittr) # las librerias "
   ]
  },
  {
   "cell_type": "markdown",
   "metadata": {},
   "source": [
    "<H4>Las variables a usar para la estratificacion periodo,ingles_punt</H4>"
   ]
  },
  {
   "cell_type": "code",
   "execution_count": 8,
   "metadata": {},
   "outputs": [],
   "source": [
    "PTE<-data.frame(C=Datos$estu_cod_reside_depto,\n",
    "               T=(Datos$raz_cuant_punt +\n",
    "                Datos$lect_crit_punt +\n",
    "                Datos$comp_ciud_punt +\n",
    "                Datos$ingles_punt +\n",
    "                Datos$comu_escr_punt)/5, # Global\n",
    "                RC=Datos$raz_cuant_punt,\n",
    "                LC=Datos$lect_crit_punt,\n",
    "                CC=Datos$comp_ciud_punt,\n",
    "                I=Datos$ingles_punt,\n",
    "                P=Datos$periodo,\n",
    "                CE=Datos$comu_escr_punt,\n",
    "                D=Datos$estu_depto_reside)"
   ]
  },
  {
   "cell_type": "code",
   "execution_count": 9,
   "metadata": {},
   "outputs": [
    {
     "data": {
      "text/html": [
       "<table>\n",
       "<caption>A data.frame: 6 × 9</caption>\n",
       "<thead>\n",
       "\t<tr><th></th><th scope=col>C</th><th scope=col>T</th><th scope=col>RC</th><th scope=col>LC</th><th scope=col>CC</th><th scope=col>I</th><th scope=col>P</th><th scope=col>CE</th><th scope=col>D</th></tr>\n",
       "\t<tr><th></th><th scope=col>&lt;int&gt;</th><th scope=col>&lt;dbl&gt;</th><th scope=col>&lt;int&gt;</th><th scope=col>&lt;int&gt;</th><th scope=col>&lt;int&gt;</th><th scope=col>&lt;int&gt;</th><th scope=col>&lt;int&gt;</th><th scope=col>&lt;int&gt;</th><th scope=col>&lt;fct&gt;</th></tr>\n",
       "</thead>\n",
       "<tbody>\n",
       "\t<tr><th scope=row>1</th><td> 8</td><td>154.4</td><td>160</td><td>130</td><td>167</td><td>160</td><td>20163</td><td>155</td><td>ATLANTICO   </td></tr>\n",
       "\t<tr><th scope=row>2</th><td>25</td><td>127.2</td><td>138</td><td>132</td><td> 77</td><td>125</td><td>20163</td><td>164</td><td>CUNDINAMARCA</td></tr>\n",
       "\t<tr><th scope=row>3</th><td>17</td><td>135.8</td><td>146</td><td>157</td><td>150</td><td>104</td><td>20163</td><td>122</td><td>CALDAS      </td></tr>\n",
       "\t<tr><th scope=row>4</th><td>47</td><td>167.0</td><td>160</td><td>172</td><td>151</td><td>160</td><td>20163</td><td>192</td><td>MAGDALENA   </td></tr>\n",
       "\t<tr><th scope=row>5</th><td>23</td><td>143.8</td><td>130</td><td>122</td><td>144</td><td>192</td><td>20163</td><td>131</td><td>CORDOBA     </td></tr>\n",
       "\t<tr><th scope=row>6</th><td>19</td><td>139.4</td><td>159</td><td>129</td><td>147</td><td>108</td><td>20163</td><td>154</td><td>CAUCA       </td></tr>\n",
       "</tbody>\n",
       "</table>\n"
      ],
      "text/latex": [
       "A data.frame: 6 × 9\n",
       "\\begin{tabular}{r|lllllllll}\n",
       "  & C & T & RC & LC & CC & I & P & CE & D\\\\\n",
       "  & <int> & <dbl> & <int> & <int> & <int> & <int> & <int> & <int> & <fct>\\\\\n",
       "\\hline\n",
       "\t1 &  8 & 154.4 & 160 & 130 & 167 & 160 & 20163 & 155 & ATLANTICO   \\\\\n",
       "\t2 & 25 & 127.2 & 138 & 132 &  77 & 125 & 20163 & 164 & CUNDINAMARCA\\\\\n",
       "\t3 & 17 & 135.8 & 146 & 157 & 150 & 104 & 20163 & 122 & CALDAS      \\\\\n",
       "\t4 & 47 & 167.0 & 160 & 172 & 151 & 160 & 20163 & 192 & MAGDALENA   \\\\\n",
       "\t5 & 23 & 143.8 & 130 & 122 & 144 & 192 & 20163 & 131 & CORDOBA     \\\\\n",
       "\t6 & 19 & 139.4 & 159 & 129 & 147 & 108 & 20163 & 154 & CAUCA       \\\\\n",
       "\\end{tabular}\n"
      ],
      "text/markdown": [
       "\n",
       "A data.frame: 6 × 9\n",
       "\n",
       "| <!--/--> | C &lt;int&gt; | T &lt;dbl&gt; | RC &lt;int&gt; | LC &lt;int&gt; | CC &lt;int&gt; | I &lt;int&gt; | P &lt;int&gt; | CE &lt;int&gt; | D &lt;fct&gt; |\n",
       "|---|---|---|---|---|---|---|---|---|---|\n",
       "| 1 |  8 | 154.4 | 160 | 130 | 167 | 160 | 20163 | 155 | ATLANTICO    |\n",
       "| 2 | 25 | 127.2 | 138 | 132 |  77 | 125 | 20163 | 164 | CUNDINAMARCA |\n",
       "| 3 | 17 | 135.8 | 146 | 157 | 150 | 104 | 20163 | 122 | CALDAS       |\n",
       "| 4 | 47 | 167.0 | 160 | 172 | 151 | 160 | 20163 | 192 | MAGDALENA    |\n",
       "| 5 | 23 | 143.8 | 130 | 122 | 144 | 192 | 20163 | 131 | CORDOBA      |\n",
       "| 6 | 19 | 139.4 | 159 | 129 | 147 | 108 | 20163 | 154 | CAUCA        |\n",
       "\n"
      ],
      "text/plain": [
       "  C  T     RC  LC  CC  I   P     CE  D           \n",
       "1  8 154.4 160 130 167 160 20163 155 ATLANTICO   \n",
       "2 25 127.2 138 132  77 125 20163 164 CUNDINAMARCA\n",
       "3 17 135.8 146 157 150 104 20163 122 CALDAS      \n",
       "4 47 167.0 160 172 151 160 20163 192 MAGDALENA   \n",
       "5 23 143.8 130 122 144 192 20163 131 CORDOBA     \n",
       "6 19 139.4 159 129 147 108 20163 154 CAUCA       "
      ]
     },
     "metadata": {},
     "output_type": "display_data"
    }
   ],
   "source": [
    "head(PTE)"
   ]
  },
  {
   "cell_type": "code",
   "execution_count": 10,
   "metadata": {},
   "outputs": [
    {
     "data": {
      "text/html": [
       "<table>\n",
       "<caption>A tibble: 7 × 4</caption>\n",
       "<thead>\n",
       "\t<tr><th scope=col>P</th><th scope=col>n</th><th scope=col>s</th><th scope=col>p</th></tr>\n",
       "\t<tr><th scope=col>&lt;int&gt;</th><th scope=col>&lt;int&gt;</th><th scope=col>&lt;dbl&gt;</th><th scope=col>&lt;dbl&gt;</th></tr>\n",
       "</thead>\n",
       "<tbody>\n",
       "\t<tr><td>20162</td><td>  1308</td><td>34.21712</td><td>0.0018034041</td></tr>\n",
       "\t<tr><td>20163</td><td>241320</td><td>31.71638</td><td>0.3327197899</td></tr>\n",
       "\t<tr><td>20172</td><td>  1408</td><td>34.81481</td><td>0.0019412791</td></tr>\n",
       "\t<tr><td>20173</td><td>244158</td><td>31.49636</td><td>0.3366326805</td></tr>\n",
       "\t<tr><td>20182</td><td>  1527</td><td>29.40017</td><td>0.0021053502</td></tr>\n",
       "\t<tr><td>20183</td><td>235201</td><td>32.20697</td><td>0.3242832227</td></tr>\n",
       "\t<tr><td>20184</td><td>   373</td><td>32.00844</td><td>0.0005142735</td></tr>\n",
       "</tbody>\n",
       "</table>\n"
      ],
      "text/latex": [
       "A tibble: 7 × 4\n",
       "\\begin{tabular}{llll}\n",
       " P & n & s & p\\\\\n",
       " <int> & <int> & <dbl> & <dbl>\\\\\n",
       "\\hline\n",
       "\t 20162 &   1308 & 34.21712 & 0.0018034041\\\\\n",
       "\t 20163 & 241320 & 31.71638 & 0.3327197899\\\\\n",
       "\t 20172 &   1408 & 34.81481 & 0.0019412791\\\\\n",
       "\t 20173 & 244158 & 31.49636 & 0.3366326805\\\\\n",
       "\t 20182 &   1527 & 29.40017 & 0.0021053502\\\\\n",
       "\t 20183 & 235201 & 32.20697 & 0.3242832227\\\\\n",
       "\t 20184 &    373 & 32.00844 & 0.0005142735\\\\\n",
       "\\end{tabular}\n"
      ],
      "text/markdown": [
       "\n",
       "A tibble: 7 × 4\n",
       "\n",
       "| P &lt;int&gt; | n &lt;int&gt; | s &lt;dbl&gt; | p &lt;dbl&gt; |\n",
       "|---|---|---|---|\n",
       "| 20162 |   1308 | 34.21712 | 0.0018034041 |\n",
       "| 20163 | 241320 | 31.71638 | 0.3327197899 |\n",
       "| 20172 |   1408 | 34.81481 | 0.0019412791 |\n",
       "| 20173 | 244158 | 31.49636 | 0.3366326805 |\n",
       "| 20182 |   1527 | 29.40017 | 0.0021053502 |\n",
       "| 20183 | 235201 | 32.20697 | 0.3242832227 |\n",
       "| 20184 |    373 | 32.00844 | 0.0005142735 |\n",
       "\n"
      ],
      "text/plain": [
       "  P     n      s        p           \n",
       "1 20162   1308 34.21712 0.0018034041\n",
       "2 20163 241320 31.71638 0.3327197899\n",
       "3 20172   1408 34.81481 0.0019412791\n",
       "4 20173 244158 31.49636 0.3366326805\n",
       "5 20182   1527 29.40017 0.0021053502\n",
       "6 20183 235201 32.20697 0.3242832227\n",
       "7 20184    373 32.00844 0.0005142735"
      ]
     },
     "metadata": {},
     "output_type": "display_data"
    }
   ],
   "source": [
    "\n",
    "Estratificacion<- PTE %>%\n",
    "                  select(P,I)%>%\n",
    "                  group_by(P) %>%\n",
    "                  summarise(n=n(), s=sd(I),.groups = 'drop') %>%\n",
    "                  mutate(p=n/sum(n))\n",
    "\n",
    "Estratificacion"
   ]
  },
  {
   "cell_type": "code",
   "execution_count": 11,
   "metadata": {},
   "outputs": [],
   "source": [
    "library('SamplingUtil') #esta libreria permite calcular los estratos"
   ]
  },
  {
   "cell_type": "markdown",
   "metadata": {},
   "source": [
    "ahora hallaremos las proporciones que se usaran en las muestras de cada estrato,con tamaño de 300,500 y 1000"
   ]
  },
  {
   "cell_type": "code",
   "execution_count": 12,
   "metadata": {},
   "outputs": [],
   "source": [
    "nsizeProp300<-nstrata(n=300,wh=Estratificacion[,4],method=\"proportional\")\n",
    "nsizeProp500<-nstrata(n=500,wh=Estratificacion[,4],method=\"proportional\")\n",
    "nsizeProp1000<-nstrata(n=1000,wh=Estratificacion[,4],method=\"proportional\")"
   ]
  },
  {
   "cell_type": "code",
   "execution_count": 13,
   "metadata": {},
   "outputs": [
    {
     "data": {
      "text/html": [
       "<table>\n",
       "<caption>A data.frame: 7 × 4</caption>\n",
       "<thead>\n",
       "\t<tr><th scope=col>periodo</th><th scope=col>p</th><th scope=col>p.1</th><th scope=col>p.2</th></tr>\n",
       "\t<tr><th scope=col>&lt;int&gt;</th><th scope=col>&lt;dbl&gt;</th><th scope=col>&lt;dbl&gt;</th><th scope=col>&lt;dbl&gt;</th></tr>\n",
       "</thead>\n",
       "<tbody>\n",
       "\t<tr><td>20162</td><td>  1</td><td>  1</td><td>  2</td></tr>\n",
       "\t<tr><td>20163</td><td>100</td><td>167</td><td>333</td></tr>\n",
       "\t<tr><td>20172</td><td>  1</td><td>  1</td><td>  2</td></tr>\n",
       "\t<tr><td>20173</td><td>101</td><td>169</td><td>337</td></tr>\n",
       "\t<tr><td>20182</td><td>  1</td><td>  2</td><td>  3</td></tr>\n",
       "\t<tr><td>20183</td><td> 98</td><td>163</td><td>325</td></tr>\n",
       "\t<tr><td>20184</td><td>  1</td><td>  1</td><td>  1</td></tr>\n",
       "</tbody>\n",
       "</table>\n"
      ],
      "text/latex": [
       "A data.frame: 7 × 4\n",
       "\\begin{tabular}{llll}\n",
       " periodo & p & p.1 & p.2\\\\\n",
       " <int> & <dbl> & <dbl> & <dbl>\\\\\n",
       "\\hline\n",
       "\t 20162 &   1 &   1 &   2\\\\\n",
       "\t 20163 & 100 & 167 & 333\\\\\n",
       "\t 20172 &   1 &   1 &   2\\\\\n",
       "\t 20173 & 101 & 169 & 337\\\\\n",
       "\t 20182 &   1 &   2 &   3\\\\\n",
       "\t 20183 &  98 & 163 & 325\\\\\n",
       "\t 20184 &   1 &   1 &   1\\\\\n",
       "\\end{tabular}\n"
      ],
      "text/markdown": [
       "\n",
       "A data.frame: 7 × 4\n",
       "\n",
       "| periodo &lt;int&gt; | p &lt;dbl&gt; | p.1 &lt;dbl&gt; | p.2 &lt;dbl&gt; |\n",
       "|---|---|---|---|\n",
       "| 20162 |   1 |   1 |   2 |\n",
       "| 20163 | 100 | 167 | 333 |\n",
       "| 20172 |   1 |   1 |   2 |\n",
       "| 20173 | 101 | 169 | 337 |\n",
       "| 20182 |   1 |   2 |   3 |\n",
       "| 20183 |  98 | 163 | 325 |\n",
       "| 20184 |   1 |   1 |   1 |\n",
       "\n"
      ],
      "text/plain": [
       "  periodo p   p.1 p.2\n",
       "1 20162     1   1   2\n",
       "2 20163   100 167 333\n",
       "3 20172     1   1   2\n",
       "4 20173   101 169 337\n",
       "5 20182     1   2   3\n",
       "6 20183    98 163 325\n",
       "7 20184     1   1   1"
      ]
     },
     "metadata": {},
     "output_type": "display_data"
    }
   ],
   "source": [
    "data.frame(periodo=Estratificacion$P,nsizeProp300,nsizeProp500,nsizeProp1000)"
   ]
  },
  {
   "cell_type": "markdown",
   "metadata": {},
   "source": [
    "tenemos las proporciones y con ellas vamos a relizar las respectivas muestras simples "
   ]
  },
  {
   "cell_type": "code",
   "execution_count": 15,
   "metadata": {},
   "outputs": [
    {
     "data": {
      "text/html": [
       "538"
      ],
      "text/latex": [
       "538"
      ],
      "text/markdown": [
       "538"
      ],
      "text/plain": [
       "[1] 538"
      ]
     },
     "metadata": {},
     "output_type": "display_data"
    }
   ],
   "source": [
    "n2016230<-1\n",
    "muestra2016230<- sample(1:nrow(PTE[PTE$P=='20162',]),size=n2016230,replace=FALSE)\n",
    "muestra2016230"
   ]
  },
  {
   "cell_type": "code",
   "execution_count": 16,
   "metadata": {},
   "outputs": [
    {
     "data": {
      "text/html": [
       "<style>\n",
       ".list-inline {list-style: none; margin:0; padding: 0}\n",
       ".list-inline>li {display: inline-block}\n",
       ".list-inline>li:not(:last-child)::after {content: \"\\00b7\"; padding: 0 .5ex}\n",
       "</style>\n",
       "<ol class=list-inline><li>92349</li><li>102096</li><li>180496</li><li>228217</li><li>92689</li><li>52141</li><li>198567</li><li>218546</li><li>122065</li><li>63787</li><li>228743</li><li>30467</li><li>155756</li><li>69204</li><li>5969</li><li>31681</li><li>120028</li><li>152244</li><li>19864</li><li>40079</li><li>125711</li><li>110164</li><li>34039</li><li>39552</li><li>121623</li><li>164540</li><li>136729</li><li>82051</li><li>111050</li><li>193480</li><li>217200</li><li>154131</li><li>74381</li><li>13265</li><li>123216</li><li>12127</li><li>31348</li><li>122142</li><li>54741</li><li>47796</li><li>208921</li><li>63392</li><li>96487</li><li>159771</li><li>97465</li><li>189862</li><li>118600</li><li>36721</li><li>197685</li><li>227939</li><li>86240</li><li>5438</li><li>175924</li><li>181374</li><li>80822</li><li>184197</li><li>124893</li><li>32936</li><li>3138</li><li>50495</li><li>145572</li><li>168597</li><li>231746</li><li>27719</li><li>73960</li><li>141670</li><li>213740</li><li>235745</li><li>219870</li><li>219048</li><li>12668</li><li>181268</li><li>68244</li><li>55220</li><li>59024</li><li>8806</li><li>101397</li><li>206671</li><li>143313</li><li>89632</li><li>8146</li><li>130760</li><li>80171</li><li>135838</li><li>171937</li><li>4799</li><li>128571</li><li>167208</li><li>184715</li><li>131919</li><li>229785</li><li>380</li><li>90755</li><li>171808</li><li>110601</li><li>81520</li><li>69257</li><li>117006</li><li>98160</li><li>86171</li></ol>\n"
      ],
      "text/latex": [
       "\\begin{enumerate*}\n",
       "\\item 92349\n",
       "\\item 102096\n",
       "\\item 180496\n",
       "\\item 228217\n",
       "\\item 92689\n",
       "\\item 52141\n",
       "\\item 198567\n",
       "\\item 218546\n",
       "\\item 122065\n",
       "\\item 63787\n",
       "\\item 228743\n",
       "\\item 30467\n",
       "\\item 155756\n",
       "\\item 69204\n",
       "\\item 5969\n",
       "\\item 31681\n",
       "\\item 120028\n",
       "\\item 152244\n",
       "\\item 19864\n",
       "\\item 40079\n",
       "\\item 125711\n",
       "\\item 110164\n",
       "\\item 34039\n",
       "\\item 39552\n",
       "\\item 121623\n",
       "\\item 164540\n",
       "\\item 136729\n",
       "\\item 82051\n",
       "\\item 111050\n",
       "\\item 193480\n",
       "\\item 217200\n",
       "\\item 154131\n",
       "\\item 74381\n",
       "\\item 13265\n",
       "\\item 123216\n",
       "\\item 12127\n",
       "\\item 31348\n",
       "\\item 122142\n",
       "\\item 54741\n",
       "\\item 47796\n",
       "\\item 208921\n",
       "\\item 63392\n",
       "\\item 96487\n",
       "\\item 159771\n",
       "\\item 97465\n",
       "\\item 189862\n",
       "\\item 118600\n",
       "\\item 36721\n",
       "\\item 197685\n",
       "\\item 227939\n",
       "\\item 86240\n",
       "\\item 5438\n",
       "\\item 175924\n",
       "\\item 181374\n",
       "\\item 80822\n",
       "\\item 184197\n",
       "\\item 124893\n",
       "\\item 32936\n",
       "\\item 3138\n",
       "\\item 50495\n",
       "\\item 145572\n",
       "\\item 168597\n",
       "\\item 231746\n",
       "\\item 27719\n",
       "\\item 73960\n",
       "\\item 141670\n",
       "\\item 213740\n",
       "\\item 235745\n",
       "\\item 219870\n",
       "\\item 219048\n",
       "\\item 12668\n",
       "\\item 181268\n",
       "\\item 68244\n",
       "\\item 55220\n",
       "\\item 59024\n",
       "\\item 8806\n",
       "\\item 101397\n",
       "\\item 206671\n",
       "\\item 143313\n",
       "\\item 89632\n",
       "\\item 8146\n",
       "\\item 130760\n",
       "\\item 80171\n",
       "\\item 135838\n",
       "\\item 171937\n",
       "\\item 4799\n",
       "\\item 128571\n",
       "\\item 167208\n",
       "\\item 184715\n",
       "\\item 131919\n",
       "\\item 229785\n",
       "\\item 380\n",
       "\\item 90755\n",
       "\\item 171808\n",
       "\\item 110601\n",
       "\\item 81520\n",
       "\\item 69257\n",
       "\\item 117006\n",
       "\\item 98160\n",
       "\\item 86171\n",
       "\\end{enumerate*}\n"
      ],
      "text/markdown": [
       "1. 92349\n",
       "2. 102096\n",
       "3. 180496\n",
       "4. 228217\n",
       "5. 92689\n",
       "6. 52141\n",
       "7. 198567\n",
       "8. 218546\n",
       "9. 122065\n",
       "10. 63787\n",
       "11. 228743\n",
       "12. 30467\n",
       "13. 155756\n",
       "14. 69204\n",
       "15. 5969\n",
       "16. 31681\n",
       "17. 120028\n",
       "18. 152244\n",
       "19. 19864\n",
       "20. 40079\n",
       "21. 125711\n",
       "22. 110164\n",
       "23. 34039\n",
       "24. 39552\n",
       "25. 121623\n",
       "26. 164540\n",
       "27. 136729\n",
       "28. 82051\n",
       "29. 111050\n",
       "30. 193480\n",
       "31. 217200\n",
       "32. 154131\n",
       "33. 74381\n",
       "34. 13265\n",
       "35. 123216\n",
       "36. 12127\n",
       "37. 31348\n",
       "38. 122142\n",
       "39. 54741\n",
       "40. 47796\n",
       "41. 208921\n",
       "42. 63392\n",
       "43. 96487\n",
       "44. 159771\n",
       "45. 97465\n",
       "46. 189862\n",
       "47. 118600\n",
       "48. 36721\n",
       "49. 197685\n",
       "50. 227939\n",
       "51. 86240\n",
       "52. 5438\n",
       "53. 175924\n",
       "54. 181374\n",
       "55. 80822\n",
       "56. 184197\n",
       "57. 124893\n",
       "58. 32936\n",
       "59. 3138\n",
       "60. 50495\n",
       "61. 145572\n",
       "62. 168597\n",
       "63. 231746\n",
       "64. 27719\n",
       "65. 73960\n",
       "66. 141670\n",
       "67. 213740\n",
       "68. 235745\n",
       "69. 219870\n",
       "70. 219048\n",
       "71. 12668\n",
       "72. 181268\n",
       "73. 68244\n",
       "74. 55220\n",
       "75. 59024\n",
       "76. 8806\n",
       "77. 101397\n",
       "78. 206671\n",
       "79. 143313\n",
       "80. 89632\n",
       "81. 8146\n",
       "82. 130760\n",
       "83. 80171\n",
       "84. 135838\n",
       "85. 171937\n",
       "86. 4799\n",
       "87. 128571\n",
       "88. 167208\n",
       "89. 184715\n",
       "90. 131919\n",
       "91. 229785\n",
       "92. 380\n",
       "93. 90755\n",
       "94. 171808\n",
       "95. 110601\n",
       "96. 81520\n",
       "97. 69257\n",
       "98. 117006\n",
       "99. 98160\n",
       "100. 86171\n",
       "\n",
       "\n"
      ],
      "text/plain": [
       "  [1]  92349 102096 180496 228217  92689  52141 198567 218546 122065  63787\n",
       " [11] 228743  30467 155756  69204   5969  31681 120028 152244  19864  40079\n",
       " [21] 125711 110164  34039  39552 121623 164540 136729  82051 111050 193480\n",
       " [31] 217200 154131  74381  13265 123216  12127  31348 122142  54741  47796\n",
       " [41] 208921  63392  96487 159771  97465 189862 118600  36721 197685 227939\n",
       " [51]  86240   5438 175924 181374  80822 184197 124893  32936   3138  50495\n",
       " [61] 145572 168597 231746  27719  73960 141670 213740 235745 219870 219048\n",
       " [71]  12668 181268  68244  55220  59024   8806 101397 206671 143313  89632\n",
       " [81]   8146 130760  80171 135838 171937   4799 128571 167208 184715 131919\n",
       " [91] 229785    380  90755 171808 110601  81520  69257 117006  98160  86171"
      ]
     },
     "metadata": {},
     "output_type": "display_data"
    }
   ],
   "source": [
    "n2016330<-100\n",
    "muestra2016330<- sample(1:nrow(PTE[PTE$P=='20163',]),size=n2016330,replace=FALSE)\n",
    "muestra2016330"
   ]
  },
  {
   "cell_type": "code",
   "execution_count": 17,
   "metadata": {},
   "outputs": [
    {
     "data": {
      "text/html": [
       "208"
      ],
      "text/latex": [
       "208"
      ],
      "text/markdown": [
       "208"
      ],
      "text/plain": [
       "[1] 208"
      ]
     },
     "metadata": {},
     "output_type": "display_data"
    }
   ],
   "source": [
    "n201721<-1\n",
    "muestra2017230<- sample(1:nrow(PTE[PTE$P=='20172',]),size=n201721,replace=FALSE)\n",
    "muestra2017230"
   ]
  },
  {
   "cell_type": "code",
   "execution_count": 18,
   "metadata": {},
   "outputs": [
    {
     "data": {
      "text/html": [
       "<style>\n",
       ".list-inline {list-style: none; margin:0; padding: 0}\n",
       ".list-inline>li {display: inline-block}\n",
       ".list-inline>li:not(:last-child)::after {content: \"\\00b7\"; padding: 0 .5ex}\n",
       "</style>\n",
       "<ol class=list-inline><li>149397</li><li>35622</li><li>112901</li><li>226143</li><li>23626</li><li>91478</li><li>160022</li><li>49650</li><li>112695</li><li>192074</li><li>88546</li><li>197371</li><li>213936</li><li>127904</li><li>58433</li><li>126690</li><li>167169</li><li>114238</li><li>53837</li><li>75947</li><li>166490</li><li>20172</li><li>131902</li><li>79727</li><li>213012</li><li>160500</li><li>146731</li><li>118061</li><li>52269</li><li>159144</li><li>143034</li><li>100681</li><li>179136</li><li>43209</li><li>235992</li><li>126676</li><li>46231</li><li>66096</li><li>239550</li><li>226989</li><li>83212</li><li>226005</li><li>126735</li><li>5699</li><li>91404</li><li>85331</li><li>17689</li><li>151499</li><li>62696</li><li>25279</li><li>214606</li><li>205528</li><li>211590</li><li>54926</li><li>36866</li><li>243080</li><li>213482</li><li>118918</li><li>41744</li><li>157875</li><li>78186</li><li>125845</li><li>195750</li><li>16051</li><li>110522</li><li>174718</li><li>90683</li><li>56428</li><li>53107</li><li>1485</li><li>77847</li><li>242223</li><li>196044</li><li>143666</li><li>115179</li><li>27977</li><li>201275</li><li>80856</li><li>102539</li><li>237841</li><li>212591</li><li>143031</li><li>230049</li><li>139556</li><li>61580</li><li>91300</li><li>231410</li><li>91638</li><li>133439</li><li>96957</li><li>102451</li><li>172533</li><li>127362</li><li>52494</li><li>17502</li><li>102349</li><li>16414</li><li>243955</li><li>46716</li><li>208848</li><li>81729</li></ol>\n"
      ],
      "text/latex": [
       "\\begin{enumerate*}\n",
       "\\item 149397\n",
       "\\item 35622\n",
       "\\item 112901\n",
       "\\item 226143\n",
       "\\item 23626\n",
       "\\item 91478\n",
       "\\item 160022\n",
       "\\item 49650\n",
       "\\item 112695\n",
       "\\item 192074\n",
       "\\item 88546\n",
       "\\item 197371\n",
       "\\item 213936\n",
       "\\item 127904\n",
       "\\item 58433\n",
       "\\item 126690\n",
       "\\item 167169\n",
       "\\item 114238\n",
       "\\item 53837\n",
       "\\item 75947\n",
       "\\item 166490\n",
       "\\item 20172\n",
       "\\item 131902\n",
       "\\item 79727\n",
       "\\item 213012\n",
       "\\item 160500\n",
       "\\item 146731\n",
       "\\item 118061\n",
       "\\item 52269\n",
       "\\item 159144\n",
       "\\item 143034\n",
       "\\item 100681\n",
       "\\item 179136\n",
       "\\item 43209\n",
       "\\item 235992\n",
       "\\item 126676\n",
       "\\item 46231\n",
       "\\item 66096\n",
       "\\item 239550\n",
       "\\item 226989\n",
       "\\item 83212\n",
       "\\item 226005\n",
       "\\item 126735\n",
       "\\item 5699\n",
       "\\item 91404\n",
       "\\item 85331\n",
       "\\item 17689\n",
       "\\item 151499\n",
       "\\item 62696\n",
       "\\item 25279\n",
       "\\item 214606\n",
       "\\item 205528\n",
       "\\item 211590\n",
       "\\item 54926\n",
       "\\item 36866\n",
       "\\item 243080\n",
       "\\item 213482\n",
       "\\item 118918\n",
       "\\item 41744\n",
       "\\item 157875\n",
       "\\item 78186\n",
       "\\item 125845\n",
       "\\item 195750\n",
       "\\item 16051\n",
       "\\item 110522\n",
       "\\item 174718\n",
       "\\item 90683\n",
       "\\item 56428\n",
       "\\item 53107\n",
       "\\item 1485\n",
       "\\item 77847\n",
       "\\item 242223\n",
       "\\item 196044\n",
       "\\item 143666\n",
       "\\item 115179\n",
       "\\item 27977\n",
       "\\item 201275\n",
       "\\item 80856\n",
       "\\item 102539\n",
       "\\item 237841\n",
       "\\item 212591\n",
       "\\item 143031\n",
       "\\item 230049\n",
       "\\item 139556\n",
       "\\item 61580\n",
       "\\item 91300\n",
       "\\item 231410\n",
       "\\item 91638\n",
       "\\item 133439\n",
       "\\item 96957\n",
       "\\item 102451\n",
       "\\item 172533\n",
       "\\item 127362\n",
       "\\item 52494\n",
       "\\item 17502\n",
       "\\item 102349\n",
       "\\item 16414\n",
       "\\item 243955\n",
       "\\item 46716\n",
       "\\item 208848\n",
       "\\item 81729\n",
       "\\end{enumerate*}\n"
      ],
      "text/markdown": [
       "1. 149397\n",
       "2. 35622\n",
       "3. 112901\n",
       "4. 226143\n",
       "5. 23626\n",
       "6. 91478\n",
       "7. 160022\n",
       "8. 49650\n",
       "9. 112695\n",
       "10. 192074\n",
       "11. 88546\n",
       "12. 197371\n",
       "13. 213936\n",
       "14. 127904\n",
       "15. 58433\n",
       "16. 126690\n",
       "17. 167169\n",
       "18. 114238\n",
       "19. 53837\n",
       "20. 75947\n",
       "21. 166490\n",
       "22. 20172\n",
       "23. 131902\n",
       "24. 79727\n",
       "25. 213012\n",
       "26. 160500\n",
       "27. 146731\n",
       "28. 118061\n",
       "29. 52269\n",
       "30. 159144\n",
       "31. 143034\n",
       "32. 100681\n",
       "33. 179136\n",
       "34. 43209\n",
       "35. 235992\n",
       "36. 126676\n",
       "37. 46231\n",
       "38. 66096\n",
       "39. 239550\n",
       "40. 226989\n",
       "41. 83212\n",
       "42. 226005\n",
       "43. 126735\n",
       "44. 5699\n",
       "45. 91404\n",
       "46. 85331\n",
       "47. 17689\n",
       "48. 151499\n",
       "49. 62696\n",
       "50. 25279\n",
       "51. 214606\n",
       "52. 205528\n",
       "53. 211590\n",
       "54. 54926\n",
       "55. 36866\n",
       "56. 243080\n",
       "57. 213482\n",
       "58. 118918\n",
       "59. 41744\n",
       "60. 157875\n",
       "61. 78186\n",
       "62. 125845\n",
       "63. 195750\n",
       "64. 16051\n",
       "65. 110522\n",
       "66. 174718\n",
       "67. 90683\n",
       "68. 56428\n",
       "69. 53107\n",
       "70. 1485\n",
       "71. 77847\n",
       "72. 242223\n",
       "73. 196044\n",
       "74. 143666\n",
       "75. 115179\n",
       "76. 27977\n",
       "77. 201275\n",
       "78. 80856\n",
       "79. 102539\n",
       "80. 237841\n",
       "81. 212591\n",
       "82. 143031\n",
       "83. 230049\n",
       "84. 139556\n",
       "85. 61580\n",
       "86. 91300\n",
       "87. 231410\n",
       "88. 91638\n",
       "89. 133439\n",
       "90. 96957\n",
       "91. 102451\n",
       "92. 172533\n",
       "93. 127362\n",
       "94. 52494\n",
       "95. 17502\n",
       "96. 102349\n",
       "97. 16414\n",
       "98. 243955\n",
       "99. 46716\n",
       "100. 208848\n",
       "101. 81729\n",
       "\n",
       "\n"
      ],
      "text/plain": [
       "  [1] 149397  35622 112901 226143  23626  91478 160022  49650 112695 192074\n",
       " [11]  88546 197371 213936 127904  58433 126690 167169 114238  53837  75947\n",
       " [21] 166490  20172 131902  79727 213012 160500 146731 118061  52269 159144\n",
       " [31] 143034 100681 179136  43209 235992 126676  46231  66096 239550 226989\n",
       " [41]  83212 226005 126735   5699  91404  85331  17689 151499  62696  25279\n",
       " [51] 214606 205528 211590  54926  36866 243080 213482 118918  41744 157875\n",
       " [61]  78186 125845 195750  16051 110522 174718  90683  56428  53107   1485\n",
       " [71]  77847 242223 196044 143666 115179  27977 201275  80856 102539 237841\n",
       " [81] 212591 143031 230049 139556  61580  91300 231410  91638 133439  96957\n",
       " [91] 102451 172533 127362  52494  17502 102349  16414 243955  46716 208848\n",
       "[101]  81729"
      ]
     },
     "metadata": {},
     "output_type": "display_data"
    }
   ],
   "source": [
    "n20173100<-101\n",
    "muestra20173100<- sample(1:nrow(PTE[PTE$P=='20173',]),size=n20173100,replace=FALSE)\n",
    "muestra20173100"
   ]
  },
  {
   "cell_type": "code",
   "execution_count": 19,
   "metadata": {},
   "outputs": [
    {
     "data": {
      "text/html": [
       "86"
      ],
      "text/latex": [
       "86"
      ],
      "text/markdown": [
       "86"
      ],
      "text/plain": [
       "[1] 86"
      ]
     },
     "metadata": {},
     "output_type": "display_data"
    }
   ],
   "source": [
    "n201821<-1\n",
    "muestra201821<- sample(1:nrow(PTE[PTE$P=='20182',]),size=n201821,replace=FALSE)\n",
    "muestra201821"
   ]
  },
  {
   "cell_type": "code",
   "execution_count": 20,
   "metadata": {},
   "outputs": [
    {
     "data": {
      "text/html": [
       "<style>\n",
       ".list-inline {list-style: none; margin:0; padding: 0}\n",
       ".list-inline>li {display: inline-block}\n",
       ".list-inline>li:not(:last-child)::after {content: \"\\00b7\"; padding: 0 .5ex}\n",
       "</style>\n",
       "<ol class=list-inline><li>95407</li><li>168264</li><li>203182</li><li>223182</li><li>123703</li><li>56361</li><li>129053</li><li>130606</li><li>109213</li><li>149523</li><li>208915</li><li>50264</li><li>131832</li><li>80194</li><li>48244</li><li>145460</li><li>111550</li><li>68639</li><li>140024</li><li>31767</li><li>99266</li><li>129603</li><li>101660</li><li>186117</li><li>122838</li><li>135711</li><li>192785</li><li>33239</li><li>45805</li><li>210143</li><li>200870</li><li>198004</li><li>3356</li><li>169129</li><li>43276</li><li>152263</li><li>7159</li><li>16534</li><li>160438</li><li>16549</li><li>55992</li><li>126317</li><li>56647</li><li>172507</li><li>153350</li><li>220648</li><li>145796</li><li>17761</li><li>25449</li><li>125885</li><li>221477</li><li>40566</li><li>62157</li><li>11307</li><li>197444</li><li>60770</li><li>86908</li><li>41039</li><li>204984</li><li>229983</li><li>80190</li><li>232778</li><li>34345</li><li>32545</li><li>189306</li><li>42566</li><li>44537</li><li>135559</li><li>58389</li><li>37417</li><li>174848</li><li>163543</li><li>84041</li><li>61533</li><li>184496</li><li>104537</li><li>220282</li><li>113909</li><li>93724</li><li>207923</li><li>227210</li><li>76121</li><li>215957</li><li>54027</li><li>24800</li><li>34777</li><li>92973</li><li>228501</li><li>17124</li><li>200547</li><li>194605</li><li>192351</li><li>44915</li><li>66521</li><li>186270</li><li>168981</li><li>208519</li><li>126191</li></ol>\n"
      ],
      "text/latex": [
       "\\begin{enumerate*}\n",
       "\\item 95407\n",
       "\\item 168264\n",
       "\\item 203182\n",
       "\\item 223182\n",
       "\\item 123703\n",
       "\\item 56361\n",
       "\\item 129053\n",
       "\\item 130606\n",
       "\\item 109213\n",
       "\\item 149523\n",
       "\\item 208915\n",
       "\\item 50264\n",
       "\\item 131832\n",
       "\\item 80194\n",
       "\\item 48244\n",
       "\\item 145460\n",
       "\\item 111550\n",
       "\\item 68639\n",
       "\\item 140024\n",
       "\\item 31767\n",
       "\\item 99266\n",
       "\\item 129603\n",
       "\\item 101660\n",
       "\\item 186117\n",
       "\\item 122838\n",
       "\\item 135711\n",
       "\\item 192785\n",
       "\\item 33239\n",
       "\\item 45805\n",
       "\\item 210143\n",
       "\\item 200870\n",
       "\\item 198004\n",
       "\\item 3356\n",
       "\\item 169129\n",
       "\\item 43276\n",
       "\\item 152263\n",
       "\\item 7159\n",
       "\\item 16534\n",
       "\\item 160438\n",
       "\\item 16549\n",
       "\\item 55992\n",
       "\\item 126317\n",
       "\\item 56647\n",
       "\\item 172507\n",
       "\\item 153350\n",
       "\\item 220648\n",
       "\\item 145796\n",
       "\\item 17761\n",
       "\\item 25449\n",
       "\\item 125885\n",
       "\\item 221477\n",
       "\\item 40566\n",
       "\\item 62157\n",
       "\\item 11307\n",
       "\\item 197444\n",
       "\\item 60770\n",
       "\\item 86908\n",
       "\\item 41039\n",
       "\\item 204984\n",
       "\\item 229983\n",
       "\\item 80190\n",
       "\\item 232778\n",
       "\\item 34345\n",
       "\\item 32545\n",
       "\\item 189306\n",
       "\\item 42566\n",
       "\\item 44537\n",
       "\\item 135559\n",
       "\\item 58389\n",
       "\\item 37417\n",
       "\\item 174848\n",
       "\\item 163543\n",
       "\\item 84041\n",
       "\\item 61533\n",
       "\\item 184496\n",
       "\\item 104537\n",
       "\\item 220282\n",
       "\\item 113909\n",
       "\\item 93724\n",
       "\\item 207923\n",
       "\\item 227210\n",
       "\\item 76121\n",
       "\\item 215957\n",
       "\\item 54027\n",
       "\\item 24800\n",
       "\\item 34777\n",
       "\\item 92973\n",
       "\\item 228501\n",
       "\\item 17124\n",
       "\\item 200547\n",
       "\\item 194605\n",
       "\\item 192351\n",
       "\\item 44915\n",
       "\\item 66521\n",
       "\\item 186270\n",
       "\\item 168981\n",
       "\\item 208519\n",
       "\\item 126191\n",
       "\\end{enumerate*}\n"
      ],
      "text/markdown": [
       "1. 95407\n",
       "2. 168264\n",
       "3. 203182\n",
       "4. 223182\n",
       "5. 123703\n",
       "6. 56361\n",
       "7. 129053\n",
       "8. 130606\n",
       "9. 109213\n",
       "10. 149523\n",
       "11. 208915\n",
       "12. 50264\n",
       "13. 131832\n",
       "14. 80194\n",
       "15. 48244\n",
       "16. 145460\n",
       "17. 111550\n",
       "18. 68639\n",
       "19. 140024\n",
       "20. 31767\n",
       "21. 99266\n",
       "22. 129603\n",
       "23. 101660\n",
       "24. 186117\n",
       "25. 122838\n",
       "26. 135711\n",
       "27. 192785\n",
       "28. 33239\n",
       "29. 45805\n",
       "30. 210143\n",
       "31. 200870\n",
       "32. 198004\n",
       "33. 3356\n",
       "34. 169129\n",
       "35. 43276\n",
       "36. 152263\n",
       "37. 7159\n",
       "38. 16534\n",
       "39. 160438\n",
       "40. 16549\n",
       "41. 55992\n",
       "42. 126317\n",
       "43. 56647\n",
       "44. 172507\n",
       "45. 153350\n",
       "46. 220648\n",
       "47. 145796\n",
       "48. 17761\n",
       "49. 25449\n",
       "50. 125885\n",
       "51. 221477\n",
       "52. 40566\n",
       "53. 62157\n",
       "54. 11307\n",
       "55. 197444\n",
       "56. 60770\n",
       "57. 86908\n",
       "58. 41039\n",
       "59. 204984\n",
       "60. 229983\n",
       "61. 80190\n",
       "62. 232778\n",
       "63. 34345\n",
       "64. 32545\n",
       "65. 189306\n",
       "66. 42566\n",
       "67. 44537\n",
       "68. 135559\n",
       "69. 58389\n",
       "70. 37417\n",
       "71. 174848\n",
       "72. 163543\n",
       "73. 84041\n",
       "74. 61533\n",
       "75. 184496\n",
       "76. 104537\n",
       "77. 220282\n",
       "78. 113909\n",
       "79. 93724\n",
       "80. 207923\n",
       "81. 227210\n",
       "82. 76121\n",
       "83. 215957\n",
       "84. 54027\n",
       "85. 24800\n",
       "86. 34777\n",
       "87. 92973\n",
       "88. 228501\n",
       "89. 17124\n",
       "90. 200547\n",
       "91. 194605\n",
       "92. 192351\n",
       "93. 44915\n",
       "94. 66521\n",
       "95. 186270\n",
       "96. 168981\n",
       "97. 208519\n",
       "98. 126191\n",
       "\n",
       "\n"
      ],
      "text/plain": [
       " [1]  95407 168264 203182 223182 123703  56361 129053 130606 109213 149523\n",
       "[11] 208915  50264 131832  80194  48244 145460 111550  68639 140024  31767\n",
       "[21]  99266 129603 101660 186117 122838 135711 192785  33239  45805 210143\n",
       "[31] 200870 198004   3356 169129  43276 152263   7159  16534 160438  16549\n",
       "[41]  55992 126317  56647 172507 153350 220648 145796  17761  25449 125885\n",
       "[51] 221477  40566  62157  11307 197444  60770  86908  41039 204984 229983\n",
       "[61]  80190 232778  34345  32545 189306  42566  44537 135559  58389  37417\n",
       "[71] 174848 163543  84041  61533 184496 104537 220282 113909  93724 207923\n",
       "[81] 227210  76121 215957  54027  24800  34777  92973 228501  17124 200547\n",
       "[91] 194605 192351  44915  66521 186270 168981 208519 126191"
      ]
     },
     "metadata": {},
     "output_type": "display_data"
    }
   ],
   "source": [
    "n2018390<-98\n",
    "muestra2018390<- sample(1:nrow(PTE[PTE$P=='20183',]),size=n2018390,replace=FALSE)\n",
    "muestra2018390"
   ]
  },
  {
   "cell_type": "code",
   "execution_count": 21,
   "metadata": {},
   "outputs": [
    {
     "data": {
      "text/html": [
       "315"
      ],
      "text/latex": [
       "315"
      ],
      "text/markdown": [
       "315"
      ],
      "text/plain": [
       "[1] 315"
      ]
     },
     "metadata": {},
     "output_type": "display_data"
    }
   ],
   "source": [
    "n201841<-1\n",
    "muestra201841<- sample(1:nrow(PTE[PTE$P=='20184',]),size=n201841,replace=FALSE)\n",
    "muestra201841"
   ]
  },
  {
   "cell_type": "markdown",
   "metadata": {},
   "source": [
    "ya tenemos todas nuestras muestras, ahora haremos un vector que las contenga\n"
   ]
  },
  {
   "cell_type": "code",
   "execution_count": 22,
   "metadata": {},
   "outputs": [],
   "source": [
    "muestraEstraficada<-c(muestra2016230,muestra2016330,muestra2017230,muestra20173100,\n",
    "                     muestra201821,muestra2018390,muestra201841)"
   ]
  },
  {
   "cell_type": "code",
   "execution_count": 24,
   "metadata": {},
   "outputs": [
    {
     "data": {
      "text/html": [
       "<style>\n",
       ".list-inline {list-style: none; margin:0; padding: 0}\n",
       ".list-inline>li {display: inline-block}\n",
       ".list-inline>li:not(:last-child)::after {content: \"\\00b7\"; padding: 0 .5ex}\n",
       "</style>\n",
       "<ol class=list-inline><li>538</li><li>92349</li><li>102096</li><li>180496</li><li>228217</li><li>92689</li></ol>\n"
      ],
      "text/latex": [
       "\\begin{enumerate*}\n",
       "\\item 538\n",
       "\\item 92349\n",
       "\\item 102096\n",
       "\\item 180496\n",
       "\\item 228217\n",
       "\\item 92689\n",
       "\\end{enumerate*}\n"
      ],
      "text/markdown": [
       "1. 538\n",
       "2. 92349\n",
       "3. 102096\n",
       "4. 180496\n",
       "5. 228217\n",
       "6. 92689\n",
       "\n",
       "\n"
      ],
      "text/plain": [
       "[1]    538  92349 102096 180496 228217  92689"
      ]
     },
     "metadata": {},
     "output_type": "display_data"
    }
   ],
   "source": [
    "head(muestraEstraficada)"
   ]
  },
  {
   "cell_type": "code",
   "execution_count": 42,
   "metadata": {},
   "outputs": [
    {
     "data": {
      "image/png": "[encoded data removed]",
      "text/plain": [
       "Plot with title \"Histogram of I\""
      ]
     },
     "metadata": {
      "image/png": {
       "height": 420,
       "width": 420
      },
      "text/plain": {
       "height": 420,
       "width": 420
      }
     },
     "output_type": "display_data"
    }
   ],
   "source": [
    "par(mfrow=c(3,2))\n",
    "with(PTE[muestraEstraficada,], boxplot(I,main = 'ME -Inglés'))\n",
    "with(PT[Rf1,], boxplot(I, main = 'MAS-Inglés'))\n",
    "\n",
    "with(PTE[muestraEstraficada,], plot(I, pch = 20))\n",
    "with(PT[Rf1,], plot(I, pch = 20))\n",
    "\n",
    "with(PTE[muestraEstraficada,], hist(I, nclass = 50))\n",
    "with(PT[Rf1,], hist(I, nclass = 50))\n",
    "\n",
    "par(mfrow=c(1,1))\n"
   ]
  },
  {
   "cell_type": "code",
   "execution_count": null,
   "metadata": {},
   "outputs": [],
   "source": []
  }
 ],
 "metadata": {
  "kernelspec": {
   "display_name": "R",
   "language": "R",
   "name": "ir"
  },
  "language_info": {
   "codemirror_mode": "r",
   "file_extension": ".r",
   "mimetype": "text/x-r-source",
   "name": "R",
   "pygments_lexer": "r",
   "version": "4.0.0"
  }
 },
 "nbformat": 4,
 "nbformat_minor": 4
}
