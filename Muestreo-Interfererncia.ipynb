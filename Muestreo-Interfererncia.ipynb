{
 "cells": [
  {
   "cell_type": "markdown",
   "metadata": {},
   "source": [
    "<h1>Trabajo Muestreo-Interferencia</h1>\n",
    "<!----Hey hey!!!---->"
   ]
  },
  {
   "cell_type": "markdown",
   "metadata": {},
   "source": [
    "<h2>Asignatura: Estadistica 2</h2>\n",
    "\n",
    "<h3>Profesor: Carlos Alfonso Mantilla Duarte\n",
    "<br>\n",
    "Grupo: F1</h3>\n",
    "\n",
    "<h4> Andrés Felipe Uribe García - 2160793\n",
    "<br>Julian - 212121\n",
    "<br>Isabel - 212121</h4>"
   ]
  },
  {
   "cell_type": "markdown",
   "metadata": {},
   "source": [
    "En los siguientes enlaces encontrará los datos relacionados con los resultados de las pruebas de estado para las Instituciones de Educación Superior (IES) colombianas de carácter universitario de los últimos tres (3) años:\n",
    "\n",
    " https://www.dropbox.com/s/xgsf3l5gjw0h0q4/saberpro.RData\n",
    "\n",
    "Considere estos datos como una población finita. Las variables que componen la tabla son:\n",
    "\n",
    "\n",
    "\n",
    " - `periodo:` año de realización de la prueba. La variable se presenta fragmentada debido al origen de los datos. Requiere agruparse adecuadamente. Para ello, consulte la función revalue y describa, brevemente, su funcionamiento.\n",
    " -  `apli_consecutivo:` consecutivo asignado al estudiante en el momento de presentar la prueba. Único por estudiante\n",
    " -  `estu_depto_reside:` departamento de residencia del estudiante\n",
    " -   `estu_cod_reside_depto:` código DANE del departamento de residencia del estudiante\n",
    " -   `inst_cod_institucion:` código de la IES ante el ministerio. Único por Institución\n",
    " -   `inst_nombre_institucion:` Nombre de la Institución. Algunas presentan sedes y subsedes\n",
    " -   `raz_cuant_punt:` Puntaje Razonamiento Cuantitativo\n",
    " -   `raz_cuant_des:` Nivel de Desempeño Razonamiento Cuantitativo (categórica)\n",
    " -   `lect_crit_punt:` Puntaje Lectura Crítica\n",
    " -   `lect_crit_des:` Nivel de Desempeño Lectura Crítica (categórica)\n",
    " -   `comp_ciud_punt:` Puntaje Competencias Ciudadanas\n",
    " -   `comp_ciud_des:` Nivel de Desempeño Competencias Ciudadanas (categórica)\n",
    " -   `ingles_punt:` Puntaje Inglés\n",
    " -   `ingles_desem:` Nivel de Desempeño en Inglés (categórica)\n",
    " -  `comu_escr_punt:` Puntaje Comunicación Escrita\n",
    " -  `comu_escr_des:` Nivel de Desempeño Comunicación Escrita (categórica)\n",
    "\n",
    "Tenga en cuenta que algunas variables categóricas figuran como numéricas, haga la correspondiente transformación.\n",
    "\n",
    "Los puntos a desarrollar son:\n",
    "\n",
    "\n",
    "   1. Realice muestreo aleatorio simple y realice las estimaciones (inferencia) correspondientes. Tenga en cuenta que son múltiples variables\n",
    "   2.  Realice los correspondientes muestreos estratificados y compare los resultados con los anteriores. Explique las diferencias y/o similitudes\n",
    "   3.  Realice los correspondientes muestreos por conglomerados y compare los resultados con los puntos 1 y 2. Explique las diferencias y/o similitudes\n",
    "   4.  ¿Considera que es procedente realizar un muestreo sistemático? Argumente su respuesta\n",
    "    Si la respuesta del punto 4 fue positiva, realice el correspondiente muestreo y compare con los anteriores\n",
    "   5.  Para las estimaciones emplee los siguientes niveles de confianza: 90%, 95% y 99%.\n",
    "\n",
    "El trabajo puede entregarse en formato PDF o como notebook de jupyter\n",
    "\n",
    "Recomendaciones:\n",
    "\n",
    " -   Procure tabular de manera adecuada las estimaciones para optimizar espacio\n",
    " -   Evite extenderse en las explicaciones\n",
    " -   Trate de optimizar el uso de gráficas (visite el siguiente repositorio si desea una guía: https://github.com/karlosmantilla/graficas-basicas-descriptivas-\n",
    " -   Referencie las fórmulas empleadas en los cálculos\n"
   ]
  },
  {
   "cell_type": "code",
   "execution_count": 1,
   "metadata": {},
   "outputs": [
    {
     "data": {
      "text/html": [
       "'sp161718'"
      ],
      "text/latex": [
       "'sp161718'"
      ],
      "text/markdown": [
       "'sp161718'"
      ],
      "text/plain": [
       "[1] \"sp161718\""
      ]
     },
     "metadata": {},
     "output_type": "display_data"
    },
    {
     "data": {
      "text/html": [
       "<style>\n",
       ".list-inline {list-style: none; margin:0; padding: 0}\n",
       ".list-inline>li {display: inline-block}\n",
       ".list-inline>li:not(:last-child)::after {content: \"\\00b7\"; padding: 0 .5ex}\n",
       "</style>\n",
       "<ol class=list-inline><li>725295</li><li>16</li></ol>\n"
      ],
      "text/latex": [
       "\\begin{enumerate*}\n",
       "\\item 725295\n",
       "\\item 16\n",
       "\\end{enumerate*}\n"
      ],
      "text/markdown": [
       "1. 725295\n",
       "2. 16\n",
       "\n",
       "\n"
      ],
      "text/plain": [
       "[1] 725295     16"
      ]
     },
     "metadata": {},
     "output_type": "display_data"
    }
   ],
   "source": [
    "load('saberpro.RData')\n",
    "ls() \n",
    "dim(sp161718)"
   ]
  },
  {
   "cell_type": "code",
   "execution_count": 2,
   "metadata": {},
   "outputs": [],
   "source": [
    "Datos<-get(load(\"saberpro.RData\"))"
   ]
  },
  {
   "cell_type": "code",
   "execution_count": 3,
   "metadata": {
    "scrolled": true
   },
   "outputs": [
    {
     "data": {
      "text/html": [
       "<table>\n",
       "<caption>A data.frame: 6 × 16</caption>\n",
       "<thead>\n",
       "\t<tr><th></th><th scope=col>periodo</th><th scope=col>apli_consecutivo</th><th scope=col>estu_depto_reside</th><th scope=col>estu_cod_reside_depto</th><th scope=col>inst_cod_institucion</th><th scope=col>inst_nombre_institucion</th><th scope=col>raz_cuant_punt</th><th scope=col>raz_cuant_des</th><th scope=col>lect_crit_punt</th><th scope=col>lect_crit_des</th><th scope=col>comp_ciud_punt</th><th scope=col>comp_ciud_des</th><th scope=col>ingles_punt</th><th scope=col>ingles_desem</th><th scope=col>comu_escr_punt</th><th scope=col>comu_escr_des</th></tr>\n",
       "\t<tr><th></th><th scope=col>&lt;int&gt;</th><th scope=col>&lt;fct&gt;</th><th scope=col>&lt;fct&gt;</th><th scope=col>&lt;int&gt;</th><th scope=col>&lt;int&gt;</th><th scope=col>&lt;fct&gt;</th><th scope=col>&lt;int&gt;</th><th scope=col>&lt;int&gt;</th><th scope=col>&lt;int&gt;</th><th scope=col>&lt;int&gt;</th><th scope=col>&lt;int&gt;</th><th scope=col>&lt;int&gt;</th><th scope=col>&lt;int&gt;</th><th scope=col>&lt;fct&gt;</th><th scope=col>&lt;int&gt;</th><th scope=col>&lt;int&gt;</th></tr>\n",
       "</thead>\n",
       "<tbody>\n",
       "\t<tr><th scope=row>1</th><td>20163</td><td>EK201630062726</td><td>ATLANTICO   </td><td> 8</td><td> 1202</td><td>UNIVERSIDAD DEL ATLANTICO-BARRANQUILLA                                     </td><td>160</td><td>3</td><td>130</td><td>2</td><td>167</td><td>3</td><td>160</td><td>A2 </td><td>155</td><td>3</td></tr>\n",
       "\t<tr><th scope=row>2</th><td>20163</td><td>EK201630208121</td><td>CUNDINAMARCA</td><td>25</td><td> 2725</td><td>POLITECNICO GRANCOLOMBIANO-BOGOTÃ D.C.                                    </td><td>138</td><td>2</td><td>132</td><td>2</td><td> 77</td><td>1</td><td>125</td><td>A1 </td><td>164</td><td>3</td></tr>\n",
       "\t<tr><th scope=row>3</th><td>20163</td><td>EK201630220210</td><td>CALDAS      </td><td>17</td><td> 2829</td><td>CORPORACION UNIVERSITARIA MINUTO DE DIOS -UNIMINUTO-BOGOTÃ D.C.           </td><td>146</td><td>2</td><td>157</td><td>2</td><td>150</td><td>2</td><td>104</td><td>A1-</td><td>122</td><td>2</td></tr>\n",
       "\t<tr><th scope=row>4</th><td>20163</td><td>EK201630180243</td><td>MAGDALENA   </td><td>47</td><td>10413</td><td>IED ESCUELA NORMAL SUPERIOR MARÃA AUXILIADORA - SEDE PRINCIPAL-SANTA MARTA</td><td>160</td><td>3</td><td>172</td><td>3</td><td>151</td><td>2</td><td>160</td><td>A2 </td><td>192</td><td>4</td></tr>\n",
       "\t<tr><th scope=row>5</th><td>20163</td><td>EK201630225077</td><td>CORDOBA     </td><td>23</td><td> 1113</td><td>UNIVERSIDAD DE CORDOBA-MONTERIA                                            </td><td>130</td><td>2</td><td>122</td><td>1</td><td>144</td><td>2</td><td>192</td><td>B1 </td><td>131</td><td>2</td></tr>\n",
       "\t<tr><th scope=row>6</th><td>20163</td><td>EK201630189735</td><td>CAUCA       </td><td>19</td><td> 1807</td><td>UNIVERSIDAD LIBRE-CALI                                                     </td><td>159</td><td>3</td><td>129</td><td>2</td><td>147</td><td>2</td><td>108</td><td>A1-</td><td>154</td><td>3</td></tr>\n",
       "</tbody>\n",
       "</table>\n"
      ],
      "text/latex": [
       "A data.frame: 6 × 16\n",
       "\\begin{tabular}{r|llllllllllllllll}\n",
       "  & periodo & apli\\_consecutivo & estu\\_depto\\_reside & estu\\_cod\\_reside\\_depto & inst\\_cod\\_institucion & inst\\_nombre\\_institucion & raz\\_cuant\\_punt & raz\\_cuant\\_des & lect\\_crit\\_punt & lect\\_crit\\_des & comp\\_ciud\\_punt & comp\\_ciud\\_des & ingles\\_punt & ingles\\_desem & comu\\_escr\\_punt & comu\\_escr\\_des\\\\\n",
       "  & <int> & <fct> & <fct> & <int> & <int> & <fct> & <int> & <int> & <int> & <int> & <int> & <int> & <int> & <fct> & <int> & <int>\\\\\n",
       "\\hline\n",
       "\t1 & 20163 & EK201630062726 & ATLANTICO    &  8 &  1202 & UNIVERSIDAD DEL ATLANTICO-BARRANQUILLA                                      & 160 & 3 & 130 & 2 & 167 & 3 & 160 & A2  & 155 & 3\\\\\n",
       "\t2 & 20163 & EK201630208121 & CUNDINAMARCA & 25 &  2725 & POLITECNICO GRANCOLOMBIANO-BOGOTÃ D.C.                                     & 138 & 2 & 132 & 2 &  77 & 1 & 125 & A1  & 164 & 3\\\\\n",
       "\t3 & 20163 & EK201630220210 & CALDAS       & 17 &  2829 & CORPORACION UNIVERSITARIA MINUTO DE DIOS -UNIMINUTO-BOGOTÃ D.C.            & 146 & 2 & 157 & 2 & 150 & 2 & 104 & A1- & 122 & 2\\\\\n",
       "\t4 & 20163 & EK201630180243 & MAGDALENA    & 47 & 10413 & IED ESCUELA NORMAL SUPERIOR MARÃA AUXILIADORA - SEDE PRINCIPAL-SANTA MARTA & 160 & 3 & 172 & 3 & 151 & 2 & 160 & A2  & 192 & 4\\\\\n",
       "\t5 & 20163 & EK201630225077 & CORDOBA      & 23 &  1113 & UNIVERSIDAD DE CORDOBA-MONTERIA                                             & 130 & 2 & 122 & 1 & 144 & 2 & 192 & B1  & 131 & 2\\\\\n",
       "\t6 & 20163 & EK201630189735 & CAUCA        & 19 &  1807 & UNIVERSIDAD LIBRE-CALI                                                      & 159 & 3 & 129 & 2 & 147 & 2 & 108 & A1- & 154 & 3\\\\\n",
       "\\end{tabular}\n"
      ],
      "text/markdown": [
       "\n",
       "A data.frame: 6 × 16\n",
       "\n",
       "| <!--/--> | periodo &lt;int&gt; | apli_consecutivo &lt;fct&gt; | estu_depto_reside &lt;fct&gt; | estu_cod_reside_depto &lt;int&gt; | inst_cod_institucion &lt;int&gt; | inst_nombre_institucion &lt;fct&gt; | raz_cuant_punt &lt;int&gt; | raz_cuant_des &lt;int&gt; | lect_crit_punt &lt;int&gt; | lect_crit_des &lt;int&gt; | comp_ciud_punt &lt;int&gt; | comp_ciud_des &lt;int&gt; | ingles_punt &lt;int&gt; | ingles_desem &lt;fct&gt; | comu_escr_punt &lt;int&gt; | comu_escr_des &lt;int&gt; |\n",
       "|---|---|---|---|---|---|---|---|---|---|---|---|---|---|---|---|---|\n",
       "| 1 | 20163 | EK201630062726 | ATLANTICO    |  8 |  1202 | UNIVERSIDAD DEL ATLANTICO-BARRANQUILLA                                      | 160 | 3 | 130 | 2 | 167 | 3 | 160 | A2  | 155 | 3 |\n",
       "| 2 | 20163 | EK201630208121 | CUNDINAMARCA | 25 |  2725 | POLITECNICO GRANCOLOMBIANO-BOGOTÃ D.C.                                     | 138 | 2 | 132 | 2 |  77 | 1 | 125 | A1  | 164 | 3 |\n",
       "| 3 | 20163 | EK201630220210 | CALDAS       | 17 |  2829 | CORPORACION UNIVERSITARIA MINUTO DE DIOS -UNIMINUTO-BOGOTÃ D.C.            | 146 | 2 | 157 | 2 | 150 | 2 | 104 | A1- | 122 | 2 |\n",
       "| 4 | 20163 | EK201630180243 | MAGDALENA    | 47 | 10413 | IED ESCUELA NORMAL SUPERIOR MARÃA AUXILIADORA - SEDE PRINCIPAL-SANTA MARTA | 160 | 3 | 172 | 3 | 151 | 2 | 160 | A2  | 192 | 4 |\n",
       "| 5 | 20163 | EK201630225077 | CORDOBA      | 23 |  1113 | UNIVERSIDAD DE CORDOBA-MONTERIA                                             | 130 | 2 | 122 | 1 | 144 | 2 | 192 | B1  | 131 | 2 |\n",
       "| 6 | 20163 | EK201630189735 | CAUCA        | 19 |  1807 | UNIVERSIDAD LIBRE-CALI                                                      | 159 | 3 | 129 | 2 | 147 | 2 | 108 | A1- | 154 | 3 |\n",
       "\n"
      ],
      "text/plain": [
       "  periodo apli_consecutivo estu_depto_reside estu_cod_reside_depto\n",
       "1 20163   EK201630062726   ATLANTICO          8                   \n",
       "2 20163   EK201630208121   CUNDINAMARCA      25                   \n",
       "3 20163   EK201630220210   CALDAS            17                   \n",
       "4 20163   EK201630180243   MAGDALENA         47                   \n",
       "5 20163   EK201630225077   CORDOBA           23                   \n",
       "6 20163   EK201630189735   CAUCA             19                   \n",
       "  inst_cod_institucion\n",
       "1  1202               \n",
       "2  2725               \n",
       "3  2829               \n",
       "4 10413               \n",
       "5  1113               \n",
       "6  1807               \n",
       "  inst_nombre_institucion                                                    \n",
       "1 UNIVERSIDAD DEL ATLANTICO-BARRANQUILLA                                     \n",
       "2 POLITECNICO GRANCOLOMBIANO-BOGOTÃ\\201 D.C.                                    \n",
       "3 CORPORACION UNIVERSITARIA MINUTO DE DIOS -UNIMINUTO-BOGOTÃ\\201 D.C.           \n",
       "4 IED ESCUELA NORMAL SUPERIOR MARÃ\\215A AUXILIADORA - SEDE PRINCIPAL-SANTA MARTA\n",
       "5 UNIVERSIDAD DE CORDOBA-MONTERIA                                            \n",
       "6 UNIVERSIDAD LIBRE-CALI                                                     \n",
       "  raz_cuant_punt raz_cuant_des lect_crit_punt lect_crit_des comp_ciud_punt\n",
       "1 160            3             130            2             167           \n",
       "2 138            2             132            2              77           \n",
       "3 146            2             157            2             150           \n",
       "4 160            3             172            3             151           \n",
       "5 130            2             122            1             144           \n",
       "6 159            3             129            2             147           \n",
       "  comp_ciud_des ingles_punt ingles_desem comu_escr_punt comu_escr_des\n",
       "1 3             160         A2           155            3            \n",
       "2 1             125         A1           164            3            \n",
       "3 2             104         A1-          122            2            \n",
       "4 2             160         A2           192            4            \n",
       "5 2             192         B1           131            2            \n",
       "6 2             108         A1-          154            3            "
      ]
     },
     "metadata": {},
     "output_type": "display_data"
    },
    {
     "data": {
      "text/html": [
       "<table>\n",
       "<caption>A data.frame: 6 × 16</caption>\n",
       "<thead>\n",
       "\t<tr><th></th><th scope=col>periodo</th><th scope=col>apli_consecutivo</th><th scope=col>estu_depto_reside</th><th scope=col>estu_cod_reside_depto</th><th scope=col>inst_cod_institucion</th><th scope=col>inst_nombre_institucion</th><th scope=col>raz_cuant_punt</th><th scope=col>raz_cuant_des</th><th scope=col>lect_crit_punt</th><th scope=col>lect_crit_des</th><th scope=col>comp_ciud_punt</th><th scope=col>comp_ciud_des</th><th scope=col>ingles_punt</th><th scope=col>ingles_desem</th><th scope=col>comu_escr_punt</th><th scope=col>comu_escr_des</th></tr>\n",
       "\t<tr><th></th><th scope=col>&lt;int&gt;</th><th scope=col>&lt;fct&gt;</th><th scope=col>&lt;fct&gt;</th><th scope=col>&lt;int&gt;</th><th scope=col>&lt;int&gt;</th><th scope=col>&lt;fct&gt;</th><th scope=col>&lt;int&gt;</th><th scope=col>&lt;int&gt;</th><th scope=col>&lt;int&gt;</th><th scope=col>&lt;int&gt;</th><th scope=col>&lt;int&gt;</th><th scope=col>&lt;int&gt;</th><th scope=col>&lt;int&gt;</th><th scope=col>&lt;fct&gt;</th><th scope=col>&lt;int&gt;</th><th scope=col>&lt;int&gt;</th></tr>\n",
       "</thead>\n",
       "<tbody>\n",
       "\t<tr><th scope=row>725290</th><td>20183</td><td>EK201830220242</td><td>VALLE    </td><td>76</td><td>2114</td><td>ESCUELA NACIONAL DEL DEPORTE-CALI                                         </td><td>125</td><td>1</td><td>111</td><td>1</td><td>100</td><td>1</td><td>134</td><td>A1</td><td>140</td><td>2</td></tr>\n",
       "\t<tr><th scope=row>725291</th><td>20183</td><td>EK201830103468</td><td>SANTANDER</td><td>68</td><td>2847</td><td>CORPORACION UNIVERSITARIA DE INVESTIGACION Y DESARROLLO -\"UDI\"-BUCARAMANGA</td><td>182</td><td>3</td><td>145</td><td>2</td><td>152</td><td>2</td><td>167</td><td>A2</td><td>154</td><td>3</td></tr>\n",
       "\t<tr><th scope=row>725292</th><td>20183</td><td>EK201830186897</td><td>BOGOTA   </td><td>11</td><td>9104</td><td>ESCUELA MILITAR DE CADETES \"GENERAL JOSE MARIA CORDOVA\"-BOGOTÃƒÂ D.C.    </td><td>149</td><td>2</td><td>129</td><td>2</td><td>110</td><td>1</td><td>168</td><td>A2</td><td>122</td><td>2</td></tr>\n",
       "\t<tr><th scope=row>725293</th><td>20183</td><td>EK201830155382</td><td>SANTANDER</td><td>68</td><td>2207</td><td>INSTITUTO UNIVERSITARIO DE LA PAZ-BARRANCABERMEJA                         </td><td>185</td><td>3</td><td>173</td><td>3</td><td>190</td><td>3</td><td>148</td><td>A2</td><td>178</td><td>3</td></tr>\n",
       "\t<tr><th scope=row>725294</th><td>20183</td><td>EK201830225312</td><td>         </td><td>NA</td><td>1201</td><td>UNIVERSIDAD DE ANTIOQUIA-MEDELLIN                                         </td><td>179</td><td>3</td><td>165</td><td>3</td><td>192</td><td>3</td><td>156</td><td>A2</td><td>150</td><td>3</td></tr>\n",
       "\t<tr><th scope=row>725295</th><td>20183</td><td>EK201830039482</td><td>SUCRE    </td><td>70</td><td>2823</td><td>CORPORACION UNIVERSITARIA DEL CARIBE - CECAR-SINCELEJO                    </td><td>135</td><td>2</td><td>122</td><td>1</td><td> 99</td><td>1</td><td>132</td><td>A1</td><td>138</td><td>2</td></tr>\n",
       "</tbody>\n",
       "</table>\n"
      ],
      "text/latex": [
       "A data.frame: 6 × 16\n",
       "\\begin{tabular}{r|llllllllllllllll}\n",
       "  & periodo & apli\\_consecutivo & estu\\_depto\\_reside & estu\\_cod\\_reside\\_depto & inst\\_cod\\_institucion & inst\\_nombre\\_institucion & raz\\_cuant\\_punt & raz\\_cuant\\_des & lect\\_crit\\_punt & lect\\_crit\\_des & comp\\_ciud\\_punt & comp\\_ciud\\_des & ingles\\_punt & ingles\\_desem & comu\\_escr\\_punt & comu\\_escr\\_des\\\\\n",
       "  & <int> & <fct> & <fct> & <int> & <int> & <fct> & <int> & <int> & <int> & <int> & <int> & <int> & <int> & <fct> & <int> & <int>\\\\\n",
       "\\hline\n",
       "\t725290 & 20183 & EK201830220242 & VALLE     & 76 & 2114 & ESCUELA NACIONAL DEL DEPORTE-CALI                                          & 125 & 1 & 111 & 1 & 100 & 1 & 134 & A1 & 140 & 2\\\\\n",
       "\t725291 & 20183 & EK201830103468 & SANTANDER & 68 & 2847 & CORPORACION UNIVERSITARIA DE INVESTIGACION Y DESARROLLO -\"UDI\"-BUCARAMANGA & 182 & 3 & 145 & 2 & 152 & 2 & 167 & A2 & 154 & 3\\\\\n",
       "\t725292 & 20183 & EK201830186897 & BOGOTA    & 11 & 9104 & ESCUELA MILITAR DE CADETES \"GENERAL JOSE MARIA CORDOVA\"-BOGOTÃƒÂ D.C.     & 149 & 2 & 129 & 2 & 110 & 1 & 168 & A2 & 122 & 2\\\\\n",
       "\t725293 & 20183 & EK201830155382 & SANTANDER & 68 & 2207 & INSTITUTO UNIVERSITARIO DE LA PAZ-BARRANCABERMEJA                          & 185 & 3 & 173 & 3 & 190 & 3 & 148 & A2 & 178 & 3\\\\\n",
       "\t725294 & 20183 & EK201830225312 &           & NA & 1201 & UNIVERSIDAD DE ANTIOQUIA-MEDELLIN                                          & 179 & 3 & 165 & 3 & 192 & 3 & 156 & A2 & 150 & 3\\\\\n",
       "\t725295 & 20183 & EK201830039482 & SUCRE     & 70 & 2823 & CORPORACION UNIVERSITARIA DEL CARIBE - CECAR-SINCELEJO                     & 135 & 2 & 122 & 1 &  99 & 1 & 132 & A1 & 138 & 2\\\\\n",
       "\\end{tabular}\n"
      ],
      "text/markdown": [
       "\n",
       "A data.frame: 6 × 16\n",
       "\n",
       "| <!--/--> | periodo &lt;int&gt; | apli_consecutivo &lt;fct&gt; | estu_depto_reside &lt;fct&gt; | estu_cod_reside_depto &lt;int&gt; | inst_cod_institucion &lt;int&gt; | inst_nombre_institucion &lt;fct&gt; | raz_cuant_punt &lt;int&gt; | raz_cuant_des &lt;int&gt; | lect_crit_punt &lt;int&gt; | lect_crit_des &lt;int&gt; | comp_ciud_punt &lt;int&gt; | comp_ciud_des &lt;int&gt; | ingles_punt &lt;int&gt; | ingles_desem &lt;fct&gt; | comu_escr_punt &lt;int&gt; | comu_escr_des &lt;int&gt; |\n",
       "|---|---|---|---|---|---|---|---|---|---|---|---|---|---|---|---|---|\n",
       "| 725290 | 20183 | EK201830220242 | VALLE     | 76 | 2114 | ESCUELA NACIONAL DEL DEPORTE-CALI                                          | 125 | 1 | 111 | 1 | 100 | 1 | 134 | A1 | 140 | 2 |\n",
       "| 725291 | 20183 | EK201830103468 | SANTANDER | 68 | 2847 | CORPORACION UNIVERSITARIA DE INVESTIGACION Y DESARROLLO -\"UDI\"-BUCARAMANGA | 182 | 3 | 145 | 2 | 152 | 2 | 167 | A2 | 154 | 3 |\n",
       "| 725292 | 20183 | EK201830186897 | BOGOTA    | 11 | 9104 | ESCUELA MILITAR DE CADETES \"GENERAL JOSE MARIA CORDOVA\"-BOGOTÃƒÂ D.C.     | 149 | 2 | 129 | 2 | 110 | 1 | 168 | A2 | 122 | 2 |\n",
       "| 725293 | 20183 | EK201830155382 | SANTANDER | 68 | 2207 | INSTITUTO UNIVERSITARIO DE LA PAZ-BARRANCABERMEJA                          | 185 | 3 | 173 | 3 | 190 | 3 | 148 | A2 | 178 | 3 |\n",
       "| 725294 | 20183 | EK201830225312 | <!----> | NA | 1201 | UNIVERSIDAD DE ANTIOQUIA-MEDELLIN                                          | 179 | 3 | 165 | 3 | 192 | 3 | 156 | A2 | 150 | 3 |\n",
       "| 725295 | 20183 | EK201830039482 | SUCRE     | 70 | 2823 | CORPORACION UNIVERSITARIA DEL CARIBE - CECAR-SINCELEJO                     | 135 | 2 | 122 | 1 |  99 | 1 | 132 | A1 | 138 | 2 |\n",
       "\n"
      ],
      "text/plain": [
       "       periodo apli_consecutivo estu_depto_reside estu_cod_reside_depto\n",
       "725290 20183   EK201830220242   VALLE             76                   \n",
       "725291 20183   EK201830103468   SANTANDER         68                   \n",
       "725292 20183   EK201830186897   BOGOTA            11                   \n",
       "725293 20183   EK201830155382   SANTANDER         68                   \n",
       "725294 20183   EK201830225312                     NA                   \n",
       "725295 20183   EK201830039482   SUCRE             70                   \n",
       "       inst_cod_institucion\n",
       "725290 2114                \n",
       "725291 2847                \n",
       "725292 9104                \n",
       "725293 2207                \n",
       "725294 1201                \n",
       "725295 2823                \n",
       "       inst_nombre_institucion                                                   \n",
       "725290 ESCUELA NACIONAL DEL DEPORTE-CALI                                         \n",
       "725291 CORPORACION UNIVERSITARIA DE INVESTIGACION Y DESARROLLO -\"UDI\"-BUCARAMANGA\n",
       "725292 ESCUELA MILITAR DE CADETES \"GENERAL JOSE MARIA CORDOVA\"-BOGOTÃƒÂ\\201 D.C.    \n",
       "725293 INSTITUTO UNIVERSITARIO DE LA PAZ-BARRANCABERMEJA                         \n",
       "725294 UNIVERSIDAD DE ANTIOQUIA-MEDELLIN                                         \n",
       "725295 CORPORACION UNIVERSITARIA DEL CARIBE - CECAR-SINCELEJO                    \n",
       "       raz_cuant_punt raz_cuant_des lect_crit_punt lect_crit_des comp_ciud_punt\n",
       "725290 125            1             111            1             100           \n",
       "725291 182            3             145            2             152           \n",
       "725292 149            2             129            2             110           \n",
       "725293 185            3             173            3             190           \n",
       "725294 179            3             165            3             192           \n",
       "725295 135            2             122            1              99           \n",
       "       comp_ciud_des ingles_punt ingles_desem comu_escr_punt comu_escr_des\n",
       "725290 1             134         A1           140            2            \n",
       "725291 2             167         A2           154            3            \n",
       "725292 1             168         A2           122            2            \n",
       "725293 3             148         A2           178            3            \n",
       "725294 3             156         A2           150            3            \n",
       "725295 1             132         A1           138            2            "
      ]
     },
     "metadata": {},
     "output_type": "display_data"
    }
   ],
   "source": [
    "head(Datos); tail(Datos) # Primeras y últimas observaciones de la tabla"
   ]
  },
  {
   "cell_type": "markdown",
   "metadata": {},
   "source": [
    "<h1>1-</h1>"
   ]
  },
  {
   "cell_type": "markdown",
   "metadata": {},
   "source": [
    "<h3>Total</h3>"
   ]
  },
  {
   "cell_type": "code",
   "execution_count": 4,
   "metadata": {},
   "outputs": [],
   "source": [
    "PT<-data.frame(C=Datos$estu_cod_reside_depto,\n",
    "               T=(Datos$raz_cuant_punt +\n",
    "               Datos$lect_crit_punt +\n",
    "               Datos$comp_ciud_punt +\n",
    "               Datos$ingles_punt +\n",
    "               Datos$comu_escr_punt)/5, # Global\n",
    "               D=Datos$estu_depto_reside)"
   ]
  },
  {
   "cell_type": "code",
   "execution_count": 5,
   "metadata": {},
   "outputs": [
    {
     "data": {
      "text/html": [
       "<style>\n",
       ".list-inline {list-style: none; margin:0; padding: 0}\n",
       ".list-inline>li {display: inline-block}\n",
       ".list-inline>li:not(:last-child)::after {content: \"\\00b7\"; padding: 0 .5ex}\n",
       "</style>\n",
       "<ol class=list-inline><li>481799</li><li>218893</li><li>5430</li><li>265254</li><li>672798</li><li>693511</li></ol>\n"
      ],
      "text/latex": [
       "\\begin{enumerate*}\n",
       "\\item 481799\n",
       "\\item 218893\n",
       "\\item 5430\n",
       "\\item 265254\n",
       "\\item 672798\n",
       "\\item 693511\n",
       "\\end{enumerate*}\n"
      ],
      "text/markdown": [
       "1. 481799\n",
       "2. 218893\n",
       "3. 5430\n",
       "4. 265254\n",
       "5. 672798\n",
       "6. 693511\n",
       "\n",
       "\n"
      ],
      "text/plain": [
       "[1] 481799 218893   5430 265254 672798 693511"
      ]
     },
     "metadata": {},
     "output_type": "display_data"
    }
   ],
   "source": [
    "n1<-1000\n",
    "muestra<- sample(1:nrow(PT),size=n1,replace=FALSE)\n",
    "head(muestra)"
   ]
  },
  {
   "cell_type": "code",
   "execution_count": 6,
   "metadata": {},
   "outputs": [
    {
     "data": {
      "image/png": "[encoded data removed]",
      "text/plain": [
       "Plot with title \"Histogram of T\""
      ]
     },
     "metadata": {
      "image/png": {
       "height": 420,
       "width": 420
      },
      "text/plain": {
       "height": 420,
       "width": 420
      }
     },
     "output_type": "display_data"
    }
   ],
   "source": [
    "par(mfrow=c(3,1))\n",
    "with(PT[muestra,], plot(D,T))\n",
    "with(PT[muestra,], plot(T, pch = 20))\n",
    "with(PT[muestra,], hist(T, nclass = 50))\n",
    "par(mfrow=c(1,1))"
   ]
  },
  {
   "cell_type": "markdown",
   "metadata": {},
   "source": [
    "<H3>Inglés</H3>"
   ]
  },
  {
   "cell_type": "code",
   "execution_count": 7,
   "metadata": {},
   "outputs": [],
   "source": [
    "PI<-data.frame(C=Datos$estu_cod_reside_depto,\n",
    "               P=Datos$ingles_punt,\n",
    "               D=Datos$estu_depto_reside)"
   ]
  },
  {
   "cell_type": "code",
   "execution_count": 8,
   "metadata": {},
   "outputs": [
    {
     "data": {
      "text/html": [
       "<style>\n",
       ".list-inline {list-style: none; margin:0; padding: 0}\n",
       ".list-inline>li {display: inline-block}\n",
       ".list-inline>li:not(:last-child)::after {content: \"\\00b7\"; padding: 0 .5ex}\n",
       "</style>\n",
       "<ol class=list-inline><li>596056</li><li>636071</li><li>281317</li><li>187227</li><li>680815</li><li>247746</li></ol>\n"
      ],
      "text/latex": [
       "\\begin{enumerate*}\n",
       "\\item 596056\n",
       "\\item 636071\n",
       "\\item 281317\n",
       "\\item 187227\n",
       "\\item 680815\n",
       "\\item 247746\n",
       "\\end{enumerate*}\n"
      ],
      "text/markdown": [
       "1. 596056\n",
       "2. 636071\n",
       "3. 281317\n",
       "4. 187227\n",
       "5. 680815\n",
       "6. 247746\n",
       "\n",
       "\n"
      ],
      "text/plain": [
       "[1] 596056 636071 281317 187227 680815 247746"
      ]
     },
     "metadata": {},
     "output_type": "display_data"
    }
   ],
   "source": [
    "n1<-1000\n",
    "muestra<- sample(1:nrow(PI),size=n1,replace=FALSE)\n",
    "head(muestra)"
   ]
  },
  {
   "cell_type": "code",
   "execution_count": 9,
   "metadata": {},
   "outputs": [
    {
     "data": {
      "image/png": "[encoded data removed]",
      "text/plain": [
       "Plot with title \"Histogram of P\""
      ]
     },
     "metadata": {
      "image/png": {
       "height": 420,
       "width": 420
      },
      "text/plain": {
       "height": 420,
       "width": 420
      }
     },
     "output_type": "display_data"
    }
   ],
   "source": [
    "par(mfrow=c(3,1))\n",
    "with(PI[muestra,], plot(D,P))\n",
    "with(PI[muestra,], plot(P, pch = 20))\n",
    "with(PI[muestra,], hist(P, nclass = 50))\n",
    "par(mfrow=c(1,1))"
   ]
  },
  {
   "cell_type": "code",
   "execution_count": null,
   "metadata": {},
   "outputs": [],
   "source": []
  }
 ],
 "metadata": {
  "kernelspec": {
   "display_name": "R",
   "language": "R",
   "name": "ir"
  },
  "language_info": {
   "codemirror_mode": "r",
   "file_extension": ".r",
   "mimetype": "text/x-r-source",
   "name": "R",
   "pygments_lexer": "r",
   "version": "4.0.0"
  }
 },
 "nbformat": 4,
 "nbformat_minor": 4
}
